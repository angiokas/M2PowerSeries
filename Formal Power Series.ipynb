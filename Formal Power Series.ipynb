{
 "cells": [
  {
   "cell_type": "markdown",
   "metadata": {},
   "source": [
    "# Formal Power Series in Macaulay2\n",
    "First let us load our package:"
   ]
  },
  {
   "cell_type": "code",
   "execution_count": 73,
   "metadata": {},
   "outputs": [
    {
     "name": "stdout",
     "output_type": "stream",
     "text": [
      "\n",
      "o73 = NewPowerSeries\n",
      "\n",
      "o73 : Package\n"
     ]
    }
   ],
   "source": [
    "loadPackage \"NewPowerSeries\""
   ]
  },
  {
   "cell_type": "markdown",
   "metadata": {},
   "source": [
    "## Different methods of constructing formal power series\n",
    "### 1 - Using an existing polynomial\n",
    "One way of making a power series is by viewing a polynomial as a series, so essentially we are typecasting a polynomial into a power series. So in the case of 1 variable power series, here we have the example of the polynomial $x^5+43x^4+2x+6$, so by viewing it as a series, we view it instead as $6+2 x+0 x^2+0 x^3+43 x^4+x^5+0 x^6+...$"
   ]
  },
  {
   "cell_type": "code",
   "execution_count": 82,
   "metadata": {},
   "outputs": [
    {
     "name": "stdout",
     "output_type": "stream",
     "text": [
      "                                            4\n",
      "Series displayed up to degrees: 6 + 2x + 43x\n",
      "\n",
      "Degree that is displayed: 4\n",
      "\n",
      "Maximum degree of the polynomial given in the beginning: 5\n",
      "\n",
      "Maximum computed degree available: 5\n",
      "\n",
      "                                5      4\n",
      "The original polynomial given: x  + 43x  + 2x + 6\n",
      "\n",
      "  7    5     4\n",
      "(x  + x  + 3x  + 65, 3)\n"
     ]
    }
   ],
   "source": [
    "R = ZZ[x]\n",
    "f = x^5+43*x^4+2*x+6\n",
    "\n",
    "s = series(4, f)\n",
    "<< \"Series displayed up to degrees: \" << pretty s << endl;\n",
    "<< \"Degree that is displayed: \" << s#displayedDegree << endl;\n",
    "<< \"Maximum degree of the polynomial given in the beginning: \" << s#maxDegree << endl;\n",
    "<< \"Maximum computed degree available: \" << s#computedDegree <<endl;\n",
    "<< \"The original polynomial given: \" << s#polynomial << endl;\n",
    "<< s#setDegree(x^7+x^5+3*x^4+65,3,4)<<endl; --Is not connected to the series we are creating at all"
   ]
  },
  {
   "cell_type": "code",
   "execution_count": 91,
   "metadata": {},
   "outputs": [
    {
     "name": "stdout",
     "output_type": "stream",
     "text": [
      "            4    5\n",
      "6 + 2x + 43x  + x  + O((6 ))\n"
     ]
    }
   ],
   "source": [
    "s = s#setPrecision(5)\n",
    "print s"
   ]
  },
  {
   "cell_type": "code",
   "execution_count": 94,
   "metadata": {},
   "outputs": [],
   "source": [
    "R = QQ[x,y, MonomialOrder => Lex]; -- Lexicographical order on the display of variables"
   ]
  },
  {
   "cell_type": "code",
   "execution_count": 95,
   "metadata": {},
   "outputs": [
    {
     "name": "stdout",
     "output_type": "stream",
     "text": [
      "\n",
      "       5     3    2\n",
      "o95 = x y + x  + y\n",
      "\n",
      "o95 : R\n"
     ]
    }
   ],
   "source": [
    "p = y^2+x^3+y*x^5"
   ]
  },
  {
   "cell_type": "code",
   "execution_count": 96,
   "metadata": {},
   "outputs": [
    {
     "name": "stdout",
     "output_type": "stream",
     "text": [
      "\n",
      "      1      7\n",
      "o96 = -x*y - -\n",
      "      2      4\n",
      "\n",
      "o96 : R\n"
     ]
    }
   ],
   "source": [
    "(x^3*y^2-3*x^2*y+x*y-y)//(2*x^2*y+x)"
   ]
  },
  {
   "cell_type": "code",
   "execution_count": null,
   "metadata": {},
   "outputs": [],
   "source": []
  }
 ],
 "metadata": {
  "kernelspec": {
   "display_name": "M2",
   "language": "text/x-macaulay2",
   "name": "m2"
  },
  "language_info": {
   "codemirror_mode": "macaulay2",
   "file_extension": ".m2",
   "mimetype": "text/x-macaulay2",
   "name": "Macaulay2"
  }
 },
 "nbformat": 4,
 "nbformat_minor": 4
}
