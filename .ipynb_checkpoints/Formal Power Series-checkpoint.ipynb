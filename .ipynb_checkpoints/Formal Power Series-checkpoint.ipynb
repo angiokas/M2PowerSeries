{
 "cells": [
  {
   "cell_type": "code",
   "execution_count": 1,
   "metadata": {},
   "outputs": [
    {
     "name": "stdout",
     "output_type": "stream",
     "text": [
      "\n",
      "o1 = NewPowerSeries\n",
      "\n",
      "o1 : Package\n"
     ]
    }
   ],
   "source": [
    "loadPackage \"NewPowerSeries\""
   ]
  },
  {
   "cell_type": "code",
   "execution_count": 4,
   "metadata": {},
   "outputs": [
    {
     "name": "stdout",
     "output_type": "stream",
     "text": [
      "\n",
      "      2\n",
      "o4 = x  + 6\n",
      "\n",
      "o4 : R\n"
     ]
    }
   ],
   "source": [
    "R = ZZ[x]\n",
    "f = x^2+6"
   ]
  },
  {
   "cell_type": "code",
   "execution_count": 6,
   "metadata": {},
   "outputs": [
    {
     "name": "stdout",
     "output_type": "stream",
     "text": [
      "\n",
      "          2\n",
      "o6 = 6 + x  + O((5 ))\n",
      "\n",
      "o6 : Series\n"
     ]
    }
   ],
   "source": [
    "s = series(4, f)"
   ]
  },
  {
   "cell_type": "code",
   "execution_count": 7,
   "metadata": {},
   "outputs": [
    {
     "name": "stdout",
     "output_type": "stream",
     "text": [
      "\n",
      "o7 = 4\n"
     ]
    }
   ],
   "source": [
    "s#maxDegree"
   ]
  },
  {
   "cell_type": "code",
   "execution_count": 8,
   "metadata": {},
   "outputs": [
    {
     "name": "stdout",
     "output_type": "stream",
     "text": [
      "\n",
      "o8 = 4\n"
     ]
    }
   ],
   "source": [
    "s#computedDegree"
   ]
  },
  {
   "cell_type": "code",
   "execution_count": 9,
   "metadata": {},
   "outputs": [
    {
     "name": "stdout",
     "output_type": "stream",
     "text": [
      "\n",
      "o9 = 4\n"
     ]
    }
   ],
   "source": [
    "s#degree"
   ]
  },
  {
   "cell_type": "code",
   "execution_count": 11,
   "metadata": {},
   "outputs": [
    {
     "name": "stdout",
     "output_type": "stream",
     "text": [
      "\n",
      "       2\n",
      "o11 = x  + 6\n",
      "\n",
      "o11 : R\n"
     ]
    }
   ],
   "source": [
    "s#polynomial"
   ]
  },
  {
   "cell_type": "code",
   "execution_count": 13,
   "metadata": {},
   "outputs": [
    {
     "name": "stdout",
     "output_type": "stream",
     "text": [
      "\n",
      "        7    5     4\n",
      "o13 = (x  + x  + 3x  + 65, 3)\n",
      "\n",
      "o13 : Sequence\n"
     ]
    }
   ],
   "source": [
    "s#setDegree(x^7+x^5+3*x^4+65,3,4)"
   ]
  },
  {
   "cell_type": "code",
   "execution_count": null,
   "metadata": {},
   "outputs": [],
   "source": []
  }
 ],
 "metadata": {
  "kernelspec": {
   "display_name": "M2",
   "language": "text/x-macaulay2",
   "name": "m2"
  },
  "language_info": {
   "codemirror_mode": "macaulay2",
   "file_extension": ".m2",
   "mimetype": "text/x-macaulay2",
   "name": "Macaulay2"
  }
 },
 "nbformat": 4,
 "nbformat_minor": 4
}
