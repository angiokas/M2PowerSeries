{
 "cells": [
  {
   "cell_type": "code",
   "execution_count": 12,
   "id": "9f287144",
   "metadata": {},
   "outputs": [
    {
     "name": "stdout",
     "output_type": "stream",
     "text": [
      "\n",
      "o12 = LazyPowerSeries\n",
      "\n",
      "o12 : Package\n"
     ]
    }
   ],
   "source": [
    "loadPackage \"LazyPowerSeries\""
   ]
  },
  {
   "cell_type": "markdown",
   "id": "8eec3d02",
   "metadata": {},
   "source": [
    "# Notes on EngineRing structures\n",
    "There are basic rings like ZZ, QQ, RR,CC that have the `isBasic` attribute, but it's not accessible for some reason (it is protected but that shouldn't block accessing the key). You can check by using `peek` into ZZ. \n",
    "\n",
    "Polynomial rings have a `FlatMonoid` attribute that basic rings don't have as an example. There are three attributes that they have assigned in the beginning: \n",
    "1. `basering`\n",
    "2. `FlatMonoid`\n",
    "3. `numallvars`\n",
    "\n",
    "REMEMBER: to access hidden C++ or otherwise other structures of M2, you can type the command `debug Core`"
   ]
  },
  {
   "cell_type": "code",
   "execution_count": null,
   "id": "47234b46",
   "metadata": {},
   "outputs": [],
   "source": [
    "M = powerList([x,y,z])"
   ]
  },
  {
   "cell_type": "code",
   "execution_count": null,
   "id": "3d7414bb",
   "metadata": {},
   "outputs": [],
   "source": [
    "R = ZZ M"
   ]
  },
  {
   "cell_type": "code",
   "execution_count": null,
   "id": "ffdc5411",
   "metadata": {},
   "outputs": [],
   "source": [
    "H = new HashTable from {4=> 6,hello => true}"
   ]
  },
  {
   "cell_type": "code",
   "execution_count": 4,
   "id": "d57c9621",
   "metadata": {},
   "outputs": [
    {
     "name": "stdout",
     "output_type": "stream",
     "text": [
      "stdio:11:3:(3): error: key not found in hash table\n"
     ]
    }
   ],
   "source": [
    "ZZ.isBasic"
   ]
  },
  {
   "cell_type": "code",
   "execution_count": 6,
   "id": "67d7b174",
   "metadata": {},
   "outputs": [],
   "source": [
    "debug Core"
   ]
  },
  {
   "cell_type": "code",
   "execution_count": 7,
   "id": "abfbd324",
   "metadata": {},
   "outputs": [
    {
     "name": "stdout",
     "output_type": "stream",
     "text": [
      "\n",
      "o7 = true\n"
     ]
    }
   ],
   "source": [
    "ZZ.isBasic"
   ]
  },
  {
   "cell_type": "code",
   "execution_count": 13,
   "id": "11af6d80",
   "metadata": {},
   "outputs": [
    {
     "name": "stdout",
     "output_type": "stream",
     "text": [
      "HELLO\n"
     ]
    }
   ],
   "source": [
    "R = ZZ[[x]]"
   ]
  },
  {
   "cell_type": "code",
   "execution_count": null,
   "id": "97988058",
   "metadata": {},
   "outputs": [],
   "source": []
  }
 ],
 "metadata": {
  "kernelspec": {
   "display_name": "M2",
   "language": "text/x-macaulay2",
   "name": "m2"
  },
  "language_info": {
   "codemirror_mode": "macaulay2",
   "file_extension": ".m2",
   "mimetype": "text/x-macaulay2",
   "name": "Macaulay2"
  }
 },
 "nbformat": 4,
 "nbformat_minor": 5
}
