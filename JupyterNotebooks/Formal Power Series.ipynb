{
 "cells": [
  {
   "source": [
    "# Formal Power Series in Macaulay2\n",
    "First let us load our package:"
   ],
   "cell_type": "markdown",
   "metadata": {}
  },
  {
   "cell_type": "code",
   "execution_count": 1,
   "metadata": {},
   "outputs": [
    {
     "output_type": "stream",
     "name": "stdout",
     "text": [
      "\no1 = NewPowerSeries\n\no1 : Package\n"
     ]
    }
   ],
   "source": [
    "loadPackage \"NewPowerSeries\""
   ]
  },
  {
   "source": [
    "## Different methods of constructing formal power series\n",
    "### 1 - Using an existing polynomial\n",
    "One way of making a power series is by viewing a polynomial as a series, so essentially we are typecasting a polynomial into a power series. So in the case of 1 variable power series, here we have the example of the polynomial $x^5+43x^4+2x+6$, so by viewing it as a series, we view it instead as $6+2 x+0 x^2+0 x^3+43 x^4+x^5+0 x^6+...$"
   ],
   "cell_type": "markdown",
   "metadata": {}
  },
  {
   "cell_type": "code",
   "execution_count": 142,
   "metadata": {},
   "outputs": [
    {
     "output_type": "stream",
     "name": "stdout",
     "text": [
      "\n        5      4\no142 = x  + 43x  + 2x + 6\n\no142 : R\n"
     ]
    }
   ],
   "source": [
    "R = QQ[x]\n",
    "f = x^5+43*x^4+2*x+6"
   ]
  },
  {
   "cell_type": "code",
   "execution_count": 143,
   "metadata": {},
   "outputs": [
    {
     "output_type": "stream",
     "name": "stdout",
     "text": [
      "\n                   4    5\no143 = 6 + 2x + 43x  + x  + O((6 ))\n\no143 : Series\n"
     ]
    }
   ],
   "source": [
    "s = series(f)"
   ]
  },
  {
   "cell_type": "code",
   "execution_count": 150,
   "metadata": {},
   "outputs": [
    {
     "output_type": "stream",
     "name": "stdout",
     "text": [
      "                                            4\nSeries displayed up to degrees: 6 + 2x + 43x\n\nDegree that is displayed: 4\n\nMaximum degree of the polynomial given in the beginning: 5\n\n\u001b[A\u001b[C\u001b[C\u001b[C\u001b[C\u001b[C\u001b[C\u001b[C\u001b[C\u001b[C\u001b[C\u001b[C\u001b[C\u001b[C\u001b[C\u001b[C\u001b[C\u001b[C\u001b[C\u001b[C\u001b[C\u001b[C\u001b[C\u001b[C\u001b[C\u001b[C\u001b[C\u001b[C\u001b[C\u001b[C\u001b[C\u001b[C\u001b[C\u001b[C\u001b[C\u001b[C\u001b[C\u001b[C\u001b[C\u001b[C\u001b[C\u001b[C\u001b[C\u001b[C\u001b[C\u001b[C\u001b[C\u001b[C\u001b[C\u001b[C\u001b[C\u001b[C\u001b[C\u001b[C\u001b[C\u001b[C\u001b[C\u001b[C\u001b[C\u001b[C\u001b[C\u001b[C\u001b[C\u001b[C\u001b[C\u001b[C\u001b[C\u001b[C\u001b[C\u001b[C\u001b[C\u001b[C\u001b[C\u001b[C\u001b[C\u001b[C\u001b[C\u001b[C\u001b[C\u001b[C\u001b[KD\nMaximum computed degree available: 5\n\n                                5      4\nThe original polynomial given: x  + 43x  + 2x + 6\n\n  7    5     4\n(x  + x  + 3x  + 65, 3)\n"
     ]
    }
   ],
   "source": [
    "s = series(4, f)\n",
    "<< \"Series displayed up to degrees: \" << pretty s << endl;\n",
    "<< \"Degree that is displayed: \" << s#displayedDegree << endl;\n",
    "<< \"Maximum degree of the polynomial given in the beginning: \" << toString(s#maxDegree) << endl;\n",
    "<< \"Maximum computed degree available: \" << s#computedDegree <<endl;\n",
    "<< \"The original polynomial given: \" << s#polynomial << endl;\n",
    "<< s#setDegree(x^7+x^5+3*x^4+65,3,4)<<endl; --Is not connected to the series we are creating at all"
   ]
  },
  {
   "cell_type": "code",
   "execution_count": 139,
   "metadata": {},
   "outputs": [
    {
     "output_type": "stream",
     "name": "stdout",
     "text": [
      "stdio:301:6:(3): error: key not found in hash table\n\n\n             2     3     4     5\no139 = x + 2x  + 3x  + 4x  + 5x\n"
     ]
    }
   ],
   "source": [
    "s = s#setPrecision(5)\n",
    "pretty s"
   ]
  },
  {
   "cell_type": "code",
   "execution_count": 153,
   "metadata": {},
   "outputs": [
    {
     "output_type": "stream",
     "name": "stdout",
     "text": [
      "\n\n       1      7\no153 = -x*y - -\n       2      4\n\no153 : R\n"
     ]
    }
   ],
   "source": [
    "R = QQ[x,y, MonomialOrder => Lex]; -- Lexicographical order on the display of variables\n",
    "p = y^2+x^3+y*x^5\n",
    "(x^3*y^2-3*x^2*y+x*y-y)//(2*x^2*y+x)"
   ]
  },
  {
   "cell_type": "code",
   "execution_count": 161,
   "metadata": {},
   "outputs": [
    {
     "output_type": "stream",
     "name": "stdout",
     "text": [
      "\n         3   6   8\no161 = {x , y , z }\n\no161 : List\n"
     ]
    }
   ],
   "source": [
    "applyList((x,y)->x^y,{x,y,z},{4,6,8})\n",
    "L1 = {x,y,z}\n",
    "L2 = {3,6,8}\n",
    "apply(3, i -> (L1#i)^(L2#i))\n"
   ]
  },
  {
   "source": [
    "# Multivariable Power Series\n",
    "One of the goals of the project is to implement multivariable and multi-graded formal power series rings, which to note, has not been done in the previous project. There are many ways of defining formal power series, such as having an explicit formula for the coefficients or a recursive one, or by defining a polynomial as a series. "
   ],
   "cell_type": "markdown",
   "metadata": {}
  },
  {
   "source": [
    "## 2 - Lazy Series\n",
    " Some of the easiest way one would want to define an infinite series is by giving us a term and a way to calculate the function. Lazy series is a term that is used in other mathematical software packages as well, such as Sage and Magma. A lazy series is a series where all of the coefficients are computable, though we do not necesarily care for the ability to access each coefficient, it is still valuable to distinguish this sort of series which is predictable and much easier to deal with, than compare to say, a series defined by a recursive formula for the coefficients. \n",
    " \n",
    " Here are some of the examples of Lazy series:"
   ],
   "cell_type": "markdown",
   "metadata": {}
  },
  {
   "cell_type": "code",
   "execution_count": 164,
   "metadata": {},
   "outputs": [
    {
     "output_type": "stream",
     "name": "stdout",
     "text": [
      "\n                  2     3     4     5\no164 = 7 + 7x + 7x  + 7x  + 7x  + 7x\n"
     ]
    }
   ],
   "source": [
    "R = ZZ[x]\n",
    "s = series({x}, i->7,5)\n",
    "pretty s"
   ]
  },
  {
   "cell_type": "code",
   "execution_count": 176,
   "metadata": {},
   "outputs": [
    {
     "output_type": "stream",
     "name": "stdout",
     "text": [
      "stdio:368:24:(3):[3]: error: expected 2 arguments but got 1\n\n\n                     2            2       3     2        2     3        4  \no176 = (x + 2y) + (3x  + 4x*y + 5y ) + (6x  + 7x y + 8x*y  + 9y ) + (10x  +\n       -------------------------------------------------------------------------\n          3       2 2        3      4        5      4       3 2      2 3  \n       11x y + 12x y  + 13x*y  + 14y ) + (15x  + 16x y + 17x y  + 18x y  +\n       -------------------------------------------------------------------------\n            4      5\n       19x*y  + 20y )\n"
     ]
    }
   ],
   "source": [
    "R = QQ[x,y]\n",
    "s = series({x,y}, (i,j)->i,5)\n",
    "pretty s"
   ]
  },
  {
   "cell_type": "code",
   "execution_count": 179,
   "metadata": {},
   "outputs": [
    {
     "output_type": "stream",
     "name": "stdout",
     "text": [
      "\n                                                             2               \no179 = 1.41421 + (1.41421x + 1.41421y + 1.41421z) + (1.41421x  + 1.41421x*y +\n       -------------------------------------------------------------------------\n               2                                     2             3  \n       1.41421y  + 1.41421x*z + 1.41421y*z + 1.41421z ) + (1.41421x  +\n       -------------------------------------------------------------------------\n               2              2           3           2                  \n       1.41421x y + 1.41421x*y  + 1.41421y  + 1.41421x z + 1.41421x*y*z +\n       -------------------------------------------------------------------------\n               2              2             2           3             4  \n       1.41421y z + 1.41421x*z  + 1.41421y*z  + 1.41421z ) + (1.41421x  +\n       -------------------------------------------------------------------------\n               3            2 2             3           4           3   \n       1.41421x y + 1.41421x y  + 1.41421x*y  + 1.41421y  + 1.41421x z +\n       -------------------------------------------------------------------------\n               2                2            3            2 2               2  \n       1.41421x y*z + 1.41421x*y z + 1.41421y z + 1.41421x z  + 1.41421x*y*z  +\n       -------------------------------------------------------------------------\n               2 2             3             3           4             5  \n       1.41421y z  + 1.41421x*z  + 1.41421y*z  + 1.41421z ) + (1.41421x  +\n       -------------------------------------------------------------------------\n               4            3 2           2 3             4           5  \n       1.41421x y + 1.41421x y  + 1.41421x y  + 1.41421x*y  + 1.41421y  +\n       -------------------------------------------------------------------------\n               4            3              2 2              3            4   \n       1.41421x z + 1.41421x y*z + 1.41421x y z + 1.41421x*y z + 1.41421y z +\n       -------------------------------------------------------------------------\n               3 2           2   2             2 2           3 2           2 3  \n       1.41421x z  + 1.41421x y*z  + 1.41421x*y z  + 1.41421y z  + 1.41421x z  +\n       -------------------------------------------------------------------------\n                   3           2 3             4             4           5\n       1.41421x*y*z  + 1.41421y z  + 1.41421x*z  + 1.41421y*z  + 1.41421z )\n"
     ]
    }
   ],
   "source": [
    "R = RR[x,y,z]\n",
    "s = series({x,y,z}, i->sqrt 2,5)\n",
    "pretty s"
   ]
  },
  {
   "cell_type": "code",
   "execution_count": 131,
   "metadata": {},
   "outputs": [
    {
     "output_type": "stream",
     "name": "stdout",
     "text": [
      "\no131 = x*y + O((6 ))\n\no131 : Series\n"
     ]
    }
   ],
   "source": [
    "R = ZZ[x,y] \n",
    "series(x^6+x*y+x*y^7) -- Need to fix multivar default series method"
   ]
  },
  {
   "source": [
    "## Addition\n"
   ],
   "cell_type": "markdown",
   "metadata": {}
  },
  {
   "source": [
    "R = ZZ[x]\n",
    "s = series(x,i-> i)\n"
   ],
   "cell_type": "code",
   "metadata": {},
   "execution_count": 133,
   "outputs": [
    {
     "output_type": "stream",
     "name": "stdout",
     "text": [
      "\n             2     3     4     5\no133 = x + 2x  + 3x  + 4x  + 5x  + O((6 ))\n\no133 : Series\n"
     ]
    }
   ]
  },
  {
   "cell_type": "code",
   "execution_count": 134,
   "metadata": {},
   "outputs": [
    {
     "output_type": "stream",
     "name": "stdout",
     "text": [
      "\n         2     4\no134 = 2x  + 4x  + O((6 ))\n\no134 : Series\n"
     ]
    }
   ],
   "source": [
    "r = series(x^2,i->2*i)"
   ]
  },
  {
   "cell_type": "code",
   "execution_count": 88,
   "metadata": {},
   "outputs": [
    {
     "output_type": "stream",
     "name": "stdout",
     "text": [
      "\n            2     3     4     5\no88 = x + 4x  + 3x  + 8x  + 5x  + O((6 ))\n\no88 : Series\n"
     ]
    }
   ],
   "source": [
    "s+r"
   ]
  },
  {
   "cell_type": "code",
   "execution_count": 89,
   "metadata": {},
   "outputs": [
    {
     "output_type": "stream",
     "name": "stdout",
     "text": [
      "\n            3     5\no89 = x + 3x  + 5x  + O((6 ))\n\no89 : Series\n"
     ]
    }
   ],
   "source": [
    "s-r"
   ]
  },
  {
   "cell_type": "code",
   "execution_count": 90,
   "metadata": {},
   "outputs": [
    {
     "output_type": "stream",
     "name": "stdout",
     "text": [
      "\no90 = 0 + O((6 ))\n\no90 : Series\n"
     ]
    }
   ],
   "source": [
    "s-s"
   ]
  },
  {
   "cell_type": "code",
   "execution_count": 91,
   "metadata": {},
   "outputs": [
    {
     "output_type": "stream",
     "name": "stdout",
     "text": [
      "\n       2     3      4      5\no91 = x  + 4x  + 10x  + 20x  + O((6 ))\n\no91 : Series\n"
     ]
    }
   ],
   "source": [
    "s*s"
   ]
  },
  {
   "cell_type": "code",
   "execution_count": 137,
   "metadata": {},
   "outputs": [
    {
     "output_type": "stream",
     "name": "stdout",
     "text": [
      "\no137 = 0 + O((6 ))\n\no137 : Series\n"
     ]
    }
   ],
   "source": [
    "(s + r) - (r + s)"
   ]
  },
  {
   "source": [
    "# Recursion notes\n",
    "The default limit for recursion is 300, but you could always set it higher."
   ],
   "cell_type": "markdown",
   "metadata": {}
  },
  {
   "source": [
    "phi = n -> ( if n > 0 then return n + phi(n-1) else return 0)\n",
    "phi 5"
   ],
   "cell_type": "markdown",
   "metadata": {}
  },
  {
   "cell_type": "code",
   "execution_count": 185,
   "metadata": {},
   "outputs": [
    {
     "output_type": "stream",
     "name": "stdout",
     "text": [
      "\no185 = 400\n"
     ]
    }
   ],
   "source": [
    "recursionLimit = 400"
   ]
  },
  {
   "cell_type": "code",
   "execution_count": 186,
   "metadata": {},
   "outputs": [
    {
     "output_type": "stream",
     "name": "stdout",
     "text": [
      "\no186 = R\n\no186 : PolynomialRing\n"
     ]
    }
   ],
   "source": [
    "R = QQ[x,y,z]"
   ]
  },
  {
   "cell_type": "code",
   "execution_count": 187,
   "metadata": {},
   "outputs": [
    {
     "output_type": "stream",
     "name": "stdout",
     "text": [
      "\n             2     3      4      5\no187 = x + 4x  + 9x  + 16x  + 25x  + O((6 ))\n\no187 : Series\n"
     ]
    }
   ],
   "source": [
    "s = series(x,i-> i^2)"
   ]
  },
  {
   "cell_type": "code",
   "execution_count": 188,
   "metadata": {},
   "outputs": [
    {
     "output_type": "stream",
     "name": "stdout",
     "text": [
      "\n        2     3      4       5\no188 = x  + 8x  + 34x  + 104x  + O((6 ))\n\no188 : Series\n"
     ]
    }
   ],
   "source": [
    "s*s"
   ]
  },
  {
   "cell_type": "code",
   "execution_count": 189,
   "metadata": {},
   "outputs": [
    {
     "output_type": "stream",
     "name": "stdout",
     "text": [
      "\no189 = {Partition{5}, Partition{4, 1}, Partition{3, 2}, Partition{3, 1, 1},\n       -------------------------------------------------------------------------\n       Partition{2, 2, 1}, Partition{2, 1, 1, 1}, Partition{1, 1, 1, 1, 1}}\n\no189 : List\n"
     ]
    }
   ],
   "source": [
    "partitions 5"
   ]
  },
  {
   "cell_type": "code",
   "execution_count": 190,
   "metadata": {},
   "outputs": [
    {
     "output_type": "stream",
     "name": "stdout",
     "text": [
      "\no190 = {Partition{3, 2}, Partition{3, 1, 1}, Partition{2, 2, 1}, Partition{2, 1,\n       -------------------------------------------------------------------------\n       1, 1}, Partition{1, 1, 1, 1, 1}}\n\no190 : List\n"
     ]
    }
   ],
   "source": [
    "partitions (5,3)"
   ]
  },
  {
   "cell_type": "code",
   "execution_count": 191,
   "metadata": {},
   "outputs": [
    {
     "output_type": "stream",
     "name": "stdout",
     "text": [
      "\no191 = {Partition{3}, Partition{2, 1}, Partition{1, 1, 1}}\n\no191 : List\n"
     ]
    }
   ],
   "source": [
    "partitions (3,5)"
   ]
  },
  {
   "cell_type": "code",
   "execution_count": 7,
   "metadata": {},
   "outputs": [
    {
     "output_type": "stream",
     "name": "stdout",
     "text": [
      "\no7 = {{0, 0, 5}, {0, 1, 4}, {0, 2, 3}, {0, 3, 2}, {0, 4, 1}, {0, 5, 0}, {1, 0,\n     ---------------------------------------------------------------------------\n     4}, {1, 1, 3}, {1, 2, 2}, {1, 3, 1}, {1, 4, 0}, {2, 0, 3}, {2, 1, 2}, {2,\n     ---------------------------------------------------------------------------\n     2, 1}, {2, 3, 0}, {3, 0, 2}, {3, 1, 1}, {3, 2, 0}, {4, 0, 1}, {4, 1, 0},\n     ---------------------------------------------------------------------------\n     {5, 0, 0}}\n\no7 : List\n"
     ]
    }
   ],
   "source": [
    "sort(compositions (3,5), MonomialOrder=> Ascending)"
   ]
  },
  {
   "cell_type": "code",
   "execution_count": 8,
   "metadata": {},
   "outputs": [
    {
     "output_type": "stream",
     "name": "stdout",
     "text": [
      "\no8 = {{0, 0, 5}, {0, 1, 4}, {0, 2, 3}, {0, 3, 2}, {0, 4, 1}, {0, 5, 0}, {1, 0,\n     ---------------------------------------------------------------------------\n     4}, {1, 1, 3}, {1, 2, 2}, {1, 3, 1}, {1, 4, 0}, {2, 0, 3}, {2, 1, 2}, {2,\n     ---------------------------------------------------------------------------\n     2, 1}, {2, 3, 0}, {3, 0, 2}, {3, 1, 1}, {3, 2, 0}, {4, 0, 1}, {4, 1, 0},\n     ---------------------------------------------------------------------------\n     {5, 0, 0}}\n\no8 : List\n"
     ]
    }
   ],
   "source": [
    "sort(compositions (3,5), MonomialOrder=> Descending)"
   ]
  },
  {
   "source": [
    "## To-do\n",
    "- [] make a lazy series that saves function\n",
    "- [] by using two lazy series, make a new lazy series that has its own coefficient function\n",
    "- [] same thing for addition, subtraction, scaling, etc. \n",
    "- [] polynomial * series as well, same idea, make lazy series\n",
    "- [] make method that spits out coefficient at specific index\n",
    "- [] implement geometric series formula\n",
    "\n"
   ],
   "cell_type": "markdown",
   "metadata": {}
  },
  {
   "cell_type": "code",
   "execution_count": null,
   "metadata": {},
   "outputs": [],
   "source": []
  }
 ],
 "metadata": {
  "kernelspec": {
   "display_name": "M2",
   "language": "text/x-macaulay2",
   "name": "m2"
  },
  "language_info": {
   "codemirror_mode": "macaulay2",
   "file_extension": ".m2",
   "mimetype": "text/x-macaulay2",
   "name": "Macaulay2"
  }
 },
 "nbformat": 4,
 "nbformat_minor": 4
}