{
 "cells": [
  {
   "source": [
    "# Formal Power Series in Macaulay2\n",
    "First let us load our package:"
   ],
   "cell_type": "markdown",
   "metadata": {}
  },
  {
   "cell_type": "code",
   "execution_count": 152,
   "metadata": {},
   "outputs": [
    {
     "output_type": "stream",
     "name": "stdout",
     "text": [
      "\no152 = NewPowerSeries\n\no152 : Package\n"
     ]
    }
   ],
   "source": [
    "loadPackage \"NewPowerSeries\""
   ]
  },
  {
   "cell_type": "markdown",
   "metadata": {},
   "source": [
    "## Different methods of constructing formal power series\n",
    "### 1 - Using an existing polynomial\n",
    "One way of making a power series is by viewing a polynomial as a series, so essentially we are typecasting a polynomial into a power series. So in the case of 1 variable power series, here we have the example of the polynomial $x^5+43x^4+2x+6$, so by viewing it as a series, we view it instead as $6+2 x+0 x^2+0 x^3+43 x^4+x^5+0 x^6+...$"
   ]
  },
  {
   "cell_type": "code",
   "execution_count": 154,
   "metadata": {},
   "outputs": [
    {
     "output_type": "stream",
     "name": "stdout",
     "text": [
      "stdio:278:5:(3): error: encountered object not usable as variable at position 0 in list:\n        0 (of class R)\n\n\no154 = 0\n\no154 : R\n"
     ]
    }
   ],
   "source": [
    "R = QQ[x]\n",
    "f = x^5+43*x^4+2*x+6"
   ]
  },
  {
   "cell_type": "code",
   "execution_count": null,
   "metadata": {},
   "outputs": [],
   "source": [
    "s = series(f)"
   ]
  },
  {
   "cell_type": "code",
   "execution_count": null,
   "metadata": {},
   "outputs": [],
   "source": [
    "s = series(4, f)\n",
    "<< \"Series displayed up to degrees: \" << pretty s << endl;\n",
    "<< \"Degree that is displayed: \" << s#displayedDegree << endl;\n",
    "<< \"Maximum degree of the polynomial given in the beginning: \" << s#maxDegree << endl;\n",
    "<< \"Maximum computed degree available: \" << s#computedDegree <<endl;\n",
    "<< \"The original polynomial given: \" << s#polynomial << endl;\n",
    "<< s#setDegree(x^7+x^5+3*x^4+65,3,4)<<endl; --Is not connected to the series we are creating at all"
   ]
  },
  {
   "cell_type": "code",
   "execution_count": null,
   "metadata": {},
   "outputs": [],
   "source": [
    "s = s#setPrecision(5)\n",
    "pretty s"
   ]
  },
  {
   "cell_type": "code",
   "execution_count": null,
   "metadata": {},
   "outputs": [],
   "source": [
    "R = QQ[x,y, MonomialOrder => Lex]; -- Lexicographical order on the display of variables\n",
    "p = y^2+x^3+y*x^5\n",
    "(x^3*y^2-3*x^2*y+x*y-y)//(2*x^2*y+x)"
   ]
  },
  {
   "source": [
    "# Multivariable Power Series\n",
    "One of the goals of the project is to implement multivariable and multi-graded formal power series rings, which to note, has not been done in the previous project. There are many ways of defining formal power series, such as having an explicit formula for the coefficients or a recursive one, or by defining a polynomial as a series. "
   ],
   "cell_type": "markdown",
   "metadata": {}
  },
  {
   "source": [
    "## 2 - Lazy Series\n",
    " Some of the easiest way one would want to define an infinite series is by giving us a term and a way to calculate the function. Lazy series is a term that is used in other mathematical software packages as well, such as Sage and Magma. A lazy series is a series where all of the coefficients are computable, though we do not necesarily care for the ability to access each coefficient, it is still valuable to distinguish this sort of series which is predictable and much easier to deal with, than compare to say, a series defined by a recursive formula for the coefficients. \n",
    " \n",
    " Here are some of the examples of Lazy series:"
   ],
   "cell_type": "markdown",
   "metadata": {}
  },
  {
   "cell_type": "code",
   "execution_count": null,
   "metadata": {},
   "outputs": [],
   "source": [
    "R = ZZ[x]\n",
    "s = series({x}, i->7,5)\n",
    "pretty s"
   ]
  },
  {
   "cell_type": "code",
   "execution_count": null,
   "metadata": {},
   "outputs": [],
   "source": [
    "R = QQ[x,y]\n",
    "s = series({x,y}, i->7/5,5)\n",
    "pretty s"
   ]
  },
  {
   "cell_type": "code",
   "execution_count": null,
   "metadata": {},
   "outputs": [],
   "source": [
    "R = RR[x,y,z]\n",
    "s = series({x,y,z}, i->sqrt 2,5)\n",
    "pretty s"
   ]
  },
  {
   "cell_type": "code",
   "execution_count": null,
   "metadata": {},
   "outputs": [],
   "source": [
    "series(x^6+x*y+x*y^7)"
   ]
  },
  {
   "cell_type": "code",
   "execution_count": null,
   "metadata": {},
   "outputs": [],
   "source": [
    "x"
   ]
  },
  {
   "cell_type": "code",
   "execution_count": null,
   "metadata": {},
   "outputs": [],
   "source": []
  }
 ],
 "metadata": {
  "kernelspec": {
   "display_name": "M2",
   "language": "text/x-macaulay2",
   "name": "m2"
  },
  "language_info": {
   "codemirror_mode": "macaulay2",
   "file_extension": ".m2",
   "mimetype": "text/x-macaulay2",
   "name": "Macaulay2"
  }
 },
 "nbformat": 4,
 "nbformat_minor": 4
}