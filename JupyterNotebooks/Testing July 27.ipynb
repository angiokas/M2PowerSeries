{
 "cells": [
  {
   "cell_type": "code",
   "execution_count": 68,
   "metadata": {},
   "outputs": [
    {
     "name": "stdout",
     "output_type": "stream",
     "text": [
      "\n",
      "o68 = LazySeries{cache => CacheTable{}                                                                                                                                                                                                                                                                                                                                                                                                        }\n",
      "                 coefficientFunction => f\n",
      "                 computedDegree => 5\n",
      "                 constantTerm => 1\n",
      "                 displayedDegree => 5\n",
      "                                          5     4      3 2     2 3       4    5     4      3        2 2        3     4      3 2     2   2       2 2    3 2     2 3         3    2 3       4      4    5     4     3      2 2       3    4     3      2          2     3      2 2         2    2 2       3      3    4     3     2        2    3     2              2        2      2    3     2           2                 2\n",
      "                 displayedPolynomial => 6x  + 5x y + 4x y  + 3x y  + 2x*y  + y  + 5x z + 4x y*z + 3x y z + 2x*y z + y z + 4x z  + 3x y*z  + 2x*y z  + y z  + 3x z  + 2x*y*z  + y z  + 2x*z  + y*z  + z  + 5x  + 4x y + 3x y  + 2x*y  + y  + 4x z + 3x y*z + 2x*y z + y z + 3x z  + 2x*y*z  + y z  + 2x*z  + y*z  + z  + 4x  + 3x y + 2x*y  + y  + 3x z + 2x*y*z + y z + 2x*z  + y*z  + z  + 3x  + 2x*y + y  + 2x*z + y*z + z  + 2x + y + z + 1\n",
      "                 maxDegree => infinity\n",
      "                 seriesRing => R\n",
      "                 termVariables => {x, y, z}\n",
      "\n",
      "o68 : LazySeries\n"
     ]
    }
   ],
   "source": [
    "loadPackage \"NewPowerSeries\"\n",
    "R = QQ[x,y,z]\n",
    "f = {i,j,k}-> i+1\n",
    "S = lazySeries(f, R)"
   ]
  },
  {
   "cell_type": "code",
   "execution_count": 69,
   "metadata": {},
   "outputs": [
    {
     "name": "stdout",
     "output_type": "stream",
     "text": [
      "\n",
      "                            2           2                 2       3     2   \n",
      "o69 = 1 + (2x + y + z) + (3x  + 2x*y + y  + 2x*z + y*z + z ) + (4x  + 3x y +\n",
      "      --------------------------------------------------------------------------\n",
      "          2    3     2              2        2      2    3       4     3   \n",
      "      2x*y  + y  + 3x z + 2x*y*z + y z + 2x*z  + y*z  + z ) + (5x  + 4x y +\n",
      "      --------------------------------------------------------------------------\n",
      "        2 2       3    4     3      2          2     3      2 2         2    2 2\n",
      "      3x y  + 2x*y  + y  + 4x z + 3x y*z + 2x*y z + y z + 3x z  + 2x*y*z  + y z \n",
      "      --------------------------------------------------------------------------\n",
      "            3      3    4       5     4      3 2     2 3       4    5     4   \n",
      "      + 2x*z  + y*z  + z ) + (6x  + 5x y + 4x y  + 3x y  + 2x*y  + y  + 5x z +\n",
      "      --------------------------------------------------------------------------\n",
      "        3        2 2        3     4      3 2     2   2       2 2    3 2     2 3\n",
      "      4x y*z + 3x y z + 2x*y z + y z + 4x z  + 3x y*z  + 2x*y z  + y z  + 3x z \n",
      "      --------------------------------------------------------------------------\n",
      "              3    2 3       4      4    5\n",
      "      + 2x*y*z  + y z  + 2x*z  + y*z  + z )\n"
     ]
    }
   ],
   "source": [
    "pretty S"
   ]
  },
  {
   "cell_type": "code",
   "execution_count": 54,
   "metadata": {},
   "outputs": [
    {
     "name": "stdout",
     "output_type": "stream",
     "text": [
      "\n",
      "         7 8      4 5      6\n",
      "o54 = 98x y  + 87x y  + 17x\n",
      "\n",
      "o54 : R\n"
     ]
    }
   ],
   "source": [
    "P = (17*x^6 + 98*x^7*y^8 +87*y^5*x^4)\n",
    "degree (17*x^6 + 98*x^7*y^8 +87*y^5*x^4)\n",
    "select(P, i -> degree i > {6,5})"
   ]
  },
  {
   "cell_type": "code",
   "execution_count": 53,
   "metadata": {},
   "outputs": [
    {
     "name": "stdout",
     "output_type": "stream",
     "text": [
      "stdio:122:2:(3): error: no method for binary operator ? applied to objects:\n",
      "--            5 (of class ZZ)\n",
      "--      ?     {5, 6} (of class List)\n"
     ]
    }
   ],
   "source": [
    "select(P, i -> degree i > {6})"
   ]
  },
  {
   "cell_type": "code",
   "execution_count": 64,
   "metadata": {},
   "outputs": [
    {
     "name": "stdout",
     "output_type": "stream",
     "text": [
      "stdio:143:1:(3): error: expected list, sequence, set, or string\n"
     ]
    }
   ],
   "source": [
    "toList 5"
   ]
  },
  {
   "cell_type": "code",
   "execution_count": null,
   "metadata": {},
   "outputs": [],
   "source": []
  }
 ],
 "metadata": {
  "kernelspec": {
   "display_name": "M2",
   "language": "text/x-macaulay2",
   "name": "m2"
  },
  "language_info": {
   "codemirror_mode": "macaulay2",
   "file_extension": ".m2",
   "mimetype": "text/x-macaulay2",
   "name": "Macaulay2"
  }
 },
 "nbformat": 4,
 "nbformat_minor": 4
}
