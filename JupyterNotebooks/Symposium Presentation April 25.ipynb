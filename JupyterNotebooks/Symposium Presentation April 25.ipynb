{
 "cells": [
  {
   "cell_type": "code",
   "execution_count": 284,
   "id": "bd4cbfdf",
   "metadata": {},
   "outputs": [
    {
     "name": "stdout",
     "output_type": "stream",
     "text": [
      "\n",
      "o284 = LazyPowerSeries\n",
      "\n",
      "o284 : Package\n"
     ]
    }
   ],
   "source": [
    "loadPackage \"LazyPowerSeries\""
   ]
  },
  {
   "cell_type": "code",
   "execution_count": 285,
   "id": "d200aa4d",
   "metadata": {},
   "outputs": [
    {
     "name": "stdout",
     "output_type": "stream",
     "text": [
      "\n",
      "o285 = R\n",
      "\n",
      "o285 : PolynomialRing\n"
     ]
    }
   ],
   "source": [
    "R = ZZ[x,y]"
   ]
  },
  {
   "cell_type": "code",
   "execution_count": 286,
   "id": "ccdcd583",
   "metadata": {},
   "outputs": [
    {
     "name": "stdout",
     "output_type": "stream",
     "text": [
      "\n",
      "o286 = pFunction\n",
      "\n",
      "o286 : FunctionClosure\n"
     ]
    }
   ],
   "source": [
    "pFunction = (i,j,k) -> i*j*k+1"
   ]
  },
  {
   "cell_type": "code",
   "execution_count": 287,
   "id": "77e61a02",
   "metadata": {},
   "outputs": [
    {
     "name": "stdout",
     "output_type": "stream",
     "text": [
      "\n",
      "                                                       2              2                               2                2      3      2         2      3                                  2                   2       3        2           2       3      4      3       2 2        3      4                                    2         2        3        2           2        3       4        3           3       4      5      4       3 2      2 3        4      5\n",
      "o287 = 1*1 + 1*5 + 1*x + 1*y + 1*25 + 1*5x + 1*5y + 1*x  + 1*x*y + 1*y  + 1*125 + 1*25x + 1*25y + 1*5x  + 2*5x*y + 1*5y  + 1*x  + 1*x y + 1*x*y  + 1*y  + 1*625 + 1*125x + 1*125y + 1*25x  + -2*25x*y + 1*25y  + 1*5x  + -2*5x y + -2*5x*y  + 1*5y  + 1*x  + 1*x y + 1*x y  + 1*x*y  + 1*y  + 1*3125 + 1*625x + 1*625y + 1*125x  + 1*125y  + 1*25x  + 1*25x y + 1*25x*y  + 1*25y  + 1*5x  + -1*5x y + -1*5x*y  + 1*5y  + 1*x  + 1*x y + 1*x y  + 1*x y  + 1*x*y  + 1*y  + ... \n",
      "\n",
      "o287 : Padics\n"
     ]
    }
   ],
   "source": [
    "g = padics(R,5, pFunction)"
   ]
  },
  {
   "cell_type": "code",
   "execution_count": 288,
   "id": "4960eb6a",
   "metadata": {},
   "outputs": [
    {
     "name": "stdout",
     "output_type": "stream",
     "text": [
      "\n",
      "                                                                    2          \n",
      "o288 = {1 => 1, 5 => 1, x => 1, y => 1, 25 => 1, 5x => 1, 5y => 1, x  => 1, x*y\n",
      "       -------------------------------------------------------------------------\n",
      "              2                                       2                    2   \n",
      "       => 1, y  => 1, 125 => 1, 25x => 1, 25y => 1, 5x  => 1, 5x*y => 2, 5y  =>\n",
      "       -------------------------------------------------------------------------\n",
      "           3        2           2        3                                      \n",
      "       1, x  => 1, x y => 1, x*y  => 1, y  => 1, 625 => 1, 125x => 1, 125y => 1,\n",
      "       -------------------------------------------------------------------------\n",
      "          2                       2         3         2             2          3\n",
      "       25x  => 1, 25x*y => -2, 25y  => 1, 5x  => 1, 5x y => -2, 5x*y  => -2, 5y \n",
      "       -------------------------------------------------------------------------\n",
      "              4        3         2 2          3        4                      \n",
      "       => 1, x  => 1, x y => 1, x y  => 1, x*y  => 1, y  => 1, 3125 => 1, 625x\n",
      "       -------------------------------------------------------------------------\n",
      "                            2                        2          3          2    \n",
      "       => 1, 625y => 1, 125x  => 1, 125x*y => 0, 125y  => 1, 25x  => 1, 25x y =>\n",
      "       -------------------------------------------------------------------------\n",
      "               2          3         4         3           2 2           3       \n",
      "       1, 25x*y  => 1, 25y  => 1, 5x  => 1, 5x y => -1, 5x y  => 0, 5x*y  => -1,\n",
      "       -------------------------------------------------------------------------\n",
      "         4        5        4         3 2        2 3          4        5\n",
      "       5y  => 1, x  => 1, x y => 1, x y  => 1, x y  => 1, x*y  => 1, y  => 1}\n",
      "\n",
      "o288 : List\n"
     ]
    }
   ],
   "source": [
    "g.cache.valueList"
   ]
  },
  {
   "cell_type": "code",
   "execution_count": 289,
   "id": "f0550195",
   "metadata": {},
   "outputs": [
    {
     "name": "stdout",
     "output_type": "stream",
     "text": [
      "\n",
      "                                                       2              2        \n",
      "o289 = 1*1 + 1*5 + 1*x + 1*y + 1*25 + 1*5x + 1*5y + 1*x  + 1*x*y + 1*y  + 1*125\n",
      "       -------------------------------------------------------------------------\n",
      "                             2                2      3      2         2      3  \n",
      "       + 1*25x + 1*25y + 1*5x  + 2*5x*y + 1*5y  + 1*x  + 1*x y + 1*x*y  + 1*y  +\n",
      "       -------------------------------------------------------------------------\n",
      "                                      2                   2       3        2   \n",
      "       1*625 + 1*125x + 1*125y + 1*25x  + -2*25x*y + 1*25y  + 1*5x  + -2*5x y +\n",
      "       -------------------------------------------------------------------------\n",
      "              2       3      4      3       2 2        3      4           \n",
      "       -2*5x*y  + 1*5y  + 1*x  + 1*x y + 1*x y  + 1*x*y  + 1*y  + 1*3125 +\n",
      "       -------------------------------------------------------------------------\n",
      "                               2         2        3        2           2  \n",
      "       1*625x + 1*625y + 1*125x  + 1*125y  + 1*25x  + 1*25x y + 1*25x*y  +\n",
      "       -------------------------------------------------------------------------\n",
      "            3       4        3           3       4      5      4       3 2  \n",
      "       1*25y  + 1*5x  + -1*5x y + -1*5x*y  + 1*5y  + 1*x  + 1*x y + 1*x y  +\n",
      "       -------------------------------------------------------------------------\n",
      "          2 3        4      5\n",
      "       1*x y  + 1*x*y  + 1*y  + ...\n"
     ]
    }
   ],
   "source": [
    "net g"
   ]
  },
  {
   "cell_type": "code",
   "execution_count": 290,
   "id": "32951a2b",
   "metadata": {},
   "outputs": [
    {
     "name": "stdout",
     "output_type": "stream",
     "text": [
      "\n",
      "o290 =                                                 2              2        \n",
      "       1*1 + 1*5 + 1*x + 1*y + 1*25 + 1*5x + 1*5y + 1*x  + 1*x*y + 1*y  + 1*125\n",
      "                             2                2      3      2         2      3  \n",
      "       + 1*25x + 1*25y + 1*5x  + 2*5x*y + 1*5y  + 1*x  + 1*x y + 1*x*y  + 1*y  +\n",
      "                                      2                   2       3        2   \n",
      "       1*625 + 1*125x + 1*125y + 1*25x  + -2*25x*y + 1*25y  + 1*5x  + -2*5x y +\n",
      "              2       3      4      3       2 2        3      4           \n",
      "       -2*5x*y  + 1*5y  + 1*x  + 1*x y + 1*x y  + 1*x*y  + 1*y  + 1*3125 +\n",
      "                               2         2        3        2           2  \n",
      "       1*625x + 1*625y + 1*125x  + 1*125y  + 1*25x  + 1*25x y + 1*25x*y  +\n",
      "            3       4        3           3       4      5      4       3 2  \n",
      "       1*25y  + 1*5x  + -1*5x y + -1*5x*y  + 1*5y  + 1*x  + 1*x y + 1*x y  +\n",
      "          2 3        4      5\n",
      "       1*x y  + 1*x*y  + 1*y  + ...\n"
     ]
    }
   ],
   "source": [
    "toString g"
   ]
  },
  {
   "cell_type": "code",
   "execution_count": 252,
   "id": "6462c467",
   "metadata": {},
   "outputs": [
    {
     "name": "stdout",
     "output_type": "stream",
     "text": [
      "\n",
      "          3 2\n",
      "o252 = 87x y  + 53x*y + 84\n",
      "\n",
      "o252 : R\n"
     ]
    }
   ],
   "source": [
    "f = 87*x^3*y^2 +53*x*y +84"
   ]
  },
  {
   "cell_type": "code",
   "execution_count": 163,
   "id": "42408014",
   "metadata": {},
   "outputs": [
    {
     "name": "stdout",
     "output_type": "stream",
     "text": [
      "\n",
      "o163 = {1 => a, 2 => b}\n",
      "\n",
      "o163 : List\n"
     ]
    }
   ],
   "source": [
    "L = {1=>a, 2=> b}"
   ]
  },
  {
   "cell_type": "code",
   "execution_count": 117,
   "id": "3fd06ab5",
   "metadata": {},
   "outputs": [
    {
     "name": "stdout",
     "output_type": "stream",
     "text": [
      "\n",
      "o117 = 1 => a\n",
      "\n",
      "o117 : Option\n"
     ]
    }
   ],
   "source": [
    "L#0"
   ]
  },
  {
   "cell_type": "code",
   "execution_count": 118,
   "id": "d2b6aca3",
   "metadata": {},
   "outputs": [
    {
     "name": "stdout",
     "output_type": "stream",
     "text": [
      "\n",
      "o118 = a\n",
      "\n",
      "o118 : Symbol\n"
     ]
    }
   ],
   "source": [
    "L#0#1"
   ]
  },
  {
   "cell_type": "code",
   "execution_count": 119,
   "id": "e6d6363a",
   "metadata": {},
   "outputs": [
    {
     "name": "stdout",
     "output_type": "stream",
     "text": [
      "\n",
      "o119 = 2\n"
     ]
    }
   ],
   "source": [
    "#L"
   ]
  },
  {
   "cell_type": "code",
   "execution_count": 120,
   "id": "73c97663",
   "metadata": {},
   "outputs": [
    {
     "name": "stdout",
     "output_type": "stream",
     "text": [
      "\n",
      "o120 = {1, 2}\n",
      "\n",
      "o120 : List\n"
     ]
    }
   ],
   "source": [
    "L2 = apply(L, i-> i#0)"
   ]
  },
  {
   "cell_type": "code",
   "execution_count": 227,
   "id": "672f7baf",
   "metadata": {},
   "outputs": [
    {
     "name": "stdout",
     "output_type": "stream",
     "text": [
      "\n",
      "o227 = ((0, 1 => a), (1, 2 => b))\n",
      "\n",
      "o227 : Sequence\n"
     ]
    }
   ],
   "source": [
    "pairs L"
   ]
  },
  {
   "cell_type": "code",
   "execution_count": null,
   "id": "b7262f59",
   "metadata": {},
   "outputs": [],
   "source": []
  }
 ],
 "metadata": {
  "kernelspec": {
   "display_name": "M2",
   "language": "text/x-macaulay2",
   "name": "m2"
  },
  "language_info": {
   "codemirror_mode": "macaulay2",
   "file_extension": ".m2",
   "mimetype": "text/x-macaulay2",
   "name": "Macaulay2"
  }
 },
 "nbformat": 4,
 "nbformat_minor": 5
}
