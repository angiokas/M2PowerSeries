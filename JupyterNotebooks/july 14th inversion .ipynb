{
 "cells": [
  {
   "cell_type": "code",
   "execution_count": 42,
   "metadata": {},
   "outputs": [
    {
     "name": "stdout",
     "output_type": "stream",
     "text": [
      "warning: 'toBinary' redefined\n",
      ": here is the first use of 'toBinary'\n",
      "       : debug with expression   debug 4073   or with command line option   --debug 4073\n",
      "\n",
      "o42 = NewPowerSeries\n",
      "\n",
      "o42 : Package\n"
     ]
    }
   ],
   "source": [
    "loadPackage\"NewPowerSeries\""
   ]
  },
  {
   "cell_type": "code",
   "execution_count": 43,
   "metadata": {},
   "outputs": [
    {
     "name": "stdout",
     "output_type": "stream",
     "text": [
      "\n",
      "o43 = series\n",
      "\n",
      "o43 : MethodFunctionWithOptions\n"
     ]
    }
   ],
   "source": [
    "series"
   ]
  },
  {
   "cell_type": "code",
   "execution_count": 44,
   "metadata": {},
   "outputs": [
    {
     "name": "stdout",
     "output_type": "stream",
     "text": [
      "stdio:134:1:(3): error: no method for adjacent objects:\n",
      "--            String => -*Function[/home/annie/M2PowerSeries/. (of class Option)\n",
      "--    SPACE   8 (of class ZZ)\n"
     ]
    }
   ],
   "source": [
    "toBinary(8)"
   ]
  },
  {
   "cell_type": "code",
   "execution_count": 71,
   "metadata": {},
   "outputs": [
    {
     "name": "stdout",
     "output_type": "stream",
     "text": [
      "1\n",
      "5\n",
      "0\n",
      "5\n",
      "-\n",
      "2\n",
      "0\n",
      "5\n",
      "-\n",
      "4\n",
      "0\n",
      "5\n",
      "-\n",
      "8\n",
      "0\n",
      " 5\n",
      "--\n",
      "16\n",
      "\n",
      "\n",
      "o71 = 10000\n"
     ]
    }
   ],
   "source": [
    "  num = 5\n",
    "  b =\"\"\n",
    "  for i from 0 to num-1 do(\n",
    "        b = concatenate{b,toString(num%2)};\n",
    "        --print toString(num%2);\n",
    "        print num;\n",
    "        num  = num/2;\n",
    "    );\n",
    "    b"
   ]
  },
  {
   "cell_type": "code",
   "execution_count": null,
   "metadata": {},
   "outputs": [],
   "source": []
  }
 ],
 "metadata": {
  "kernelspec": {
   "display_name": "M2",
   "language": "text/x-macaulay2",
   "name": "m2"
  },
  "language_info": {
   "codemirror_mode": "macaulay2",
   "file_extension": ".m2",
   "mimetype": "text/x-macaulay2",
   "name": "Macaulay2"
  }
 },
 "nbformat": 4,
 "nbformat_minor": 4
}