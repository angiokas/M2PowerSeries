{
 "cells": [
  {
   "cell_type": "markdown",
   "id": "18392bf5",
   "metadata": {},
   "source": [
    "## Lazy Power Series Package\n",
    "### Padics implementation\n",
    "There are multiple ways in which one can construct padics using this package. One of the more basic constructors requires a user to enter a prime number, a ring and a function, similar to the LazySeries construction method. \n"
   ]
  },
  {
   "cell_type": "code",
   "execution_count": 187,
   "id": "6d45ce1a",
   "metadata": {},
   "outputs": [
    {
     "name": "stdout",
     "output_type": "stream",
     "text": [
      "\n",
      "o187 = LazyPowerSeries\n",
      "\n",
      "o187 : Package\n"
     ]
    }
   ],
   "source": [
    "loadPackage \"LazyPowerSeries\""
   ]
  },
  {
   "cell_type": "code",
   "execution_count": 188,
   "id": "e24655ad",
   "metadata": {},
   "outputs": [
    {
     "name": "stdout",
     "output_type": "stream",
     "text": [
      "\n",
      "o188 = ZZ\n",
      "\n",
      "o188 : Ring\n"
     ]
    }
   ],
   "source": [
    "R = ZZ"
   ]
  },
  {
   "cell_type": "code",
   "execution_count": 189,
   "id": "a936da7f",
   "metadata": {},
   "outputs": [
    {
     "name": "stdout",
     "output_type": "stream",
     "text": [
      "\n",
      "o189 = 4*13^4 + 4 + 4*13^2 + 4*13^5 + 4*13^3 + 4*13 + ... \n",
      "\n",
      "o189 : Padics\n"
     ]
    }
   ],
   "source": [
    "padics(13,R, i-> 4)"
   ]
  },
  {
   "cell_type": "code",
   "execution_count": 190,
   "id": "e2593297",
   "metadata": {},
   "outputs": [
    {
     "name": "stdout",
     "output_type": "stream",
     "text": [
      "\n",
      "o190 = R\n",
      "\n",
      "o190 : PolynomialRing\n"
     ]
    }
   ],
   "source": [
    "R = ZZ[x,y]"
   ]
  },
  {
   "cell_type": "code",
   "execution_count": 192,
   "id": "2565988f",
   "metadata": {},
   "outputs": [
    {
     "name": "stdout",
     "output_type": "stream",
     "text": [
      "\n",
      "\n",
      "o192 =  - 1*7^3x*y - 1*7^3x^2 - 3*7^3y - 1*7^4y - 3*7^3x - 1*7^4x - 1*7^2y^3 +\n",
      "       -------------------------------------------------------------------------\n",
      "       3*7^3 - 1*7y^4 - 2*y^5 - 1*7^2x*y^2 - 3*7^4 - 1*7x*y^3 - 2*x*y^4 -\n",
      "       -------------------------------------------------------------------------\n",
      "       1*7^2x^2*y - 3*7^2y^2 - 1*7x^2*y^2 - 2*x^2*y^3 - 1*7^2x^3 - 3*7y^3 -\n",
      "       -------------------------------------------------------------------------\n",
      "       3*7^2x*y - 3*y^4 - 1*7x^3*y - 2*x^3*y^2 - 3*7x*y^2 - 3*7^2x^2 - 3*x*y^3 -\n",
      "       -------------------------------------------------------------------------\n",
      "       1*7x^4 - 2*x^4*y + 3*7^2y - 3*7x^2*y - 3*x^2*y^2 + 3*7y^2 - 2*x^5 +\n",
      "       -------------------------------------------------------------------------\n",
      "       3*7^2x + 3*y^3 - 3*7x^3 - 3*x^3*y + 3*7x*y - 1*7^5 + 3*x*y^2 - 3*x^4 +\n",
      "       -------------------------------------------------------------------------\n",
      "       2*7^2 + 3*7x^2 + 3*x^2*y + 2*7y + 2*y^2 + 3*x^3 + 2*7x + 2*x*y + 2*x^2 +\n",
      "       -------------------------------------------------------------------------\n",
      "       1*7 + 1*y - 1*7^3y^2 + 1*x + ...\n"
     ]
    }
   ],
   "source": [
    "f = (i,x,y)-> i*x*y+3;\n",
    "net(L = padics(7,R, g))"
   ]
  },
  {
   "cell_type": "markdown",
   "id": "41895898",
   "metadata": {},
   "source": [
    "## Operations using Padics\n",
    "We have addition and multiplication for Padics objects and in addition, they can interact with objects of class Number such as integers using the same operations if they make sense. Currently, the Padics objects are written for adic completions for specifically polynomial rings over the integers, therefore rings with coefficient rings such as QQ, RR, CC will not work. "
   ]
  },
  {
   "cell_type": "code",
   "execution_count": 193,
   "id": "42b1f654",
   "metadata": {},
   "outputs": [
    {
     "name": "stdout",
     "output_type": "stream",
     "text": [
      "\n",
      "o193 = 3*11x + 1*11^2x + 1*y^4 + 2*x + ... \n",
      "\n",
      "o193 : Padics\n"
     ]
    }
   ],
   "source": [
    "M = padics(11,156*x+y^4, DisplayedDegree => 6)"
   ]
  },
  {
   "cell_type": "code",
   "execution_count": 194,
   "id": "3172d53f",
   "metadata": {},
   "outputs": [
    {
     "name": "stdout",
     "output_type": "stream",
     "text": [
      "\n",
      "o194 = 1*11x + 1*y^4 + 4*11y^4 - 2*x + ... \n",
      "\n",
      "o194 : Padics\n"
     ]
    }
   ],
   "source": [
    "L = padics(11, 45*y^4+9*x)"
   ]
  },
  {
   "cell_type": "code",
   "execution_count": 195,
   "id": "565a64d2",
   "metadata": {
    "scrolled": true
   },
   "outputs": [
    {
     "name": "stdout",
     "output_type": "stream",
     "text": [
      "\n",
      "o195 = 4*11x + 1*11^2x + 2*y^4 + ... \n",
      "\n",
      "o195 : Padics\n"
     ]
    }
   ],
   "source": [
    "K = M+L"
   ]
  },
  {
   "cell_type": "code",
   "execution_count": 196,
   "id": "4116dbee",
   "metadata": {},
   "outputs": [
    {
     "name": "stdout",
     "output_type": "stream",
     "text": [
      "\n",
      "o196 =  - 1*11x + 4*11^2x + 3*y^4 - 5*x + ... \n",
      "\n",
      "o196 : Padics\n"
     ]
    }
   ],
   "source": [
    "3*M"
   ]
  },
  {
   "cell_type": "code",
   "execution_count": 197,
   "id": "610ea257",
   "metadata": {},
   "outputs": [
    {
     "name": "stdout",
     "output_type": "stream",
     "text": [
      "\n",
      "o197 =  - 1*11x + 4*11^2x + 3*y^4 - 5*x + ... \n",
      "\n",
      "o197 : Padics\n"
     ]
    }
   ],
   "source": [
    "M*3"
   ]
  },
  {
   "cell_type": "code",
   "execution_count": 198,
   "id": "1dcaf65b",
   "metadata": {},
   "outputs": [
    {
     "name": "stdout",
     "output_type": "stream",
     "text": [
      "\n",
      "o198 =  - 3*11x - 1*11^2x + 3 - 1*y^4 - 2*x + ... \n",
      "\n",
      "o198 : Padics\n"
     ]
    }
   ],
   "source": [
    "3-M"
   ]
  },
  {
   "cell_type": "code",
   "execution_count": 199,
   "id": "4dc00862",
   "metadata": {},
   "outputs": [
    {
     "name": "stdout",
     "output_type": "stream",
     "text": [
      "\n",
      "o199 =  - 3*11x - 1*11^2x - 1*y^4 - 2*x + ... \n",
      "\n",
      "o199 : Padics\n"
     ]
    }
   ],
   "source": [
    "(-1) * M"
   ]
  },
  {
   "cell_type": "code",
   "execution_count": 200,
   "id": "873c70e1",
   "metadata": {},
   "outputs": [
    {
     "name": "stdout",
     "output_type": "stream",
     "text": [
      "\n",
      "o200 =  - 3*11x - 1*11^2x - 1*y^4 - 2*x + ... \n",
      "\n",
      "o200 : Padics\n"
     ]
    }
   ],
   "source": [
    "-M"
   ]
  },
  {
   "cell_type": "code",
   "execution_count": null,
   "id": "9e2bb05e",
   "metadata": {},
   "outputs": [],
   "source": []
  }
 ],
 "metadata": {
  "kernelspec": {
   "display_name": "M2",
   "language": "text/x-macaulay2",
   "name": "m2"
  },
  "language_info": {
   "codemirror_mode": "macaulay2",
   "file_extension": ".m2",
   "mimetype": "text/x-macaulay2",
   "name": "Macaulay2"
  }
 },
 "nbformat": 4,
 "nbformat_minor": 5
}
