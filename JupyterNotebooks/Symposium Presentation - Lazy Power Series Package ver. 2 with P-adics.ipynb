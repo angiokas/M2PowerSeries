{
 "cells": [
  {
   "cell_type": "markdown",
   "id": "18392bf5",
   "metadata": {},
   "source": [
    "## Lazy Power Series Package\n",
    "### PadicSeries implementation\n",
    "There are multiple ways in which one can construct padics using this package. One of the more basic constructors requires a user to enter a prime number, a ring and a function, similar to the LazySeries construction method. \n"
   ]
  },
  {
   "cell_type": "code",
   "execution_count": 1,
   "id": "6d45ce1a",
   "metadata": {},
   "outputs": [
    {
     "name": "stdout",
     "output_type": "stream",
     "text": [
      "\n",
      "o1 = LazyPowerSeries\n",
      "\n",
      "o1 : Package\n"
     ]
    }
   ],
   "source": [
    "loadPackage \"LazyPowerSeries\""
   ]
  },
  {
   "cell_type": "code",
   "execution_count": 2,
   "id": "2a1c3d56",
   "metadata": {},
   "outputs": [
    {
     "name": "stdout",
     "output_type": "stream",
     "text": [
      "\n",
      "o2 = ZZ\n",
      "\n",
      "o2 : Ring\n"
     ]
    }
   ],
   "source": [
    "R = ZZ"
   ]
  },
  {
   "cell_type": "code",
   "execution_count": 3,
   "id": "e9eb275a",
   "metadata": {},
   "outputs": [
    {
     "name": "stdout",
     "output_type": "stream",
     "text": [
      "\n",
      "o3 = 4 + 4*13 + 4*13^2 + 4*13^3 + 4*13^4 + 4*13^5 + ... \n",
      "\n",
      "o3 : PadicSeries\n"
     ]
    }
   ],
   "source": [
    "padics(13,R, i-> 4)"
   ]
  },
  {
   "cell_type": "code",
   "execution_count": 4,
   "id": "e2593297",
   "metadata": {},
   "outputs": [
    {
     "name": "stdout",
     "output_type": "stream",
     "text": [
      "\n",
      "o4 = R\n",
      "\n",
      "o4 : PolynomialRing\n"
     ]
    }
   ],
   "source": [
    "R = ZZ[x,y]"
   ]
  },
  {
   "cell_type": "code",
   "execution_count": 8,
   "id": "2565988f",
   "metadata": {},
   "outputs": [
    {
     "name": "stdout",
     "output_type": "stream",
     "text": [
      "\n",
      "\n",
      "o8 = 3 + 3*7 + 3*x + 3*y + 3*7^2 + 3*7x + 3*7y + 3*x^2 + 3*x*y + 3*y^2 + 3*7^3 +\n",
      "     ---------------------------------------------------------------------------\n",
      "     3*7^2x + 3*7^2y + 3*7x^2 - 3*7x*y + 3*7y^2 + 3*x^3 + 3*x^2*y + 3*x*y^2 +\n",
      "     ---------------------------------------------------------------------------\n",
      "     3*y^3 + 3*7^4 + 3*7^3x + 3*7^3y + 3*7^2x^2 - 1*7^2x*y + 3*7^2y^2 + 3*7x^3 -\n",
      "     ---------------------------------------------------------------------------\n",
      "     2*7x^2*y - 2*7x*y^2 + 3*7y^3 + 3*x^4 + 3*x^3*y + 3*x^2*y^2 + 3*x*y^3 +\n",
      "     ---------------------------------------------------------------------------\n",
      "     3*y^4 + 3*7^5 + 3*7^4x + 3*7^4y + 3*7^3x^2 + 3*7^3y^2 + 3*7^2x^3 +\n",
      "     ---------------------------------------------------------------------------\n",
      "     1*7^2x^2*y + 1*7^2x*y^2 + 3*7^2y^3 + 3*7x^4 - 1*7x^3*y - 1*7x*y^3 + 3*7y^4\n",
      "     ---------------------------------------------------------------------------\n",
      "     + 3*x^5 + 3*x^4*y + 3*x^3*y^2 + 3*x^2*y^3 + 3*x*y^4 + 3*y^5 + ...\n"
     ]
    }
   ],
   "source": [
    "f = (i,x,y)-> i*x*y+3;\n",
    "net(L = padics(7,R, f))"
   ]
  },
  {
   "cell_type": "markdown",
   "id": "c7687285",
   "metadata": {},
   "source": [
    "## Operations using PadicSeries\n",
    "We have addition and multiplication for PadicSeries objects and in addition, they can interact with objects of class Number such as integers using the same operations if they make sense. Currently, the PadicSeries objects are written for adic completions for specifically polynomial rings over the integers, therefore rings with coefficient rings such as QQ, RR, CC will not work. "
   ]
  },
  {
   "cell_type": "code",
   "execution_count": 9,
   "id": "42b1f654",
   "metadata": {},
   "outputs": [
    {
     "name": "stdout",
     "output_type": "stream",
     "text": [
      "\n",
      "o9 = 2*x + 3*11x + 1*11^2x + 1*y^4 + ... \n",
      "\n",
      "o9 : PadicSeries\n"
     ]
    }
   ],
   "source": [
    "M = padics(11,156*x+y^4, DisplayedDegree => 6)"
   ]
  },
  {
   "cell_type": "code",
   "execution_count": 10,
   "id": "82e71be8",
   "metadata": {},
   "outputs": [
    {
     "name": "stdout",
     "output_type": "stream",
     "text": [
      "\n",
      "o10 =  - 2*x + 1*11x + 1*y^4 + 4*11y^4 + ... \n",
      "\n",
      "o10 : PadicSeries\n"
     ]
    }
   ],
   "source": [
    "L = padics(11, 45*y^4+9*x)"
   ]
  },
  {
   "cell_type": "code",
   "execution_count": 11,
   "id": "875edf6e",
   "metadata": {
    "scrolled": true
   },
   "outputs": [
    {
     "name": "stdout",
     "output_type": "stream",
     "text": [
      "\n",
      "o11 = 4*11x + 1*11^2x + 2*y^4 + 4*11y^4 + ... \n",
      "\n",
      "o11 : PadicSeries\n"
     ]
    }
   ],
   "source": [
    "K = M+L"
   ]
  },
  {
   "cell_type": "code",
   "execution_count": 12,
   "id": "75a54ecf",
   "metadata": {},
   "outputs": [
    {
     "name": "stdout",
     "output_type": "stream",
     "text": [
      "\n",
      "o12 =  - 5*x - 1*11x + 4*11^2x + 3*y^4 + ... \n",
      "\n",
      "o12 : PadicSeries\n"
     ]
    }
   ],
   "source": [
    "3*M"
   ]
  },
  {
   "cell_type": "code",
   "execution_count": 13,
   "id": "e2646d2f",
   "metadata": {},
   "outputs": [
    {
     "name": "stdout",
     "output_type": "stream",
     "text": [
      "\n",
      "o13 =  - 5*x - 1*11x + 4*11^2x + 3*y^4 + ... \n",
      "\n",
      "o13 : PadicSeries\n"
     ]
    }
   ],
   "source": [
    "M*3"
   ]
  },
  {
   "cell_type": "code",
   "execution_count": 14,
   "id": "13f84ef1",
   "metadata": {},
   "outputs": [
    {
     "name": "stdout",
     "output_type": "stream",
     "text": [
      "\n",
      "o14 = 3 - 2*x - 3*11x - 1*11^2x - 1*y^4 + ... \n",
      "\n",
      "o14 : PadicSeries\n"
     ]
    }
   ],
   "source": [
    "3-M"
   ]
  },
  {
   "cell_type": "code",
   "execution_count": 15,
   "id": "3389c8d8",
   "metadata": {},
   "outputs": [
    {
     "name": "stdout",
     "output_type": "stream",
     "text": [
      "\n",
      "o15 =  - 2*x - 3*11x - 1*11^2x - 1*y^4 + ... \n",
      "\n",
      "o15 : PadicSeries\n"
     ]
    }
   ],
   "source": [
    "(-1) * M"
   ]
  },
  {
   "cell_type": "code",
   "execution_count": 16,
   "id": "0041b021",
   "metadata": {},
   "outputs": [
    {
     "name": "stdout",
     "output_type": "stream",
     "text": [
      "\n",
      "o16 =  - 2*x - 3*11x - 1*11^2x - 1*y^4 + ... \n",
      "\n",
      "o16 : PadicSeries\n"
     ]
    }
   ],
   "source": [
    "-M"
   ]
  },
  {
   "cell_type": "code",
   "execution_count": 17,
   "id": "3d551515",
   "metadata": {},
   "outputs": [
    {
     "name": "stdout",
     "output_type": "stream",
     "text": [
      "\n",
      "o17 =  - 2*x + 1*11x + 1*y^4 + 4*11y^4 + ... \n",
      "\n",
      "o17 : PadicSeries\n"
     ]
    }
   ],
   "source": [
    "L"
   ]
  },
  {
   "cell_type": "code",
   "execution_count": 18,
   "id": "b66860b2",
   "metadata": {},
   "outputs": [
    {
     "name": "stdout",
     "output_type": "stream",
     "text": [
      "\n",
      "o18 = 2*x + 3*11x + 1*11^2x + 1*y^4 + ... \n",
      "\n",
      "o18 : PadicSeries\n"
     ]
    }
   ],
   "source": [
    "M"
   ]
  },
  {
   "cell_type": "code",
   "execution_count": 19,
   "id": "c95dc876",
   "metadata": {},
   "outputs": [
    {
     "name": "stdout",
     "output_type": "stream",
     "text": [
      "\n",
      "o19 =  - 4*x^2 - 4*11x^2 + 1*11^2x^2 + 1*11^3x^2 + ... \n",
      "\n",
      "o19 : PadicSeries\n"
     ]
    }
   ],
   "source": [
    "K = L*M"
   ]
  },
  {
   "cell_type": "code",
   "execution_count": 20,
   "id": "81ef208e",
   "metadata": {},
   "outputs": [
    {
     "name": "stdout",
     "output_type": "stream",
     "text": [
      "\n",
      "o20 = HashTable{1 => 0     }\n",
      "                11x*y => 0\n",
      "                     2\n",
      "                11x*y  => 0\n",
      "                11x => 0\n",
      "                   2\n",
      "                11x y => 0\n",
      "                   2\n",
      "                11x  => -4\n",
      "                   3\n",
      "                11x  => 0\n",
      "                11y => 0\n",
      "                   2\n",
      "                11y  => 0\n",
      "                   3\n",
      "                11y  => 0\n",
      "                11 => 0\n",
      "                121x*y => 0\n",
      "                121x => 0\n",
      "                    2\n",
      "                121x  => 1\n",
      "                121y => 0\n",
      "                    2\n",
      "                121y  => 0\n",
      "                121 => 0\n",
      "                1331x => 0\n",
      "                     2\n",
      "                1331x  => 1\n",
      "                1331y => 0\n",
      "                1331 => 0\n",
      "                14641x => 0\n",
      "                14641y => 0\n",
      "                14641 => 0\n",
      "                161051 => 0\n",
      "                x*y => 0\n",
      "                   2\n",
      "                x*y  => 0\n",
      "                   3\n",
      "                x*y  => 0\n",
      "                x => 0\n",
      "                 2\n",
      "                x y => 0\n",
      "                 2 2\n",
      "                x y  => 0\n",
      "                 2\n",
      "                x  => -4\n",
      "                 3\n",
      "                x y => 0\n",
      "                 3\n",
      "                x  => 0\n",
      "                 4\n",
      "                x  => 0\n",
      "                y => 0\n",
      "                 2\n",
      "                y  => 0\n",
      "                 3\n",
      "                y  => 0\n",
      "                 4\n",
      "                y  => 0\n",
      "\n",
      "o20 : HashTable\n"
     ]
    }
   ],
   "source": [
    "K.cache.valueList"
   ]
  },
  {
   "cell_type": "code",
   "execution_count": 21,
   "id": "9f68e328",
   "metadata": {},
   "outputs": [
    {
     "name": "stdout",
     "output_type": "stream",
     "text": [
      "\n",
      "o21 = 2*x + 3*11x + 1*11^2x + 1*y^4 + ... \n",
      "\n",
      "o21 : PadicSeries\n"
     ]
    }
   ],
   "source": [
    "A = padics(11,156*x+y^4, DisplayedDegree => 6)"
   ]
  },
  {
   "cell_type": "code",
   "execution_count": 22,
   "id": "51b36a0b",
   "metadata": {},
   "outputs": [
    {
     "name": "stdout",
     "output_type": "stream",
     "text": [
      "stdio:61:1:(3): error: Cannot invert Padic series because it is not a unit\n"
     ]
    }
   ],
   "source": [
    "inverse(M)"
   ]
  },
  {
   "cell_type": "code",
   "execution_count": 23,
   "id": "c124c6dd",
   "metadata": {},
   "outputs": [
    {
     "name": "stdout",
     "output_type": "stream",
     "text": [
      "\n",
      "o23 = 1 + 2*x + 3*11x + 1*11^2x + 1*y^4 + ... \n",
      "\n",
      "o23 : PadicSeries\n"
     ]
    }
   ],
   "source": [
    "B = padics(11,1+156*x+y^4, DisplayedDegree => 6)"
   ]
  },
  {
   "cell_type": "code",
   "execution_count": 24,
   "id": "3849b6f0",
   "metadata": {},
   "outputs": [
    {
     "name": "stdout",
     "output_type": "stream",
     "text": [
      "\n",
      "o24 = 1 - 2*x - 3*11x + 4*x^2 - 1*11^2x + 1*11x^2 + 3*x^3 + 3*11^2x^2 - 4*11x^3 + 5*x^4 - 1*y^4 - 4*11^3x^2 - 3*11^2x^3 - 2*11x^4 + 1*x^5 + 4*x*y^4 + ... \n",
      "\n",
      "o24 : PadicSeries\n"
     ]
    }
   ],
   "source": [
    "inverse(B)"
   ]
  },
  {
   "cell_type": "code",
   "execution_count": null,
   "id": "8ba381bf",
   "metadata": {},
   "outputs": [],
   "source": []
  },
  {
   "cell_type": "code",
   "execution_count": null,
   "id": "cdd56c93",
   "metadata": {},
   "outputs": [],
   "source": []
  },
  {
   "cell_type": "code",
   "execution_count": null,
   "id": "0d2544ba",
   "metadata": {},
   "outputs": [],
   "source": []
  },
  {
   "cell_type": "code",
   "execution_count": null,
   "id": "ffc281d7",
   "metadata": {},
   "outputs": [],
   "source": []
  }
 ],
 "metadata": {
  "kernelspec": {
   "display_name": "M2",
   "language": "text/x-macaulay2",
   "name": "m2"
  },
  "language_info": {
   "codemirror_mode": "macaulay2",
   "file_extension": ".m2",
   "mimetype": "text/x-macaulay2",
   "name": "Macaulay2"
  }
 },
 "nbformat": 4,
 "nbformat_minor": 5
}
