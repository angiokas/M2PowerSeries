{
 "cells": [
  {
   "cell_type": "markdown",
   "id": "18392bf5",
   "metadata": {},
   "source": [
    "## Lazy Power Series Package\n",
    "### Padics implementation\n",
    "There are multiple ways in which one can construct padics using this package. One of the more basic constructors requires a user to enter a prime number, a ring and a function, similar to the LazySeries construction method. \n"
   ]
  },
  {
   "cell_type": "code",
   "execution_count": 297,
   "id": "6d45ce1a",
   "metadata": {},
   "outputs": [
    {
     "name": "stdout",
     "output_type": "stream",
     "text": [
      "\n",
      "o297 = LazyPowerSeries\n",
      "\n",
      "o297 : Package\n"
     ]
    }
   ],
   "source": [
    "loadPackage \"LazyPowerSeries\""
   ]
  },
  {
   "cell_type": "code",
   "execution_count": 298,
   "id": "2a1c3d56",
   "metadata": {},
   "outputs": [
    {
     "name": "stdout",
     "output_type": "stream",
     "text": [
      "\n",
      "o298 = ZZ\n",
      "\n",
      "o298 : Ring\n"
     ]
    }
   ],
   "source": [
    "R = ZZ"
   ]
  },
  {
   "cell_type": "code",
   "execution_count": 299,
   "id": "e9eb275a",
   "metadata": {},
   "outputs": [
    {
     "name": "stdout",
     "output_type": "stream",
     "text": [
      "\n",
      "o299 = 4*13^4 + 4 + 4*13^2 + 4*13^5 + 4*13^3 + 4*13 + ... \n",
      "\n",
      "o299 : Padics\n"
     ]
    }
   ],
   "source": [
    "padics(13,R, i-> 4)"
   ]
  },
  {
   "cell_type": "code",
   "execution_count": 300,
   "id": "e2593297",
   "metadata": {},
   "outputs": [
    {
     "name": "stdout",
     "output_type": "stream",
     "text": [
      "\n",
      "o300 = R\n",
      "\n",
      "o300 : PolynomialRing\n"
     ]
    }
   ],
   "source": [
    "R = ZZ[x,y]"
   ]
  },
  {
   "cell_type": "code",
   "execution_count": 302,
   "id": "2565988f",
   "metadata": {},
   "outputs": [
    {
     "name": "stdout",
     "output_type": "stream",
     "text": [
      "\n",
      "\n",
      "o302 = 3*7^3 - 1*7y^4 - 2*y^5 - 1*7^2x*y^2 - 3*7^4 - 1*7x*y^3 - 2*x*y^4 -\n",
      "       -------------------------------------------------------------------------\n",
      "       1*7^2x^2*y - 3*7^2y^2 - 1*7x^2*y^2 - 2*x^2*y^3 - 1*7^2x^3 - 3*7y^3 -\n",
      "       -------------------------------------------------------------------------\n",
      "       3*7^2x*y - 3*y^4 - 1*7x^3*y - 2*x^3*y^2 - 3*7x*y^2 - 3*7^2x^2 - 3*x*y^3 -\n",
      "       -------------------------------------------------------------------------\n",
      "       1*7x^4 - 2*x^4*y + 3*7^2y - 3*7x^2*y - 3*x^2*y^2 + 3*7y^2 - 2*x^5 +\n",
      "       -------------------------------------------------------------------------\n",
      "       3*7^2x + 3*y^3 - 3*7x^3 - 3*x^3*y + 3*7x*y - 1*7^5 + 3*x*y^2 - 3*x^4 +\n",
      "       -------------------------------------------------------------------------\n",
      "       2*7^2 + 3*7x^2 + 3*x^2*y + 2*7y + 2*y^2 + 3*x^3 + 2*7x + 2*x*y + 2*x^2 +\n",
      "       -------------------------------------------------------------------------\n",
      "       1*7 + 1*y - 1*7^3y^2 + 1*x - 1*7^3x*y - 1*7^3x^2 - 3*7^3y - 1*7^4y -\n",
      "       -------------------------------------------------------------------------\n",
      "       3*7^3x - 1*7^4x - 1*7^2y^3 + ...\n"
     ]
    }
   ],
   "source": [
    "f = (i,x,y)-> i*x*y+3;\n",
    "net(L = padics(7,R, g))"
   ]
  },
  {
   "cell_type": "markdown",
   "id": "c7687285",
   "metadata": {},
   "source": [
    "## Operations using Padics\n",
    "We have addition and multiplication for Padics objects and in addition, they can interact with objects of class Number such as integers using the same operations if they make sense. Currently, the Padics objects are written for adic completions for specifically polynomial rings over the integers, therefore rings with coefficient rings such as QQ, RR, CC will not work. "
   ]
  },
  {
   "cell_type": "code",
   "execution_count": 303,
   "id": "42b1f654",
   "metadata": {},
   "outputs": [
    {
     "name": "stdout",
     "output_type": "stream",
     "text": [
      "\n",
      "o303 = 1*y^4 + 2*x + 3*11x + 1*11^2x + ... \n",
      "\n",
      "o303 : Padics\n"
     ]
    }
   ],
   "source": [
    "M = padics(11,156*x+y^4, DisplayedDegree => 6)"
   ]
  },
  {
   "cell_type": "code",
   "execution_count": 304,
   "id": "82e71be8",
   "metadata": {},
   "outputs": [
    {
     "name": "stdout",
     "output_type": "stream",
     "text": [
      "\n",
      "o304 = 1*y^4 + 4*11y^4 - 2*x + 1*11x + ... \n",
      "\n",
      "o304 : Padics\n"
     ]
    }
   ],
   "source": [
    "L = padics(11, 45*y^4+9*x)"
   ]
  },
  {
   "cell_type": "code",
   "execution_count": 305,
   "id": "875edf6e",
   "metadata": {
    "scrolled": true
   },
   "outputs": [
    {
     "name": "stdout",
     "output_type": "stream",
     "text": [
      "\n",
      "o305 = 2*y^4 + 4*11y^4 + 1*11^2x + 4*11x + ... \n",
      "\n",
      "o305 : Padics\n"
     ]
    }
   ],
   "source": [
    "K = M+L"
   ]
  },
  {
   "cell_type": "code",
   "execution_count": 306,
   "id": "75a54ecf",
   "metadata": {},
   "outputs": [
    {
     "name": "stdout",
     "output_type": "stream",
     "text": [
      "\n",
      "o306 = 3*y^4 - 5*x - 1*11x + 4*11^2x + ... \n",
      "\n",
      "o306 : Padics\n"
     ]
    }
   ],
   "source": [
    "3*M"
   ]
  },
  {
   "cell_type": "code",
   "execution_count": 307,
   "id": "e2646d2f",
   "metadata": {},
   "outputs": [
    {
     "name": "stdout",
     "output_type": "stream",
     "text": [
      "\n",
      "o307 = 3*y^4 - 5*x - 1*11x + 4*11^2x + ... \n",
      "\n",
      "o307 : Padics\n"
     ]
    }
   ],
   "source": [
    "M*3"
   ]
  },
  {
   "cell_type": "code",
   "execution_count": 308,
   "id": "13f84ef1",
   "metadata": {},
   "outputs": [
    {
     "name": "stdout",
     "output_type": "stream",
     "text": [
      "\n",
      "o308 =  - 1*y^4 - 2*x - 3*11x - 1*11^2x + 3 + ... \n",
      "\n",
      "o308 : Padics\n"
     ]
    }
   ],
   "source": [
    "3-M"
   ]
  },
  {
   "cell_type": "code",
   "execution_count": 309,
   "id": "3389c8d8",
   "metadata": {},
   "outputs": [
    {
     "name": "stdout",
     "output_type": "stream",
     "text": [
      "\n",
      "o309 =  - 1*y^4 - 2*x - 3*11x - 1*11^2x + ... \n",
      "\n",
      "o309 : Padics\n"
     ]
    }
   ],
   "source": [
    "(-1) * M"
   ]
  },
  {
   "cell_type": "code",
   "execution_count": 310,
   "id": "0041b021",
   "metadata": {},
   "outputs": [
    {
     "name": "stdout",
     "output_type": "stream",
     "text": [
      "\n",
      "o310 =  - 1*y^4 - 2*x - 3*11x - 1*11^2x + ... \n",
      "\n",
      "o310 : Padics\n"
     ]
    }
   ],
   "source": [
    "-M"
   ]
  },
  {
   "cell_type": "code",
   "execution_count": 311,
   "id": "3d551515",
   "metadata": {},
   "outputs": [
    {
     "name": "stdout",
     "output_type": "stream",
     "text": [
      "\n",
      "o311 = 1*y^4 + 4*11y^4 - 2*x + 1*11x + ... \n",
      "\n",
      "o311 : Padics\n"
     ]
    }
   ],
   "source": [
    "L"
   ]
  },
  {
   "cell_type": "code",
   "execution_count": 312,
   "id": "b66860b2",
   "metadata": {},
   "outputs": [
    {
     "name": "stdout",
     "output_type": "stream",
     "text": [
      "\n",
      "o312 = 1*y^4 + 2*x + 3*11x + 1*11^2x + ... \n",
      "\n",
      "o312 : Padics\n"
     ]
    }
   ],
   "source": [
    "M"
   ]
  },
  {
   "cell_type": "code",
   "execution_count": 313,
   "id": "c95dc876",
   "metadata": {},
   "outputs": [
    {
     "name": "stdout",
     "output_type": "stream",
     "text": [
      "\n",
      "o313 = 1*11^2x^2 - 4*x^2 - 4*11x^2 + 1*11^3x^2 + ... \n",
      "\n",
      "o313 : Padics\n"
     ]
    }
   ],
   "source": [
    "K = L*M"
   ]
  },
  {
   "cell_type": "code",
   "execution_count": 314,
   "id": "81ef208e",
   "metadata": {},
   "outputs": [
    {
     "name": "stdout",
     "output_type": "stream",
     "text": [
      "\n",
      "o314 = HashTable{1 => 0      }\n",
      "                 11x*y => 0\n",
      "                      2\n",
      "                 11x*y  => 0\n",
      "                      3\n",
      "                 11x*y  => 0\n",
      "                 11x => 0\n",
      "                    2\n",
      "                 11x y => 0\n",
      "                    2 2\n",
      "                 11x y  => 0\n",
      "                    2\n",
      "                 11x  => -4\n",
      "                    3\n",
      "                 11x y => 0\n",
      "                    3\n",
      "                 11x  => 0\n",
      "                    4\n",
      "                 11x  => 0\n",
      "                 11y => 0\n",
      "                    2\n",
      "                 11y  => 0\n",
      "                    3\n",
      "                 11y  => 0\n",
      "                    4\n",
      "                 11y  => 0\n",
      "                 11 => 0\n",
      "                 121x*y => 0\n",
      "                       2\n",
      "                 121x*y  => 0\n",
      "                 121x => 0\n",
      "                     2\n",
      "                 121x y => 0\n",
      "                     2\n",
      "                 121x  => 1\n",
      "                     3\n",
      "                 121x  => 0\n",
      "                 121y => 0\n",
      "                     2\n",
      "                 121y  => 0\n",
      "                     3\n",
      "                 121y  => 0\n",
      "                 121 => 0\n",
      "                 1331x*y => 0\n",
      "                 1331x => 0\n",
      "                      2\n",
      "                 1331x  => 1\n",
      "                 1331y => 0\n",
      "                      2\n",
      "                 1331y  => 0\n",
      "                 1331 => 0\n",
      "                 14641x => 0\n",
      "                 14641y => 0\n",
      "                 14641 => 0\n",
      "                 161051 => 0\n",
      "                 x*y => 0\n",
      "                    2\n",
      "                 x*y  => 0\n",
      "                    3\n",
      "                 x*y  => 0\n",
      "                    4\n",
      "                 x*y  => 0\n",
      "                 x => 0\n",
      "                  2\n",
      "                 x y => 0\n",
      "                  2 2\n",
      "                 x y  => 0\n",
      "                  2 3\n",
      "                 x y  => 0\n",
      "                  2\n",
      "                 x  => -4\n",
      "                  3\n",
      "                 x y => 0\n",
      "                  3 2\n",
      "                 x y  => 0\n",
      "                  3\n",
      "                 x  => 0\n",
      "                  4\n",
      "                 x y => 0\n",
      "                  4\n",
      "                 x  => 0\n",
      "                  5\n",
      "                 x  => 0\n",
      "                 y => 0\n",
      "                  2\n",
      "                 y  => 0\n",
      "                  3\n",
      "                 y  => 0\n",
      "                  4\n",
      "                 y  => 0\n",
      "                  5\n",
      "                 y  => 0\n",
      "\n",
      "o314 : HashTable\n"
     ]
    }
   ],
   "source": [
    "K.cache.valueList"
   ]
  },
  {
   "cell_type": "code",
   "execution_count": 315,
   "id": "9f68e328",
   "metadata": {},
   "outputs": [
    {
     "name": "stdout",
     "output_type": "stream",
     "text": [
      "\n",
      "o315 = 1*y^4 + 2*x + 3*11x + 1*11^2x + ... \n",
      "\n",
      "o315 : Padics\n"
     ]
    }
   ],
   "source": [
    "A = padics(11,156*x+y^4, DisplayedDegree => 6)"
   ]
  },
  {
   "cell_type": "code",
   "execution_count": 317,
   "id": "51b36a0b",
   "metadata": {},
   "outputs": [
    {
     "name": "stdout",
     "output_type": "stream",
     "text": [
      "stdio:920:1:(3): error: key not found in hash table\n"
     ]
    }
   ],
   "source": [
    "inverse(M)"
   ]
  },
  {
   "cell_type": "code",
   "execution_count": null,
   "id": "c124c6dd",
   "metadata": {},
   "outputs": [],
   "source": [
    "B = padics(11,1+156*x+y^4, DisplayedDegree => 6)"
   ]
  },
  {
   "cell_type": "code",
   "execution_count": null,
   "id": "3849b6f0",
   "metadata": {},
   "outputs": [],
   "source": []
  },
  {
   "cell_type": "code",
   "execution_count": null,
   "id": "8ba381bf",
   "metadata": {},
   "outputs": [],
   "source": []
  },
  {
   "cell_type": "code",
   "execution_count": null,
   "id": "cdd56c93",
   "metadata": {},
   "outputs": [],
   "source": []
  },
  {
   "cell_type": "code",
   "execution_count": null,
   "id": "0d2544ba",
   "metadata": {},
   "outputs": [],
   "source": []
  },
  {
   "cell_type": "code",
   "execution_count": null,
   "id": "ffc281d7",
   "metadata": {},
   "outputs": [],
   "source": []
  }
 ],
 "metadata": {
  "kernelspec": {
   "display_name": "M2",
   "language": "text/x-macaulay2",
   "name": "m2"
  },
  "language_info": {
   "codemirror_mode": "macaulay2",
   "file_extension": ".m2",
   "mimetype": "text/x-macaulay2",
   "name": "Macaulay2"
  }
 },
 "nbformat": 4,
 "nbformat_minor": 5
}
