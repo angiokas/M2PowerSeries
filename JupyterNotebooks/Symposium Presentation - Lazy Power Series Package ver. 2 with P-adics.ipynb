{
 "cells": [
  {
   "cell_type": "markdown",
   "id": "18392bf5",
   "metadata": {},
   "source": [
    "## Lazy Power Series Package\n",
    "### Padics implementation\n",
    "\n"
   ]
  },
  {
   "cell_type": "code",
   "execution_count": 117,
   "id": "6d45ce1a",
   "metadata": {},
   "outputs": [
    {
     "name": "stdout",
     "output_type": "stream",
     "text": [
      "\n",
      "o117 = LazyPowerSeries\n",
      "\n",
      "o117 : Package\n"
     ]
    }
   ],
   "source": [
    "loadPackage \"LazyPowerSeries\""
   ]
  },
  {
   "cell_type": "code",
   "execution_count": 118,
   "id": "e2593297",
   "metadata": {},
   "outputs": [
    {
     "name": "stdout",
     "output_type": "stream",
     "text": [
      "\n",
      "o118 = R\n",
      "\n",
      "o118 : PolynomialRing\n"
     ]
    }
   ],
   "source": [
    "R = ZZ[x,y]"
   ]
  },
  {
   "cell_type": "code",
   "execution_count": 119,
   "id": "42b1f654",
   "metadata": {},
   "outputs": [
    {
     "name": "stdout",
     "output_type": "stream",
     "text": [
      "\n",
      "o119 = 2*x + 3*11x + 1*11^2x + 1*y^4 + ... \n",
      "\n",
      "o119 : Padics\n"
     ]
    }
   ],
   "source": [
    "M = padics(11,156*x+y^4, DisplayedDegree => 6)"
   ]
  },
  {
   "cell_type": "code",
   "execution_count": 120,
   "id": "74fafee7",
   "metadata": {},
   "outputs": [
    {
     "name": "stdout",
     "output_type": "stream",
     "text": [
      "\n",
      "o120 =  - 2*x + 1*11x + 1*y^4 + 4*11y^4 + ... \n",
      "\n",
      "o120 : Padics\n"
     ]
    }
   ],
   "source": [
    "L = padics(11, 45*y^4+9*x)"
   ]
  },
  {
   "cell_type": "code",
   "execution_count": 121,
   "id": "164f804a",
   "metadata": {
    "scrolled": true
   },
   "outputs": [
    {
     "name": "stdout",
     "output_type": "stream",
     "text": [
      "5\n",
      " 4\n",
      "y  + 156x\n",
      " 4\n",
      "y  + 9x\n",
      "\n",
      "o121 = 4*11x + 1*11^2x + 2*y^4 + ... \n",
      "\n",
      "o121 : Padics\n"
     ]
    }
   ],
   "source": [
    "K = M+L"
   ]
  },
  {
   "cell_type": "code",
   "execution_count": 98,
   "id": "14217876",
   "metadata": {},
   "outputs": [
    {
     "name": "stdout",
     "output_type": "stream",
     "text": [
      "\n",
      "o98 = HashTable{1 => 0  }\n",
      "                11x => 4\n",
      "                11y => 0\n",
      "                11 => 0\n",
      "                121 => 0\n",
      "                x*y => 0\n",
      "                x => -5\n",
      "                 2\n",
      "                x  => 0\n",
      "                y => 0\n",
      "                 2\n",
      "                y  => 0\n",
      "\n",
      "o98 : HashTable\n"
     ]
    }
   ],
   "source": [
    "K.cache.valueList"
   ]
  },
  {
   "cell_type": "code",
   "execution_count": 65,
   "id": "9c5f9336",
   "metadata": {},
   "outputs": [
    {
     "name": "stdout",
     "output_type": "stream",
     "text": [
      "\n",
      "o65 = HashTable{1 => 0  }\n",
      "                11x => 3\n",
      "                11y => 0\n",
      "                11 => 0\n",
      "                121 => 0\n",
      "                x*y => 0\n",
      "                x => 2\n",
      "                 2\n",
      "                x  => 0\n",
      "                y => 0\n",
      "                 2\n",
      "                y  => 0\n",
      "\n",
      "o65 : HashTable\n"
     ]
    }
   ],
   "source": [
    "toAdics(11,M.cache.displayedPolynomial)"
   ]
  },
  {
   "cell_type": "code",
   "execution_count": 66,
   "id": "0a41a2d0",
   "metadata": {},
   "outputs": [
    {
     "name": "stdout",
     "output_type": "stream",
     "text": [
      "\n",
      "       4\n",
      "o66 = y  + 156x\n",
      "\n",
      "o66 : R\n"
     ]
    }
   ],
   "source": [
    "M.cache.computedPolynomial"
   ]
  },
  {
   "cell_type": "code",
   "execution_count": 67,
   "id": "fdc743f3",
   "metadata": {},
   "outputs": [
    {
     "name": "stdout",
     "output_type": "stream",
     "text": [
      "\n",
      "o67 = 2*x + 3*11x + 1*11^2x + 1*y^4 + ... \n"
     ]
    }
   ],
   "source": [
    "net(M)"
   ]
  },
  {
   "cell_type": "code",
   "execution_count": 68,
   "id": "bd512e89",
   "metadata": {},
   "outputs": [
    {
     "name": "stdout",
     "output_type": "stream",
     "text": [
      "\n",
      "o68 = 2*x + 3*11x + 1*11^2x + 1*y^4 + ... \n"
     ]
    }
   ],
   "source": [
    "toString(M)"
   ]
  },
  {
   "cell_type": "code",
   "execution_count": 69,
   "id": "0afccf27",
   "metadata": {},
   "outputs": [
    {
     "name": "stdout",
     "output_type": "stream",
     "text": [
      "\n",
      "o69 = 2*x + 3*11x + 1*11^2x + 1*y^4 + ... \n"
     ]
    }
   ],
   "source": [
    "toString(M)"
   ]
  },
  {
   "cell_type": "code",
   "execution_count": 70,
   "id": "c9f2f264",
   "metadata": {},
   "outputs": [
    {
     "name": "stdout",
     "output_type": "stream",
     "text": [
      "\n",
      "o70 = 1 + 1*2 + 1*2^2 + ... \n",
      "\n",
      "o70 : Padics\n"
     ]
    }
   ],
   "source": [
    "padics(2,sub(7,R))"
   ]
  },
  {
   "cell_type": "code",
   "execution_count": 72,
   "id": "c90f205d",
   "metadata": {},
   "outputs": [
    {
     "name": "stdout",
     "output_type": "stream",
     "text": [
      "\n",
      "\n",
      "o72 = 1*7 + 2*7^2 + 3*7^3 + 1*y + 2*7y + 3*7^2y + 1*x + 2*7x + 3*7^2x + 2*y^2 +\n",
      "      --------------------------------------------------------------------------\n",
      "      3*7y^2 + 2*x*y + 3*7x*y + 2*x^2 + 3*7x^2 + 3*y^3 + 3*x*y^2 + 3*x^2*y +\n",
      "      --------------------------------------------------------------------------\n",
      "      3*x^3 + ...\n"
     ]
    }
   ],
   "source": [
    "g = (i,x,y)-> i+x+y;\n",
    "net(M = padics(R,7, g))"
   ]
  },
  {
   "cell_type": "code",
   "execution_count": 73,
   "id": "80ab5382",
   "metadata": {},
   "outputs": [
    {
     "name": "stdout",
     "output_type": "stream",
     "text": [
      "\n",
      "o73 = 3\n",
      "\n",
      "o73 : QQ\n"
     ]
    }
   ],
   "source": [
    "coefficient((1,0,2),M)"
   ]
  },
  {
   "cell_type": "code",
   "execution_count": 75,
   "id": "2565988f",
   "metadata": {},
   "outputs": [
    {
     "name": "stdout",
     "output_type": "stream",
     "text": [
      "\n",
      "\n",
      "o75 = 1*7 + 2*7^2 + 3*7^3 + 1*y + 2*7y + 3*7^2y + 1*x + 2*7x + 3*7^2x + 2*y^2 +\n",
      "      --------------------------------------------------------------------------\n",
      "      3*7y^2 + 2*x*y + 3*7x*y + 2*x^2 + 3*7x^2 + 3*y^3 + 3*x*y^2 + 3*x^2*y +\n",
      "      --------------------------------------------------------------------------\n",
      "      3*x^3 + ...\n"
     ]
    }
   ],
   "source": [
    "f = (i,x,y)-> i*x*y+3;\n",
    "net(L = padics(R,7, g))"
   ]
  },
  {
   "cell_type": "code",
   "execution_count": 77,
   "id": "08f0ba32",
   "metadata": {},
   "outputs": [],
   "source": [
    "newP = M+L"
   ]
  },
  {
   "cell_type": "code",
   "execution_count": 14,
   "id": "4a6a6584",
   "metadata": {},
   "outputs": [
    {
     "name": "stdout",
     "output_type": "stream",
     "text": [
      "\n",
      "                                                   2              2      3  \n",
      "o14 =  + 2*7 + 2*x + 2*y + 4*49 + 4*7x + 4*7y + 4*x  + 4*x*y + 4*y  + 6*x  +\n",
      "      --------------------------------------------------------------------------\n",
      "         2         2      3                                   2            \n",
      "      6*x y + 6*x*y  + 6*y  + 2*2401 + 2*343x + 2*343y + 2*49x  + 2*49x*y +\n",
      "      --------------------------------------------------------------------------\n",
      "           2       3       2          2       3      4      3       2 2        3\n",
      "      2*49y  + 2*7x  + 2*7x y + 2*7x*y  + 2*7y  + 1*x  + 1*x y + 1*x y  + 1*x*y \n",
      "      --------------------------------------------------------------------------\n",
      "           4                                       2                    2  \n",
      "      + 1*y  + 4*16807 + 4*2401x + 4*2401y + 4*343x  + 4*343x*y + 4*343y  +\n",
      "      --------------------------------------------------------------------------\n",
      "           3        2           2        3       4       3        2 2         3\n",
      "      4*49x  + 4*49x y + 4*49x*y  + 4*49y  + 4*7x  + 4*7x y + 4*7x y  + 4*7x*y \n",
      "      --------------------------------------------------------------------------\n",
      "            4      5      4       3 2      2 3        4      5             \n",
      "      + 4*7y  + 3*x  + 3*x y + 3*x y  + 3*x y  + 3*x*y  + 3*y  + 2*117649 +\n",
      "      --------------------------------------------------------------------------\n",
      "                                   2                      2         3         2 \n",
      "      2*16807x + 2*16807y + 2*2401x  + 2*2401x*y + 2*2401y  + 2*343x  + 2*343x y\n",
      "      --------------------------------------------------------------------------\n",
      "                2         3        4        3         2 2          3        4  \n",
      "      + 2*343x*y  + 2*343y  + 2*49x  + 2*49x y + 2*49x y  + 2*49x*y  + 2*49y  +\n",
      "      --------------------------------------------------------------------------\n",
      "          5       4        3 2       2 3         4       5\n",
      "      1*7x  + 1*7x y + 1*7x y  + 1*7x y  + 1*7x*y  + 1*7y  + ...\n"
     ]
    }
   ],
   "source": [
    "net newP"
   ]
  },
  {
   "cell_type": "code",
   "execution_count": 15,
   "id": "77b65c6f",
   "metadata": {},
   "outputs": [
    {
     "name": "stdout",
     "output_type": "stream",
     "text": [
      "\n",
      "                                                                             \n",
      "o15 = {Option{1, 0}, Option{7, 1}, Option{x, 1}, Option{y, 1}, Option{49, 2},\n",
      "      --------------------------------------------------------------------------\n",
      "                                            2                              2 \n",
      "      Option{7x, 2}, Option{7y, 2}, Option{x , 2}, Option{x*y, 2}, Option{y ,\n",
      "      --------------------------------------------------------------------------\n",
      "                                                                   2     \n",
      "      2}, Option{343, 3}, Option{49x, 3}, Option{49y, 3}, Option{7x , 3},\n",
      "      --------------------------------------------------------------------------\n",
      "                                2              3              2      \n",
      "      Option{7x*y, 3}, Option{7y , 3}, Option{x , 3}, Option{x y, 3},\n",
      "      --------------------------------------------------------------------------\n",
      "                2              3                                       \n",
      "      Option{x*y , 3}, Option{y , 3}, Option{2401, 4}, Option{343x, 4},\n",
      "      --------------------------------------------------------------------------\n",
      "                                 2                                  2     \n",
      "      Option{343y, 4}, Option{49x , 4}, Option{49x*y, 4}, Option{49y , 4},\n",
      "      --------------------------------------------------------------------------\n",
      "               3               2                  2               3     \n",
      "      Option{7x , 4}, Option{7x y, 4}, Option{7x*y , 4}, Option{7y , 4},\n",
      "      --------------------------------------------------------------------------\n",
      "              4              3               2 2                3     \n",
      "      Option{x , 4}, Option{x y, 4}, Option{x y , 4}, Option{x*y , 4},\n",
      "      --------------------------------------------------------------------------\n",
      "              4                                                           \n",
      "      Option{y , 4}, Option{16807, 6}, Option{2401x, 6}, Option{2401y, 6},\n",
      "      --------------------------------------------------------------------------\n",
      "                 2                                    2                3     \n",
      "      Option{343x , 6}, Option{343x*y, 6}, Option{343y , 6}, Option{49x , 6},\n",
      "      --------------------------------------------------------------------------\n",
      "                2                   2                3               4     \n",
      "      Option{49x y, 6}, Option{49x*y , 6}, Option{49y , 6}, Option{7x , 6},\n",
      "      --------------------------------------------------------------------------\n",
      "               3                2 2                 3               4     \n",
      "      Option{7x y, 6}, Option{7x y , 6}, Option{7x*y , 6}, Option{7y , 6},\n",
      "      --------------------------------------------------------------------------\n",
      "              5              4               3 2              2 3     \n",
      "      Option{x , 5}, Option{x y, 5}, Option{x y , 5}, Option{x y , 5},\n",
      "      --------------------------------------------------------------------------\n",
      "                4              5\n",
      "      Option{x*y , 5}, Option{y , 5}}\n"
     ]
    }
   ],
   "source": [
    "peek M.cache.valueList"
   ]
  },
  {
   "cell_type": "code",
   "execution_count": 20,
   "id": "4f082be6",
   "metadata": {},
   "outputs": [
    {
     "name": "stdout",
     "output_type": "stream",
     "text": [
      "\n",
      "o20 = 0\n"
     ]
    }
   ],
   "source": [
    "debugLevel = 0"
   ]
  },
  {
   "cell_type": "code",
   "execution_count": 21,
   "id": "0fa506ae",
   "metadata": {},
   "outputs": [
    {
     "name": "stdout",
     "output_type": "stream",
     "text": [
      "\n",
      "         4\n",
      "o21 = 43x y + 56x + 42\n",
      "\n",
      "o21 : R\n"
     ]
    }
   ],
   "source": [
    "f = 56*x + 43*x^4*y + 42"
   ]
  },
  {
   "cell_type": "code",
   "execution_count": 22,
   "id": "33efee4b",
   "metadata": {
    "scrolled": false
   },
   "outputs": [
    {
     "name": "stdout",
     "output_type": "stream",
     "text": [
      "\n",
      "                                                                   2          \n",
      "o22 = {1 => 0, 7 => 6, x => 0, y => 0, 49 => 1, 7x => 1, 7y => 0, x  => 0, x*y\n",
      "      --------------------------------------------------------------------------\n",
      "             2                                       2                    2   \n",
      "      => 0, y  => 0, 343 => 0, 49x => 1, 49y => 0, 7x  => 0, 7x*y => 0, 7y  =>\n",
      "      --------------------------------------------------------------------------\n",
      "          3        2           2        3                                       \n",
      "      0, x  => 0, x y => 0, x*y  => 0, y  => 0, 2401 => 0, 343x => 0, 343y => 0,\n",
      "      --------------------------------------------------------------------------\n",
      "         2                      2         3         2            2         3   \n",
      "      49x  => 0, 49x*y => 0, 49y  => 0, 7x  => 0, 7x y => 0, 7x*y  => 0, 7y  =>\n",
      "      --------------------------------------------------------------------------\n",
      "          4        3         2 2          3        4                           \n",
      "      0, x  => 0, x y => 0, x y  => 0, x*y  => 0, y  => 0, 16807 => 0, 2401x =>\n",
      "      --------------------------------------------------------------------------\n",
      "                         2                        2          3          2       \n",
      "      0, 2401y => 0, 343x  => 0, 343x*y => 0, 343y  => 0, 49x  => 0, 49x y => 0,\n",
      "      --------------------------------------------------------------------------\n",
      "           2          3         4         3          2 2           3         4\n",
      "      49x*y  => 0, 49y  => 0, 7x  => 0, 7x y => 0, 7x y  => 0, 7x*y  => 0, 7y \n",
      "      --------------------------------------------------------------------------\n",
      "             5        4         3 2        2 3          4        5             \n",
      "      => 0, x  => 0, x y => 1, x y  => 0, x y  => 0, x*y  => 0, y  => 0, 117649\n",
      "      --------------------------------------------------------------------------\n",
      "                                           2                          2      \n",
      "      => 0, 16807x => 0, 16807y => 0, 2401x  => 0, 2401x*y => 0, 2401y  => 0,\n",
      "      --------------------------------------------------------------------------\n",
      "          3           2              2           3          4          3       \n",
      "      343x  => 0, 343x y => 0, 343x*y  => 0, 343y  => 0, 49x  => 0, 49x y => 0,\n",
      "      --------------------------------------------------------------------------\n",
      "         2 2            3          4         5         4          3 2      \n",
      "      49x y  => 0, 49x*y  => 0, 49y  => 0, 7x  => 0, 7x y => 6, 7x y  => 0,\n",
      "      --------------------------------------------------------------------------\n",
      "        2 3           4         5        6        5         4 2        3 3      \n",
      "      7x y  => 0, 7x*y  => 0, 7y  => 0, x  => 0, x y => 0, x y  => 0, x y  => 0,\n",
      "      --------------------------------------------------------------------------\n",
      "       2 4          5        6\n",
      "      x y  => 0, x*y  => 0, y  => 0}\n",
      "\n",
      "o22 : List\n"
     ]
    }
   ],
   "source": [
    "toAdics(7, f)"
   ]
  },
  {
   "cell_type": "code",
   "execution_count": 1,
   "id": "2d0f3944",
   "metadata": {},
   "outputs": [
    {
     "name": "stdout",
     "output_type": "stream",
     "text": [
      "\n",
      "o1 = ZZ\n"
     ]
    }
   ],
   "source": [
    "describe ZZ"
   ]
  },
  {
   "cell_type": "code",
   "execution_count": 7,
   "id": "19844a51",
   "metadata": {},
   "outputs": [
    {
     "name": "stdout",
     "output_type": "stream",
     "text": [
      "\n",
      "o7 = 347\n"
     ]
    }
   ],
   "source": [
    "n = 2 + 4*5+ 3*5^2 + 2*5^3"
   ]
  },
  {
   "cell_type": "code",
   "execution_count": 8,
   "id": "3f588348",
   "metadata": {},
   "outputs": [
    {
     "name": "stdout",
     "output_type": "stream",
     "text": [
      "\n",
      "o8 = 2\n"
     ]
    }
   ],
   "source": [
    "n % ideal(5)"
   ]
  },
  {
   "cell_type": "code",
   "execution_count": 9,
   "id": "bfb92af0",
   "metadata": {},
   "outputs": [
    {
     "name": "stdout",
     "output_type": "stream",
     "text": [
      "\n",
      "o9 = -3\n"
     ]
    }
   ],
   "source": [
    "n % ideal(5^2)"
   ]
  },
  {
   "cell_type": "code",
   "execution_count": 14,
   "id": "8931a8e4",
   "metadata": {},
   "outputs": [
    {
     "name": "stdout",
     "output_type": "stream",
     "text": [
      "\n",
      "o14 = 22\n"
     ]
    }
   ],
   "source": [
    "22 % 25"
   ]
  },
  {
   "cell_type": "code",
   "execution_count": 10,
   "id": "0c3a6e97",
   "metadata": {},
   "outputs": [
    {
     "name": "stdout",
     "output_type": "stream",
     "text": [
      "\n",
      "o10 = -28\n"
     ]
    }
   ],
   "source": [
    "n % ideal(5^3)"
   ]
  },
  {
   "cell_type": "code",
   "execution_count": 21,
   "id": "40fe4748",
   "metadata": {},
   "outputs": [
    {
     "name": "stdout",
     "output_type": "stream",
     "text": [
      "\n",
      "o21 = R\n",
      "\n",
      "o21 : PolynomialRing\n"
     ]
    }
   ],
   "source": [
    "R "
   ]
  },
  {
   "cell_type": "code",
   "execution_count": 22,
   "id": "15e0b404",
   "metadata": {},
   "outputs": [
    {
     "name": "stdout",
     "output_type": "stream",
     "text": [
      "\n",
      "o22 = | x y |\n",
      "\n",
      "              1       2\n",
      "o22 : Matrix R  <--- R\n"
     ]
    }
   ],
   "source": [
    "vars R"
   ]
  },
  {
   "cell_type": "code",
   "execution_count": 23,
   "id": "fe0b8fd9",
   "metadata": {},
   "outputs": [
    {
     "name": "stdout",
     "output_type": "stream",
     "text": [
      "\n",
      "o23 = {x, y}\n",
      "\n",
      "o23 : List\n"
     ]
    }
   ],
   "source": [
    "gens R"
   ]
  },
  {
   "cell_type": "code",
   "execution_count": 24,
   "id": "d1edd1a0",
   "metadata": {},
   "outputs": [
    {
     "name": "stdout",
     "output_type": "stream",
     "text": [
      "stdio:71:1:(3): error: expected a list of numbers, matrices, ring elements or ideals\n"
     ]
    }
   ],
   "source": [
    "ideal(5, gens R)"
   ]
  },
  {
   "cell_type": "code",
   "execution_count": 39,
   "id": "7b99e6ed",
   "metadata": {},
   "outputs": [
    {
     "name": "stdout",
     "output_type": "stream",
     "text": [
      "\n",
      "o39 = {}\n",
      "\n",
      "o39 : List\n"
     ]
    }
   ],
   "source": [
    "gens ZZ"
   ]
  },
  {
   "cell_type": "code",
   "execution_count": null,
   "id": "5b5769e0",
   "metadata": {},
   "outputs": [],
   "source": []
  }
 ],
 "metadata": {
  "kernelspec": {
   "display_name": "M2",
   "language": "text/x-macaulay2",
   "name": "m2"
  },
  "language_info": {
   "codemirror_mode": "macaulay2",
   "file_extension": ".m2",
   "mimetype": "text/x-macaulay2",
   "name": "Macaulay2"
  }
 },
 "nbformat": 4,
 "nbformat_minor": 5
}
