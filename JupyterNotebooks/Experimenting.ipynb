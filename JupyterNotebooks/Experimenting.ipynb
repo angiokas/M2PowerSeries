{
 "cells": [
  {
   "cell_type": "code",
   "execution_count": 5,
   "metadata": {},
   "outputs": [
    {
     "output_type": "stream",
     "name": "stdout",
     "text": [
      "\n\n{{{0, 0, 0}}, {{1, 0, 0}, {0, 1, 0}, {0, 0, 1}}, {{2, 0, 0}, {1, 1, 0}, {0, 2, 0}, {1, 0, 1}, {0, 1, 1}, {0, 0, 2}}, {{3, 0, 0}, {2, 1, 0}, {1, 2, 0}, {0, 3, 0}, {2, 0, 1}, {1, 1, 1}, {0, 2, 1}, {1, 0, 2}, {0, 1, 2}, {0, 0, 3}}, {{4, 0, 0}, {3, 1, 0}, {2, 2, 0}, {1, 3, 0}, {0, 4, 0}, {3, 0, 1}, {2, 1, 1}, {1, 2, 1}, {0, 3, 1}, {2, 0, 2}, {1, 1, 2}, {0, 2, 2}, {1, 0, 3}, {0, 1, 3}, {0, 0, 4}}, {{5, 0, 0}, {4, 1, 0}, {3, 2, 0}, {2, 3, 0}, {1, 4, 0}, {0, 5, 0}, {4, 0, 1}, {3, 1, 1}, {2, 2, 1}, {1, 3, 1}, {0, 4, 1}, {3, 0, 2}, {2, 1, 2}, {1, 2, 2}, {0, 3, 2}, {2, 0, 3}, {1, 1, 3}, {0, 2, 3}, {1, 0, 4}, {0, 1, 4}, {0, 0, 5}}}\n\n\n{{0, 0, 0}, {1, 0, 0}, {0, 1, 0}, {0, 0, 1}, {2, 0, 0}, {1, 1, 0}, {0, 2, 0}, {1, 0, 1}, {0, 1, 1}, {0, 0, 2}, {3, 0, 0}, {2, 1, 0}, {1, 2, 0}, {0, 3, 0}, {2, 0, 1}, {1, 1, 1}, {0, 2, 1}, {1, 0, 2}, {0, 1, 2}, {0, 0, 3}, {4, 0, 0}, {3, 1, 0}, {2, 2, 0}, {1, 3, 0}, {0, 4, 0}, {3, 0, 1}, {2, 1, 1}, {1, 2, 1}, {0, 3, 1}, {2, 0, 2}, {1, 1, 2}, {0, 2, 2}, {1, 0, 3}, {0, 1, 3}, {0, 0, 4}, {5, 0, 0}, {4, 1, 0}, {3, 2, 0}, {2, 3, 0}, {1, 4, 0}, {0, 5, 0}, {4, 0, 1}, {3, 1, 1}, {2, 2, 1}, {1, 3, 1}, {0, 4, 1}, {3, 0, 2}, {2, 1, 2}, {1, 2, 2}, {0, 3, 2}, {2, 0, 3}, {1, 1, 3}, {0, 2, 3}, {1, 0, 4}, {0, 1, 4}, {0, 0, 5}}\n"
     ]
    }
   ],
   "source": [
    "combinations = {};\n",
    "for j from 0 to 5 do combinations = append(combinations, compositions (3,j)); \n",
    "print combinations;\n",
    "combinations = flatten combinations; \n",
    "print combinations;"
   ]
  },
  {
   "cell_type": "code",
   "execution_count": 35,
   "metadata": {},
   "outputs": [
    {
     "output_type": "stream",
     "name": "stdout",
     "text": [
      "\no35 = {{5, 0, 0}, {4, 1, 0}, {4, 0, 1}, {4, 0, 0}, {3, 2, 0}, {3, 1, 1}, {3, 1,\n      --------------------------------------------------------------------------\n      0}, {3, 0, 2}, {3, 0, 1}, {3, 0, 0}, {2, 3, 0}, {2, 2, 1}, {2, 2, 0}, {2,\n      --------------------------------------------------------------------------\n      1, 2}, {2, 1, 1}, {2, 1, 0}, {2, 0, 3}, {2, 0, 2}, {2, 0, 1}, {2, 0, 0},\n      --------------------------------------------------------------------------\n      {1, 4, 0}, {1, 3, 1}, {1, 3, 0}, {1, 2, 2}, {1, 2, 1}, {1, 2, 0}, {1, 1,\n      --------------------------------------------------------------------------\n      3}, {1, 1, 2}, {1, 1, 1}, {1, 1, 0}, {1, 0, 4}, {1, 0, 3}, {1, 0, 2}, {1,\n      --------------------------------------------------------------------------\n      0, 1}, {1, 0, 0}, {0, 5, 0}, {0, 4, 1}, {0, 4, 0}, {0, 3, 2}, {0, 3, 1},\n      --------------------------------------------------------------------------\n      {0, 3, 0}, {0, 2, 3}, {0, 2, 2}, {0, 2, 1}, {0, 2, 0}, {0, 1, 4}, {0, 1,\n      --------------------------------------------------------------------------\n      3}, {0, 1, 2}, {0, 1, 1}, {0, 1, 0}, {0, 0, 5}, {0, 0, 4}, {0, 0, 3}, {0,\n      --------------------------------------------------------------------------\n      0, 2}, {0, 0, 1}, {0, 0, 0}}\n\no35 : List\n"
     ]
    }
   ],
   "source": [
    "sort(combinations)\n",
    "rsort(combinations)"
   ]
  },
  {
   "cell_type": "code",
   "execution_count": 10,
   "metadata": {},
   "outputs": [
    {
     "output_type": "stream",
     "name": "stdout",
     "text": [
      "\no10 = NewPowerSeries\n\no10 : Package\n"
     ]
    }
   ],
   "source": [
    "loadPackage \"NewPowerSeries\""
   ]
  },
  {
   "cell_type": "code",
   "execution_count": 41,
   "metadata": {},
   "outputs": [
    {
     "output_type": "stream",
     "name": "stdout",
     "text": [
      "{{0, 0}, {1, 0}, {0, 1}, {2, 0}, {1, 1}, {0, 2}, {3, 0}, {2, 1}, {1, 2}, {0, 3}}\n  3     2        2     3     2            2\n3x  + 3x y + 3x*y  + 3y  + 2x  + 2x*y + 2y  + x + y\n\no41 = LazySeries{coefficientFunction => f                                         }\n                 computedDegree => 3\n                 displayedDegree => 3\n                 maxDegree => infinity\n                                 3     2        2     3     2            2\n                 polynomial => 3x  + 3x y + 3x*y  + 3y  + 2x  + 2x*y + 2y  + x + y\n                 termVariables => {x, y}\n\no41 : LazySeries\n"
     ]
    }
   ],
   "source": [
    "R = ZZ[x,y,z]\n",
    "var = {x,y}\n",
    "f= (i,j)->i+j\n",
    "L = lazySeries(var,f,3)"
   ]
  },
  {
   "cell_type": "code",
   "execution_count": 42,
   "metadata": {},
   "outputs": [
    {
     "output_type": "stream",
     "name": "stdout",
     "text": [
      "f\n17\n"
     ]
    }
   ],
   "source": [
    "getCoefficient(L,{9,8})"
   ]
  },
  {
   "cell_type": "code",
   "execution_count": 47,
   "metadata": {},
   "outputs": [
    {
     "output_type": "stream",
     "name": "stdout",
     "text": [
      "\no47 = R\n\no47 : PolynomialRing\n"
     ]
    }
   ],
   "source": [
    "R = ZZ[x,y,z]"
   ]
  },
  {
   "cell_type": "code",
   "execution_count": 49,
   "metadata": {},
   "outputs": [
    {
     "output_type": "stream",
     "name": "stdout",
     "text": [
      "{{0, 0, 0}, {1, 0, 0}, {0, 1, 0}, {0, 0, 1}, {2, 0, 0}, {1, 1, 0}, {0, 2, 0}, {1, 0, 1}, {0, 1, 1}, {0, 0, 2}}\nstdio:112:22:(3):[3]: error: expected 3 arguments but got 1\n"
     ]
    }
   ],
   "source": [
    "lazySeries(R, {i,j,k}->i+j+k)"
   ]
  },
  {
   "cell_type": "code",
   "execution_count": null,
   "metadata": {},
   "outputs": [],
   "source": [
    "R = QQ[x,y,z,h]\n",
    "S1 = f(x,y)\n",
    "S2 = f(x,z,h) -> g(x,y,z,h)\n"
   ]
  },
  {
   "source": [
    "to check if a user has inputted a function with the corect amount of variables that corresponds with the number of variables in the ring, we could use a test with a zero vector of the size of the amounnt of variables in the ring and if it ouputs an error, then error out to the user that they need to input the correct type of function. Use try Catch.\n",
    "https://faculty.math.illinois.edu/Macaulay2/doc/Macaulay2-1.18/share/doc/Macaulay2/Macaulay2Doc/html/_try.html\n"
   ],
   "cell_type": "markdown",
   "metadata": {}
  },
  {
   "cell_type": "code",
   "execution_count": null,
   "metadata": {},
   "outputs": [],
   "source": [
    "(i,j)->i+j^3\n",
    "newfunction = myNewFunction =\n",
    "(i,j,k)\n",
    "-> (if k == 0 then originalFun(i,j) else 0)\n"
   ]
  },
  {
   "source": [
    "f(i,j,k)\n",
    "\n",
    "f(0,0,0)+(....)\n",
    "inverse of f(0,0,0)(1-K) is this*by using geometric sequence):\n",
    "1/(f(0,0,0)(1-K)) = 1+K+k^2+..."
   ],
   "cell_type": "markdown",
   "metadata": {}
  },
  {
   "source": [
    "any\n",
    "any((1,2,3), t -> t==2)\n",
    "1/(a-f(x,y,z)) = ...\n",
    "1/(1 - f(x,y,z))\n",
    "1 + f(x,y,z) + f(x,y,z)^2 + ...\n",
    "a + f(x,y,z)\n",
    "f(x,y,z)\n",
    "= a + g(x,y,z)\n",
    "= (1/a)(1 - (-1/a)g(x,y,z))\n",
    "= (a)(1 - (-1/a)g(x,y,z))\n",
    "= a(1 - h(x,y,z))\n",
    "(1/a)(1 + h(x,y,z) + h(x,y,z)^2 + …)\n",
    "From Karl E Schwede to Everyone:  01:25 PM\n",
    "(a+b)^7\n",
    "= a^7 + b^7\n",
    "\n",
    "a^7 + (7 choose 1)a^6b^1 + … + b^7\n",
    "(prime choose i) is divisible by p\n",
    "if i is not p or 0\n",
    "(a+b)^7\n",
    "a^7 + b^7\n",
    "f(x,y)^7\n",
    "f(x,y)^8\n",
    "f(x,y)^7*f(x,y)\n",
    "{a \\choose b}\n",
    "char R\n",
    "{i,j,k}\n",
    "{2,0,1}\n",
    "{0,0,0}+{2,0,1}\n",
    "{2,0,1}+{0,0,0}\n",
    "{1,0,1} + {1,0,0}\n",
    "{1,0,0}+{1,0,1}\n",
    "{2,0,0}, + {0,0,1}\n"
   ],
   "cell_type": "markdown",
   "metadata": {}
  },
  {
   "cell_type": "code",
   "execution_count": 24,
   "metadata": {},
   "outputs": [
    {
     "output_type": "stream",
     "name": "stdout",
     "text": [
      "4\n\n4\n"
     ]
    }
   ],
   "source": [
    "g = {i,j} -> i\n",
    "f = (i,j) -> i\n",
    "print g (4,5)\n",
    "print f (4,5)\n",
    "-- This is why we are using toSequence in the combinations for loop \n"
   ]
  },
  {
   "cell_type": "code",
   "execution_count": 82,
   "metadata": {},
   "outputs": [
    {
     "output_type": "stream",
     "name": "stdout",
     "text": [
      "  2            2\n2x  + 2x*y + 2y  + x + y\n\no82 = LazySeries{coefficientFunction => -*Function[stdio:167:23-167:27]*-                                                    }\n                 computedDegree => 2\n                 displayedDegree => 2\n                                          2            2\n                 displayedPolynomial => 2x  + 2x*y + 2y  + x + y\n                 getCoefficient => -*Function[/home/annie/M2PowerSeries/NewPowerSeries/PowerSeriesFunctions.m2:42:46-42:70]*-\n                 maxDegree => infinity\n                 seriesRing => R\n                 termVariables => {x, y}\n\no82 : LazySeries\n"
     ]
    }
   ],
   "source": [
    "loadPackage \"NewPowerSeries\"\n",
    "R = QQ[x,y]\n",
    "s = lazySeries(R,{i,j}->i+j)"
   ]
  },
  {
   "cell_type": "code",
   "execution_count": 48,
   "metadata": {},
   "outputs": [
    {
     "output_type": "stream",
     "name": "stdout",
     "text": [
      "\no48 = 9\n"
     ]
    }
   ],
   "source": [
    "s#getCoefficient({4,5}) -- getCoefficient works\n",
    "s = lazySeries(R,{i,j,k}->i+j) -- error works"
   ]
  },
  {
   "cell_type": "code",
   "execution_count": 76,
   "metadata": {},
   "outputs": [
    {
     "output_type": "stream",
     "name": "stdout",
     "text": [
      "\no76 = formalTaylorSeries\n\no76 : MethodFunction\n"
     ]
    }
   ],
   "source": [
    "formalTaylorSeries"
   ]
  },
  {
   "cell_type": "code",
   "execution_count": 112,
   "metadata": {},
   "outputs": [
    {
     "output_type": "stream",
     "name": "stdout",
     "text": [
      "\no112 = NewPowerSeries\n\no112 : Package\n"
     ]
    }
   ],
   "source": [
    "loadPackage \"NewPowerSeries\""
   ]
  },
  {
   "cell_type": "code",
   "execution_count": 113,
   "metadata": {},
   "outputs": [
    {
     "output_type": "stream",
     "name": "stdout",
     "text": [
      "1/(1-X)=-x^5+x^4-x^3+x^2-x+1\n"
     ]
    }
   ],
   "source": [
    "formalTaylorSeries(x)\n"
   ]
  },
  {
   "cell_type": "code",
   "execution_count": 86,
   "metadata": {},
   "outputs": [
    {
     "output_type": "stream",
     "name": "stdout",
     "text": [
      "\n       2\no86 = x\n\no86 : R\n"
     ]
    }
   ],
   "source": [
    "x^2"
   ]
  },
  {
   "cell_type": "code",
   "execution_count": 114,
   "metadata": {},
   "outputs": [
    {
     "output_type": "stream",
     "name": "stdout",
     "text": [
      "\n        2\no114 = x y + 5x*y + 4x - 32y - 9\n\no114 : R\n"
     ]
    }
   ],
   "source": [
    "p = x^2*y + 5*x*y + 4*x-32*y -9"
   ]
  },
  {
   "cell_type": "code",
   "execution_count": 116,
   "metadata": {},
   "outputs": [
    {
     "output_type": "stream",
     "name": "stdout",
     "text": [
      "\no116 = (| x2y xy x y 1 |, {3} | 1   |)\n                          {2} | 5   |\n                          {1} | 4   |\n                          {1} | -32 |\n                          {0} | -9  |\n\no116 : Sequence\n"
     ]
    }
   ],
   "source": [
    "coefficients p"
   ]
  },
  {
   "cell_type": "code",
   "execution_count": 131,
   "metadata": {},
   "outputs": [
    {
     "output_type": "stream",
     "name": "stdout",
     "text": [
      "\no131 = {{3, 0}, {2, 1}, {1, 2}, {0, 3}}\n\no131 : List\n"
     ]
    }
   ],
   "source": [
    "L1 = compositions(2, 3)"
   ]
  },
  {
   "cell_type": "code",
   "execution_count": 132,
   "metadata": {},
   "outputs": [
    {
     "output_type": "stream",
     "name": "stdout",
     "text": [
      "\no132 = {{5, 0}, {4, 1}, {3, 2}, {2, 3}, {1, 4}, {0, 5}}\n\no132 : List\n"
     ]
    }
   ],
   "source": [
    "L2 = compositions(2,5)"
   ]
  },
  {
   "cell_type": "code",
   "execution_count": 140,
   "metadata": {},
   "outputs": [
    {
     "output_type": "stream",
     "name": "stdout",
     "text": [
      "\no140 = {{{3, 0}, {5, 0}}, {{3, 0}, {4, 1}}, {{3, 0}, {3, 2}}, {{3, 0}, {2, 3}},\n       -------------------------------------------------------------------------\n       {{3, 0}, {1, 4}}, {{3, 0}, {0, 5}}, {{2, 1}, {5, 0}}, {{2, 1}, {4, 1}},\n       -------------------------------------------------------------------------\n       {{2, 1}, {3, 2}}, {{2, 1}, {2, 3}}, {{2, 1}, {1, 4}}, {{2, 1}, {0, 5}},\n       -------------------------------------------------------------------------\n       {{1, 2}, {5, 0}}, {{1, 2}, {4, 1}}, {{1, 2}, {3, 2}}, {{1, 2}, {2, 3}},\n       -------------------------------------------------------------------------\n       {{1, 2}, {1, 4}}, {{1, 2}, {0, 5}}, {{0, 3}, {5, 0}}, {{0, 3}, {4, 1}},\n       -------------------------------------------------------------------------\n       {{0, 3}, {3, 2}}, {{0, 3}, {2, 3}}, {{0, 3}, {1, 4}}, {{0, 3}, {0, 5}}}\n\no140 : List\n"
     ]
    }
   ],
   "source": [
    "L = L1 ** L2"
   ]
  },
  {
   "cell_type": "code",
   "execution_count": 151,
   "metadata": {},
   "outputs": [
    {
     "output_type": "stream",
     "name": "stdout",
     "text": [
      "\no151 = {{{3, 5}, {0, 0}}, {{3, 4}, {0, 1}}, {{3, 3}, {0, 2}}, {{3, 2}, {0, 3}},\n       -------------------------------------------------------------------------\n       {{3, 1}, {0, 4}}, {{3, 0}, {0, 5}}, {{2, 5}, {1, 0}}, {{2, 4}, {1, 1}},\n       -------------------------------------------------------------------------\n       {{2, 3}, {1, 2}}, {{2, 2}, {1, 3}}, {{2, 1}, {1, 4}}, {{2, 0}, {1, 5}},\n       -------------------------------------------------------------------------\n       {{1, 5}, {2, 0}}, {{1, 4}, {2, 1}}, {{1, 3}, {2, 2}}, {{1, 2}, {2, 3}},\n       -------------------------------------------------------------------------\n       {{1, 1}, {2, 4}}, {{1, 0}, {2, 5}}, {{0, 5}, {3, 0}}, {{0, 4}, {3, 1}},\n       -------------------------------------------------------------------------\n       {{0, 3}, {3, 2}}, {{0, 2}, {3, 3}}, {{0, 1}, {3, 4}}, {{0, 0}, {3, 5}}}\n\no151 : List\n"
     ]
    }
   ],
   "source": [
    "K = apply(#L,i->{{L#i#0#0,L#i#1#0},{L#i#0#1,L#i#1#1}}) --ALL SUM COMBINATIONS OF {3,5}"
   ]
  },
  {
   "cell_type": "code",
   "execution_count": 149,
   "metadata": {},
   "outputs": [
    {
     "output_type": "stream",
     "name": "stdout",
     "text": [
      "\no149 = true\n"
     ]
    }
   ],
   "source": [
    "L == K"
   ]
  },
  {
   "cell_type": "code",
   "execution_count": 154,
   "metadata": {},
   "outputs": [
    {
     "output_type": "stream",
     "name": "stdout",
     "text": [
      "\no154 = {{6, 0}, {5, 1}, {4, 2}, {3, 3}, {2, 4}, {1, 5}, {0, 6}}\n\no154 : List\n"
     ]
    }
   ],
   "source": [
    "M1 = compositions(2,6)"
   ]
  },
  {
   "cell_type": "code",
   "execution_count": null,
   "metadata": {},
   "outputs": [],
   "source": []
  }
 ],
 "metadata": {
  "kernelspec": {
   "display_name": "M2",
   "language": "text/x-macaulay2",
   "name": "m2"
  },
  "language_info": {
   "codemirror_mode": "macaulay2",
   "file_extension": ".m2",
   "mimetype": "text/x-macaulay2",
   "name": "Macaulay2"
  }
 },
 "nbformat": 4,
 "nbformat_minor": 4
}