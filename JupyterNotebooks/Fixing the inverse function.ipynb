{
 "cells": [
  {
   "cell_type": "markdown",
   "id": "f9638d44",
   "metadata": {},
   "source": [
    "## Notes on time\n",
    "### Using normal multiplication \n",
    "```\n",
    "R = QQ[x,y]\n",
    "S = lazySeries((i,j)-> 7, R)\n",
    "```\n",
    "- `time S*S` -- used 0.0104846 seconds\n",
    "- `time S*S*S` -- used 0.0546133 seconds\n",
    "- `time S*S*S*S` -- used 0.797977 seconds\n",
    "- `time S*S*S*S*S` [KERNEL ENFORCED TIMEOUT]\n",
    "\n",
    "## Using old binary method for multiplication\n",
    "- `time S^2` -- used 0.258855 seconds\n",
    "\n",
    "## Using new binary method for multiplication \n",
    "- `time S^2` -- used 0.0690727 seconds\n",
    "- `time S^3` -- used 0.147235 seconds\n",
    "- `time S^4` [KERNEL ENFORCED TIMEOUT]"
   ]
  },
  {
   "cell_type": "code",
   "execution_count": 164,
   "id": "df354720",
   "metadata": {},
   "outputs": [
    {
     "name": "stdout",
     "output_type": "stream",
     "text": [
      "\n",
      "\n",
      "\n",
      "o164 = LazySeries{cache => CacheTable{}                                   }\n",
      "                  coefficientFunction => -*Function[stdio:287:24-287:27]*-\n",
      "                  computedDegree => 3\n",
      "                  constantTerm => 7\n",
      "                  displayedDegree => 2\n",
      "                                           2            2\n",
      "                  displayedPolynomial => 7x  + 7x*y + 7y  + 7x + 7y + 7\n",
      "                  maxDegree => infinity\n",
      "                  seriesRing => R\n",
      "                  termVariables => {x, y}\n",
      "\n",
      "o164 : LazySeries\n"
     ]
    }
   ],
   "source": [
    "debugLevel = 1;\n",
    "loadPackage \"NewPowerSeries\";\n",
    "R = QQ[x,y]\n",
    "S = lazySeries(R, (i,j)-> 7, displayedDegree => 2)\n",
    "S"
   ]
  },
  {
   "cell_type": "code",
   "execution_count": 167,
   "id": "84bd44a7",
   "metadata": {},
   "outputs": [
    {
     "name": "stdout",
     "output_type": "stream",
     "text": [
      "     -- used 0.0595745 seconds\n",
      "\n",
      "o167 = LazySeries{cache => CacheTable{}                                                                                                                      }\n",
      "                  coefficientFunction => -*Function[/home/annie/M2PowerSeries/NewPowerSeries/PowerSeriesFunctions.m2:316:38-321:9]*-\n",
      "                  computedDegree => 5\n",
      "                  constantTerm => 117649\n",
      "                  displayedDegree => 3\n",
      "                                                 3            2               2           3           2                        2\n",
      "                  displayedPolynomial => 6588344x  + 14823774x y + 14823774x*y  + 6588344y  + 2470629x  + 4235364x*y + 2470629y  + 705894x + 705894y + 117649\n",
      "                  maxDegree => infinity\n",
      "                  seriesRing => R\n",
      "                  termVariables => {x, y}\n",
      "\n",
      "o167 : LazySeries\n"
     ]
    }
   ],
   "source": [
    "time S*S*S*S*S*S"
   ]
  },
  {
   "cell_type": "code",
   "execution_count": 165,
   "id": "ce0c23e2",
   "metadata": {},
   "outputs": [
    {
     "name": "stdout",
     "output_type": "stream",
     "text": [
      "     -- used 0.0160882 seconds\n",
      "\n",
      "o165 = LazySeries{cache => CacheTable{}                                                                                                                      }\n",
      "                  coefficientFunction => -*Function[/home/annie/M2PowerSeries/NewPowerSeries/PowerSeriesFunctions.m2:316:38-321:9]*-\n",
      "                  computedDegree => 6\n",
      "                  constantTerm => 117649\n",
      "                  displayedDegree => 3\n",
      "                                                 3            2               2           3           2                        2\n",
      "                  displayedPolynomial => 6588344x  + 14823774x y + 14823774x*y  + 6588344y  + 2470629x  + 4235364x*y + 2470629y  + 705894x + 705894y + 117649\n",
      "                  maxDegree => infinity\n",
      "                  seriesRing => R\n",
      "                  termVariables => {x, y}\n",
      "\n",
      "o165 : LazySeries\n"
     ]
    }
   ],
   "source": [
    "time S^6"
   ]
  },
  {
   "cell_type": "code",
   "execution_count": null,
   "id": "2b59d6d0",
   "metadata": {},
   "outputs": [],
   "source": [
    "(S*S)#displayedPolynomial == S^2#displayedPolynomial"
   ]
  },
  {
   "cell_type": "code",
   "execution_count": null,
   "id": "77665e84",
   "metadata": {
    "scrolled": true
   },
   "outputs": [],
   "source": [
    "time S*S*S"
   ]
  },
  {
   "cell_type": "code",
   "execution_count": null,
   "id": "df2325e3",
   "metadata": {},
   "outputs": [],
   "source": [
    "time S^3"
   ]
  },
  {
   "cell_type": "code",
   "execution_count": null,
   "id": "a36553bc",
   "metadata": {},
   "outputs": [],
   "source": [
    "pretty (S*S)"
   ]
  },
  {
   "cell_type": "code",
   "execution_count": null,
   "id": "28c88d80",
   "metadata": {},
   "outputs": [],
   "source": [
    "pretty S^2"
   ]
  },
  {
   "cell_type": "code",
   "execution_count": null,
   "id": "2867cff7",
   "metadata": {},
   "outputs": [],
   "source": [
    "L1 = {S,S*S,S*S*S*S}\n",
    "L2 = {1,1,0}\n",
    "time L3 = apply(3, i->(\n",
    "    if(L2#i == 1) then L1#i\n",
    "    else 1)\n",
    ")"
   ]
  },
  {
   "cell_type": "code",
   "execution_count": null,
   "id": "a57d5969",
   "metadata": {},
   "outputs": [],
   "source": [
    "time fold((a, b) -> a * b, L3)"
   ]
  },
  {
   "cell_type": "code",
   "execution_count": null,
   "id": "f195e6af",
   "metadata": {},
   "outputs": [],
   "source": [
    "L3"
   ]
  },
  {
   "cell_type": "code",
   "execution_count": null,
   "id": "39b10cd0",
   "metadata": {},
   "outputs": [],
   "source": [
    "time S*S*S*S*S*S"
   ]
  },
  {
   "cell_type": "code",
   "execution_count": null,
   "id": "6a16f07f",
   "metadata": {},
   "outputs": [],
   "source": []
  }
 ],
 "metadata": {
  "kernelspec": {
   "display_name": "M2",
   "language": "text/x-macaulay2",
   "name": "m2"
  },
  "language_info": {
   "codemirror_mode": "macaulay2",
   "file_extension": ".m2",
   "mimetype": "text/x-macaulay2",
   "name": "Macaulay2"
  }
 },
 "nbformat": 4,
 "nbformat_minor": 5
}
