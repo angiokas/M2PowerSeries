{
 "cells": [
  {
   "cell_type": "markdown",
   "id": "f9638d44",
   "metadata": {},
   "source": [
    "## Notes on time\n",
    "### Using normal multiplication \n",
    "```\n",
    "R = QQ[x,y]\n",
    "S = lazySeries((i,j)-> 7, R)\n",
    "```\n",
    "- `time S*S` -- used 0.0104846 seconds\n",
    "- `time S*S*S` -- used 0.0546133 seconds\n",
    "- `time S*S*S*S` -- used 0.797977 seconds\n",
    "- `time S*S*S*S*S` [KERNEL ENFORCED TIMEOUT]\n",
    "\n",
    "## Using old binary method for multiplication\n",
    "- `time S^2` -- used 0.258855 seconds\n",
    "\n",
    "## Using new binary method for multiplication \n",
    "- `time S^2` -- used 0.0690727 seconds\n",
    "- `time S^3` -- used 0.147235 seconds\n",
    "- `time S^4` [KERNEL ENFORCED TIMEOUT]"
   ]
  },
  {
   "cell_type": "code",
   "execution_count": 242,
   "id": "df354720",
   "metadata": {},
   "outputs": [
    {
     "name": "stdout",
     "output_type": "stream",
     "text": [
      "\n",
      "\n",
      "\n",
      "o242 = LazySeries{cache => CacheTable{}                                   }\n",
      "                  coefficientFunction => -*Function[stdio:437:24-437:27]*-\n",
      "                  computedDegree => 3\n",
      "                  constantTerm => 7\n",
      "                  displayedDegree => 2\n",
      "                                           2            2\n",
      "                  displayedPolynomial => 7x  + 7x*y + 7y  + 7x + 7y + 7\n",
      "                  maxDegree => infinity\n",
      "                  seriesRing => R\n",
      "                  termVariables => {x, y}\n",
      "\n",
      "o242 : LazySeries\n"
     ]
    }
   ],
   "source": [
    "debugLevel = 1;\n",
    "loadPackage \"NewPowerSeries\";\n",
    "R = QQ[x,y]\n",
    "S = lazySeries(R, (i,j)-> 7, displayedDegree => 2)\n",
    "S"
   ]
  },
  {
   "cell_type": "code",
   "execution_count": 167,
   "id": "84bd44a7",
   "metadata": {},
   "outputs": [
    {
     "name": "stdout",
     "output_type": "stream",
     "text": [
      "     -- used 0.0595745 seconds\n",
      "\n",
      "o167 = LazySeries{cache => CacheTable{}                                                                                                                      }\n",
      "                  coefficientFunction => -*Function[/home/annie/M2PowerSeries/NewPowerSeries/PowerSeriesFunctions.m2:316:38-321:9]*-\n",
      "                  computedDegree => 5\n",
      "                  constantTerm => 117649\n",
      "                  displayedDegree => 3\n",
      "                                                 3            2               2           3           2                        2\n",
      "                  displayedPolynomial => 6588344x  + 14823774x y + 14823774x*y  + 6588344y  + 2470629x  + 4235364x*y + 2470629y  + 705894x + 705894y + 117649\n",
      "                  maxDegree => infinity\n",
      "                  seriesRing => R\n",
      "                  termVariables => {x, y}\n",
      "\n",
      "o167 : LazySeries\n"
     ]
    }
   ],
   "source": [
    "time S*S*S*S*S*S"
   ]
  },
  {
   "cell_type": "code",
   "execution_count": 165,
   "id": "ce0c23e2",
   "metadata": {},
   "outputs": [
    {
     "name": "stdout",
     "output_type": "stream",
     "text": [
      "     -- used 0.0160882 seconds\n",
      "\n",
      "o165 = LazySeries{cache => CacheTable{}                                                                                                                      }\n",
      "                  coefficientFunction => -*Function[/home/annie/M2PowerSeries/NewPowerSeries/PowerSeriesFunctions.m2:316:38-321:9]*-\n",
      "                  computedDegree => 6\n",
      "                  constantTerm => 117649\n",
      "                  displayedDegree => 3\n",
      "                                                 3            2               2           3           2                        2\n",
      "                  displayedPolynomial => 6588344x  + 14823774x y + 14823774x*y  + 6588344y  + 2470629x  + 4235364x*y + 2470629y  + 705894x + 705894y + 117649\n",
      "                  maxDegree => infinity\n",
      "                  seriesRing => R\n",
      "                  termVariables => {x, y}\n",
      "\n",
      "o165 : LazySeries\n"
     ]
    }
   ],
   "source": [
    "time S^6"
   ]
  },
  {
   "cell_type": "code",
   "execution_count": null,
   "id": "2b59d6d0",
   "metadata": {},
   "outputs": [],
   "source": [
    "(S*S)#displayedPolynomial == S^2#displayedPolynomial"
   ]
  },
  {
   "cell_type": "code",
   "execution_count": null,
   "id": "77665e84",
   "metadata": {
    "scrolled": true
   },
   "outputs": [],
   "source": [
    "time S*S*S"
   ]
  },
  {
   "cell_type": "code",
   "execution_count": null,
   "id": "df2325e3",
   "metadata": {},
   "outputs": [],
   "source": [
    "time S^3"
   ]
  },
  {
   "cell_type": "code",
   "execution_count": null,
   "id": "a36553bc",
   "metadata": {},
   "outputs": [],
   "source": [
    "pretty (S*S)"
   ]
  },
  {
   "cell_type": "code",
   "execution_count": null,
   "id": "28c88d80",
   "metadata": {},
   "outputs": [],
   "source": [
    "pretty S^2"
   ]
  },
  {
   "cell_type": "code",
   "execution_count": null,
   "id": "2867cff7",
   "metadata": {},
   "outputs": [],
   "source": [
    "L1 = {S,S*S,S*S*S*S}\n",
    "L2 = {1,1,0}\n",
    "time L3 = apply(3, i->(\n",
    "    if(L2#i == 1) then L1#i\n",
    "    else 1)\n",
    ")"
   ]
  },
  {
   "cell_type": "code",
   "execution_count": null,
   "id": "a57d5969",
   "metadata": {},
   "outputs": [],
   "source": [
    "time fold((a, b) -> a * b, L3)"
   ]
  },
  {
   "cell_type": "code",
   "execution_count": null,
   "id": "f195e6af",
   "metadata": {},
   "outputs": [],
   "source": [
    "L3"
   ]
  },
  {
   "cell_type": "code",
   "execution_count": null,
   "id": "39b10cd0",
   "metadata": {},
   "outputs": [],
   "source": [
    "time S*S*S*S*S*S"
   ]
  },
  {
   "cell_type": "code",
   "execution_count": 237,
   "id": "6a16f07f",
   "metadata": {},
   "outputs": [
    {
     "name": "stdout",
     "output_type": "stream",
     "text": [
      "\n",
      "stdio:428:1:(3): error: mutable unexported unset symbol(s) in package NewPowerSeries: 'R'\n",
      "/home/annie/M2PowerSeries/NewPowerSeries/PowerSeriesFunctions.m2:69:5-69:6: here is the first use of 'R'\n",
      "\n",
      "\n",
      "o237 = LazySeries{cache => CacheTable{}                                   }\n",
      "                  coefficientFunction => -*Function[stdio:430:24-430:27]*-\n",
      "                  computedDegree => 3\n",
      "                  constantTerm => 7\n",
      "                  displayedDegree => 2\n",
      "                                           2            2\n",
      "                  displayedPolynomial => 7x  + 7x*y + 7y  + 7x + 7y + 7\n",
      "                  maxDegree => infinity\n",
      "                  seriesRing => R\n",
      "                  termVariables => {x, y}\n",
      "\n",
      "o237 : LazySeries\n"
     ]
    }
   ],
   "source": [
    "debugLevel = 1;\n",
    "loadPackage \"NewPowerSeries\";\n",
    "R = QQ[x,y]\n",
    "S = lazySeries(R, (i,j)-> 7, displayedDegree => 2)\n",
    "S"
   ]
  },
  {
   "cell_type": "code",
   "execution_count": 198,
   "id": "52a2dfd6",
   "metadata": {},
   "outputs": [
    {
     "name": "stdout",
     "output_type": "stream",
     "text": [
      "STARTING INVERSE\n",
      "CALCULATING MACLAURIN SERIES\n",
      "\r\n",
      "o198 = [KERNEL ENFORCED TIMEOUT]"
     ]
    }
   ],
   "source": [
    "K = inverse(S)"
   ]
  },
  {
   "cell_type": "code",
   "execution_count": 190,
   "id": "b03d0c11",
   "metadata": {},
   "outputs": [
    {
     "name": "stdout",
     "output_type": "stream",
     "text": [
      "\n",
      "       1      1    1     1       1 5   5 4    10 3 2   10 2 3   5   4   1 5   \n",
      "o190 = - + (- -x - -y) + -x*y + (-x  + -x y + --x y  + --x y  + -x*y  + -y ) +\n",
      "       7      7    7     7       7     7       7        7       7       7     \n",
      "       -------------------------------------------------------------------------\n",
      "        4 6   19 5    40 4 2   50 3 3   40 2 4   19   5   4 6     10 7   46 6   \n",
      "       (-x  + --x y + --x y  + --x y  + --x y  + --x*y  + -y ) + (--x  + --x y +\n",
      "        7      7       7        7        7        7       7        7      7     \n",
      "       -------------------------------------------------------------------------\n",
      "       100 5 2      4 3      3 4   100 2 5   46   6   10 7     20 8   90 7   \n",
      "       ---x y  + 20x y  + 20x y  + ---x y  + --x*y  + --y ) + (--x  + --x y +\n",
      "        7                           7         7        7        7      7     \n",
      "       -------------------------------------------------------------------------\n",
      "       200 6 2   300 5 3   340 4 4   300 3 5   200 2 6   90   7   20 8\n",
      "       ---x y  + ---x y  + ---x y  + ---x y  + ---x y  + --x*y  + --y )\n",
      "        7         7         7         7         7         7        7\n"
     ]
    }
   ],
   "source": [
    "pretty K"
   ]
  },
  {
   "cell_type": "code",
   "execution_count": 191,
   "id": "b388873c",
   "metadata": {},
   "outputs": [
    {
     "name": "stdout",
     "output_type": "stream",
     "text": [
      "\r\n",
      "o191 = [KERNEL ENFORCED TIMEOUT]"
     ]
    }
   ],
   "source": [
    "K*S"
   ]
  },
  {
   "cell_type": "code",
   "execution_count": 217,
   "id": "020d1295",
   "metadata": {},
   "outputs": [
    {
     "name": "stdout",
     "output_type": "stream",
     "text": [
      "\n",
      "o217 = LazySeries{cache => CacheTable{}                                   }\n",
      "                  coefficientFunction => -*Function[stdio:395:16-395:19]*-\n",
      "                  computedDegree => 3\n",
      "                  constantTerm => 1\n",
      "                  displayedDegree => 3\n",
      "                                          3    2\n",
      "                  displayedPolynomial => x  + x  + x + 1\n",
      "                  maxDegree => infinity\n",
      "                  seriesRing => T\n",
      "                  termVariables => {x}\n",
      "\n",
      "o217 : LazySeries\n"
     ]
    }
   ],
   "source": [
    "T = QQ[x]\n",
    "lazySeries(T, i-> 1)"
   ]
  },
  {
   "cell_type": "code",
   "execution_count": 218,
   "id": "f73e91fa",
   "metadata": {},
   "outputs": [
    {
     "name": "stdout",
     "output_type": "stream",
     "text": [
      "\n",
      "o218 = lazyFunction\n",
      "\n",
      "o218 : FunctionClosure\n"
     ]
    }
   ],
   "source": [
    "lazyFunction = i-> 6"
   ]
  },
  {
   "cell_type": "code",
   "execution_count": 220,
   "id": "a3151c87",
   "metadata": {},
   "outputs": [
    {
     "name": "stdout",
     "output_type": "stream",
     "text": [
      "stdio:404:18:(3):[1]: error: expected argument 1 to be a hash table\n"
     ]
    }
   ],
   "source": [
    "lazyFunction(opts.Degree+1)"
   ]
  },
  {
   "cell_type": "code",
   "execution_count": 232,
   "id": "811582cf",
   "metadata": {},
   "outputs": [
    {
     "name": "stdout",
     "output_type": "stream",
     "text": [
      "\n",
      "\n",
      "\n",
      "  5     4     3     2\n",
      "8x  + 8x  + 8x  + 8x  + 8x + 8\n"
     ]
    }
   ],
   "source": [
    "s =0;\n",
    "f = i-> 8;\n",
    "for i from 0 to 5 do s = s + (f i)*x^i;\n",
    "print s"
   ]
  },
  {
   "cell_type": "code",
   "execution_count": 282,
   "id": "442ccbba",
   "metadata": {},
   "outputs": [
    {
     "name": "stdout",
     "output_type": "stream",
     "text": [
      "\n",
      "\n",
      "\n",
      "o282 = LazySeries{cache => CacheTable{}                                   }\n",
      "                  coefficientFunction => -*Function[stdio:501:24-501:27]*-\n",
      "                  computedDegree => 3\n",
      "                  constantTerm => 7\n",
      "                  displayedDegree => 2\n",
      "                                           2            2\n",
      "                  displayedPolynomial => 7x  + 7x*y + 7y  + 7x + 7y + 7\n",
      "                  maxDegree => infinity\n",
      "                  seriesRing => R\n",
      "                  termVariables => {x, y}\n",
      "\n",
      "o282 : LazySeries\n"
     ]
    }
   ],
   "source": [
    "debugLevel = 1;\n",
    "loadPackage \"NewPowerSeries\";\n",
    "R = QQ[x,y]\n",
    "S = lazySeries(R, (i,j)-> 7, displayedDegree => 2)\n",
    "S"
   ]
  },
  {
   "cell_type": "code",
   "execution_count": 277,
   "id": "06d254bc",
   "metadata": {},
   "outputs": [
    {
     "name": "stdout",
     "output_type": "stream",
     "text": [
      "1\n",
      "  3     2        2     3     2            2\n",
      "7x  + 7x y + 7x*y  + 7y  + 7x  + 7x*y + 7y  + 7x + 7y + 8\n",
      "    4       3        2 2         3       4       3       2          2       3       2                2\n",
      "252x  + 399x y + 448x y  + 399x*y  + 252y  + 203x  + 301x y + 301x*y  + 203y  + 154x  + 203x*y + 154y  + 105x + 105y + 57\n",
      "\n",
      "o277 = LazySeries{cache => CacheTable{}                                                                                                                                                              }\n",
      "                  coefficientFunction => -*Function[stdio:495:16-495:19]*-\n",
      "                  computedDegree => 3\n",
      "                  constantTerm => 57\n",
      "                  displayedDegree => 3\n",
      "                  displayedPolynomial => LazySeries{cache => CacheTable{}                                                                                                                           }\n",
      "                                                    coefficientFunction => -*Function[/home/annie/M2PowerSeries/NewPowerSeries/PowerSeriesFunctions.m2:225:28-225:47]*-\n",
      "                                                    computedDegree => 4\n",
      "                                                    constantTerm => 57\n",
      "                                                    displayedDegree => 4\n",
      "                                                                               4       3        2 2         3       4       3       2          2       3       2                2\n",
      "                                                    displayedPolynomial => 252x  + 399x y + 448x y  + 399x*y  + 252y  + 203x  + 301x y + 301x*y  + 203y  + 154x  + 203x*y + 154y  + 105x + 105y + 57\n",
      "                                                    maxDegree => infinity\n",
      "                                                    seriesRing => R\n",
      "                                                    termVariables => {x, y}\n",
      "                  maxDegree => infinity\n",
      "                  seriesRing => R\n",
      "                  termVariables => LazySeries{cache => CacheTable{}                                   }\n",
      "                                              coefficientFunction => -*Function[stdio:491:24-491:27]*-\n",
      "                                              computedDegree => 3\n",
      "                                              constantTerm => 7\n",
      "                                              displayedDegree => 2\n",
      "                                                                       2            2\n",
      "                                              displayedPolynomial => 7x  + 7x*y + 7y  + 7x + 7y + 7\n",
      "                                              maxDegree => infinity\n",
      "                                              seriesRing => R\n",
      "                                              termVariables => {x, y}\n",
      "\n",
      "o277 : LazySeries\n"
     ]
    }
   ],
   "source": [
    "lazySeries(S, i-> 1)"
   ]
  },
  {
   "cell_type": "code",
   "execution_count": 284,
   "id": "7e43e9b6",
   "metadata": {},
   "outputs": [
    {
     "name": "stdout",
     "output_type": "stream",
     "text": [
      "STARTING INVERSE\n",
      "CALCULATING MACLAURIN SERIES\n",
      "1\n",
      "   3    2       2    3    2          2\n",
      "- x  - x y - x*y  - y  - x  - x*y - y  - x - y + 1\n",
      "  4     3      2 2       3     4    3     2        2    3\n",
      "2x  + 5x y + 6x y  + 5x*y  + 2y  + x  + 3x y + 3x*y  + y  + x*y - x - y + 1\n",
      "CALCULATED\n",
      "\n",
      "o284 = LazySeries{cache => CacheTable{}                                                                                              }\n",
      "                  coefficientFunction => -*Function[/home/annie/M2PowerSeries/NewPowerSeries/PowerSeriesFunctions.m2:266:28-266:39]*-\n",
      "                  computedDegree => 3\n",
      "                                  1\n",
      "                  constantTerm => -\n",
      "                                  7\n",
      "                  displayedDegree => 3\n",
      "                                         1 3   1 2    1   2   1 3   1 2   1      1 2   1    1    1\n",
      "                  displayedPolynomial => -x  + -x y + -x*y  + -y  + -x  + -x*y + -y  + -x + -y + -\n",
      "                                         7     7      7       7     7     7      7     7    7    7\n",
      "                  maxDegree => infinity\n",
      "                  seriesRing => R\n",
      "                  termVariables => {x, y}\n",
      "\n",
      "o284 : LazySeries\n"
     ]
    }
   ],
   "source": [
    "K = inverse(S)"
   ]
  },
  {
   "cell_type": "code",
   "execution_count": 285,
   "id": "b28126d6",
   "metadata": {},
   "outputs": [
    {
     "name": "stdout",
     "output_type": "stream",
     "text": [
      "\n",
      "o285 = LazySeries{cache => CacheTable{}                                                                                                                                             }\n",
      "                  coefficientFunction => -*Function[/home/annie/M2PowerSeries/NewPowerSeries/PowerSeriesFunctions.m2:314:38-319:9]*-\n",
      "                  computedDegree => 5\n",
      "                  constantTerm => 1\n",
      "                  displayedDegree => 5\n",
      "                                           5      4       3 2      2 3        4     5     4     3      2 2       3     4     3     2        2     3     2            2\n",
      "                  displayedPolynomial => 6x  + 10x y + 12x y  + 12x y  + 10x*y  + 6y  + 5x  + 8x y + 9x y  + 8x*y  + 5y  + 4x  + 6x y + 6x*y  + 4y  + 3x  + 4x*y + 3y  + 2x + 2y + 1\n",
      "                  maxDegree => infinity\n",
      "                  seriesRing => R\n",
      "                  termVariables => {x, y}\n",
      "\n",
      "o285 : LazySeries\n"
     ]
    }
   ],
   "source": [
    "K*S"
   ]
  },
  {
   "cell_type": "code",
   "execution_count": 287,
   "id": "5b1b8361",
   "metadata": {},
   "outputs": [
    {
     "name": "stdout",
     "output_type": "stream",
     "text": [
      "\n",
      "o287 = true\n"
     ]
    }
   ],
   "source": [
    "isUnit(sub(5,R))"
   ]
  },
  {
   "cell_type": "code",
   "execution_count": 288,
   "id": "acb51281",
   "metadata": {},
   "outputs": [
    {
     "name": "stdout",
     "output_type": "stream",
     "text": [
      "\n",
      "o288 = true\n"
     ]
    }
   ],
   "source": [
    "isUnit(S)"
   ]
  },
  {
   "cell_type": "code",
   "execution_count": 290,
   "id": "81fb5d37",
   "metadata": {},
   "outputs": [
    {
     "name": "stdout",
     "output_type": "stream",
     "text": [
      "\n",
      "o290 = LazySeries{cache => CacheTable{}                                   }\n",
      "                  coefficientFunction => -*Function[stdio:526:24-526:26]*-\n",
      "                  computedDegree => 3\n",
      "                  constantTerm => 0\n",
      "                  displayedDegree => 3\n",
      "                                           3     2       2     2\n",
      "                  displayedPolynomial => 3x  + 2x y + x*y  + 2x  + x*y + x\n",
      "                  maxDegree => infinity\n",
      "                  seriesRing => R\n",
      "                  termVariables => {x, y}\n",
      "\n",
      "o290 : LazySeries\n"
     ]
    }
   ],
   "source": [
    "M = lazySeries(R, (i,j)->i)"
   ]
  },
  {
   "cell_type": "code",
   "execution_count": 291,
   "id": "0496d393",
   "metadata": {},
   "outputs": [
    {
     "name": "stdout",
     "output_type": "stream",
     "text": [
      "\n",
      "o291 = false\n"
     ]
    }
   ],
   "source": [
    "isUnit(M)"
   ]
  },
  {
   "cell_type": "code",
   "execution_count": 300,
   "id": "c34b2edf",
   "metadata": {},
   "outputs": [
    {
     "name": "stdout",
     "output_type": "stream",
     "text": [
      "\n",
      "o300 = LazySeries{cache => CacheTable{}                                                                                           }\n",
      "                  coefficientFunction => -*Function[/home/annie/M2PowerSeries/NewPowerSeries/PowerSeriesFunctions.m2:78:20-88:9]*-\n",
      "                  computedDegree => 3\n",
      "                  constantTerm => 1\n",
      "                  displayedDegree => 3\n",
      "                  displayedPolynomial => x + y + 1\n",
      "                  maxDegree => infinity\n",
      "                  seriesRing => R\n",
      "                  termVariables => {x, y}\n",
      "\n",
      "o300 : LazySeries\n"
     ]
    }
   ],
   "source": [
    "M= toLazySeries(x+y+1)"
   ]
  },
  {
   "cell_type": "code",
   "execution_count": 302,
   "id": "476b1736",
   "metadata": {},
   "outputs": [
    {
     "name": "stdout",
     "output_type": "stream",
     "text": [
      "STARTING INVERSE\n",
      "CALCULATING MACLAURIN SERIES\n",
      "1\n",
      "- x - y + 1\n",
      " 2           2\n",
      "x  + 2x*y + y  - x - y + 1\n",
      "   3     2        2    3    2           2\n",
      "- x  - 3x y - 3x*y  - y  + x  + 2x*y + y  - x - y + 1\n",
      "CALCULATED\n",
      "\n",
      "o302 = LazySeries{cache => CacheTable{}                                                                                              }\n",
      "                  coefficientFunction => -*Function[/home/annie/M2PowerSeries/NewPowerSeries/PowerSeriesFunctions.m2:266:28-266:39]*-\n",
      "                  computedDegree => 3\n",
      "                  constantTerm => 1\n",
      "                  displayedDegree => 1\n",
      "                  displayedPolynomial => x + y + 1\n",
      "                  maxDegree => infinity\n",
      "                  seriesRing => R\n",
      "                  termVariables => {x, y}\n",
      "\n",
      "o302 : LazySeries\n"
     ]
    }
   ],
   "source": [
    "changeDegree(inverse(M),1) "
   ]
  },
  {
   "cell_type": "code",
   "execution_count": 18,
   "id": "eca66612",
   "metadata": {},
   "outputs": [
    {
     "name": "stdout",
     "output_type": "stream",
     "text": [
      "\n",
      "o18 = R\n",
      "\n",
      "o18 : PolynomialRing\n"
     ]
    }
   ],
   "source": [
    "loadPackage \"NewPowerSeries\"\n",
    "R = ZZ/5[x]"
   ]
  },
  {
   "cell_type": "code",
   "execution_count": 19,
   "id": "d95569b9",
   "metadata": {},
   "outputs": [
    {
     "name": "stdout",
     "output_type": "stream",
     "text": [
      "\n",
      "o19 = LazySeries{cache => CacheTable{}                                 }\n",
      "                 coefficientFunction => -*Function[stdio:48:16-48:19]*-\n",
      "                 computedDegree => 3\n",
      "                 constantTerm => 7\n",
      "                 displayedDegree => 3\n",
      "                                          3     2\n",
      "                 displayedPolynomial => 2x  + 2x  + 2x + 2\n",
      "                 maxDegree => infinity\n",
      "                 seriesRing => R\n",
      "                 termVariables => {x}\n",
      "\n",
      "o19 : LazySeries\n"
     ]
    }
   ],
   "source": [
    "lazySeries(R, i-> 7)"
   ]
  },
  {
   "cell_type": "code",
   "execution_count": 4,
   "id": "322218b9",
   "metadata": {},
   "outputs": [
    {
     "name": "stdout",
     "output_type": "stream",
     "text": [
      "\n",
      "\n",
      "o4 = 2\n",
      "\n",
      "o4 : R\n"
     ]
    }
   ],
   "source": [
    "function = i-> 7;\n",
    "sub(function (numgens R:0), R)"
   ]
  },
  {
   "cell_type": "code",
   "execution_count": 5,
   "id": "3f3af0bc",
   "metadata": {},
   "outputs": [],
   "source": [
    "kunction = (x) -> sub(function (x), R);"
   ]
  },
  {
   "cell_type": "code",
   "execution_count": 13,
   "id": "ce3cd631",
   "metadata": {},
   "outputs": [
    {
     "name": "stdout",
     "output_type": "stream",
     "text": [
      "\n",
      "o13 = 2\n",
      "\n",
      "o13 : R\n"
     ]
    }
   ],
   "source": [
    "kunction (numgens R:0)"
   ]
  },
  {
   "cell_type": "code",
   "execution_count": 10,
   "id": "0fcf42e8",
   "metadata": {},
   "outputs": [
    {
     "name": "stdout",
     "output_type": "stream",
     "text": [
      "\n",
      "o10 = f\n",
      "\n",
      "o10 : FunctionClosure\n"
     ]
    }
   ],
   "source": []
  },
  {
   "cell_type": "code",
   "execution_count": 12,
   "id": "6f55d0a0",
   "metadata": {},
   "outputs": [
    {
     "name": "stdout",
     "output_type": "stream",
     "text": [
      "\n",
      "o12 = 67\n"
     ]
    }
   ],
   "source": []
  },
  {
   "cell_type": "code",
   "execution_count": null,
   "id": "f6056a87",
   "metadata": {},
   "outputs": [],
   "source": []
  }
 ],
 "metadata": {
  "kernelspec": {
   "display_name": "M2",
   "language": "text/x-macaulay2",
   "name": "m2"
  },
  "language_info": {
   "codemirror_mode": "macaulay2",
   "file_extension": ".m2",
   "mimetype": "text/x-macaulay2",
   "name": "Macaulay2"
  }
 },
 "nbformat": 4,
 "nbformat_minor": 5
}
