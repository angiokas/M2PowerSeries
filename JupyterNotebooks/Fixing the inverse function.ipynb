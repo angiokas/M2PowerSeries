{
 "cells": [
  {
   "cell_type": "markdown",
   "id": "f9638d44",
   "metadata": {},
   "source": [
    "## Notes on time\n",
    "### Using normal multiplication \n",
    "```\n",
    "R = QQ[x,y]\n",
    "S = lazySeries((i,j)-> 7, R)\n",
    "```\n",
    "- `time S*S` -- used 0.0104846 seconds\n",
    "- `time S*S*S` -- used 0.0546133 seconds\n",
    "- `time S*S*S*S` -- used 0.797977 seconds\n",
    "- `time S*S*S*S*S` [KERNEL ENFORCED TIMEOUT]\n",
    "\n",
    "## Using old binary method for multiplication\n",
    "- `time S^2` -- used 0.258855 seconds\n",
    "\n",
    "## Using new binary method for multiplication \n",
    "- `time S^2` -- used 0.0690727 seconds\n",
    "- `time S^3` -- used 0.147235 seconds\n",
    "- `time S^4` [KERNEL ENFORCED TIMEOUT]"
   ]
  },
  {
   "cell_type": "code",
   "execution_count": 242,
   "id": "df354720",
   "metadata": {},
   "outputs": [
    {
     "name": "stdout",
     "output_type": "stream",
     "text": [
      "\n",
      "\n",
      "\n",
      "o242 = LazySeries{cache => CacheTable{}                                   }\n",
      "                  coefficientFunction => -*Function[stdio:437:24-437:27]*-\n",
      "                  computedDegree => 3\n",
      "                  constantTerm => 7\n",
      "                  displayedDegree => 2\n",
      "                                           2            2\n",
      "                  displayedPolynomial => 7x  + 7x*y + 7y  + 7x + 7y + 7\n",
      "                  maxDegree => infinity\n",
      "                  seriesRing => R\n",
      "                  termVariables => {x, y}\n",
      "\n",
      "o242 : LazySeries\n"
     ]
    }
   ],
   "source": [
    "debugLevel = 1;\n",
    "loadPackage \"NewPowerSeries\";\n",
    "R = QQ[x,y]\n",
    "S = lazySeries(R, (i,j)-> 7, displayedDegree => 2)\n",
    "S"
   ]
  },
  {
   "cell_type": "code",
   "execution_count": 167,
   "id": "84bd44a7",
   "metadata": {},
   "outputs": [
    {
     "name": "stdout",
     "output_type": "stream",
     "text": [
      "     -- used 0.0595745 seconds\n",
      "\n",
      "o167 = LazySeries{cache => CacheTable{}                                                                                                                      }\n",
      "                  coefficientFunction => -*Function[/home/annie/M2PowerSeries/NewPowerSeries/PowerSeriesFunctions.m2:316:38-321:9]*-\n",
      "                  computedDegree => 5\n",
      "                  constantTerm => 117649\n",
      "                  displayedDegree => 3\n",
      "                                                 3            2               2           3           2                        2\n",
      "                  displayedPolynomial => 6588344x  + 14823774x y + 14823774x*y  + 6588344y  + 2470629x  + 4235364x*y + 2470629y  + 705894x + 705894y + 117649\n",
      "                  maxDegree => infinity\n",
      "                  seriesRing => R\n",
      "                  termVariables => {x, y}\n",
      "\n",
      "o167 : LazySeries\n"
     ]
    }
   ],
   "source": [
    "time S*S*S*S*S*S"
   ]
  },
  {
   "cell_type": "code",
   "execution_count": 165,
   "id": "ce0c23e2",
   "metadata": {},
   "outputs": [
    {
     "name": "stdout",
     "output_type": "stream",
     "text": [
      "     -- used 0.0160882 seconds\n",
      "\n",
      "o165 = LazySeries{cache => CacheTable{}                                                                                                                      }\n",
      "                  coefficientFunction => -*Function[/home/annie/M2PowerSeries/NewPowerSeries/PowerSeriesFunctions.m2:316:38-321:9]*-\n",
      "                  computedDegree => 6\n",
      "                  constantTerm => 117649\n",
      "                  displayedDegree => 3\n",
      "                                                 3            2               2           3           2                        2\n",
      "                  displayedPolynomial => 6588344x  + 14823774x y + 14823774x*y  + 6588344y  + 2470629x  + 4235364x*y + 2470629y  + 705894x + 705894y + 117649\n",
      "                  maxDegree => infinity\n",
      "                  seriesRing => R\n",
      "                  termVariables => {x, y}\n",
      "\n",
      "o165 : LazySeries\n"
     ]
    }
   ],
   "source": [
    "time S^6"
   ]
  },
  {
   "cell_type": "code",
   "execution_count": null,
   "id": "2b59d6d0",
   "metadata": {},
   "outputs": [],
   "source": [
    "(S*S)#displayedPolynomial == S^2#displayedPolynomial"
   ]
  },
  {
   "cell_type": "code",
   "execution_count": null,
   "id": "77665e84",
   "metadata": {
    "scrolled": true
   },
   "outputs": [],
   "source": [
    "time S*S*S"
   ]
  },
  {
   "cell_type": "code",
   "execution_count": null,
   "id": "df2325e3",
   "metadata": {},
   "outputs": [],
   "source": [
    "time S^3"
   ]
  },
  {
   "cell_type": "code",
   "execution_count": null,
   "id": "a36553bc",
   "metadata": {},
   "outputs": [],
   "source": [
    "pretty (S*S)"
   ]
  },
  {
   "cell_type": "code",
   "execution_count": null,
   "id": "28c88d80",
   "metadata": {},
   "outputs": [],
   "source": [
    "pretty S^2"
   ]
  },
  {
   "cell_type": "code",
   "execution_count": null,
   "id": "2867cff7",
   "metadata": {},
   "outputs": [],
   "source": [
    "L1 = {S,S*S,S*S*S*S}\n",
    "L2 = {1,1,0}\n",
    "time L3 = apply(3, i->(\n",
    "    if(L2#i == 1) then L1#i\n",
    "    else 1)\n",
    ")"
   ]
  },
  {
   "cell_type": "code",
   "execution_count": null,
   "id": "a57d5969",
   "metadata": {},
   "outputs": [],
   "source": [
    "time fold((a, b) -> a * b, L3)"
   ]
  },
  {
   "cell_type": "code",
   "execution_count": null,
   "id": "f195e6af",
   "metadata": {},
   "outputs": [],
   "source": [
    "L3"
   ]
  },
  {
   "cell_type": "code",
   "execution_count": null,
   "id": "39b10cd0",
   "metadata": {},
   "outputs": [],
   "source": [
    "time S*S*S*S*S*S"
   ]
  },
  {
   "cell_type": "code",
   "execution_count": 237,
   "id": "6a16f07f",
   "metadata": {},
   "outputs": [
    {
     "name": "stdout",
     "output_type": "stream",
     "text": [
      "\n",
      "stdio:428:1:(3): error: mutable unexported unset symbol(s) in package NewPowerSeries: 'R'\n",
      "/home/annie/M2PowerSeries/NewPowerSeries/PowerSeriesFunctions.m2:69:5-69:6: here is the first use of 'R'\n",
      "\n",
      "\n",
      "o237 = LazySeries{cache => CacheTable{}                                   }\n",
      "                  coefficientFunction => -*Function[stdio:430:24-430:27]*-\n",
      "                  computedDegree => 3\n",
      "                  constantTerm => 7\n",
      "                  displayedDegree => 2\n",
      "                                           2            2\n",
      "                  displayedPolynomial => 7x  + 7x*y + 7y  + 7x + 7y + 7\n",
      "                  maxDegree => infinity\n",
      "                  seriesRing => R\n",
      "                  termVariables => {x, y}\n",
      "\n",
      "o237 : LazySeries\n"
     ]
    }
   ],
   "source": [
    "debugLevel = 1;\n",
    "loadPackage \"NewPowerSeries\";\n",
    "R = QQ[x,y]\n",
    "S = lazySeries(R, (i,j)-> 7, displayedDegree => 2)\n",
    "S"
   ]
  },
  {
   "cell_type": "code",
   "execution_count": 198,
   "id": "5deda51f",
   "metadata": {},
   "outputs": [
    {
     "name": "stdout",
     "output_type": "stream",
     "text": [
      "STARTING INVERSE\n",
      "CALCULATING MACLAURIN SERIES\n",
      "\r\n",
      "o198 = [KERNEL ENFORCED TIMEOUT]"
     ]
    }
   ],
   "source": [
    "K = inverse(S)"
   ]
  },
  {
   "cell_type": "code",
   "execution_count": 190,
   "id": "31eaadee",
   "metadata": {},
   "outputs": [
    {
     "name": "stdout",
     "output_type": "stream",
     "text": [
      "\n",
      "       1      1    1     1       1 5   5 4    10 3 2   10 2 3   5   4   1 5   \n",
      "o190 = - + (- -x - -y) + -x*y + (-x  + -x y + --x y  + --x y  + -x*y  + -y ) +\n",
      "       7      7    7     7       7     7       7        7       7       7     \n",
      "       -------------------------------------------------------------------------\n",
      "        4 6   19 5    40 4 2   50 3 3   40 2 4   19   5   4 6     10 7   46 6   \n",
      "       (-x  + --x y + --x y  + --x y  + --x y  + --x*y  + -y ) + (--x  + --x y +\n",
      "        7      7       7        7        7        7       7        7      7     \n",
      "       -------------------------------------------------------------------------\n",
      "       100 5 2      4 3      3 4   100 2 5   46   6   10 7     20 8   90 7   \n",
      "       ---x y  + 20x y  + 20x y  + ---x y  + --x*y  + --y ) + (--x  + --x y +\n",
      "        7                           7         7        7        7      7     \n",
      "       -------------------------------------------------------------------------\n",
      "       200 6 2   300 5 3   340 4 4   300 3 5   200 2 6   90   7   20 8\n",
      "       ---x y  + ---x y  + ---x y  + ---x y  + ---x y  + --x*y  + --y )\n",
      "        7         7         7         7         7         7        7\n"
     ]
    }
   ],
   "source": [
    "pretty K"
   ]
  },
  {
   "cell_type": "code",
   "execution_count": 191,
   "id": "1cc93225",
   "metadata": {},
   "outputs": [
    {
     "name": "stdout",
     "output_type": "stream",
     "text": [
      "\r\n",
      "o191 = [KERNEL ENFORCED TIMEOUT]"
     ]
    }
   ],
   "source": [
    "K*S"
   ]
  },
  {
   "cell_type": "code",
   "execution_count": 217,
   "id": "adbd5c82",
   "metadata": {},
   "outputs": [
    {
     "name": "stdout",
     "output_type": "stream",
     "text": [
      "\n",
      "o217 = LazySeries{cache => CacheTable{}                                   }\n",
      "                  coefficientFunction => -*Function[stdio:395:16-395:19]*-\n",
      "                  computedDegree => 3\n",
      "                  constantTerm => 1\n",
      "                  displayedDegree => 3\n",
      "                                          3    2\n",
      "                  displayedPolynomial => x  + x  + x + 1\n",
      "                  maxDegree => infinity\n",
      "                  seriesRing => T\n",
      "                  termVariables => {x}\n",
      "\n",
      "o217 : LazySeries\n"
     ]
    }
   ],
   "source": [
    "T = QQ[x]\n",
    "lazySeries(T, i-> 1)"
   ]
  },
  {
   "cell_type": "code",
   "execution_count": 218,
   "id": "10b0e31b",
   "metadata": {},
   "outputs": [
    {
     "name": "stdout",
     "output_type": "stream",
     "text": [
      "\n",
      "o218 = lazyFunction\n",
      "\n",
      "o218 : FunctionClosure\n"
     ]
    }
   ],
   "source": [
    "lazyFunction = i-> 6"
   ]
  },
  {
   "cell_type": "code",
   "execution_count": 220,
   "id": "637d0afa",
   "metadata": {},
   "outputs": [
    {
     "name": "stdout",
     "output_type": "stream",
     "text": [
      "stdio:404:18:(3):[1]: error: expected argument 1 to be a hash table\n"
     ]
    }
   ],
   "source": [
    "lazyFunction(opts.Degree+1)"
   ]
  },
  {
   "cell_type": "code",
   "execution_count": 232,
   "id": "e80f84d3",
   "metadata": {},
   "outputs": [
    {
     "name": "stdout",
     "output_type": "stream",
     "text": [
      "\n",
      "\n",
      "\n",
      "  5     4     3     2\n",
      "8x  + 8x  + 8x  + 8x  + 8x + 8\n"
     ]
    }
   ],
   "source": [
    "s =0;\n",
    "f = i-> 8;\n",
    "for i from 0 to 5 do s = s + (f i)*x^i;\n",
    "print s"
   ]
  },
  {
   "cell_type": "code",
   "execution_count": 71,
   "id": "78287598",
   "metadata": {},
   "outputs": [
    {
     "name": "stdout",
     "output_type": "stream",
     "text": [
      "\n",
      "\n",
      "stdio:137:5:(3): error: expected an integer\n",
      "\n",
      "\n",
      "o71 = LazySeries{cache => CacheTable{}                                                                                            }\n",
      "                 coefficientFunction => -*Function[/home/annie/M2PowerSeries/NewPowerSeries/PowerSeriesFunctions.m2:38:12-38:31]*-\n",
      "                 computedDegree => 3\n",
      "                 constantTerm => 7\n",
      "                 displayedDegree => 2\n",
      "                                          2            2\n",
      "                 displayedPolynomial => 7x  + 7x*y + 7y  + 7x + 7y + 7\n",
      "                 maxDegree => infinity\n",
      "                 seriesRing => QQ[x..y]\n",
      "                 termVariables => {x, y}\n",
      "\n",
      "o71 : LazySeries\n"
     ]
    }
   ],
   "source": [
    "debugLevel = 1;\n",
    "loadPackage \"NewPowerSeries\";\n",
    "R = QQ[x,y]\n",
    "S = lazySeries(R, (i,j)-> 7, displayedDegree => (2,3))\n",
    "S"
   ]
  },
  {
   "cell_type": "code",
   "execution_count": 61,
   "id": "02d4242e",
   "metadata": {},
   "outputs": [
    {
     "name": "stdout",
     "output_type": "stream",
     "text": [
      "stdio:124:1:(3): error: no method found for applying lazySeries to:\n",
      "     argument 1 :  LazySeries{cache => CacheTable{}     . (of class LazySeries)\n",
      "                              coefficientFunction => -*F.\n",
      "                              computedDegree => 3       .\n",
      "                              constantTerm => 7         .\n",
      "                   ......................................\n",
      "     argument 2 :  -*Function[stdio:124:16-124:19]*- (of class FunctionClosure)\n"
     ]
    }
   ],
   "source": [
    "lazySeries(S, i-> 1)"
   ]
  },
  {
   "cell_type": "code",
   "execution_count": 284,
   "id": "6b91c9e4",
   "metadata": {},
   "outputs": [
    {
     "name": "stdout",
     "output_type": "stream",
     "text": [
      "STARTING INVERSE\n",
      "CALCULATING MACLAURIN SERIES\n",
      "1\n",
      "   3    2       2    3    2          2\n",
      "- x  - x y - x*y  - y  - x  - x*y - y  - x - y + 1\n",
      "  4     3      2 2       3     4    3     2        2    3\n",
      "2x  + 5x y + 6x y  + 5x*y  + 2y  + x  + 3x y + 3x*y  + y  + x*y - x - y + 1\n",
      "CALCULATED\n",
      "\n",
      "o284 = LazySeries{cache => CacheTable{}                                                                                              }\n",
      "                  coefficientFunction => -*Function[/home/annie/M2PowerSeries/NewPowerSeries/PowerSeriesFunctions.m2:266:28-266:39]*-\n",
      "                  computedDegree => 3\n",
      "                                  1\n",
      "                  constantTerm => -\n",
      "                                  7\n",
      "                  displayedDegree => 3\n",
      "                                         1 3   1 2    1   2   1 3   1 2   1      1 2   1    1    1\n",
      "                  displayedPolynomial => -x  + -x y + -x*y  + -y  + -x  + -x*y + -y  + -x + -y + -\n",
      "                                         7     7      7       7     7     7      7     7    7    7\n",
      "                  maxDegree => infinity\n",
      "                  seriesRing => R\n",
      "                  termVariables => {x, y}\n",
      "\n",
      "o284 : LazySeries\n"
     ]
    }
   ],
   "source": [
    "K = inverse(S)"
   ]
  },
  {
   "cell_type": "code",
   "execution_count": 285,
   "id": "f19e1c71",
   "metadata": {},
   "outputs": [
    {
     "name": "stdout",
     "output_type": "stream",
     "text": [
      "\n",
      "o285 = LazySeries{cache => CacheTable{}                                                                                                                                             }\n",
      "                  coefficientFunction => -*Function[/home/annie/M2PowerSeries/NewPowerSeries/PowerSeriesFunctions.m2:314:38-319:9]*-\n",
      "                  computedDegree => 5\n",
      "                  constantTerm => 1\n",
      "                  displayedDegree => 5\n",
      "                                           5      4       3 2      2 3        4     5     4     3      2 2       3     4     3     2        2     3     2            2\n",
      "                  displayedPolynomial => 6x  + 10x y + 12x y  + 12x y  + 10x*y  + 6y  + 5x  + 8x y + 9x y  + 8x*y  + 5y  + 4x  + 6x y + 6x*y  + 4y  + 3x  + 4x*y + 3y  + 2x + 2y + 1\n",
      "                  maxDegree => infinity\n",
      "                  seriesRing => R\n",
      "                  termVariables => {x, y}\n",
      "\n",
      "o285 : LazySeries\n"
     ]
    }
   ],
   "source": [
    "K*S"
   ]
  },
  {
   "cell_type": "code",
   "execution_count": 287,
   "id": "59094ce7",
   "metadata": {},
   "outputs": [
    {
     "name": "stdout",
     "output_type": "stream",
     "text": [
      "\n",
      "o287 = true\n"
     ]
    }
   ],
   "source": [
    "isUnit(sub(5,R))"
   ]
  },
  {
   "cell_type": "code",
   "execution_count": 288,
   "id": "2b8415f4",
   "metadata": {},
   "outputs": [
    {
     "name": "stdout",
     "output_type": "stream",
     "text": [
      "\n",
      "o288 = true\n"
     ]
    }
   ],
   "source": [
    "isUnit(S)"
   ]
  },
  {
   "cell_type": "code",
   "execution_count": 290,
   "id": "26b7126b",
   "metadata": {},
   "outputs": [
    {
     "name": "stdout",
     "output_type": "stream",
     "text": [
      "\n",
      "o290 = LazySeries{cache => CacheTable{}                                   }\n",
      "                  coefficientFunction => -*Function[stdio:526:24-526:26]*-\n",
      "                  computedDegree => 3\n",
      "                  constantTerm => 0\n",
      "                  displayedDegree => 3\n",
      "                                           3     2       2     2\n",
      "                  displayedPolynomial => 3x  + 2x y + x*y  + 2x  + x*y + x\n",
      "                  maxDegree => infinity\n",
      "                  seriesRing => R\n",
      "                  termVariables => {x, y}\n",
      "\n",
      "o290 : LazySeries\n"
     ]
    }
   ],
   "source": [
    "M = lazySeries(R, (i,j)->i)"
   ]
  },
  {
   "cell_type": "code",
   "execution_count": 291,
   "id": "f2932281",
   "metadata": {},
   "outputs": [
    {
     "name": "stdout",
     "output_type": "stream",
     "text": [
      "\n",
      "o291 = false\n"
     ]
    }
   ],
   "source": [
    "isUnit(M)"
   ]
  },
  {
   "cell_type": "code",
   "execution_count": 53,
   "id": "b210ae0e",
   "metadata": {},
   "outputs": [
    {
     "name": "stdout",
     "output_type": "stream",
     "text": [
      "1\n",
      "stdio:102:5:(3): error: expected an integer\n"
     ]
    }
   ],
   "source": [
    "M = toLazySeries(x+y+1)"
   ]
  },
  {
   "cell_type": "code",
   "execution_count": 52,
   "id": "26ad2d27",
   "metadata": {},
   "outputs": [
    {
     "name": "stdout",
     "output_type": "stream",
     "text": [
      "stdio:99:14:(3): error: no method found for applying inverse to:\n",
      "     argument   :  M (of class Symbol)\n"
     ]
    }
   ],
   "source": [
    "changeDegree(inverse(M),1) "
   ]
  },
  {
   "cell_type": "code",
   "execution_count": 60,
   "id": "cf3c913b",
   "metadata": {},
   "outputs": [
    {
     "name": "stdout",
     "output_type": "stream",
     "text": [
      "\n",
      "o60 = R\n",
      "\n",
      "o60 : PolynomialRing\n"
     ]
    }
   ],
   "source": [
    "loadPackage \"NewPowerSeries\"\n",
    "R = ZZ/5[x]"
   ]
  },
  {
   "cell_type": "code",
   "execution_count": 72,
   "id": "cbe14d5f",
   "metadata": {},
   "outputs": [
    {
     "name": "stdout",
     "output_type": "stream",
     "text": [
      "\n",
      "o72 = {5}\n",
      "\n",
      "o72 : List\n"
     ]
    }
   ],
   "source": [
    "flatten {5}"
   ]
  },
  {
   "cell_type": "code",
   "execution_count": 55,
   "id": "2cc702a3",
   "metadata": {},
   "outputs": [
    {
     "name": "stdout",
     "output_type": "stream",
     "text": [
      "\n",
      "o55 = (0, 0)\n",
      "\n",
      "o55 : Sequence\n"
     ]
    }
   ],
   "source": [
    "ringZeroes := numgens R:0"
   ]
  },
  {
   "cell_type": "code",
   "execution_count": 56,
   "id": "32083b96",
   "metadata": {},
   "outputs": [
    {
     "name": "stdout",
     "output_type": "stream",
     "text": [
      "\n",
      "o56 = ((0, 0), (0, 1), (0, 2), (0, 3), (0, 4), (0, 5), (1, 0), (1, 1), (1, 2),\n",
      "      --------------------------------------------------------------------------\n",
      "      (1, 3), (1, 4), (1, 5), (2, 0), (2, 1), (2, 2), (2, 3), (2, 4), (2, 5),\n",
      "      --------------------------------------------------------------------------\n",
      "      (3, 0), (3, 1), (3, 2), (3, 3), (3, 4), (3, 5), (4, 0), (4, 1), (4, 2),\n",
      "      --------------------------------------------------------------------------\n",
      "      (4, 3), (4, 4), (4, 5))\n",
      "\n",
      "o56 : Sequence\n"
     ]
    }
   ],
   "source": [
    "S = lazySeries(R, (i,j)-> 7, displayedDegree => 2)"
   ]
  },
  {
   "cell_type": "code",
   "execution_count": 301,
   "id": "175d051f",
   "metadata": {},
   "outputs": [
    {
     "name": "stdout",
     "output_type": "stream",
     "text": [
      "\n",
      "\n",
      "STARTING INVERSE\n",
      "LazySeries{cache => CacheTable{}                                                                                            }\n",
      "           coefficientFunction => -*Function[/home/annie/M2PowerSeries/NewPowerSeries/PowerSeriesFunctions.m2:38:12-38:31]*-\n",
      "           computedDegree => 3\n",
      "           constantTerm => 0\n",
      "           displayedDegree => 2\n",
      "                                     2          2\n",
      "           displayedPolynomial => - x  - x*y - y  - x - y\n",
      "           maxDegree => infinity\n",
      "           seriesRing => R\n",
      "           termVariables => {x, y}\n",
      "THIS IS g: \n",
      "LazySeries{cache => CacheTable{}                                                                                            }\n",
      "           coefficientFunction => -*Function[/home/annie/M2PowerSeries/NewPowerSeries/PowerSeriesFunctions.m2:38:12-38:31]*-\n",
      "           computedDegree => 3\n",
      "           constantTerm => 0\n",
      "           displayedDegree => 2\n",
      "                                     2          2\n",
      "           displayedPolynomial => - x  - x*y - y  - x - y\n",
      "           maxDegree => infinity\n",
      "           seriesRing => R\n",
      "           termVariables => {x, y}\n",
      "CALCULATING MACLAURIN SERIES\n",
      "7\n",
      "lazy\n",
      "1\n",
      "   3    2       2    3    2          2\n",
      "- x  - x y - x*y  - y  - x  - x*y - y  - x - y + 1\n",
      "  4     3      2 2       3     4    3     2        2    3\n",
      "2x  + 5x y + 6x y  + 5x*y  + 2y  + x  + 3x y + 3x*y  + y  + x*y - x - y + 1\n",
      "LazySeries{cache => CacheTable{}                                                                                                                         }\n",
      "           coefficientFunction => -*Function[/home/annie/M2PowerSeries/NewPowerSeries/PowerSeriesFunctions.m2:38:12-38:31]*-\n",
      "           computedDegree => 4\n",
      "           constantTerm => 1\n",
      "           displayedDegree => 4\n",
      "                                    4     3      2 2       3     4    3     2        2    3\n",
      "           displayedPolynomial => 2x  + 5x y + 6x y  + 5x*y  + 2y  + x  + 3x y + 3x*y  + y  + x*y - x - y + 1\n",
      "           maxDegree => infinity\n",
      "           seriesRing => R\n",
      "           termVariables => LazySeries{cache => CacheTable{}                                                                                            }\n",
      "                                       coefficientFunction => -*Function[/home/annie/M2PowerSeries/NewPowerSeries/PowerSeriesFunctions.m2:38:12-38:31]*-\n",
      "                                       computedDegree => 3\n",
      "                                       constantTerm => 0\n",
      "                                       displayedDegree => 2\n",
      "                                                                 2          2\n",
      "                                       displayedPolynomial => - x  - x*y - y  - x - y\n",
      "                                       maxDegree => infinity\n",
      "                                       seriesRing => R\n",
      "                                       termVariables => {x, y}\n",
      "1\n",
      "   3    2       2    3    2          2\n",
      "- x  - x y - x*y  - y  - x  - x*y - y  - x - y + 1\n",
      "  4     3      2 2       3     4    3     2        2    3\n",
      "2x  + 5x y + 6x y  + 5x*y  + 2y  + x  + 3x y + 3x*y  + y  + x*y - x - y + 1\n",
      "CALCULATED\n",
      "\n",
      "o301 = LazySeries{cache => CacheTable{}                                                                                            }\n",
      "                  coefficientFunction => -*Function[/home/annie/M2PowerSeries/NewPowerSeries/PowerSeriesFunctions.m2:38:12-38:31]*-\n",
      "                  computedDegree => 4\n",
      "                                  1\n",
      "                  constantTerm => -\n",
      "                                  7\n",
      "                  displayedDegree => 4\n",
      "                                         2 4   5 3    6 2 2   5   3   2 4   1 3   3 2    3   2   1 3   1      1    1    1\n",
      "                  displayedPolynomial => -x  + -x y + -x y  + -x*y  + -y  + -x  + -x y + -x*y  + -y  + -x*y - -x - -y + -\n",
      "                                         7     7      7       7       7     7     7      7       7     7      7    7    7\n",
      "                  maxDegree => infinity\n",
      "                  seriesRing => R\n",
      "                  termVariables => {x, y}\n",
      "\n",
      "o301 : LazySeries\n"
     ]
    }
   ],
   "source": [
    "debugLevel = 1;\n",
    "loadPackage \"NewPowerSeries\";\n",
    "R = QQ[x,y]\n",
    "P = toLazySeries(x+y+2)\n",
    "--PI = inverse(P)\n",
    "S = lazySeries(R, (i,j)-> 7, displayedDegree => 2)\n",
    "inverse(S)"
   ]
  },
  {
   "cell_type": "code",
   "execution_count": null,
   "id": "677fcb0f",
   "metadata": {},
   "outputs": [],
   "source": [
    "SI = inverse(S)"
   ]
  },
  {
   "cell_type": "code",
   "execution_count": null,
   "id": "835988d0",
   "metadata": {},
   "outputs": [],
   "source": []
  },
  {
   "cell_type": "code",
   "execution_count": 241,
   "id": "95c7ae90",
   "metadata": {
    "scrolled": true
   },
   "outputs": [
    {
     "name": "stdout",
     "output_type": "stream",
     "text": [
      "\n",
      "o241 = LazySeries{cache => CacheTable{}                                                                                            }\n",
      "                  coefficientFunction => -*Function[/home/annie/M2PowerSeries/NewPowerSeries/PowerSeriesFunctions.m2:38:12-38:31]*-\n",
      "                  computedDegree => 2\n",
      "                  constantTerm => 0\n",
      "                  displayedDegree => 2\n",
      "                                          2\n",
      "                  displayedPolynomial => x  + x*y + 2x\n",
      "                  maxDegree => infinity\n",
      "                  seriesRing => R\n",
      "                  termVariables => {x, y}\n",
      "\n",
      "o241 : LazySeries\n"
     ]
    }
   ],
   "source": [
    "x * P"
   ]
  },
  {
   "cell_type": "markdown",
   "id": "1f8e335b",
   "metadata": {},
   "source": [
    "print class P#displayedPolynomial;\n",
    "print class P#constantTerm;\n",
    "P#displayedPolynomial / P#constantTerm\n",
    "isANumber P#constantTerm -- NOT A NUMBER, FOUND THE PROBLEM\n",
    "isANumber(1/0)"
   ]
  },
  {
   "cell_type": "code",
   "execution_count": 288,
   "id": "09e4fe84",
   "metadata": {},
   "outputs": [
    {
     "name": "stdout",
     "output_type": "stream",
     "text": [
      "1\n",
      "x + y + 3\n",
      "\n",
      "o288 = LazySeries{cache => CacheTable{}                                                                                                                         }\n",
      "                  coefficientFunction => -*Function[/home/annie/M2PowerSeries/NewPowerSeries/PowerSeriesFunctions.m2:38:12-38:31]*-\n",
      "                  computedDegree => 3\n",
      "                  constantTerm => 3\n",
      "                  displayedDegree => 3\n",
      "                  displayedPolynomial => x + y + 3\n",
      "                  maxDegree => infinity\n",
      "                  seriesRing => R\n",
      "                  termVariables => LazySeries{cache => CacheTable{}                                                                                            }\n",
      "                                              coefficientFunction => -*Function[/home/annie/M2PowerSeries/NewPowerSeries/PowerSeriesFunctions.m2:38:12-38:31]*-\n",
      "                                              computedDegree => 1\n",
      "                                              constantTerm => 2\n",
      "                                              displayedDegree => 1\n",
      "                                              displayedPolynomial => x + y + 2\n",
      "                                              maxDegree => infinity\n",
      "                                              seriesRing => R\n",
      "                                              termVariables => {x, y}\n",
      "\n",
      "o288 : LazySeries\n"
     ]
    }
   ],
   "source": [
    "lazySeries(P,i->1)"
   ]
  },
  {
   "cell_type": "code",
   "execution_count": 171,
   "id": "339c1f32",
   "metadata": {},
   "outputs": [
    {
     "name": "stdout",
     "output_type": "stream",
     "text": [
      "\n",
      "o171 = LazySeries{cache => CacheTable{}                                                                                            }\n",
      "                  coefficientFunction => -*Function[/home/annie/M2PowerSeries/NewPowerSeries/PowerSeriesFunctions.m2:38:12-38:31]*-\n",
      "                  computedDegree => 1\n",
      "                  constantTerm => 1\n",
      "                  displayedDegree => 1\n",
      "                                         1    1\n",
      "                  displayedPolynomial => -x + -y + 1\n",
      "                                         2    2\n",
      "                  maxDegree => infinity\n",
      "                  seriesRing => R\n",
      "                  termVariables => {x, y}\n",
      "\n",
      "o171 : LazySeries\n"
     ]
    }
   ],
   "source": [
    "P / P#constantTerm"
   ]
  },
  {
   "cell_type": "code",
   "execution_count": 258,
   "id": "a588f41d",
   "metadata": {
    "scrolled": true
   },
   "outputs": [
    {
     "name": "stdout",
     "output_type": "stream",
     "text": [
      "\n",
      "o258 = {}\n",
      "\n",
      "o258 : List\n"
     ]
    }
   ],
   "source": [
    "degree 1/5"
   ]
  },
  {
   "cell_type": "code",
   "execution_count": 263,
   "id": "0989c425",
   "metadata": {},
   "outputs": [
    {
     "name": "stdout",
     "output_type": "stream",
     "text": [
      "stdio:498:1:(3): error: expected a polynomial\n"
     ]
    }
   ],
   "source": [
    "toLazySeries(1/P#constantTerm)"
   ]
  },
  {
   "cell_type": "code",
   "execution_count": 266,
   "id": "6e791efc",
   "metadata": {},
   "outputs": [
    {
     "name": "stdout",
     "output_type": "stream",
     "text": [
      "\n",
      "o266 = frac R\n",
      "\n",
      "o266 : FractionField\n"
     ]
    }
   ],
   "source": [
    "class (1/P#constantTerm)"
   ]
  },
  {
   "cell_type": "code",
   "execution_count": null,
   "id": "360980ab",
   "metadata": {},
   "outputs": [],
   "source": []
  }
 ],
 "metadata": {
  "kernelspec": {
   "display_name": "M2",
   "language": "text/x-macaulay2",
   "name": "m2"
  },
  "language_info": {
   "codemirror_mode": "macaulay2",
   "file_extension": ".m2",
   "mimetype": "text/x-macaulay2",
   "name": "Macaulay2"
  }
 },
 "nbformat": 4,
 "nbformat_minor": 5
}
