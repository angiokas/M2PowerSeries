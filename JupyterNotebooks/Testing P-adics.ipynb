{
 "cells": [
  {
   "cell_type": "code",
   "execution_count": 1,
   "id": "22cfa31d",
   "metadata": {},
   "outputs": [
    {
     "name": "stdout",
     "output_type": "stream",
     "text": [
      "\n",
      "o1 = LazyPowerSeries\n",
      "\n",
      "o1 : Package\n"
     ]
    }
   ],
   "source": [
    "loadPackage \"LazyPowerSeries\""
   ]
  },
  {
   "cell_type": "code",
   "execution_count": 2,
   "id": "edcf328a",
   "metadata": {},
   "outputs": [
    {
     "name": "stdout",
     "output_type": "stream",
     "text": [
      "\n",
      "o2 = R\n",
      "\n",
      "o2 : PolynomialRing\n"
     ]
    }
   ],
   "source": [
    "R = ZZ[x,y]"
   ]
  },
  {
   "cell_type": "code",
   "execution_count": 3,
   "id": "7c752f86",
   "metadata": {},
   "outputs": [
    {
     "name": "stdout",
     "output_type": "stream",
     "text": [
      "\n",
      "               2            2     3       2     2      3\n",
      "o3 = y + x + 2y  + 2x*y + 2x  + 3y  + 3x*y  + 3x y + 3x  + ... \n",
      "\n",
      "o3 : LazySeries\n"
     ]
    }
   ],
   "source": [
    "L = lazySeries(R, (i,j)-> i+j)"
   ]
  },
  {
   "cell_type": "code",
   "execution_count": 4,
   "id": "92cb3c91",
   "metadata": {},
   "outputs": [
    {
     "name": "stdout",
     "output_type": "stream",
     "text": [
      "\n",
      "                 2      2     2      3\n",
      "o4 = x + x*y + 2x  + x*y  + 2x y + 3x  + ... \n",
      "\n",
      "o4 : LazySeries\n"
     ]
    }
   ],
   "source": [
    "M = lazySeries(R, (i,j)-> i)"
   ]
  },
  {
   "cell_type": "code",
   "execution_count": null,
   "id": "f452fa0b",
   "metadata": {},
   "outputs": [],
   "source": [
    "L"
   ]
  }
 ],
 "metadata": {
  "kernelspec": {
   "display_name": "M2",
   "language": "text/x-macaulay2",
   "name": "m2"
  },
  "language_info": {
   "codemirror_mode": "macaulay2",
   "file_extension": ".m2",
   "mimetype": "text/x-macaulay2",
   "name": "Macaulay2"
  }
 },
 "nbformat": 4,
 "nbformat_minor": 5
}
