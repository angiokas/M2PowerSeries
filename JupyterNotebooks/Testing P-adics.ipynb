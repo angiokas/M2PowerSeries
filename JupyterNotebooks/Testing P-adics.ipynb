{
 "cells": [
  {
   "cell_type": "code",
   "execution_count": 1,
   "id": "830365ad",
   "metadata": {},
   "outputs": [
    {
     "name": "stdout",
     "output_type": "stream",
     "text": [
      "\n",
      "o1 = LazyPowerSeries\n",
      "\n",
      "o1 : Package\n"
     ]
    }
   ],
   "source": [
    "loadPackage \"LazyPowerSeries\""
   ]
  },
  {
   "cell_type": "code",
   "execution_count": 2,
   "id": "af5bb7bc",
   "metadata": {},
   "outputs": [
    {
     "name": "stdout",
     "output_type": "stream",
     "text": [
      "\n",
      "o2 = R\n",
      "\n",
      "o2 : PolynomialRing\n"
     ]
    }
   ],
   "source": [
    "R = ZZ[x,y]"
   ]
  },
  {
   "cell_type": "code",
   "execution_count": 3,
   "id": "e8f44d1a",
   "metadata": {},
   "outputs": [
    {
     "name": "stdout",
     "output_type": "stream",
     "text": [
      "\n",
      "               2            2     3       2     2      3\n",
      "o3 = y + x + 2y  + 2x*y + 2x  + 3y  + 3x*y  + 3x y + 3x  + ... \n",
      "\n",
      "o3 : LazySeries\n"
     ]
    }
   ],
   "source": [
    "L = lazySeries(R, (i,j)-> i+j)"
   ]
  },
  {
   "cell_type": "code",
   "execution_count": 8,
   "id": "998c1216",
   "metadata": {},
   "outputs": [
    {
     "name": "stdout",
     "output_type": "stream",
     "text": [
      "\n",
      "                 2      2     2      3\n",
      "o8 = x + x*y + 2x  + x*y  + 2x y + 3x  + ... \n",
      "\n",
      "o8 : LazySeries\n"
     ]
    }
   ],
   "source": [
    "M = lazySeries(R, (i,j)-> i)"
   ]
  },
  {
   "cell_type": "code",
   "execution_count": 5,
   "id": "5f4d8262",
   "metadata": {},
   "outputs": [
    {
     "name": "stdout",
     "output_type": "stream",
     "text": [
      "\n",
      "                     2            2     3       2     2      3\n",
      "o5 = 1 + 2y + 3x + 3y  + 4x*y + 5x  + 4y  + 5x*y  + 6x y + 7x  + ... \n",
      "\n",
      "o5 : LazySeries\n"
     ]
    }
   ],
   "source": [
    "L+M"
   ]
  },
  {
   "cell_type": "code",
   "execution_count": 6,
   "id": "2ad60e9a",
   "metadata": {},
   "outputs": [
    {
     "name": "stdout",
     "output_type": "stream",
     "text": [
      "\n",
      "               2            2     3        2      2       3\n",
      "o6 = y + x + 3y  + 5x*y + 4x  + 6y  + 12x*y  + 14x y + 10x  + ... \n",
      "\n",
      "o6 : LazySeries\n"
     ]
    }
   ],
   "source": [
    "L*M"
   ]
  },
  {
   "cell_type": "code",
   "execution_count": 9,
   "id": "d53c4020",
   "metadata": {},
   "outputs": [
    {
     "name": "stdout",
     "output_type": "stream",
     "text": [
      "stdio:26:2:(3): error: Cannot invert series because it is not a unit\n"
     ]
    }
   ],
   "source": [
    "L/M"
   ]
  },
  {
   "cell_type": "code",
   "execution_count": 10,
   "id": "f902f490",
   "metadata": {},
   "outputs": [
    {
     "name": "stdout",
     "output_type": "stream",
     "text": [
      "\n",
      "o10 = ideal (7, x, y)\n",
      "\n",
      "o10 : Ideal of R\n"
     ]
    }
   ],
   "source": [
    "m = ideal(7, x,y)"
   ]
  },
  {
   "cell_type": "code",
   "execution_count": 11,
   "id": "0ec6f8f2",
   "metadata": {},
   "outputs": [
    {
     "name": "stdout",
     "output_type": "stream",
     "text": [
      "\n",
      "o11 = {7, x, y}\n",
      "\n",
      "o11 : List\n"
     ]
    }
   ],
   "source": [
    "first entries gens m"
   ]
  },
  {
   "cell_type": "code",
   "execution_count": 12,
   "id": "fb2c5a80",
   "metadata": {},
   "outputs": [
    {
     "name": "stdout",
     "output_type": "stream",
     "text": [
      "\n",
      "        5      4\n",
      "o12 = 6x  + 15y  + 8x*y\n",
      "\n",
      "o12 : R\n"
     ]
    }
   ],
   "source": [
    "p = 8*x*y+ 15* y^4 + 6*x^5"
   ]
  },
  {
   "cell_type": "code",
   "execution_count": 19,
   "id": "fa920ac6",
   "metadata": {},
   "outputs": [
    {
     "name": "stdout",
     "output_type": "stream",
     "text": [
      "\n",
      "o19 = 2\n"
     ]
    }
   ],
   "source": [
    "((-54 % 7) +7)%7"
   ]
  },
  {
   "cell_type": "code",
   "execution_count": 25,
   "id": "24790c1c",
   "metadata": {},
   "outputs": [
    {
     "name": "stdout",
     "output_type": "stream",
     "text": [
      "\n",
      "o25 = 2\n"
     ]
    }
   ],
   "source": [
    "(((coefficient(x^5,-54*x^5))%7)+7)%7"
   ]
  },
  {
   "cell_type": "code",
   "execution_count": null,
   "id": "c560bdca",
   "metadata": {},
   "outputs": [],
   "source": [
    "f := (p, poly)"
   ]
  },
  {
   "cell_type": "code",
   "execution_count": 27,
   "id": "8417e7f2",
   "metadata": {},
   "outputs": [
    {
     "name": "stdout",
     "output_type": "stream",
     "text": [
      "\n",
      "o27 = ideal (7, x, y)\n",
      "\n",
      "o27 : Ideal of R\n"
     ]
    }
   ],
   "source": [
    "m"
   ]
  },
  {
   "cell_type": "code",
   "execution_count": 28,
   "id": "b48f9d23",
   "metadata": {},
   "outputs": [
    {
     "name": "stdout",
     "output_type": "stream",
     "text": [
      "\n",
      "o28 = 0\n",
      "\n",
      "o28 : R\n"
     ]
    }
   ],
   "source": [
    "(7+x+2*7^2 + 3*7*x) % m"
   ]
  },
  {
   "cell_type": "code",
   "execution_count": 17,
   "id": "5e8a437a",
   "metadata": {
    "scrolled": true
   },
   "outputs": [
    {
     "name": "stdout",
     "output_type": "stream",
     "text": [
      "\n",
      "        5\n",
      "o17 = -x\n",
      "\n",
      "o17 : R\n"
     ]
    }
   ],
   "source": [
    "6*x^5 % m^6"
   ]
  },
  {
   "cell_type": "code",
   "execution_count": 15,
   "id": "cce0613b",
   "metadata": {},
   "outputs": [
    {
     "name": "stdout",
     "output_type": "stream",
     "text": [
      "\n",
      "         5      4\n",
      "o15 = - x  + 15y  + 8x*y\n",
      "\n",
      "o15 : R\n"
     ]
    }
   ],
   "source": [
    "p % m^6"
   ]
  },
  {
   "cell_type": "code",
   "execution_count": 14,
   "id": "0319603e",
   "metadata": {},
   "outputs": [
    {
     "name": "stdout",
     "output_type": "stream",
     "text": [
      "\n",
      "       4\n",
      "o14 = y\n",
      "\n",
      "o14 : R\n"
     ]
    }
   ],
   "source": [
    "(7^3 +8)*y^4 %m^5"
   ]
  },
  {
   "cell_type": "code",
   "execution_count": null,
   "id": "6a225504",
   "metadata": {},
   "outputs": [],
   "source": []
  },
  {
   "cell_type": "code",
   "execution_count": null,
   "id": "81d439ac",
   "metadata": {},
   "outputs": [],
   "source": [
    "p % m^5"
   ]
  },
  {
   "cell_type": "code",
   "execution_count": null,
   "id": "06f279ea",
   "metadata": {},
   "outputs": [],
   "source": [
    "(options R).Degrees"
   ]
  },
  {
   "cell_type": "markdown",
   "id": "ee5ff6eb",
   "metadata": {},
   "source": [
    "# TRY 1\n",
    "Trick to convert -1 to 6 is to use this: ((-1 % 7) + 7) % 7"
   ]
  },
  {
   "cell_type": "code",
   "execution_count": null,
   "id": "322a4df6",
   "metadata": {},
   "outputs": [],
   "source": [
    "part(0,5,p)"
   ]
  },
  {
   "cell_type": "code",
   "execution_count": null,
   "id": "d12a5017",
   "metadata": {},
   "outputs": [],
   "source": [
    "partialSumSequence:= polyn -> (\n",
    "    for i from 1 to (degree polyn)#0 list part(0,i, polyn)\n",
    "\n",
    ")"
   ]
  },
  {
   "cell_type": "code",
   "execution_count": null,
   "id": "acdd2a8a",
   "metadata": {},
   "outputs": [],
   "source": [
    "degree (x*y)"
   ]
  },
  {
   "cell_type": "code",
   "execution_count": null,
   "id": "670ba69e",
   "metadata": {},
   "outputs": [],
   "source": [
    "m"
   ]
  },
  {
   "cell_type": "code",
   "execution_count": null,
   "id": "caa3e23d",
   "metadata": {},
   "outputs": [],
   "source": [
    "p"
   ]
  },
  {
   "cell_type": "code",
   "execution_count": null,
   "id": "adc8be05",
   "metadata": {},
   "outputs": [],
   "source": [
    "partials_p = partialSumSequence(p)"
   ]
  },
  {
   "cell_type": "code",
   "execution_count": null,
   "id": "b928a0cb",
   "metadata": {},
   "outputs": [],
   "source": [
    "apply(partials_p, i -> i % m^((degree i)#0 +1))"
   ]
  },
  {
   "cell_type": "markdown",
   "id": "a585e510",
   "metadata": {},
   "source": [
    "# TRY 2"
   ]
  },
  {
   "cell_type": "code",
   "execution_count": null,
   "id": "8cd7e5bb",
   "metadata": {},
   "outputs": [],
   "source": [
    "termsp = terms p"
   ]
  },
  {
   "cell_type": "code",
   "execution_count": null,
   "id": "f1c3bbb1",
   "metadata": {},
   "outputs": [],
   "source": [
    "apply(termsp, i -> i % m^((degree i)#0+1))"
   ]
  },
  {
   "cell_type": "code",
   "execution_count": null,
   "id": "2edd7993",
   "metadata": {},
   "outputs": [],
   "source": [
    "apply(termsp, i -> i -((((i % m^((degree i)#0+1))%7)+7)%7))"
   ]
  },
  {
   "cell_type": "code",
   "execution_count": null,
   "id": "8c87121b",
   "metadata": {},
   "outputs": [],
   "source": [
    "(((6*x^5 % m^6)%7)+7)%7"
   ]
  },
  {
   "cell_type": "code",
   "execution_count": null,
   "id": "4a5255c5",
   "metadata": {},
   "outputs": [],
   "source": [
    "((-1 % 7) + 7) % 7"
   ]
  },
  {
   "cell_type": "code",
   "execution_count": null,
   "id": "63dd6f21",
   "metadata": {},
   "outputs": [],
   "source": [
    "S = ZZ[x]"
   ]
  },
  {
   "cell_type": "code",
   "execution_count": null,
   "id": "f76318ec",
   "metadata": {},
   "outputs": [],
   "source": [
    "m1 = ideal(7,x)"
   ]
  },
  {
   "cell_type": "code",
   "execution_count": null,
   "id": "e4de2e3a",
   "metadata": {},
   "outputs": [],
   "source": [
    "6*x % m1^2"
   ]
  },
  {
   "cell_type": "code",
   "execution_count": null,
   "id": "22c8c077",
   "metadata": {},
   "outputs": [],
   "source": [
    "56*x% m1^3"
   ]
  },
  {
   "cell_type": "code",
   "execution_count": null,
   "id": "6baf0a27",
   "metadata": {},
   "outputs": [],
   "source": [
    "56*x %m1^3"
   ]
  },
  {
   "cell_type": "code",
   "execution_count": null,
   "id": "7dcf9d6b",
   "metadata": {},
   "outputs": [],
   "source": [
    "48*x %m1^2"
   ]
  },
  {
   "cell_type": "code",
   "execution_count": null,
   "id": "c8cd49fe",
   "metadata": {},
   "outputs": [],
   "source": [
    "8*x %m1^3"
   ]
  },
  {
   "cell_type": "code",
   "execution_count": null,
   "id": "65818a4a",
   "metadata": {},
   "outputs": [],
   "source": [
    "6*x % m1^2"
   ]
  },
  {
   "cell_type": "code",
   "execution_count": null,
   "id": "e7fe1ac3",
   "metadata": {},
   "outputs": [],
   "source": [
    "6*x^2 % m1^3"
   ]
  },
  {
   "cell_type": "code",
   "execution_count": null,
   "id": "79cda4f0",
   "metadata": {},
   "outputs": [],
   "source": [
    "m2 = sub(ideal(7), S)"
   ]
  },
  {
   "cell_type": "code",
   "execution_count": null,
   "id": "9ecde495",
   "metadata": {},
   "outputs": [],
   "source": [
    "6*x^2 % m2"
   ]
  },
  {
   "cell_type": "code",
   "execution_count": null,
   "id": "a9673694",
   "metadata": {},
   "outputs": [],
   "source": [
    "p = (6)*x + (7+5)*x^2 + (7^2+4)*x^3+ (7^3+3)*x^4 + (7^4+2)*x^5+(7^5+1)*x^6"
   ]
  },
  {
   "cell_type": "code",
   "execution_count": null,
   "id": "eb164b21",
   "metadata": {},
   "outputs": [],
   "source": [
    "(p % m2)"
   ]
  },
  {
   "cell_type": "code",
   "execution_count": null,
   "id": "7b8baa26",
   "metadata": {},
   "outputs": [],
   "source": [
    "p - (p % m2)"
   ]
  },
  {
   "cell_type": "code",
   "execution_count": null,
   "id": "86c9486f",
   "metadata": {},
   "outputs": [],
   "source": []
  }
 ],
 "metadata": {
  "kernelspec": {
   "display_name": "M2",
   "language": "text/x-macaulay2",
   "name": "m2"
  },
  "language_info": {
   "codemirror_mode": "macaulay2",
   "file_extension": ".m2",
   "mimetype": "text/x-macaulay2",
   "name": "Macaulay2"
  }
 },
 "nbformat": 4,
 "nbformat_minor": 5
}
