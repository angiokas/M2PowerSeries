{
 "cells": [
  {
   "cell_type": "code",
   "execution_count": 72,
   "id": "d9aa615a",
   "metadata": {},
   "outputs": [
    {
     "name": "stdout",
     "output_type": "stream",
     "text": [
      "\n",
      "o72 = LazyPowerSeries\n",
      "\n",
      "o72 : Package\n"
     ]
    }
   ],
   "source": [
    "loadPackage \"LazyPowerSeries\""
   ]
  },
  {
   "cell_type": "code",
   "execution_count": 73,
   "id": "da9efc78",
   "metadata": {},
   "outputs": [
    {
     "name": "stdout",
     "output_type": "stream",
     "text": [
      "\n",
      "o73 = R\n",
      "\n",
      "o73 : PolynomialRing\n"
     ]
    }
   ],
   "source": [
    "R = ZZ[x]"
   ]
  },
  {
   "cell_type": "code",
   "execution_count": 80,
   "id": "ba22cbf5",
   "metadata": {},
   "outputs": [
    {
     "name": "stdout",
     "output_type": "stream",
     "text": [
      "\n",
      "o80 = g\n",
      "\n",
      "o80 : FunctionClosure\n"
     ]
    }
   ],
   "source": [
    "g = {i,j}-> i+j"
   ]
  },
  {
   "cell_type": "code",
   "execution_count": 81,
   "id": "5b68adec",
   "metadata": {},
   "outputs": [
    {
     "name": "stdout",
     "output_type": "stream",
     "text": [
      "{7, x}\n",
      "{{0, 0}, {1, 0}, {0, 1}, {2, 0}, {1, 1}, {0, 2}, {3, 0}, {2, 1}, {1, 2}, {0, 3}, {4, 0}, {3, 1}, {2, 2}, {1, 3}, {0, 4}, {5, 0}, {4, 1}, {3, 2}, {2, 3}, {1, 4}, {0, 5}}\n",
      "stdio:241:10:(3):[1]: error: expected 2 arguments but got 1\n"
     ]
    }
   ],
   "source": [
    "constructAdicsPoly(R,7, g)"
   ]
  },
  {
   "cell_type": "code",
   "execution_count": 65,
   "id": "d700d9fe",
   "metadata": {},
   "outputs": [
    {
     "name": "stdout",
     "output_type": "stream",
     "text": [
      "\n",
      "o65 = 22x + 105\n",
      "\n",
      "o65 : R\n"
     ]
    }
   ],
   "source": [
    "f = 7+x+2*7^2 + 3*7*x"
   ]
  },
  {
   "cell_type": "code",
   "execution_count": 66,
   "id": "e1dd6469",
   "metadata": {},
   "outputs": [
    {
     "name": "stdout",
     "output_type": "stream",
     "text": [
      "i = 0\n",
      "workingIdeal: ideal(7,x)\n",
      "workingList: {1}\n",
      "j = 0\n",
      "workingf: 22*x+105\n",
      "currentMonomial: 1\n",
      "workingList: {}\n",
      "workingIdeal2: ideal(7,x)\n",
      "workingf2: 0\n",
      "tempMonomial: 1\n",
      "WorkingCoefficient: 0\n",
      "i = 1\n",
      "workingIdeal: ideal(49,7*x,x^2)\n",
      "workingList: {7, x}\n",
      "j = 0\n",
      "workingf: 22*x+105\n",
      "currentMonomial: 7\n",
      "workingList: {x}\n",
      "workingIdeal2: ideal(49,x)\n",
      "workingf2: 7\n",
      "tempMonomial: 1\n",
      "WorkingCoefficient: 1\n",
      "j = 1\n",
      "workingf: 22*x+98\n",
      "currentMonomial: x\n",
      "workingList: {}\n",
      "workingIdeal2: ideal(49,7*x,x^2)\n",
      "workingf2: x\n",
      "tempMonomial: x\n",
      "WorkingCoefficient: 1\n",
      "i = 2\n",
      "workingIdeal: ideal(343,49*x,7*x^2,x^3)\n",
      "workingList: {49, 7*x, x^2}\n",
      "j = 0\n",
      "workingf: 21*x+98\n",
      "currentMonomial: 49\n",
      "workingList: {7*x, x^2}\n",
      "workingIdeal2: ideal(343,7*x,x^2)\n",
      "workingf2: 98\n",
      "tempMonomial: 1\n",
      "WorkingCoefficient: 2\n",
      "j = 1\n",
      "workingf: 21*x\n",
      "currentMonomial: 7*x\n",
      "workingList: {x^2}\n",
      "workingIdeal2: ideal(343,49*x,x^2)\n",
      "workingf2: 21*x\n",
      "tempMonomial: x\n",
      "WorkingCoefficient: 3\n",
      "j = 2\n",
      "workingf: 0\n",
      "currentMonomial: x^2\n",
      "workingList: {}\n",
      "workingIdeal2: ideal(343,49*x,7*x^2,x^3)\n",
      "workingf2: 0\n",
      "tempMonomial: x^2\n",
      "WorkingCoefficient: 0\n",
      "i = 3\n",
      "workingIdeal: ideal(2401,343*x,49*x^2,7*x^3,x^4)\n",
      "workingList: {343, 49*x, 7*x^2, x^3}\n",
      "j = 0\n",
      "workingf: 0\n",
      "currentMonomial: 343\n",
      "workingList: {49*x, 7*x^2, x^3}\n",
      "workingIdeal2: ideal(2401,49*x,7*x^2,x^3)\n",
      "workingf2: 0\n",
      "tempMonomial: 1\n",
      "WorkingCoefficient: 0\n",
      "j = 1\n",
      "workingf: 0\n",
      "currentMonomial: 49*x\n",
      "workingList: {7*x^2, x^3}\n",
      "workingIdeal2: ideal(2401,343*x,7*x^2,x^3)\n",
      "workingf2: 0\n",
      "tempMonomial: x\n",
      "WorkingCoefficient: 0\n",
      "j = 2\n",
      "workingf: 0\n",
      "currentMonomial: 7*x^2\n",
      "workingList: {x^3}\n",
      "workingIdeal2: ideal(2401,343*x,49*x^2,x^3)\n",
      "workingf2: 0\n",
      "tempMonomial: x^2\n",
      "WorkingCoefficient: 0\n",
      "j = 3\n",
      "workingf: 0\n",
      "currentMonomial: x^3\n",
      "workingList: {}\n",
      "workingIdeal2: ideal(2401,343*x,49*x^2,7*x^3,x^4)\n",
      "workingf2: 0\n",
      "tempMonomial: x^3\n",
      "WorkingCoefficient: 0\n",
      "i = 4\n",
      "workingIdeal: ideal(16807,2401*x,343*x^2,49*x^3,7*x^4,x^5)\n",
      "workingList: {2401, 343*x, 49*x^2, 7*x^3, x^4}\n",
      "j = 0\n",
      "workingf: 0\n",
      "currentMonomial: 2401\n",
      "workingList: {343*x, 49*x^2, 7*x^3, x^4}\n",
      "workingIdeal2: ideal(16807,343*x,49*x^2,7*x^3,x^4)\n",
      "workingf2: 0\n",
      "tempMonomial: 1\n",
      "WorkingCoefficient: 0\n",
      "j = 1\n",
      "workingf: 0\n",
      "currentMonomial: 343*x\n",
      "workingList: {49*x^2, 7*x^3, x^4}\n",
      "workingIdeal2: ideal(16807,2401*x,49*x^2,7*x^3,x^4)\n",
      "workingf2: 0\n",
      "tempMonomial: x\n",
      "WorkingCoefficient: 0\n",
      "j = 2\n",
      "workingf: 0\n",
      "currentMonomial: 49*x^2\n",
      "workingList: {7*x^3, x^4}\n",
      "workingIdeal2: ideal(16807,2401*x,343*x^2,7*x^3,x^4)\n",
      "workingf2: 0\n",
      "tempMonomial: x^2\n",
      "WorkingCoefficient: 0\n",
      "j = 3\n",
      "workingf: 0\n",
      "currentMonomial: 7*x^3\n",
      "workingList: {x^4}\n",
      "workingIdeal2: ideal(16807,2401*x,343*x^2,49*x^3,x^4)\n",
      "workingf2: 0\n",
      "tempMonomial: x^3\n",
      "WorkingCoefficient: 0\n",
      "j = 4\n",
      "workingf: 0\n",
      "currentMonomial: x^4\n",
      "workingList: {}\n",
      "workingIdeal2: ideal(16807,2401*x,343*x^2,49*x^3,7*x^4,x^5)\n",
      "workingf2: 0\n",
      "tempMonomial: x^4\n",
      "WorkingCoefficient: 0\n",
      "i = 5\n",
      "workingIdeal: ideal(117649,16807*x,2401*x^2,343*x^3,49*x^4,7*x^5,x^6)\n",
      "workingList: {16807, 2401*x, 343*x^2, 49*x^3, 7*x^4, x^5}\n",
      "j = 0\n",
      "workingf: 0\n",
      "currentMonomial: 16807\n",
      "workingList: {2401*x, 343*x^2, 49*x^3, 7*x^4, x^5}\n",
      "workingIdeal2: ideal(117649,2401*x,343*x^2,49*x^3,7*x^4,x^5)\n",
      "workingf2: 0\n",
      "tempMonomial: 1\n",
      "WorkingCoefficient: 0\n",
      "j = 1\n",
      "workingf: 0\n",
      "currentMonomial: 2401*x\n",
      "workingList: {343*x^2, 49*x^3, 7*x^4, x^5}\n",
      "workingIdeal2: ideal(117649,16807*x,343*x^2,49*x^3,7*x^4,x^5)\n",
      "workingf2: 0\n",
      "tempMonomial: x\n",
      "WorkingCoefficient: 0\n",
      "j = 2\n",
      "workingf: 0\n",
      "currentMonomial: 343*x^2\n",
      "workingList: {49*x^3, 7*x^4, x^5}\n",
      "workingIdeal2: ideal(117649,16807*x,2401*x^2,49*x^3,7*x^4,x^5)\n",
      "workingf2: 0\n",
      "tempMonomial: x^2\n",
      "WorkingCoefficient: 0\n",
      "j = 3\n",
      "workingf: 0\n",
      "currentMonomial: 49*x^3\n",
      "workingList: {7*x^4, x^5}\n",
      "workingIdeal2: ideal(117649,16807*x,2401*x^2,343*x^3,7*x^4,x^5)\n",
      "workingf2: 0\n",
      "tempMonomial: x^3\n",
      "WorkingCoefficient: 0\n",
      "j = 4\n",
      "workingf: 0\n",
      "currentMonomial: 7*x^4\n",
      "workingList: {x^5}\n",
      "workingIdeal2: ideal(117649,16807*x,2401*x^2,343*x^3,49*x^4,x^5)\n",
      "workingf2: 0\n",
      "tempMonomial: x^4\n",
      "WorkingCoefficient: 0\n",
      "j = 5\n",
      "workingf: 0\n",
      "currentMonomial: x^5\n",
      "workingList: {}\n",
      "workingIdeal2: ideal(117649,16807*x,2401*x^2,343*x^3,49*x^4,7*x^5,x^6)\n",
      "workingf2: 0\n",
      "tempMonomial: x^5\n",
      "WorkingCoefficient: 0\n",
      "\n",
      "                                                  2                          \n",
      "o66 = {1 => 0, 7 => 1, x => 1, 49 => 2, 7x => 3, x  => 0, 343 => 0, 49x => 0,\n",
      "      --------------------------------------------------------------------------\n",
      "        2        3                                2         3        4      \n",
      "      7x  => 0, x  => 0, 2401 => 0, 343x => 0, 49x  => 0, 7x  => 0, x  => 0,\n",
      "      --------------------------------------------------------------------------\n",
      "                                  2          3         4        5\n",
      "      16807 => 0, 2401x => 0, 343x  => 0, 49x  => 0, 7x  => 0, x  => 0}\n",
      "\n",
      "o66 : List\n"
     ]
    }
   ],
   "source": [
    "L = toAdics(7,f)"
   ]
  },
  {
   "cell_type": "code",
   "execution_count": 21,
   "id": "2bf48a77",
   "metadata": {},
   "outputs": [
    {
     "name": "stdout",
     "output_type": "stream",
     "text": [
      "\n",
      "                                                                              \n",
      "o21 = {Option{1, 0}, Option{7, 1}, Option{x, 1}, Option{49, 2}, Option{7x, 3},\n",
      "      --------------------------------------------------------------------------\n",
      "              2                                               2              3 \n",
      "      Option{x , 0}, Option{343, 0}, Option{49x, 0}, Option{7x , 0}, Option{x ,\n",
      "      --------------------------------------------------------------------------\n",
      "                                                      2               3     \n",
      "      0}, Option{2401, 0}, Option{343x, 0}, Option{49x , 0}, Option{7x , 0},\n",
      "      --------------------------------------------------------------------------\n",
      "              4                                                     2     \n",
      "      Option{x , 0}, Option{16807, 0}, Option{2401x, 0}, Option{343x , 0},\n",
      "      --------------------------------------------------------------------------\n",
      "                3               4              5\n",
      "      Option{49x , 0}, Option{7x , 0}, Option{x , 0}}\n"
     ]
    }
   ],
   "source": [
    "peek L"
   ]
  },
  {
   "cell_type": "code",
   "execution_count": 22,
   "id": "7a9f4955",
   "metadata": {},
   "outputs": [
    {
     "name": "stdout",
     "output_type": "stream",
     "text": [
      "\n",
      "o22 = 1 => 0\n",
      "\n",
      "o22 : Option\n"
     ]
    }
   ],
   "source": [
    "L#0"
   ]
  },
  {
   "cell_type": "code",
   "execution_count": 24,
   "id": "a6df5c4a",
   "metadata": {},
   "outputs": [
    {
     "name": "stdout",
     "output_type": "stream",
     "text": [
      "\n",
      "o24 = 0\n"
     ]
    }
   ],
   "source": [
    "L#0#1"
   ]
  },
  {
   "cell_type": "code",
   "execution_count": 25,
   "id": "357e880f",
   "metadata": {},
   "outputs": [
    {
     "name": "stdout",
     "output_type": "stream",
     "text": [
      "\n",
      "o25 = 7 => 1\n",
      "\n",
      "o25 : Option\n"
     ]
    }
   ],
   "source": [
    "L#1"
   ]
  },
  {
   "cell_type": "code",
   "execution_count": 26,
   "id": "38133d11",
   "metadata": {},
   "outputs": [
    {
     "name": "stdout",
     "output_type": "stream",
     "text": [
      "\n",
      "o26 = 1\n"
     ]
    }
   ],
   "source": [
    "L#1#1"
   ]
  },
  {
   "cell_type": "code",
   "execution_count": 27,
   "id": "6445ff8f",
   "metadata": {},
   "outputs": [
    {
     "name": "stdout",
     "output_type": "stream",
     "text": [
      "\n",
      "o27 = 7\n",
      "\n",
      "o27 : R\n"
     ]
    }
   ],
   "source": [
    "L#1#0"
   ]
  },
  {
   "cell_type": "code",
   "execution_count": 29,
   "id": "e25f5b37",
   "metadata": {},
   "outputs": [
    {
     "name": "stdout",
     "output_type": "stream",
     "text": [
      "\n",
      "o29 = 0\n"
     ]
    }
   ],
   "source": [
    "lift(sub(75, ZZ/5),ZZ)"
   ]
  },
  {
   "cell_type": "code",
   "execution_count": 51,
   "id": "59c1d0f7",
   "metadata": {},
   "outputs": [
    {
     "name": "stdout",
     "output_type": "stream",
     "text": [
      "\n",
      "o51 = f\n",
      "\n",
      "o51 : FunctionClosure\n"
     ]
    }
   ],
   "source": [
    "f = (i,j) -> i*j"
   ]
  },
  {
   "cell_type": "code",
   "execution_count": 52,
   "id": "8b6a6cdb",
   "metadata": {},
   "outputs": [
    {
     "name": "stdout",
     "output_type": "stream",
     "text": [
      "\n",
      "o52 = newf\n",
      "\n",
      "o52 : FunctionClosure\n"
     ]
    }
   ],
   "source": [
    "newf = (j)-> 7^i*j"
   ]
  },
  {
   "cell_type": "code",
   "execution_count": 55,
   "id": "1b6d3674",
   "metadata": {},
   "outputs": [
    {
     "name": "stdout",
     "output_type": "stream",
     "text": [
      "\n",
      "o55 = 20\n"
     ]
    }
   ],
   "source": [
    "f (4,5)"
   ]
  },
  {
   "cell_type": "code",
   "execution_count": 56,
   "id": "30b32dff",
   "metadata": {},
   "outputs": [
    {
     "name": "stdout",
     "output_type": "stream",
     "text": [
      "stdio:157:15:(3):[1]: error: no method for binary operator ^ applied to objects:\n",
      "--            7 (of class ZZ)\n",
      "--      ^     i (of class Symbol)\n"
     ]
    }
   ],
   "source": [
    "newf 5"
   ]
  },
  {
   "cell_type": "code",
   "execution_count": 32,
   "id": "ae1a0d19",
   "metadata": {},
   "outputs": [
    {
     "name": "stdout",
     "output_type": "stream",
     "text": [
      "stdio:97:1:(3): error: The lazySeries function should take a exponent vector and output a ring element\n"
     ]
    }
   ],
   "source": [
    "lazySeries(R,f)"
   ]
  },
  {
   "cell_type": "code",
   "execution_count": 33,
   "id": "a99dd222",
   "metadata": {},
   "outputs": [
    {
     "name": "stdout",
     "output_type": "stream",
     "text": [
      "\n",
      "o33 = {x}\n",
      "\n",
      "o33 : List\n"
     ]
    }
   ],
   "source": [
    "gens R"
   ]
  },
  {
   "cell_type": "code",
   "execution_count": 34,
   "id": "40997196",
   "metadata": {},
   "outputs": [
    {
     "name": "stdout",
     "output_type": "stream",
     "text": [
      "stdio:103:5:(3): error: no method for binary operator + applied to objects:\n",
      "--            x (of class R)\n",
      "--      +     y (of class Symbol)\n"
     ]
    }
   ],
   "source": [
    "{x} + {y}"
   ]
  },
  {
   "cell_type": "code",
   "execution_count": 49,
   "id": "2955c7a4",
   "metadata": {},
   "outputs": [
    {
     "name": "stdout",
     "output_type": "stream",
     "text": [
      "\n",
      "o49 = f\n",
      "\n",
      "o49 : FunctionClosure\n"
     ]
    }
   ],
   "source": [
    "f = (i,j) -> i*j"
   ]
  },
  {
   "cell_type": "code",
   "execution_count": 50,
   "id": "6c17f7ba",
   "metadata": {},
   "outputs": [
    {
     "name": "stdout",
     "output_type": "stream",
     "text": [
      "stdio:151:1:(3): error: The lazySeries function should take a exponent vector and output a ring element\n"
     ]
    }
   ],
   "source": [
    "constructAdicsPoly(R, 7, f)"
   ]
  },
  {
   "cell_type": "code",
   "execution_count": 62,
   "id": "8ba3e55b",
   "metadata": {},
   "outputs": [
    {
     "name": "stdout",
     "output_type": "stream",
     "text": [
      "\n",
      "o62 = QQ[x]\n",
      "\n",
      "o62 : PolynomialRing\n"
     ]
    }
   ],
   "source": [
    "QQ[x]"
   ]
  },
  {
   "cell_type": "code",
   "execution_count": null,
   "id": "9194f731",
   "metadata": {},
   "outputs": [],
   "source": []
  }
 ],
 "metadata": {
  "kernelspec": {
   "display_name": "M2",
   "language": "text/x-macaulay2",
   "name": "m2"
  },
  "language_info": {
   "codemirror_mode": "macaulay2",
   "file_extension": ".m2",
   "mimetype": "text/x-macaulay2",
   "name": "Macaulay2"
  }
 },
 "nbformat": 4,
 "nbformat_minor": 5
}
