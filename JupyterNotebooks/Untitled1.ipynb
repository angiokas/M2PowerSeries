{
 "cells": [
  {
   "cell_type": "code",
   "execution_count": 14,
   "id": "f46eae4b",
   "metadata": {},
   "outputs": [
    {
     "name": "stdout",
     "output_type": "stream",
     "text": [
      "\n",
      "o14 = LazyPowerSeries\n",
      "\n",
      "o14 : Package\n"
     ]
    }
   ],
   "source": [
    "loadPackage \"LazyPowerSeries\""
   ]
  },
  {
   "cell_type": "code",
   "execution_count": 15,
   "id": "e79df603",
   "metadata": {},
   "outputs": [
    {
     "name": "stdout",
     "output_type": "stream",
     "text": [
      "\n",
      "o15 = R\n",
      "\n",
      "o15 : PolynomialRing\n"
     ]
    }
   ],
   "source": [
    "R = ZZ[x]"
   ]
  },
  {
   "cell_type": "code",
   "execution_count": 16,
   "id": "799fccd1",
   "metadata": {},
   "outputs": [
    {
     "name": "stdout",
     "output_type": "stream",
     "text": [
      "\n",
      "o16 = 22x + 105\n",
      "\n",
      "o16 : R\n"
     ]
    }
   ],
   "source": [
    "f = 7+x+2*7^2 + 3*7*x"
   ]
  },
  {
   "cell_type": "code",
   "execution_count": 17,
   "id": "1501c0fb",
   "metadata": {
    "scrolled": false
   },
   "outputs": [
    {
     "name": "stdout",
     "output_type": "stream",
     "text": [
      "i = 0\n",
      "workingIdeal: ideal(7,x)\n",
      "workingList: {1}\n",
      "j = 0\n",
      "workingf: 22*x+105\n",
      "currentMonomial: 1\n",
      "workingList: {}\n",
      "workingIdeal2: ideal(7,x)\n",
      "workingf2: 0\n",
      "tempMonomial: 1\n",
      "WorkingCoefficient: 0\n",
      "i = 1\n",
      "workingIdeal: ideal(49,7*x,x^2)\n",
      "workingList: {7, x}\n",
      "j = 0\n",
      "workingf: 22*x+105\n",
      "currentMonomial: 7\n",
      "workingList: {x}\n",
      "workingIdeal2: ideal(49,x)\n",
      "workingf2: 7\n",
      "tempMonomial: 1\n",
      "WorkingCoefficient: 1\n",
      "j = 1\n",
      "workingf: 22*x+98\n",
      "currentMonomial: x\n",
      "workingList: {}\n",
      "workingIdeal2: ideal(49,7*x,x^2)\n",
      "workingf2: x\n",
      "tempMonomial: x\n",
      "WorkingCoefficient: 1\n",
      "i = 2\n",
      "workingIdeal: ideal(343,49*x,7*x^2,x^3)\n",
      "workingList: {49, 7*x, x^2}\n",
      "j = 0\n",
      "workingf: 21*x+98\n",
      "currentMonomial: 49\n",
      "workingList: {7*x, x^2}\n",
      "workingIdeal2: ideal(343,7*x,x^2)\n",
      "workingf2: 98\n",
      "tempMonomial: 1\n",
      "WorkingCoefficient: 2\n",
      "j = 1\n",
      "workingf: 21*x\n",
      "currentMonomial: 7*x\n",
      "workingList: {x^2}\n",
      "workingIdeal2: ideal(343,49*x,x^2)\n",
      "workingf2: 21*x\n",
      "tempMonomial: x\n",
      "WorkingCoefficient: 3\n",
      "j = 2\n",
      "workingf: 0\n",
      "currentMonomial: x^2\n",
      "workingList: {}\n",
      "workingIdeal2: ideal(343,49*x,7*x^2,x^3)\n",
      "workingf2: 0\n",
      "tempMonomial: x^2\n",
      "WorkingCoefficient: 0\n",
      "i = 3\n",
      "workingIdeal: ideal(2401,343*x,49*x^2,7*x^3,x^4)\n",
      "workingList: {343, 49*x, 7*x^2, x^3}\n",
      "j = 0\n",
      "workingf: 0\n",
      "currentMonomial: 343\n",
      "workingList: {49*x, 7*x^2, x^3}\n",
      "workingIdeal2: ideal(2401,49*x,7*x^2,x^3)\n",
      "workingf2: 0\n",
      "tempMonomial: 1\n",
      "WorkingCoefficient: 0\n",
      "j = 1\n",
      "workingf: 0\n",
      "currentMonomial: 49*x\n",
      "workingList: {7*x^2, x^3}\n",
      "workingIdeal2: ideal(2401,343*x,7*x^2,x^3)\n",
      "workingf2: 0\n",
      "tempMonomial: x\n",
      "WorkingCoefficient: 0\n",
      "j = 2\n",
      "workingf: 0\n",
      "currentMonomial: 7*x^2\n",
      "workingList: {x^3}\n",
      "workingIdeal2: ideal(2401,343*x,49*x^2,x^3)\n",
      "workingf2: 0\n",
      "tempMonomial: x^2\n",
      "WorkingCoefficient: 0\n",
      "j = 3\n",
      "workingf: 0\n",
      "currentMonomial: x^3\n",
      "workingList: {}\n",
      "workingIdeal2: ideal(2401,343*x,49*x^2,7*x^3,x^4)\n",
      "workingf2: 0\n",
      "tempMonomial: x^3\n",
      "WorkingCoefficient: 0\n",
      "i = 4\n",
      "workingIdeal: ideal(16807,2401*x,343*x^2,49*x^3,7*x^4,x^5)\n",
      "workingList: {2401, 343*x, 49*x^2, 7*x^3, x^4}\n",
      "j = 0\n",
      "workingf: 0\n",
      "currentMonomial: 2401\n",
      "workingList: {343*x, 49*x^2, 7*x^3, x^4}\n",
      "workingIdeal2: ideal(16807,343*x,49*x^2,7*x^3,x^4)\n",
      "workingf2: 0\n",
      "tempMonomial: 1\n",
      "WorkingCoefficient: 0\n",
      "j = 1\n",
      "workingf: 0\n",
      "currentMonomial: 343*x\n",
      "workingList: {49*x^2, 7*x^3, x^4}\n",
      "workingIdeal2: ideal(16807,2401*x,49*x^2,7*x^3,x^4)\n",
      "workingf2: 0\n",
      "tempMonomial: x\n",
      "WorkingCoefficient: 0\n",
      "j = 2\n",
      "workingf: 0\n",
      "currentMonomial: 49*x^2\n",
      "workingList: {7*x^3, x^4}\n",
      "workingIdeal2: ideal(16807,2401*x,343*x^2,7*x^3,x^4)\n",
      "workingf2: 0\n",
      "tempMonomial: x^2\n",
      "WorkingCoefficient: 0\n",
      "j = 3\n",
      "workingf: 0\n",
      "currentMonomial: 7*x^3\n",
      "workingList: {x^4}\n",
      "workingIdeal2: ideal(16807,2401*x,343*x^2,49*x^3,x^4)\n",
      "workingf2: 0\n",
      "tempMonomial: x^3\n",
      "WorkingCoefficient: 0\n",
      "j = 4\n",
      "workingf: 0\n",
      "currentMonomial: x^4\n",
      "workingList: {}\n",
      "workingIdeal2: ideal(16807,2401*x,343*x^2,49*x^3,7*x^4,x^5)\n",
      "workingf2: 0\n",
      "tempMonomial: x^4\n",
      "WorkingCoefficient: 0\n",
      "i = 5\n",
      "workingIdeal: ideal(117649,16807*x,2401*x^2,343*x^3,49*x^4,7*x^5,x^6)\n",
      "workingList: {16807, 2401*x, 343*x^2, 49*x^3, 7*x^4, x^5}\n",
      "j = 0\n",
      "workingf: 0\n",
      "currentMonomial: 16807\n",
      "workingList: {2401*x, 343*x^2, 49*x^3, 7*x^4, x^5}\n",
      "workingIdeal2: ideal(117649,2401*x,343*x^2,49*x^3,7*x^4,x^5)\n",
      "workingf2: 0\n",
      "tempMonomial: 1\n",
      "WorkingCoefficient: 0\n",
      "j = 1\n",
      "workingf: 0\n",
      "currentMonomial: 2401*x\n",
      "workingList: {343*x^2, 49*x^3, 7*x^4, x^5}\n",
      "workingIdeal2: ideal(117649,16807*x,343*x^2,49*x^3,7*x^4,x^5)\n",
      "workingf2: 0\n",
      "tempMonomial: x\n",
      "WorkingCoefficient: 0\n",
      "j = 2\n",
      "workingf: 0\n",
      "currentMonomial: 343*x^2\n",
      "workingList: {49*x^3, 7*x^4, x^5}\n",
      "workingIdeal2: ideal(117649,16807*x,2401*x^2,49*x^3,7*x^4,x^5)\n",
      "workingf2: 0\n",
      "tempMonomial: x^2\n",
      "WorkingCoefficient: 0\n",
      "j = 3\n",
      "workingf: 0\n",
      "currentMonomial: 49*x^3\n",
      "workingList: {7*x^4, x^5}\n",
      "workingIdeal2: ideal(117649,16807*x,2401*x^2,343*x^3,7*x^4,x^5)\n",
      "workingf2: 0\n",
      "tempMonomial: x^3\n",
      "WorkingCoefficient: 0\n",
      "j = 4\n",
      "workingf: 0\n",
      "currentMonomial: 7*x^4\n",
      "workingList: {x^5}\n",
      "workingIdeal2: ideal(117649,16807*x,2401*x^2,343*x^3,49*x^4,x^5)\n",
      "workingf2: 0\n",
      "tempMonomial: x^4\n",
      "WorkingCoefficient: 0\n",
      "j = 5\n",
      "workingf: 0\n",
      "currentMonomial: x^5\n",
      "workingList: {}\n",
      "workingIdeal2: ideal(117649,16807*x,2401*x^2,343*x^3,49*x^4,7*x^5,x^6)\n",
      "workingf2: 0\n",
      "tempMonomial: x^5\n",
      "WorkingCoefficient: 0\n",
      "                                            2                             2        3                                2         3        4                                   2          3         4        5\n",
      "{1 => 0, 7 => 1, x => 1, 49 => 2, 7x => 3, x  => 0, 343 => 0, 49x => 0, 7x  => 0, x  => 0, 2401 => 0, 343x => 0, 49x  => 0, 7x  => 0, x  => 0, 16807 => 0, 2401x => 0, 343x  => 0, 49x  => 0, 7x  => 0, x  => 0}\n"
     ]
    }
   ],
   "source": [
    "lazyAdics(7,f)"
   ]
  },
  {
   "cell_type": "code",
   "execution_count": 5,
   "id": "69c1b998",
   "metadata": {},
   "outputs": [
    {
     "name": "stdout",
     "output_type": "stream",
     "text": [
      "\n",
      "o5 = ideal (7, x)\n",
      "\n",
      "o5 : Ideal of R\n"
     ]
    }
   ],
   "source": [
    "m = ideal (7,x)"
   ]
  },
  {
   "cell_type": "code",
   "execution_count": 6,
   "id": "ec7b24b2",
   "metadata": {},
   "outputs": [
    {
     "name": "stdout",
     "output_type": "stream",
     "text": [
      "\n",
      "                     2\n",
      "o6 = ideal (49, 7x, x )\n",
      "\n",
      "o6 : Ideal of R\n"
     ]
    }
   ],
   "source": [
    "m^2"
   ]
  },
  {
   "cell_type": "code",
   "execution_count": 7,
   "id": "fb78517d",
   "metadata": {},
   "outputs": [
    {
     "name": "stdout",
     "output_type": "stream",
     "text": [
      "\n",
      "                        2   3\n",
      "o7 = ideal (343, 49x, 7x , x )\n",
      "\n",
      "o7 : Ideal of R\n"
     ]
    }
   ],
   "source": [
    "m^3"
   ]
  },
  {
   "cell_type": "code",
   "execution_count": 18,
   "id": "ba95927b",
   "metadata": {},
   "outputs": [
    {
     "name": "stdout",
     "output_type": "stream",
     "text": [
      "\n",
      "                   2   3\n",
      "o18 = {343, 49x, 7x , x }\n",
      "\n",
      "o18 : List\n"
     ]
    }
   ],
   "source": [
    "l = first entries gens m^3"
   ]
  },
  {
   "cell_type": "code",
   "execution_count": 21,
   "id": "acd5eb48",
   "metadata": {},
   "outputs": [
    {
     "name": "stdout",
     "output_type": "stream",
     "text": [
      "\n",
      "o21 = ideal (49, x)\n",
      "\n",
      "o21 : Ideal of R\n"
     ]
    }
   ],
   "source": [
    "trim(ideal (49,x,x^2))"
   ]
  },
  {
   "cell_type": "code",
   "execution_count": 23,
   "id": "4764837a",
   "metadata": {},
   "outputs": [
    {
     "name": "stdout",
     "output_type": "stream",
     "text": [
      "\n",
      "o23 = ideal (49, x)\n",
      "\n",
      "o23 : Ideal of R\n"
     ]
    }
   ],
   "source": [
    "trim(ideal (x,49,7*x,x^2))"
   ]
  },
  {
   "cell_type": "code",
   "execution_count": 31,
   "id": "c4690566",
   "metadata": {},
   "outputs": [
    {
     "name": "stdout",
     "output_type": "stream",
     "text": [
      "\n",
      "o31 = 7\n",
      "\n",
      "o31 : R\n"
     ]
    }
   ],
   "source": [
    "(22*x+105) % (ideal(49,x))"
   ]
  },
  {
   "cell_type": "code",
   "execution_count": 30,
   "id": "e6f59d67",
   "metadata": {},
   "outputs": [
    {
     "name": "stdout",
     "output_type": "stream",
     "text": [
      "\n",
      "o30 = 105\n",
      "\n",
      "o30 : R\n"
     ]
    }
   ],
   "source": [
    "(22*x+105) % (ideal(x))"
   ]
  },
  {
   "cell_type": "code",
   "execution_count": 41,
   "id": "c32d84a9",
   "metadata": {},
   "outputs": [
    {
     "name": "stdout",
     "output_type": "stream",
     "text": [
      "\n",
      "o41 = 1\n",
      "\n",
      "o41 : R\n"
     ]
    }
   ],
   "source": [
    "(entries ((coefficients sub(7,R))#0))#0#0"
   ]
  },
  {
   "cell_type": "code",
   "execution_count": null,
   "id": "71ff9b28",
   "metadata": {},
   "outputs": [],
   "source": []
  }
 ],
 "metadata": {
  "kernelspec": {
   "display_name": "M2",
   "language": "text/x-macaulay2",
   "name": "m2"
  },
  "language_info": {
   "codemirror_mode": "macaulay2",
   "file_extension": ".m2",
   "mimetype": "text/x-macaulay2",
   "name": "Macaulay2"
  }
 },
 "nbformat": 4,
 "nbformat_minor": 5
}
