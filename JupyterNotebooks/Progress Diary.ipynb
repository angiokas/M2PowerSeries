{
 "cells": [
  {
   "cell_type": "markdown",
   "id": "b4d18aca",
   "metadata": {},
   "source": [
    "## Fixing the nth power function\n",
    "### Previous version\n",
    "This version was very slow because it was using additional steps, even compared to the most basic algorithm of just using multiplication n times. Additionally, even multiplying a LazySeries object by 1 was computing time wise almost equivalent to two LazySeries objects being multiplied which is why we removed the first step by implementing a while loop to find the first digit equal to 1 in the binary representation of n. \n",
    "Here is the old code:\n",
    "```\n",
    "-- Raising LazySeries by nth power\n",
    "LazySeries ^ ZZ := LazySeries => (S,n) -> ( -- TAKING TOO LONG TO COMPUTE\n",
    "    R := S#seriesRing;\n",
    "    if n == 0 then return oneSeries(R);\n",
    "    if n == 1 then  return S;\n",
    "\n",
    "    finalResult := 1; -- prints this one, UPDATE: CHANGED IT TO 1 \n",
    "    bin := toBinary(n);\n",
    "    tempCalculation := S;\n",
    "    binDigit := 0;\n",
    "\n",
    "    for i from 0 to #bin-1 when i>=0 do(\n",
    "        print i;\n",
    "        binDigit = bin#(#bin-1-i);\n",
    "        if (binDigit == 1) then (\n",
    "            if (finalResult == 1) then finalResult = tempCalculation\n",
    "            else finalResult = finalResult * tempCalculation;\n",
    "            );\n",
    "\n",
    "        if (i < #bin-1) then\n",
    "            tempCalculation = tempCalculation * tempCalculation;\n",
    "    );\n",
    "    if debugLevel > 0 then print \"FINAL RESULT:\";\n",
    "    finalResult\n",
    ");\n",
    "```\n",
    "### New version\n",
    "Here is the newer faster version:\n",
    "```\n",
    "-- Raising LazySeries by nth power\n",
    "LazySeries ^ ZZ := LazySeries => (S,n) -> (\n",
    "    R := S#seriesRing;\n",
    "    if n == 0 then return oneSeries(R);\n",
    "    if n == 1 then  return S;\n",
    "\n",
    "    bin := toBinary(n);\n",
    "    finalResult := 1;\n",
    "    tempCalculation:= S;\n",
    "    j := 1;\n",
    "    while (true) do (\n",
    "        -- print j;        \n",
    "        if(bin#(#bin-j)== 1) then (\n",
    "            finalResult = tempCalculation;\n",
    "            break;\n",
    "        );        \n",
    "        tempCalculation = tempCalculation * tempCalculation;\n",
    "        -- print \"1 CALCULATION z\";\n",
    "        j = j+1;\n",
    "    );\n",
    "    -- << \"final j: \"<< j <<endl;\n",
    "\n",
    "    for i from 0 to #bin-j-1 when i >= 0 do(\n",
    "        -- << \"#bin-j-1-i: \" << #bin-j-1-i<< endl;\n",
    "        tempCalculation = tempCalculation * tempCalculation; \n",
    "        -- print \"1 CALCULATION y\";\n",
    "        if bin#(#bin-j-1-i) == 1 then (\n",
    "            finalResult = finalResult * tempCalculation;\n",
    "            -- print \"1 CALCULATION x\";\n",
    "        );       \n",
    "    );\n",
    "    finalResult\n",
    ");\n",
    "```"
   ]
  },
  {
   "cell_type": "code",
   "execution_count": null,
   "id": "1f9ee4c8",
   "metadata": {},
   "outputs": [],
   "source": []
  },
  {
   "cell_type": "markdown",
   "id": "5b5a745e",
   "metadata": {},
   "source": [
    "## `pretty` for LazySeries\n"
   ]
  },
  {
   "cell_type": "code",
   "execution_count": 15,
   "id": "f9caf915",
   "metadata": {},
   "outputs": [
    {
     "name": "stdout",
     "output_type": "stream",
     "text": [
      "\n",
      "                              2            2                   2       3     2 \n",
      "o15 = 7 + (7x + 7y + 7z) + (7x  + 7x*y + 7y  + 7x*z + 7y*z + 7z ) + (7x  + 7x y\n",
      "      --------------------------------------------------------------------------\n",
      "            2     3     2               2        2       2     3\n",
      "      + 7x*y  + 7y  + 7x z + 7x*y*z + 7y z + 7x*z  + 7y*z  + 7z )\n"
     ]
    }
   ],
   "source": [
    "loadPackage \"NewPowerSeries\"\n",
    "R = QQ[x,y,z]\n",
    "f = {i,j,k}-> 7\n",
    "S = lazySeries(R, f)\n",
    "pretty S"
   ]
  },
  {
   "cell_type": "markdown",
   "id": "63071c49",
   "metadata": {},
   "source": [
    "## Some polynomial methods\n",
    "- `degree`\n",
    "- `select`"
   ]
  },
  {
   "cell_type": "code",
   "execution_count": 21,
   "id": "1b289647",
   "metadata": {},
   "outputs": [
    {
     "name": "stdout",
     "output_type": "stream",
     "text": [
      "\n",
      "o21 = {15}\n",
      "\n",
      "o21 : List\n"
     ]
    }
   ],
   "source": [
    "P = (17*x^6 + 98*x^7*y^8 +87*y^5*x^4)\n",
    "degree (17*x^6 + 98*x^7*y^8 +87*y^5*x^4)"
   ]
  },
  {
   "cell_type": "code",
   "execution_count": 22,
   "id": "ceb31b65",
   "metadata": {},
   "outputs": [
    {
     "name": "stdout",
     "output_type": "stream",
     "text": [
      "\n",
      "         7 8      4 5      6\n",
      "o22 = 98x y  + 87x y  + 17x\n",
      "\n",
      "o22 : R\n"
     ]
    }
   ],
   "source": [
    "select(P, i -> degree i > {6,5})"
   ]
  },
  {
   "cell_type": "code",
   "execution_count": 23,
   "id": "6e344285",
   "metadata": {},
   "outputs": [
    {
     "name": "stdout",
     "output_type": "stream",
     "text": [
      "\n",
      "         7 8      4 5      6\n",
      "o23 = 98x y  + 87x y  + 17x\n",
      "\n",
      "o23 : R\n"
     ]
    }
   ],
   "source": [
    "select(P, i -> degree i > {6})"
   ]
  },
  {
   "cell_type": "markdown",
   "id": "f5ea3951",
   "metadata": {},
   "source": [
    "## Better style\n",
    "changed\n",
    "``` \n",
    "vars(1..(numgens R))\n",
    "```\n",
    "to \n",
    "```\n",
    "gens R\n",
    "```"
   ]
  },
  {
   "cell_type": "markdown",
   "id": "adb408a8",
   "metadata": {},
   "source": [
    "## lazySeries(RingElement)\n",
    "### Old code\n",
    "```\n",
    "-- Converting ring elements and polynomials into LazySeries\n",
    "lazySeries(RingElement) := LazySeries => opts -> P -> (-- Isn't outputting correct degree for the polynomial\n",
    "    listPolynomial := listForm P; -- USES EXTRA MEMORY AND COMPUTING ITME\n",
    "    R := ring P;\n",
    "    variables := gens R;\n",
    "\n",
    "    h := variables ->(\n",
    "    for i from 0 to #listPolynomial-1 do(\n",
    "        \n",
    "        if variables == (toSequence(listPolynomial#i)#0) then (\n",
    "            \n",
    "            return (listPolynomial#i)#1;\n",
    "            )\n",
    "        );\n",
    "        0\n",
    "    );\n",
    "    lazySeries(R, h, displayedDegree => sum (degree P), computedDegree => sum (degree P)) -- temporary fix, but will have to make list degrees work in general\n",
    ");\n",
    "```\n",
    "### new code (Faster)\n",
    "lazySeries(RingElement) := LazySeries => opts -> P -> ( \n",
    "    R := ring P;\n",
    "    variables := gens R;\n",
    "    newFunction := variables -> coefficient(variables, P);\n",
    "\n",
    "    lazySeries(R, newFunction, displayedDegree =>sum (degree P), computedDegree => sum (degree P)) \n",
    ");"
   ]
  },
  {
   "cell_type": "markdown",
   "id": "9e611e00",
   "metadata": {},
   "source": [
    "## LazySeries Multiplication\n",
    "### Old code\n",
    "Used the newFunction:\n",
    "```\n",
    "\n",
    "    newFunction := coefficientVector -> (\n",
    "        s := 0;\n",
    "        L := toList ringZeroes .. toList coefficientVector;\n",
    "        for i from 0 to #L-1 do\n",
    "            s = s + ((f toSequence(L#i)) * g toSequence(toList coefficientVector -  (L#i)));    \n",
    "        s\n",
    "    );\n",
    "    \n",
    "```\n",
    "### NewCode (Faster)\n",
    "```\n",
    "LazySeries * LazySeries := LazySeries => (A,B) -> (\n",
    "    if not (A#seriesRing === B#seriesRing) then error \"Rings of series do not match\"; -- checks if using same ring\n",
    "\n",
    "    f := A#coefficientFunction;\n",
    "    g := B#coefficientFunction;\n",
    "    R := A#seriesRing;\n",
    "    ringZeroes := numgens R:0;\n",
    "\n",
    "    newDegree := max(A.cache.DisplayedDegree, B.cache.DisplayedDegree);\n",
    "    --newDegree := min(A.cache.DisplayedDegree + B.cache.DisplayedDegree, 10);\n",
    "\n",
    "    newFunction := coefficientVector -> (\n",
    "        tempDegree := coefficientVector; -- bandaid!!!!!\n",
    "        if(class coefficientVector === List) then tempDegree = sum coefficientVector;\n",
    "        \n",
    "        a := changeComputedDegree(A, tempDegree);\n",
    "        b := changeComputedDegree(B, tempDegree);\n",
    "\n",
    "        P1 := a.cache.computedPolynomial;\n",
    "        P2 := b.cache.computedPolynomial;\n",
    "\n",
    "        P := truncate(newDegree, P1*P2);\n",
    "\n",
    "        coefficient(coefficientVector, P)\n",
    "    );\n",
    "\n",
    "    changeComputedDegree(A, newDegree);\n",
    "    changeComputedDegree(B, newDegree);\n",
    "    newPoly := truncate(newDegree, (truncate(newDegree, A.cache.computedPolynomial))*(truncate(newDegree, B.cache.computedPolynomial)));\n",
    "\n",
    "    finalSeries := lazySeries(\n",
    "        R,\n",
    "        newFunction,\n",
    "        newPoly,\n",
    "        newPoly,\n",
    "        DisplayedDegree =>  newDegree,\n",
    "        ComputedDegree => newDegree);\n",
    "\n",
    "    changeDegree(finalSeries, newDegree)\n",
    "    \n",
    ");\n",
    "```\n"
   ]
  },
  {
   "cell_type": "markdown",
   "id": "182f6378",
   "metadata": {},
   "source": [
    "## Inversion Works now!\n",
    "Main issue I guess was the displayed degree. It has to have the same displayed degree as the original LazySeries because when we multiply for testing, we want to get the 1 series. Obviously, the inverse is a LazySeries made up of LazySeries powers so of course we won't be able to calculate all of it, so extra degrees are going to give us extra stuff than just 1. Here are some examples. \n",
    "\n",
    "Additionally, `isUnit` works perfectly since below it did now allow a LazySeries with 0 constant to be inverted. Perfect!\n"
   ]
  },
  {
   "cell_type": "code",
   "execution_count": 17,
   "id": "895f1f67",
   "metadata": {},
   "outputs": [
    {
     "name": "stdout",
     "output_type": "stream",
     "text": [
      "\n",
      "            2     3     4     5     6\n",
      "o17 = x + 2x  + 3x  + 4x  + 5x  + 6x  + ... \n",
      "\n",
      "o17 : LazySeries\n"
     ]
    }
   ],
   "source": [
    "loadPackage \"LazySeriesPackage\"\n",
    "R = QQ[x]\n",
    "M = lazySeries(R, i-> i+5)\n",
    "L = lazySeries(R, i-> i, DisplayedDegree => 6, ComputedDegree => 6)"
   ]
  },
  {
   "cell_type": "code",
   "execution_count": 18,
   "id": "a2285b10",
   "metadata": {},
   "outputs": [
    {
     "name": "stdout",
     "output_type": "stream",
     "text": [
      "\n",
      "      1    6     1  2    4  3\n",
      "o18 = - - --x + ---x  + ---x  + ... \n",
      "      5   25    125     625\n",
      "\n",
      "o18 : LazySeries\n"
     ]
    }
   ],
   "source": [
    "IM = inverse(M)"
   ]
  },
  {
   "cell_type": "code",
   "execution_count": 19,
   "id": "1237d1ae",
   "metadata": {},
   "outputs": [
    {
     "name": "stdout",
     "output_type": "stream",
     "text": [
      "\n",
      "o19 = 1 + ... \n",
      "\n",
      "o19 : LazySeries\n"
     ]
    }
   ],
   "source": [
    "IM * M"
   ]
  },
  {
   "cell_type": "code",
   "execution_count": 20,
   "id": "869d03c0",
   "metadata": {},
   "outputs": [
    {
     "name": "stdout",
     "output_type": "stream",
     "text": [
      "\n",
      "o20 = 1 + ... \n",
      "\n",
      "o20 : LazySeries\n"
     ]
    }
   ],
   "source": [
    "M* IM"
   ]
  },
  {
   "cell_type": "code",
   "execution_count": 21,
   "id": "12d47012",
   "metadata": {},
   "outputs": [
    {
     "name": "stdout",
     "output_type": "stream",
     "text": [
      "stdio:38:6:(3): error: Cannot invert series because it is not a unit\n"
     ]
    }
   ],
   "source": [
    "IL = inverse(L)"
   ]
  },
  {
   "cell_type": "code",
   "execution_count": null,
   "id": "e7b56981",
   "metadata": {},
   "outputs": [],
   "source": []
  }
 ],
 "metadata": {
  "kernelspec": {
   "display_name": "M2",
   "language": "text/x-macaulay2",
   "name": "m2"
  },
  "language_info": {
   "codemirror_mode": "macaulay2",
   "file_extension": ".m2",
   "mimetype": "text/x-macaulay2",
   "name": "Macaulay2"
  }
 },
 "nbformat": 4,
 "nbformat_minor": 5
}
