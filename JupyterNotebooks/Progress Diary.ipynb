{
 "cells": [
  {
   "cell_type": "markdown",
   "id": "b4d18aca",
   "metadata": {},
   "source": [
    "## Fixing the nth power function\n",
    "### Previous version\n",
    "This version was very slow because it was using additional steps, even compared to the most basic algorithm of just using multiplication n times. Additionally, even multiplying a LazySeries object by 1 was computing time wise almost equivalent to two LazySeries objects being multiplied which is why we removed the first step by implementing a while loop to find the first digit equal to 1 in the binary representation of n. \n",
    "Here is the old code:\n",
    "```\n",
    "-- Raising LazySeries by nth power\n",
    "LazySeries ^ ZZ := LazySeries => (S,n) -> ( -- TAKING TOO LONG TO COMPUTE\n",
    "    R := S#seriesRing;\n",
    "    if n == 0 then return oneSeries(R);\n",
    "    if n == 1 then  return S;\n",
    "\n",
    "    finalResult := 1; -- prints this one, UPDATE: CHANGED IT TO 1 \n",
    "    bin := toBinary(n);\n",
    "    tempCalculation := S;\n",
    "    binDigit := 0;\n",
    "\n",
    "    for i from 0 to #bin-1 when i>=0 do(\n",
    "        print i;\n",
    "        binDigit = bin#(#bin-1-i);\n",
    "        if (binDigit == 1) then (\n",
    "            if (finalResult == 1) then finalResult = tempCalculation\n",
    "            else finalResult = finalResult * tempCalculation;\n",
    "            );\n",
    "\n",
    "        if (i < #bin-1) then\n",
    "            tempCalculation = tempCalculation * tempCalculation;\n",
    "    );\n",
    "    if debugLevel > 0 then print \"FINAL RESULT:\";\n",
    "    finalResult\n",
    ");\n",
    "```\n",
    "### New version\n",
    "Here is the newer faster version:\n",
    "```\n",
    "-- Raising LazySeries by nth power\n",
    "LazySeries ^ ZZ := LazySeries => (S,n) -> (\n",
    "    R := S#seriesRing;\n",
    "    if n == 0 then return oneSeries(R);\n",
    "    if n == 1 then  return S;\n",
    "\n",
    "    bin := toBinary(n);\n",
    "    finalResult := 1;\n",
    "    tempCalculation:= S;\n",
    "    j := 1;\n",
    "    while (true) do (\n",
    "        -- print j;        \n",
    "        if(bin#(#bin-j)== 1) then (\n",
    "            finalResult = tempCalculation;\n",
    "            break;\n",
    "        );        \n",
    "        tempCalculation = tempCalculation * tempCalculation;\n",
    "        -- print \"1 CALCULATION z\";\n",
    "        j = j+1;\n",
    "    );\n",
    "    -- << \"final j: \"<< j <<endl;\n",
    "\n",
    "    for i from 0 to #bin-j-1 when i >= 0 do(\n",
    "        -- << \"#bin-j-1-i: \" << #bin-j-1-i<< endl;\n",
    "        tempCalculation = tempCalculation * tempCalculation; \n",
    "        -- print \"1 CALCULATION y\";\n",
    "        if bin#(#bin-j-1-i) == 1 then (\n",
    "            finalResult = finalResult * tempCalculation;\n",
    "            -- print \"1 CALCULATION x\";\n",
    "        );       \n",
    "    );\n",
    "    finalResult\n",
    ");\n",
    "```"
   ]
  },
  {
   "cell_type": "code",
   "execution_count": null,
   "id": "1f9ee4c8",
   "metadata": {},
   "outputs": [],
   "source": []
  },
  {
   "cell_type": "markdown",
   "id": "5b5a745e",
   "metadata": {},
   "source": [
    "## `pretty` for LazySeries\n"
   ]
  },
  {
   "cell_type": "code",
   "execution_count": 15,
   "id": "f9caf915",
   "metadata": {},
   "outputs": [
    {
     "name": "stdout",
     "output_type": "stream",
     "text": [
      "\n",
      "                              2            2                   2       3     2 \n",
      "o15 = 7 + (7x + 7y + 7z) + (7x  + 7x*y + 7y  + 7x*z + 7y*z + 7z ) + (7x  + 7x y\n",
      "      --------------------------------------------------------------------------\n",
      "            2     3     2               2        2       2     3\n",
      "      + 7x*y  + 7y  + 7x z + 7x*y*z + 7y z + 7x*z  + 7y*z  + 7z )\n"
     ]
    }
   ],
   "source": [
    "loadPackage \"NewPowerSeries\"\n",
    "R = QQ[x,y,z]\n",
    "f = {i,j,k}-> 7\n",
    "S = lazySeries(R, f)\n",
    "pretty S"
   ]
  },
  {
   "cell_type": "markdown",
   "id": "63071c49",
   "metadata": {},
   "source": [
    "## Some polynomial methods\n",
    "- `degree`\n",
    "- `select`"
   ]
  },
  {
   "cell_type": "code",
   "execution_count": 21,
   "id": "1b289647",
   "metadata": {},
   "outputs": [
    {
     "name": "stdout",
     "output_type": "stream",
     "text": [
      "\n",
      "o21 = {15}\n",
      "\n",
      "o21 : List\n"
     ]
    }
   ],
   "source": [
    "P = (17*x^6 + 98*x^7*y^8 +87*y^5*x^4)\n",
    "degree (17*x^6 + 98*x^7*y^8 +87*y^5*x^4)"
   ]
  },
  {
   "cell_type": "code",
   "execution_count": 22,
   "id": "ceb31b65",
   "metadata": {},
   "outputs": [
    {
     "name": "stdout",
     "output_type": "stream",
     "text": [
      "\n",
      "         7 8      4 5      6\n",
      "o22 = 98x y  + 87x y  + 17x\n",
      "\n",
      "o22 : R\n"
     ]
    }
   ],
   "source": [
    "select(P, i -> degree i > {6,5})"
   ]
  },
  {
   "cell_type": "code",
   "execution_count": 23,
   "id": "6e344285",
   "metadata": {},
   "outputs": [
    {
     "name": "stdout",
     "output_type": "stream",
     "text": [
      "\n",
      "         7 8      4 5      6\n",
      "o23 = 98x y  + 87x y  + 17x\n",
      "\n",
      "o23 : R\n"
     ]
    }
   ],
   "source": [
    "select(P, i -> degree i > {6})"
   ]
  },
  {
   "cell_type": "code",
   "execution_count": null,
   "id": "a1df4d56",
   "metadata": {},
   "outputs": [],
   "source": []
  }
 ],
 "metadata": {
  "kernelspec": {
   "display_name": "M2",
   "language": "text/x-macaulay2",
   "name": "m2"
  },
  "language_info": {
   "codemirror_mode": "macaulay2",
   "file_extension": ".m2",
   "mimetype": "text/x-macaulay2",
   "name": "Macaulay2"
  }
 },
 "nbformat": 4,
 "nbformat_minor": 5
}
