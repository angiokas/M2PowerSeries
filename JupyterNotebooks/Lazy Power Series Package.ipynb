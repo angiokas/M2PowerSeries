{
 "cells": [
  {
   "attachments": {
    "image-2.png": {
     "image/png": "[encoded data removed]"
    }
   },
   "cell_type": "markdown",
   "id": "5c4d56aa",
   "metadata": {},
   "source": [
    "# Formal Power Series in Macaulay2\n",
    "\n",
    "## REU Symposium Summer 2021\n",
    "\n",
    "Annie Giokas  \n",
    "\n",
    "Supervised by Dr. Karl Schwede\n",
    "\n",
    "## Background\n",
    "\n",
    "Macaulay2 is an open source computer algebra system that is used extensively in commutative algebra and algebraic geometry. Currently, Macaulay2 has polynomial rings built into it that have a lot of functionality, however there is no implementation of rings of power series. There was a project lead by Jason McCullough which focused on adding power series into Macaulay2, however this project was only active until 2012. During the REU, we created a package called  \"Lazy Power Series\" which does exactly that. We managed to make sure that a user can create formal power series in any ring, including creating power series on polynomial ring and multi-variable rings. Of course, there is the ability to do basic operations such as addition and multiplication of two series. Most importantly, inversion also works which was not done before. The calculations are relatively fast and code efficiency has improved over the course of the summer.\n",
    "\n",
    "### What is a formal power series?\n",
    "\n",
    "Formal power series can be viewed as a generalization of polynomials, where the number of terms is allowed to be infinite, with no requirements of convergence. Intuitively, you can think of them as power series from analysis, however there are differences, such as we do not need to treat it as a function that only has domain from its radius of convergence. \n",
    "\n",
    "As an exmaple, if $k$ is a field and $k[x]$ denotes the one-variable polynomial ring over $k$, then the ring of formal power series over k is denoted by $k[[x]]$. The elements of this ring will look like $a_0+a_1x+a_2x^2+\\cdots =\\sum_{i=0}^{\\infty}$ where $a_i\\in k$.\n",
    "\n",
    "### Motivation behind using formal power series\n",
    "\n",
    "The reason why formal power series are such a useful tool in algebra is best understood by delving into ring completions. Let us start off by talking about the complex polynomial ring $R= \\mathbb{C}[x_1,x_2,\\cdots,x_n]$ and taking an element from this ring, so a polynomial, say $f$. We can take a look at $V(f) = \\{(p_1,p_2,\\cdots,p_n)\\in \\mathbb{C} | f(p_1,p_2,\\cdots,p_n) =0\\}$, the variety associated to $f$. One of the goals of algebraic geometry is to understand the geometry of varieties.\n",
    "\n",
    "If for example, $f = y^2-x^3-x^2$ then $V(f)$ looks like the image below\n",
    "![image-2.png](attachment:image-2.png)\n",
    "\n",
    "We often want to work over other fields such as $\\mathbb{Q}, \\mathbb{Z}/p$ where $p$ is prime, etc. and a way to understand their geometry is to look at their maximal ideals. In $\\mathbb{C}$, it is much easier because by Hillbert's Nullstalensatz, we know that in $\\mathbb{C}[x_1,x_2,\\cdots,x_n]/(f)$ the maximal ideals are of the form $(x_1-p_1,x_2-p_2,\\cdots,x_n-p_n)$ where $f(p_1,\\cdots,p_n)=0$\n",
    "\n",
    "The problem with other fields is that the maximal ideals are a topological space, but the topology is too weak. By weak, we mean that the neighborhoods of the topology are too big, making it inconvenient to study them in depth. There is no perfect analogy of an $\\epsilon$-ball around the origin for such fields when taking similar quotient rings.\n",
    "\n",
    "Maximal ideals of a polynomial ring of $n$-variables defined over an algebraically closed field $k$ correspond to points in $k^n$. For example, if we take a polynomial ring in two variables $R=k[x,y]$ where $k$ is an algebraically closed field, then the maximal ideals of $R$ all look like $(x-a,y-b)$ where $a,b \\in k$. These maximal ideals correspond to point on $k^2$. This is very convenient, however in the case of nonsingular algebraic varieties, it is impossible to find neighborhoods of every point that behaves like  a euclidean neighborhood or a point, in other words like $k^n$. \n",
    "\n",
    "As an example, when examining $\\mathbb{Z}/5[x,y]/(y-x^2)$, then we notice that there is a finite complement topology on it which means that open sets are complements of finitely many closed sets. Therefore it is not a Hausdorff space. Hausdorff spaces are much nicer to work with in general, so this scenario will give us more difficulties. \n",
    "\n",
    "\n",
    "\n",
    "### Ring Completions\n",
    "\n",
    "To avoid the difficulties, we have a solution called _completion_, where instead we can choose a point in the algebraic variety which corresponds to some maximal ideal in some ring. Then by _completing_ the ring at the maximal ideal, we will always get $k[[x_1,\\cdots,x_n]]$ which essentially replaces the neighborhood concept we were looking for in a lot of cases, which is true by the Cohen-Structure theorem. Vaguely speaking, power series rings can work like \"small\" euclidean neighborhoods of a point on an algebraic variety (the zero set of a multi-variable polynomial over a field).The idea behind is that we are going to look at higher tangent information instead of neighborhoods. Two polynomials are close to each other when they agree in small degree. Then a sequence of polynomials $(f_i)$ is Cauchy if for every $\\epsilon$ we can find $N\\in \\mathbb{N}$ such that for $n,m > N$ then polynomials $f_{n}$ and $f_{m}$ agree in degree less than or equal to $\\epsilon$. The objects of the completion of a polynomial ring are equivalent classes of Cauchy sequences. Then equivalence classes of Cauchy sequences are the same as formal power series. This is analogous to set completions in analysis, however here it is much generalized and is used in the same realm as localization.\n"
   ]
  },
  {
   "cell_type": "markdown",
   "id": "57b77b2c",
   "metadata": {},
   "source": [
    "## Lazy Power Series package\n",
    "Our package makes it possible to work with formal power series, by specifically introducing an object in Macaulay2 called `LazySeries`. The reasoning behind the name is the construction of the objects, as one of the main constructors is used by inputting an explicit map that outputs the coefficients at any exponent given. This is sort of a \"lazy\" way of dealing with power series, or rather a generating function approach to it. "
   ]
  },
  {
   "cell_type": "code",
   "execution_count": 1,
   "id": "e932315b",
   "metadata": {},
   "outputs": [
    {
     "name": "stdout",
     "output_type": "stream",
     "text": [
      "\n",
      "o1 = LazyPowerSeries\n",
      "\n",
      "o1 : Package\n"
     ]
    }
   ],
   "source": [
    "loadPackage \"LazyPowerSeries\""
   ]
  },
  {
   "cell_type": "markdown",
   "id": "f3b18822",
   "metadata": {},
   "source": [
    "### Constructing LazySeries\n",
    "Most series have enough information to extend their polynomial approximation to \n",
    "arbitrary degree when needed. This means that even though sums and products of\n",
    "series will return finite-precision results, the precision can be increased at\n",
    "any time. Some of the ways you can construct LazySeries for now are:\n",
    "     \n",
    "1. Creating LazySeries by the `lazySeries(Ring, Function)` by using a given ring and function.\n",
    "2. Creating LazySeries by the `lazySeries(RingElement)` by using a given ringElement."
   ]
  },
  {
   "cell_type": "code",
   "execution_count": 4,
   "id": "7d04712d",
   "metadata": {},
   "outputs": [
    {
     "name": "stdout",
     "output_type": "stream",
     "text": [
      "\n",
      "           2     3\n",
      "o4 = x + 2x  + 3x  + ... \n",
      "\n",
      "o4 : LazySeries\n"
     ]
    }
   ],
   "source": [
    "R = ZZ[x]\n",
    "f = i-> i\n",
    "L = lazySeries(R, f)"
   ]
  },
  {
   "cell_type": "code",
   "execution_count": 7,
   "id": "bb64ea12",
   "metadata": {},
   "outputs": [
    {
     "name": "stdout",
     "output_type": "stream",
     "text": [
      "\n",
      "            3\n",
      "o7 = 7 - 98x  + ... \n",
      "\n",
      "o7 : LazySeries\n"
     ]
    }
   ],
   "source": [
    "R = ZZ[x]\n",
    "p = x^5+765*x^4-98*x^3+7\n",
    "\n",
    "L = lazySeries(p)"
   ]
  },
  {
   "cell_type": "markdown",
   "id": "79947207",
   "metadata": {},
   "source": [
    "### Changing degrees\n",
    "The default degree of a LazySeries is 3. We can change the degree of a LazySeries object by using the `changeDegree` after having already created an object, or you could also change degree by specifying the optional arguments `DisplayedDegree` and `ComputedDegree` during initial construction by using options. For now, we are using total degree, but we are planning on making it possible to work with graded rings. You can right now, but it will take the sum of the degree if you give it a list instead."
   ]
  },
  {
   "cell_type": "code",
   "execution_count": 8,
   "id": "fa06e56c",
   "metadata": {},
   "outputs": [
    {
     "name": "stdout",
     "output_type": "stream",
     "text": [
      "\n",
      "            3       4    5\n",
      "o8 = 7 - 98x  + 765x  + x  + ... \n",
      "\n",
      "o8 : LazySeries\n"
     ]
    }
   ],
   "source": [
    "changeDegree(L, 7)"
   ]
  },
  {
   "cell_type": "code",
   "execution_count": 9,
   "id": "c69c4138",
   "metadata": {},
   "outputs": [
    {
     "name": "stdout",
     "output_type": "stream",
     "text": [
      "\n",
      "o9 = 7 + ... \n",
      "\n",
      "o9 : LazySeries\n"
     ]
    }
   ],
   "source": [
    "changeDegree(L, 2)"
   ]
  },
  {
   "cell_type": "code",
   "execution_count": 11,
   "id": "44c666e2",
   "metadata": {},
   "outputs": [
    {
     "name": "stdout",
     "output_type": "stream",
     "text": [
      "\n",
      "            2     3      4      5      6      7      8      9       10       11       12       13       14       15\n",
      "o11 = x + 4x  + 9x  + 16x  + 25x  + 36x  + 49x  + 64x  + 81x  + 100x   + 121x   + 144x   + 169x   + 196x   + 225x   + ... \n",
      "\n",
      "o11 : LazySeries\n"
     ]
    }
   ],
   "source": [
    "f = i-> i^2\n",
    "L = lazySeries(R, f, DisplayedDegree => 15, ComputedDegree => 15)"
   ]
  },
  {
   "cell_type": "markdown",
   "id": "d50de677",
   "metadata": {},
   "source": [
    "### Extracting coefficients\n",
    "Sometimes it is convenient to just grab specific coefficients you are looking for and there is a fast way to do it in this package by using `coefficient` method."
   ]
  },
  {
   "cell_type": "code",
   "execution_count": 12,
   "id": "5212cf42",
   "metadata": {},
   "outputs": [
    {
     "name": "stdout",
     "output_type": "stream",
     "text": [
      "\n",
      "o12 = 81\n"
     ]
    }
   ],
   "source": [
    "coefficient({9}, L)"
   ]
  },
  {
   "cell_type": "code",
   "execution_count": 13,
   "id": "18d319ff",
   "metadata": {},
   "outputs": [
    {
     "name": "stdout",
     "output_type": "stream",
     "text": [
      "\n",
      "o13 = 625\n",
      "\n",
      "o13 : R\n"
     ]
    }
   ],
   "source": [
    "coefficient({25}, L)"
   ]
  },
  {
   "cell_type": "markdown",
   "id": "aac21fa3",
   "metadata": {},
   "source": [
    "### Multi-variable Rings\n",
    "LazySeries construction works with multi-variable rings as well, as long as the user inputs the function correctly. The function has to have the same amount of inputs as the given ring variables. Here for example, because we are given a polynomial ring of three variables over the rationals, the function inputted takes three inputs (i,j,k). Another way to input a function would be to make it take in a list that you are assuming has the same amount of elements as the variables and sending it to those values. Essentially, we are ensuring the function gives us a coefficient based on the exponents."
   ]
  },
  {
   "cell_type": "code",
   "execution_count": 16,
   "id": "b8fe2b3b",
   "metadata": {},
   "outputs": [
    {
     "name": "stdout",
     "output_type": "stream",
     "text": [
      "\n",
      "                           2                   2            2     3       2       2     2               2      3       2     2      3\n",
      "o16 = 5 + 6z + 6y + 6x + 7z  + 7y*z + 7x*z + 7y  + 7x*y + 7x  + 8z  + 8y*z  + 8x*z  + 8y z + 8x*y*z + 8x z + 8y  + 8x*y  + 8x y + 8x  + ... \n",
      "\n",
      "o16 : LazySeries\n"
     ]
    }
   ],
   "source": [
    "R = QQ[x,y,z]\n",
    "f = (i,j,k)-> i+j+k+5\n",
    "\n",
    "L = lazySeries(R, f)"
   ]
  },
  {
   "cell_type": "code",
   "execution_count": 19,
   "id": "f9966b04",
   "metadata": {},
   "outputs": [
    {
     "name": "stdout",
     "output_type": "stream",
     "text": [
      "\n",
      "                            2                   2            2     3       2       2     2               2      3       2     2      3\n",
      "o19 = -2 - 2z - 2y - 2x - 2z  - 2y*z - 2x*z - 2y  - 2x*y - 2x  - 2z  - 2y*z  - 2x*z  - 2y z - 2x*y*z - 2x z - 2y  - 2x*y  - 2x y - 2x  + ... \n",
      "\n",
      "o19 : LazySeries\n"
     ]
    }
   ],
   "source": [
    "R = ZZ/5[x,y,z]\n",
    "f = (i,j,k)-> 8\n",
    "\n",
    "L = lazySeries(R, f)"
   ]
  },
  {
   "cell_type": "markdown",
   "id": "12279c24",
   "metadata": {},
   "source": [
    "### Addition\n",
    "You can add two LazySeries together and it creates a new lazySeries with its own unique function. This means that if you want to expand it, you would be able to by changing its degree normally. Of course, substraction works as well."
   ]
  },
  {
   "cell_type": "code",
   "execution_count": 21,
   "id": "4ebe5878",
   "metadata": {},
   "outputs": [
    {
     "name": "stdout",
     "output_type": "stream",
     "text": [
      "\n",
      "                  2      2     2      3\n",
      "o21 = x + x*y + 2x  + x*y  + 2x y + 3x  + ... \n",
      "\n",
      "o21 : LazySeries\n"
     ]
    }
   ],
   "source": [
    "R = ZZ[x,y]\n",
    "L = lazySeries(R, (i,j)->i)"
   ]
  },
  {
   "cell_type": "code",
   "execution_count": 22,
   "id": "7a8a17bd",
   "metadata": {},
   "outputs": [
    {
     "name": "stdout",
     "output_type": "stream",
     "text": [
      "\n",
      "            2           3       2    2\n",
      "o22 = y + 2y  + x*y + 3y  + 2x*y  + x y + ... \n",
      "\n",
      "o22 : LazySeries\n"
     ]
    }
   ],
   "source": [
    "M = lazySeries(R, (i,j)->j)"
   ]
  },
  {
   "cell_type": "code",
   "execution_count": 23,
   "id": "a8e1acfc",
   "metadata": {},
   "outputs": [
    {
     "name": "stdout",
     "output_type": "stream",
     "text": [
      "\n",
      "                2            2     3       2     2      3\n",
      "o23 = y + x + 2y  + 2x*y + 2x  + 3y  + 3x*y  + 3x y + 3x  + ... \n",
      "\n",
      "o23 : LazySeries\n"
     ]
    }
   ],
   "source": [
    "S = L+M"
   ]
  },
  {
   "cell_type": "code",
   "execution_count": 24,
   "id": "d5b663bd",
   "metadata": {},
   "outputs": [
    {
     "name": "stdout",
     "output_type": "stream",
     "text": [
      "\n",
      "                2            2     3       2     2      3     4       3     2 2     3      4\n",
      "o24 = y + x + 2y  + 2x*y + 2x  + 3y  + 3x*y  + 3x y + 3x  + 4y  + 4x*y  + 4x y  + 4x y + 4x  + ... \n",
      "\n",
      "o24 : LazySeries\n"
     ]
    }
   ],
   "source": [
    "changeDegree(S, 4)"
   ]
  },
  {
   "cell_type": "code",
   "execution_count": 25,
   "id": "037afe65",
   "metadata": {},
   "outputs": [
    {
     "name": "stdout",
     "output_type": "stream",
     "text": [
      "\n",
      "                 2     2     3      2    2      3\n",
      "o25 = -y + x - 2y  + 2x  - 3y  - x*y  + x y + 3x  + ... \n",
      "\n",
      "o25 : LazySeries\n"
     ]
    }
   ],
   "source": [
    "S = L-M"
   ]
  },
  {
   "cell_type": "markdown",
   "id": "4ba3342b",
   "metadata": {},
   "source": [
    "### Multiplication\n",
    "One of the concerns for multiplication was speed, but so far it is fast enough. Additionally, we have a more efficient way of calculating powers of LazySeries objects by using exponentiating by squaring method, also known as double-and-add method which uses binary conversion of a power to determine the steps it needs to take to calculate up to that certain power in fewer steps than it would take to primitively multiply that many times. It reduces the amount of steps it would take with the primitive approach, but of course this is an open problem and does not always guarantee the fastest way of calculating the powers."
   ]
  },
  {
   "cell_type": "code",
   "execution_count": 29,
   "id": "8bc5b212",
   "metadata": {},
   "outputs": [
    {
     "name": "stdout",
     "output_type": "stream",
     "text": [
      "\n",
      "            2            3       2     2\n",
      "o29 = y + 3y  + 3x*y + 6y  + 9x*y  + 6x y + ... \n",
      "\n",
      "o29 : LazySeries\n"
     ]
    }
   ],
   "source": [
    "R = ZZ[x,y]\n",
    "\n",
    "L = lazySeries(R, (i,j)->1+i)\n",
    "M = lazySeries(R, (i,j)->j)\n",
    "L*M"
   ]
  },
  {
   "cell_type": "code",
   "execution_count": 30,
   "id": "0afb88cb",
   "metadata": {},
   "outputs": [
    {
     "name": "stdout",
     "output_type": "stream",
     "text": [
      "\n",
      "                      2             2     3        2      2       3\n",
      "o30 = 1 + 2y + 4x + 3y  + 8x*y + 10x  + 4y  + 12x*y  + 20x y + 20x  + ... \n",
      "\n",
      "o30 : LazySeries\n"
     ]
    }
   ],
   "source": [
    "L^2"
   ]
  },
  {
   "cell_type": "code",
   "execution_count": 31,
   "id": "e5cc1ed2",
   "metadata": {},
   "outputs": [
    {
     "name": "stdout",
     "output_type": "stream",
     "text": [
      "\n",
      "                         2                2       3          2        2         3\n",
      "o31 = 1 + 10y + 20x + 55y  + 200x*y + 210x  + 220y  + 1100x*y  + 2100x y + 1540x  + ... \n",
      "\n",
      "o31 : LazySeries\n"
     ]
    }
   ],
   "source": [
    "L^10"
   ]
  },
  {
   "cell_type": "markdown",
   "id": "66ab9fc8",
   "metadata": {},
   "source": [
    "### Inversion\n",
    "For inversion, first of all the formal power series has to be invertible and that can be checked if its constant term is invertible in the given ring. We use the formula $(1-x)^{-1} = 1+x+x^2+x^3+...$, which is valid with formal power series as well. The algorithm of our inversion function works like so (it is easier to see in one-variable case but you can expand it to multi0variable just as easily): First we are given a LazySeries L that has the form $$a_0+a_1x+a_2x^2+\\cdots$$. We want to make it look like the initial formula we showed, therefore we take out the constant term and separate it from 1 to look like so:\n",
    "$$a_0(1+\\frac{a_1}{a_0}x+\\frac{a_2}{a_0}x^2 +\\cdots)$$\n",
    "$$a_0(1-(-\\frac{a_1}{a_0}x-\\frac{a_2}{a_0}x^2 -\\cdots))$$\n",
    "We can just denote $g := (-\\frac{a_1}{a_0}x-\\frac{a_2}{a_0}x^2 -\\cdots)$ and we have\n",
    "$$a_0(1-g) $$\n",
    "If we invert it, then \n",
    "$$(a_0(1-g))^{-1} = \\frac{1}{a_0}(1+g+g^2+g^3+\\cdots) $$"
   ]
  },
  {
   "cell_type": "code",
   "execution_count": 33,
   "id": "7597cd02",
   "metadata": {},
   "outputs": [
    {
     "name": "stdout",
     "output_type": "stream",
     "text": [
      "\n",
      "                    2            2    3       2     2      3\n",
      "o33 = 1 + y + 2x + y  + 2x*y + 3x  + y  + 2x*y  + 3x y + 4x  + ... \n",
      "\n",
      "o33 : LazySeries\n"
     ]
    }
   ],
   "source": [
    "R = ZZ[x,y]\n",
    "L = lazySeries(R, (i,j)-> 1 + i)"
   ]
  },
  {
   "cell_type": "code",
   "execution_count": 34,
   "id": "66fcad68",
   "metadata": {},
   "outputs": [
    {
     "name": "stdout",
     "output_type": "stream",
     "text": [
      "\n",
      "                           2    2\n",
      "o34 = 1 - y - 2x + 2x*y + x  - x y + ... \n",
      "\n",
      "o34 : LazySeries\n"
     ]
    }
   ],
   "source": [
    "inverseL = inverse(L)"
   ]
  },
  {
   "cell_type": "code",
   "execution_count": 35,
   "id": "ada61ecd",
   "metadata": {},
   "outputs": [
    {
     "name": "stdout",
     "output_type": "stream",
     "text": [
      "\n",
      "o35 = 1 + ... \n",
      "\n",
      "o35 : LazySeries\n"
     ]
    }
   ],
   "source": [
    "L*inverseL"
   ]
  },
  {
   "cell_type": "markdown",
   "id": "05b25029",
   "metadata": {},
   "source": [
    "### Some additional methods\n",
    "`sub` is a method that promotes LazySeries objects of a specified ring to a new ring, essentially promoting each term to a polynomial in the ring. `isUnit` is a very useful tool to check if a LazySeries object is invertible by checking if the constant term is invertible in the specified ring."
   ]
  },
  {
   "cell_type": "code",
   "execution_count": 38,
   "id": "cfd161a7",
   "metadata": {},
   "outputs": [
    {
     "name": "stdout",
     "output_type": "stream",
     "text": [
      "\n",
      "o38 = S\n",
      "\n",
      "o38 : PolynomialRing\n"
     ]
    }
   ],
   "source": [
    "R = ZZ[x,y]\n",
    "L = lazySeries(R, (i,j)-> 1 + i)\n",
    "S = QQ[x,y]"
   ]
  },
  {
   "cell_type": "code",
   "execution_count": 39,
   "id": "0cd50365",
   "metadata": {},
   "outputs": [
    {
     "name": "stdout",
     "output_type": "stream",
     "text": [
      "\n",
      "                    2            2    3       2     2      3\n",
      "o39 = 1 + y + 2x + y  + 2x*y + 3x  + y  + 2x*y  + 3x y + 4x  + ... \n",
      "\n",
      "o39 : LazySeries\n"
     ]
    }
   ],
   "source": [
    "newL = sub(L, S)"
   ]
  },
  {
   "cell_type": "code",
   "execution_count": 40,
   "id": "ec84e6f7",
   "metadata": {},
   "outputs": [
    {
     "name": "stdout",
     "output_type": "stream",
     "text": [
      "\n",
      "o40 = S\n",
      "\n",
      "o40 : PolynomialRing\n"
     ]
    }
   ],
   "source": [
    "class newL.cache.displayedPolynomial"
   ]
  },
  {
   "cell_type": "code",
   "execution_count": 41,
   "id": "bcb5aae1",
   "metadata": {},
   "outputs": [
    {
     "name": "stdout",
     "output_type": "stream",
     "text": [
      "\n",
      "o41 = true\n"
     ]
    }
   ],
   "source": [
    "isUnit(L)"
   ]
  },
  {
   "cell_type": "code",
   "execution_count": 42,
   "id": "cd337720",
   "metadata": {},
   "outputs": [
    {
     "name": "stdout",
     "output_type": "stream",
     "text": [
      "\n",
      "                  2      2     2      3\n",
      "o42 = x + x*y + 2x  + x*y  + 2x y + 3x  + ... \n",
      "\n",
      "o42 : LazySeries\n"
     ]
    }
   ],
   "source": [
    "M = lazySeries(R, (i,j)->i)"
   ]
  },
  {
   "cell_type": "code",
   "execution_count": 43,
   "id": "5ee76bbb",
   "metadata": {},
   "outputs": [
    {
     "name": "stdout",
     "output_type": "stream",
     "text": [
      "\n",
      "o43 = false\n"
     ]
    }
   ],
   "source": [
    "isUnit(M)"
   ]
  },
  {
   "cell_type": "markdown",
   "id": "f4ac7250",
   "metadata": {},
   "source": [
    "## Future goals for the package\n",
    "The next steps of this project is to expand on our implementation of power series element as an object in Macaulay2 and to build on the object of a ring to make a power series ring subclass. We plan to add more functionality, such as adding more types of constructors, as well as making sure the package works with multi-graded rings. Additionally, we will introduce quotient rings, ideals and modules over a power series, while also making it possible to complete a polynomial ring at a maximal ideal to get a power series ring. We are also interested in exploring the field of $p$-adic numbers $\\mathbb{Q}_p$ where $p$ is a prime integer. \n",
    "To summarize:\n",
    "- p-adics\n",
    "- multi-graded rings\n",
    "- ring structure\n",
    "- ideals, modules, quotient rings\n",
    "- speed improvements"
   ]
  },
  {
   "cell_type": "markdown",
   "id": "d1712860",
   "metadata": {},
   "source": [
    "## Bibliography"
   ]
  }
 ],
 "metadata": {
  "kernelspec": {
   "display_name": "M2",
   "language": "text/x-macaulay2",
   "name": "m2"
  },
  "language_info": {
   "codemirror_mode": "macaulay2",
   "file_extension": ".m2",
   "mimetype": "text/x-macaulay2",
   "name": "Macaulay2"
  }
 },
 "nbformat": 4,
 "nbformat_minor": 5
}
