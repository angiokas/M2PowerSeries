{
 "cells": [
  {
   "cell_type": "code",
   "execution_count": 63,
   "id": "5f66488d",
   "metadata": {},
   "outputs": [
    {
     "name": "stdout",
     "output_type": "stream",
     "text": [
      "\n",
      "o63 = LazyPowerSeries\n",
      "\n",
      "o63 : Package\n"
     ]
    }
   ],
   "source": [
    "loadPackage \"LazyPowerSeries\""
   ]
  },
  {
   "cell_type": "code",
   "execution_count": 64,
   "id": "57a7afd1",
   "metadata": {},
   "outputs": [
    {
     "name": "stdout",
     "output_type": "stream",
     "text": [
      "\n",
      "o64 = R\n",
      "\n",
      "o64 : PolynomialRing\n"
     ]
    }
   ],
   "source": [
    "R = ZZ[x]"
   ]
  },
  {
   "cell_type": "code",
   "execution_count": 65,
   "id": "9af81c63",
   "metadata": {},
   "outputs": [
    {
     "name": "stdout",
     "output_type": "stream",
     "text": [
      "\n",
      "o65 = 22x + 105\n",
      "\n",
      "o65 : R\n"
     ]
    }
   ],
   "source": [
    "f = 7+x+2*7^2 + 3*7*x"
   ]
  },
  {
   "cell_type": "code",
   "execution_count": 66,
   "id": "5f5ceaca",
   "metadata": {
    "scrolled": false
   },
   "outputs": [
    {
     "name": "stdout",
     "output_type": "stream",
     "text": [
      "i = 0\n",
      "workingIdeal: ideal(7,x)\n",
      "workingList: {1}\n",
      "j = 0\n",
      "workingf: 22*x+105\n",
      "currentMonomial: 1\n",
      "workingList: {}\n",
      "workingIdeal2: ideal(7,x)\n",
      "workingf2: 0\n",
      "tempMonomial: 1\n",
      "WorkingCoefficient: 0\n",
      "i = 1\n",
      "workingIdeal: ideal(49,7*x,x^2)\n",
      "workingList: {7, x}\n",
      "j = 0\n",
      "workingf: 22*x+105\n",
      "currentMonomial: 7\n",
      "workingList: {x}\n",
      "workingIdeal2: ideal(49,x)\n",
      "workingf2: 7\n",
      "tempMonomial: 1\n",
      "WorkingCoefficient: 1\n",
      "j = 1\n",
      "workingf: 22*x+98\n",
      "currentMonomial: x\n",
      "workingList: {}\n",
      "workingIdeal2: ideal(49,7*x,x^2)\n",
      "workingf2: x\n",
      "tempMonomial: x\n",
      "WorkingCoefficient: 1\n",
      "i = 2\n",
      "workingIdeal: ideal(343,49*x,7*x^2,x^3)\n",
      "workingList: {49, 7*x, x^2}\n",
      "j = 0\n",
      "workingf: 21*x+98\n",
      "currentMonomial: 49\n",
      "workingList: {7*x, x^2}\n",
      "workingIdeal2: ideal(343,7*x,x^2)\n",
      "workingf2: 98\n",
      "tempMonomial: 1\n",
      "WorkingCoefficient: 2\n",
      "j = 1\n",
      "workingf: 21*x\n",
      "currentMonomial: 7*x\n",
      "workingList: {x^2}\n",
      "workingIdeal2: ideal(343,49*x,x^2)\n",
      "workingf2: 21*x\n",
      "tempMonomial: x\n",
      "WorkingCoefficient: 3\n",
      "j = 2\n",
      "workingf: 0\n",
      "currentMonomial: x^2\n",
      "workingList: {}\n",
      "workingIdeal2: ideal(343,49*x,7*x^2,x^3)\n",
      "workingf2: 0\n",
      "tempMonomial: x^2\n",
      "WorkingCoefficient: 0\n",
      "i = 3\n",
      "workingIdeal: ideal(2401,343*x,49*x^2,7*x^3,x^4)\n",
      "workingList: {343, 49*x, 7*x^2, x^3}\n",
      "j = 0\n",
      "workingf: 0\n",
      "currentMonomial: 343\n",
      "workingList: {49*x, 7*x^2, x^3}\n",
      "workingIdeal2: ideal(2401,49*x,7*x^2,x^3)\n",
      "workingf2: 0\n",
      "tempMonomial: 1\n",
      "WorkingCoefficient: 0\n",
      "j = 1\n",
      "workingf: 0\n",
      "currentMonomial: 49*x\n",
      "workingList: {7*x^2, x^3}\n",
      "workingIdeal2: ideal(2401,343*x,7*x^2,x^3)\n",
      "workingf2: 0\n",
      "tempMonomial: x\n",
      "WorkingCoefficient: 0\n",
      "j = 2\n",
      "workingf: 0\n",
      "currentMonomial: 7*x^2\n",
      "workingList: {x^3}\n",
      "workingIdeal2: ideal(2401,343*x,49*x^2,x^3)\n",
      "workingf2: 0\n",
      "tempMonomial: x^2\n",
      "WorkingCoefficient: 0\n",
      "j = 3\n",
      "workingf: 0\n",
      "currentMonomial: x^3\n",
      "workingList: {}\n",
      "workingIdeal2: ideal(2401,343*x,49*x^2,7*x^3,x^4)\n",
      "workingf2: 0\n",
      "tempMonomial: x^3\n",
      "WorkingCoefficient: 0\n",
      "i = 4\n",
      "workingIdeal: ideal(16807,2401*x,343*x^2,49*x^3,7*x^4,x^5)\n",
      "workingList: {2401, 343*x, 49*x^2, 7*x^3, x^4}\n",
      "j = 0\n",
      "workingf: 0\n",
      "currentMonomial: 2401\n",
      "workingList: {343*x, 49*x^2, 7*x^3, x^4}\n",
      "workingIdeal2: ideal(16807,343*x,49*x^2,7*x^3,x^4)\n",
      "workingf2: 0\n",
      "tempMonomial: 1\n",
      "WorkingCoefficient: 0\n",
      "j = 1\n",
      "workingf: 0\n",
      "currentMonomial: 343*x\n",
      "workingList: {49*x^2, 7*x^3, x^4}\n",
      "workingIdeal2: ideal(16807,2401*x,49*x^2,7*x^3,x^4)\n",
      "workingf2: 0\n",
      "tempMonomial: x\n",
      "WorkingCoefficient: 0\n",
      "j = 2\n",
      "workingf: 0\n",
      "currentMonomial: 49*x^2\n",
      "workingList: {7*x^3, x^4}\n",
      "workingIdeal2: ideal(16807,2401*x,343*x^2,7*x^3,x^4)\n",
      "workingf2: 0\n",
      "tempMonomial: x^2\n",
      "WorkingCoefficient: 0\n",
      "j = 3\n",
      "workingf: 0\n",
      "currentMonomial: 7*x^3\n",
      "workingList: {x^4}\n",
      "workingIdeal2: ideal(16807,2401*x,343*x^2,49*x^3,x^4)\n",
      "workingf2: 0\n",
      "tempMonomial: x^3\n",
      "WorkingCoefficient: 0\n",
      "j = 4\n",
      "workingf: 0\n",
      "currentMonomial: x^4\n",
      "workingList: {}\n",
      "workingIdeal2: ideal(16807,2401*x,343*x^2,49*x^3,7*x^4,x^5)\n",
      "workingf2: 0\n",
      "tempMonomial: x^4\n",
      "WorkingCoefficient: 0\n",
      "i = 5\n",
      "workingIdeal: ideal(117649,16807*x,2401*x^2,343*x^3,49*x^4,7*x^5,x^6)\n",
      "workingList: {16807, 2401*x, 343*x^2, 49*x^3, 7*x^4, x^5}\n",
      "j = 0\n",
      "workingf: 0\n",
      "currentMonomial: 16807\n",
      "workingList: {2401*x, 343*x^2, 49*x^3, 7*x^4, x^5}\n",
      "workingIdeal2: ideal(117649,2401*x,343*x^2,49*x^3,7*x^4,x^5)\n",
      "workingf2: 0\n",
      "tempMonomial: 1\n",
      "WorkingCoefficient: 0\n",
      "j = 1\n",
      "workingf: 0\n",
      "currentMonomial: 2401*x\n",
      "workingList: {343*x^2, 49*x^3, 7*x^4, x^5}\n",
      "workingIdeal2: ideal(117649,16807*x,343*x^2,49*x^3,7*x^4,x^5)\n",
      "workingf2: 0\n",
      "tempMonomial: x\n",
      "WorkingCoefficient: 0\n",
      "j = 2\n",
      "workingf: 0\n",
      "currentMonomial: 343*x^2\n",
      "workingList: {49*x^3, 7*x^4, x^5}\n",
      "workingIdeal2: ideal(117649,16807*x,2401*x^2,49*x^3,7*x^4,x^5)\n",
      "workingf2: 0\n",
      "tempMonomial: x^2\n",
      "WorkingCoefficient: 0\n",
      "j = 3\n",
      "workingf: 0\n",
      "currentMonomial: 49*x^3\n",
      "workingList: {7*x^4, x^5}\n",
      "workingIdeal2: ideal(117649,16807*x,2401*x^2,343*x^3,7*x^4,x^5)\n",
      "workingf2: 0\n",
      "tempMonomial: x^3\n",
      "WorkingCoefficient: 0\n",
      "j = 4\n",
      "workingf: 0\n",
      "currentMonomial: 7*x^4\n",
      "workingList: {x^5}\n",
      "workingIdeal2: ideal(117649,16807*x,2401*x^2,343*x^3,49*x^4,x^5)\n",
      "workingf2: 0\n",
      "tempMonomial: x^4\n",
      "WorkingCoefficient: 0\n",
      "j = 5\n",
      "workingf: 0\n",
      "currentMonomial: x^5\n",
      "workingList: {}\n",
      "workingIdeal2: ideal(117649,16807*x,2401*x^2,343*x^3,49*x^4,7*x^5,x^6)\n",
      "workingf2: 0\n",
      "tempMonomial: x^5\n",
      "WorkingCoefficient: 0\n",
      "                                            2                             2        3                                2         3        4                                   2          3         4        5\n",
      "{1 => 0, 7 => 1, x => 1, 49 => 2, 7x => 3, x  => 0, 343 => 0, 49x => 0, 7x  => 0, x  => 0, 2401 => 0, 343x => 0, 49x  => 0, 7x  => 0, x  => 0, 16807 => 0, 2401x => 0, 343x  => 0, 49x  => 0, 7x  => 0, x  => 0}\n"
     ]
    }
   ],
   "source": [
    "lazyAdics(7,f)"
   ]
  },
  {
   "cell_type": "code",
   "execution_count": 67,
   "id": "2f001731",
   "metadata": {},
   "outputs": [
    {
     "name": "stdout",
     "output_type": "stream",
     "text": [
      "\n",
      "o67 = 22x + 105\n",
      "\n",
      "o67 : R\n"
     ]
    }
   ],
   "source": [
    "1+ 7+x+2*7^2 + 3*7*x"
   ]
  },
  {
   "cell_type": "code",
   "execution_count": 68,
   "id": "725e0b94",
   "metadata": {},
   "outputs": [
    {
     "name": "stdout",
     "output_type": "stream",
     "text": [
      "stdio:203:11:(3): error: expected 2 arguments but got 1\n"
     ]
    }
   ],
   "source": []
  },
  {
   "cell_type": "code",
   "execution_count": null,
   "id": "1519c582",
   "metadata": {},
   "outputs": [],
   "source": []
  }
 ],
 "metadata": {
  "kernelspec": {
   "display_name": "M2",
   "language": "text/x-macaulay2",
   "name": "m2"
  },
  "language_info": {
   "codemirror_mode": "macaulay2",
   "file_extension": ".m2",
   "mimetype": "text/x-macaulay2",
   "name": "Macaulay2"
  }
 },
 "nbformat": 4,
 "nbformat_minor": 5
}
