{
 "cells": [
  {
   "cell_type": "code",
   "execution_count": 48,
   "id": "cd2cac10",
   "metadata": {},
   "outputs": [
    {
     "name": "stdout",
     "output_type": "stream",
     "text": [
      "\n",
      "o48 = LazyPowerSeries\n",
      "\n",
      "o48 : Package\n"
     ]
    }
   ],
   "source": [
    "loadPackage \"LazyPowerSeries\""
   ]
  },
  {
   "cell_type": "code",
   "execution_count": 51,
   "id": "4c1bbf2f",
   "metadata": {},
   "outputs": [
    {
     "name": "stdout",
     "output_type": "stream",
     "text": [
      "\n",
      "o51 = g\n",
      "\n",
      "o51 : FunctionClosure\n"
     ]
    }
   ],
   "source": [
    "R = ZZ[x]\n",
    "f = i-> i^2\n",
    "g = i-> i+8"
   ]
  },
  {
   "cell_type": "code",
   "execution_count": 52,
   "id": "90c131bb",
   "metadata": {},
   "outputs": [
    {
     "name": "stdout",
     "output_type": "stream",
     "text": [
      "\n",
      "            2     3\n",
      "o52 = x + 4x  + 9x  + ... \n",
      "\n",
      "o52 : LazySeries\n"
     ]
    }
   ],
   "source": [
    "A = lazySeries(R,f)"
   ]
  },
  {
   "cell_type": "code",
   "execution_count": 53,
   "id": "df73e897",
   "metadata": {},
   "outputs": [
    {
     "name": "stdout",
     "output_type": "stream",
     "text": [
      "\n",
      "                  2      3\n",
      "o53 = 8 + 9x + 10x  + 11x  + ... \n",
      "\n",
      "o53 : LazySeries\n"
     ]
    }
   ],
   "source": [
    "B = lazySeries(R,g)"
   ]
  },
  {
   "cell_type": "code",
   "execution_count": 54,
   "id": "760632b2",
   "metadata": {},
   "outputs": [
    {
     "name": "stdout",
     "output_type": "stream",
     "text": [
      "\n",
      "                   2      3\n",
      "o54 = 8 + 10x + 14x  + 20x  + ... \n",
      "\n",
      "o54 : LazySeries\n"
     ]
    }
   ],
   "source": [
    "A+B"
   ]
  },
  {
   "cell_type": "code",
   "execution_count": 55,
   "id": "f97a8181",
   "metadata": {},
   "outputs": [
    {
     "name": "stdout",
     "output_type": "stream",
     "text": [
      "\n",
      "o55 = S\n",
      "\n",
      "o55 : PolynomialRing\n"
     ]
    }
   ],
   "source": [
    "S = ZZ[x,y]"
   ]
  },
  {
   "cell_type": "code",
   "execution_count": 56,
   "id": "c23717a1",
   "metadata": {},
   "outputs": [
    {
     "name": "stdout",
     "output_type": "stream",
     "text": [
      "\n",
      "                2     2\n",
      "o56 = x*y + 2x*y  + 2x y + ... \n",
      "\n",
      "o56 : LazySeries\n"
     ]
    }
   ],
   "source": [
    "A = lazySeries(S,(i,j)-> i*j)"
   ]
  },
  {
   "cell_type": "code",
   "execution_count": 57,
   "id": "f6358867",
   "metadata": {},
   "outputs": [
    {
     "name": "stdout",
     "output_type": "stream",
     "text": [
      "\n",
      "                  2      2     2      3\n",
      "o57 = x + x*y + 2x  + x*y  + 2x y + 3x  + ... \n",
      "\n",
      "o57 : LazySeries\n"
     ]
    }
   ],
   "source": [
    "B = lazySeries(S,(i,j)->i)"
   ]
  },
  {
   "cell_type": "code",
   "execution_count": 58,
   "id": "8ca8d5f5",
   "metadata": {},
   "outputs": [
    {
     "name": "stdout",
     "output_type": "stream",
     "text": [
      "\n",
      "                   2       2     2      3\n",
      "o58 = x + 2x*y + 2x  + 3x*y  + 4x y + 3x  + ... \n",
      "\n",
      "o58 : LazySeries\n"
     ]
    }
   ],
   "source": [
    "A+B"
   ]
  },
  {
   "cell_type": "code",
   "execution_count": 59,
   "id": "1ccf6053",
   "metadata": {},
   "outputs": [
    {
     "name": "stdout",
     "output_type": "stream",
     "text": [
      "\n",
      "       2\n",
      "o59 = x y + ... \n",
      "\n",
      "o59 : LazySeries\n"
     ]
    }
   ],
   "source": [
    "A*B"
   ]
  },
  {
   "cell_type": "code",
   "execution_count": 60,
   "id": "ffd046e7",
   "metadata": {},
   "outputs": [
    {
     "name": "stdout",
     "output_type": "stream",
     "text": [
      "\n",
      "o60 = CacheTable{ComputedDegree => 3                      }\n",
      "                 DisplayedDegree => 3\n",
      "                                          2        2\n",
      "                 displayedPolynomial => 2x y + 2x*y  + x*y\n",
      "                                         2        2\n",
      "                 computedPolynomial => 2x y + 2x*y  + x*y\n"
     ]
    }
   ],
   "source": [
    "peek A.cache"
   ]
  },
  {
   "cell_type": "code",
   "execution_count": 61,
   "id": "4790dafd",
   "metadata": {},
   "outputs": [
    {
     "name": "stdout",
     "output_type": "stream",
     "text": [
      "\n",
      "       2\n",
      "o61 = x y + ... \n",
      "\n",
      "o61 : LazySeries\n"
     ]
    }
   ],
   "source": []
  },
  {
   "cell_type": "markdown",
   "id": "9e8821d7",
   "metadata": {},
   "source": [
    "## Remember to export newly defined functions!!!"
   ]
  },
  {
   "cell_type": "code",
   "execution_count": null,
   "id": "94859bf7",
   "metadata": {},
   "outputs": [],
   "source": []
  }
 ],
 "metadata": {
  "kernelspec": {
   "display_name": "M2",
   "language": "text/x-macaulay2",
   "name": "m2"
  },
  "language_info": {
   "codemirror_mode": "macaulay2",
   "file_extension": ".m2",
   "mimetype": "text/x-macaulay2",
   "name": "Macaulay2"
  }
 },
 "nbformat": 4,
 "nbformat_minor": 5
}
