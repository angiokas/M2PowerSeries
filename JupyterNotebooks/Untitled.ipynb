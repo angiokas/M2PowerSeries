{
 "cells": [
  {
   "cell_type": "code",
   "execution_count": 103,
   "id": "fdd2f9e4",
   "metadata": {},
   "outputs": [
    {
     "name": "stdout",
     "output_type": "stream",
     "text": [
      "\n",
      "o103 = NewPowerSeries\n",
      "\n",
      "o103 : Package\n"
     ]
    }
   ],
   "source": [
    "loadPackage \"NewPowerSeries\""
   ]
  },
  {
   "cell_type": "code",
   "execution_count": 65,
   "id": "5e7cdbb5",
   "metadata": {},
   "outputs": [
    {
     "name": "stdout",
     "output_type": "stream",
     "text": [
      "\n",
      "o65 = {10, 11, 14}\n",
      "\n",
      "o65 : List\n"
     ]
    }
   ],
   "source": [
    "R = ZZ/101[a,b,c,Degrees=>{{1,0,0},{0,1,0},{0,0,1}}]\n",
    "P = a*b*c+a^5*b^5*c^5 +a^10*b^7*c^5 + a^4*b^11*c^6 + a^4*b^11*c^14\n",
    "degree P"
   ]
  },
  {
   "cell_type": "code",
   "execution_count": 66,
   "id": "8eb1a1f2",
   "metadata": {},
   "outputs": [
    {
     "name": "stdout",
     "output_type": "stream",
     "text": [
      " 4 11 14    10 7 5    4 11 6    5 5 5\n",
      "a b  c   + a  b c  + a b  c  + a b c  + a*b*c\n",
      "     -- used 3.79279 seconds\n",
      "\n",
      "o66 = LazySeries{...4...}\n",
      "\n",
      "o66 : LazySeries\n"
     ]
    }
   ],
   "source": [
    "time lazySeries(P)"
   ]
  },
  {
   "cell_type": "code",
   "execution_count": 8,
   "id": "e7a2f794",
   "metadata": {},
   "outputs": [
    {
     "name": "stdout",
     "output_type": "stream",
     "text": [
      " 6 8    5 2\n",
      "x y  - x y  + x*y\n",
      "\n",
      "o8 = LazySeries{...4...}\n",
      "\n",
      "o8 : LazySeries\n"
     ]
    }
   ],
   "source": [
    "R = ZZ[x,y]\n",
    "P = x*y+x^6*y^8-x^5*y^2\n",
    "lazySeries(P)"
   ]
  },
  {
   "cell_type": "code",
   "execution_count": 36,
   "id": "5c3eb383",
   "metadata": {},
   "outputs": [
    {
     "name": "stdout",
     "output_type": "stream",
     "text": [
      "stdio:92:1:(3): error: expected lists of equal length\n"
     ]
    }
   ],
   "source": []
  },
  {
   "cell_type": "code",
   "execution_count": 47,
   "id": "97342d97",
   "metadata": {},
   "outputs": [
    {
     "name": "stdout",
     "output_type": "stream",
     "text": [
      "stdio:115:18:(3): error: expected an integer\n"
     ]
    }
   ],
   "source": [
    "flatten exponents leadMonomial P\n",
    "for j from {0,0} .. {6,8} do print j"
   ]
  },
  {
   "cell_type": "code",
   "execution_count": 49,
   "id": "dac07b29",
   "metadata": {},
   "outputs": [
    {
     "name": "stdout",
     "output_type": "stream",
     "text": [
      "\n",
      "o49 = ({0, 0}, {0, 1}, {0, 2}, {0, 3}, {0, 4}, {0, 5}, {0, 6}, {0, 7}, {0, 8},\n",
      "      --------------------------------------------------------------------------\n",
      "      {1, 0}, {1, 1}, {1, 2}, {1, 3}, {1, 4}, {1, 5}, {1, 6}, {1, 7}, {1, 8},\n",
      "      --------------------------------------------------------------------------\n",
      "      {2, 0}, {2, 1}, {2, 2}, {2, 3}, {2, 4}, {2, 5}, {2, 6}, {2, 7}, {2, 8},\n",
      "      --------------------------------------------------------------------------\n",
      "      {3, 0}, {3, 1}, {3, 2}, {3, 3}, {3, 4}, {3, 5}, {3, 6}, {3, 7}, {3, 8},\n",
      "      --------------------------------------------------------------------------\n",
      "      {4, 0}, {4, 1}, {4, 2}, {4, 3}, {4, 4}, {4, 5}, {4, 6}, {4, 7}, {4, 8},\n",
      "      --------------------------------------------------------------------------\n",
      "      {5, 0}, {5, 1}, {5, 2}, {5, 3}, {5, 4}, {5, 5}, {5, 6}, {5, 7}, {5, 8},\n",
      "      --------------------------------------------------------------------------\n",
      "      {6, 0}, {6, 1}, {6, 2}, {6, 3}, {6, 4}, {6, 5}, {6, 6}, {6, 7}, {6, 8})\n",
      "\n",
      "o49 : Sequence\n"
     ]
    }
   ],
   "source": [
    "l = {0,0} .. {6,8}\n",
    "for j from 0 to #l-1 do print j"
   ]
  },
  {
   "cell_type": "code",
   "execution_count": 58,
   "id": "316cc0cf",
   "metadata": {},
   "outputs": [
    {
     "name": "stdout",
     "output_type": "stream",
     "text": [
      "\n",
      "o58 = {{5, 0}, {4, 1}, {3, 2}, {2, 3}, {1, 4}, {0, 5}}\n",
      "\n",
      "o58 : List\n"
     ]
    }
   ],
   "source": [
    "compositions(#(gens R), 5)"
   ]
  },
  {
   "cell_type": "code",
   "execution_count": 107,
   "id": "c790e5f7",
   "metadata": {},
   "outputs": [
    {
     "name": "stdout",
     "output_type": "stream",
     "text": [
      "HELLO\n",
      "        3           2\n",
      "1.73205x  + 1.41421x  + x\n",
      "\n",
      "o107 = LazySeries{...4...}\n",
      "\n",
      "o107 : LazySeries\n"
     ]
    }
   ],
   "source": [
    "R = RR[x]\n",
    "f = i-> sqrt i\n",
    "lazySeries(R,f)"
   ]
  },
  {
   "cell_type": "code",
   "execution_count": 70,
   "id": "0d63af82",
   "metadata": {},
   "outputs": [
    {
     "name": "stdout",
     "output_type": "stream",
     "text": [
      "\n",
      "o70 = 2.23606797749979\n",
      "\n",
      "o70 : RR (of precision 53)\n"
     ]
    }
   ],
   "source": [
    "f 5"
   ]
  },
  {
   "cell_type": "code",
   "execution_count": 88,
   "id": "d46d868d",
   "metadata": {},
   "outputs": [
    {
     "name": "stdout",
     "output_type": "stream",
     "text": [
      "HELLO\n",
      "HELLO\n",
      "1 : (0)\n",
      "stdio:158:5:(3): error: no method found for applying substitute to:\n",
      "     argument 1 :  1 : (0) (of class Sequence)\n",
      "     argument 2 :  R (of class PolynomialRing)\n"
     ]
    }
   ],
   "source": [
    "R = ZZ[x]\n",
    "f = i-> i\n",
    "L = lazySeries(R, f)"
   ]
  },
  {
   "cell_type": "code",
   "execution_count": 92,
   "id": "3fb206a2",
   "metadata": {},
   "outputs": [
    {
     "name": "stdout",
     "output_type": "stream",
     "text": [
      "\n",
      "o92 = 3\n"
     ]
    }
   ],
   "source": [
    "(flatten compositions(1,3))#0"
   ]
  },
  {
   "cell_type": "code",
   "execution_count": 93,
   "id": "2ae3605e",
   "metadata": {},
   "outputs": [
    {
     "name": "stdout",
     "output_type": "stream",
     "text": [
      "\n",
      "o93 = {x}\n",
      "\n",
      "o93 : List\n"
     ]
    }
   ],
   "source": [
    "gens R"
   ]
  },
  {
   "cell_type": "code",
   "execution_count": 94,
   "id": "062cc129",
   "metadata": {},
   "outputs": [
    {
     "name": "stdout",
     "output_type": "stream",
     "text": [
      "\n",
      "       3\n",
      "o94 = x\n",
      "\n",
      "o94 : R\n"
     ]
    }
   ],
   "source": [
    "toMonomial({3}, R)"
   ]
  },
  {
   "cell_type": "code",
   "execution_count": 95,
   "id": "70067246",
   "metadata": {},
   "outputs": [
    {
     "name": "stdout",
     "output_type": "stream",
     "text": [
      "\n",
      "o95 = 6\n"
     ]
    }
   ],
   "source": [
    "coefficient(toMonomial({3}, R), 6*x^3+4*x^2)"
   ]
  },
  {
   "cell_type": "code",
   "execution_count": 96,
   "id": "fe172b2d",
   "metadata": {},
   "outputs": [
    {
     "name": "stdout",
     "output_type": "stream",
     "text": [
      "stdio:182:1:(3): error: expected a list, sequence, hash table, or string\n"
     ]
    }
   ],
   "source": [
    "toMonomial(3, R)"
   ]
  },
  {
   "cell_type": "code",
   "execution_count": 102,
   "id": "fdb31cee",
   "metadata": {},
   "outputs": [
    {
     "name": "stdout",
     "output_type": "stream",
     "text": [
      "stdio:200:13:(3): error: no method for binary operator == applied to objects:\n",
      "--            RingElement (of class Type)\n",
      "--     ==     ZZ (of class Ring)\n"
     ]
    }
   ],
   "source": [
    "RingElement === class 3"
   ]
  },
  {
   "cell_type": "code",
   "execution_count": 104,
   "id": "ad6a1e0a",
   "metadata": {},
   "outputs": [
    {
     "name": "stdout",
     "output_type": "stream",
     "text": [
      "\n",
      "o104 = 6\n"
     ]
    }
   ],
   "source": [
    "coefficient(3, 6*x^3+4*x^2)"
   ]
  },
  {
   "cell_type": "code",
   "execution_count": 110,
   "id": "b5401915",
   "metadata": {},
   "outputs": [
    {
     "name": "stdout",
     "output_type": "stream",
     "text": [
      "HELLO\n",
      "   8      5     2\n",
      "57x  - 91x  + 7x\n",
      "\n",
      "o110 = LazySeries{...4...}\n",
      "\n",
      "o110 : LazySeries\n"
     ]
    }
   ],
   "source": [
    "R = ZZ[x]\n",
    "P = 7*x^2+57*x^8-91*x^5\n",
    "\n",
    "L = lazySeries(P)"
   ]
  },
  {
   "cell_type": "code",
   "execution_count": null,
   "id": "2ee9a25d",
   "metadata": {},
   "outputs": [],
   "source": []
  }
 ],
 "metadata": {
  "kernelspec": {
   "display_name": "M2",
   "language": "text/x-macaulay2",
   "name": "m2"
  },
  "language_info": {
   "codemirror_mode": "macaulay2",
   "file_extension": ".m2",
   "mimetype": "text/x-macaulay2",
   "name": "Macaulay2"
  }
 },
 "nbformat": 4,
 "nbformat_minor": 5
}
