{
 "cells": [
  {
   "cell_type": "code",
   "execution_count": 270,
   "id": "0699e7fb",
   "metadata": {},
   "outputs": [
    {
     "name": "stdout",
     "output_type": "stream",
     "text": [
      "\n",
      "o270 = NewPowerSeries\n",
      "\n",
      "o270 : Package\n"
     ]
    }
   ],
   "source": [
    "loadPackage \"NewPowerSeries\""
   ]
  },
  {
   "cell_type": "code",
   "execution_count": 273,
   "id": "61a3a736",
   "metadata": {},
   "outputs": [
    {
     "name": "stdout",
     "output_type": "stream",
     "text": [
      "(0, 0)\n",
      "  3     2        2     3     2            2\n",
      "2x  + 2x y + 2x*y  + 2y  + 2x  + 2x*y + 2y  + 2x + 2y + 2\n",
      "\n",
      "o273 = LazySeries{...4...}\n",
      "\n",
      "o273 : LazySeries\n"
     ]
    }
   ],
   "source": [
    "R = ZZ/5[x,y]\n",
    "f = (i,j)-> 7\n",
    "L = lazySeries(R, f)"
   ]
  },
  {
   "cell_type": "code",
   "execution_count": 277,
   "id": "e5d6c65b",
   "metadata": {},
   "outputs": [
    {
     "name": "stdout",
     "output_type": "stream",
     "text": [
      "\n",
      "stdio:525:24:(3): error: expected a list, hash table, or sequence\n"
     ]
    }
   ],
   "source": [
    "R = ZZ[x]\n",
    "f = i-> i\n",
    "g = i -> sub(function i#0, R);\n",
    "g 0"
   ]
  },
  {
   "cell_type": "code",
   "execution_count": 278,
   "id": "b7cb988b",
   "metadata": {},
   "outputs": [
    {
     "name": "stdout",
     "output_type": "stream",
     "text": [
      "1 : (0)\n",
      "  3     2\n",
      "3x  + 2x  + x\n",
      "\n",
      "o278 = LazySeries{...4...}\n",
      "\n",
      "o278 : LazySeries\n"
     ]
    }
   ],
   "source": [
    "L = lazySeries(R, f)"
   ]
  },
  {
   "cell_type": "code",
   "execution_count": 237,
   "id": "cac3a767",
   "metadata": {},
   "outputs": [
    {
     "name": "stdout",
     "output_type": "stream",
     "text": [
      "\n",
      "o237 = {3, 4, 6}\n",
      "\n",
      "o237 : List\n"
     ]
    }
   ],
   "source": [
    "apply({{3},{4},{6}}, i-> i#0)"
   ]
  },
  {
   "cell_type": "code",
   "execution_count": 239,
   "id": "1a924b27",
   "metadata": {},
   "outputs": [
    {
     "name": "stdout",
     "output_type": "stream",
     "text": [
      "\n",
      "o239 = {3, 4, 6}\n",
      "\n",
      "o239 : List\n"
     ]
    }
   ],
   "source": [
    "flatten {{3},{4},{6}}\n"
   ]
  },
  {
   "cell_type": "code",
   "execution_count": 280,
   "id": "b2f70817",
   "metadata": {},
   "outputs": [
    {
     "name": "stdout",
     "output_type": "stream",
     "text": [
      "\n",
      "o280 = true\n"
     ]
    }
   ],
   "source": [
    "List === List\n"
   ]
  },
  {
   "cell_type": "code",
   "execution_count": 284,
   "id": "0486d327",
   "metadata": {},
   "outputs": [
    {
     "name": "stdout",
     "output_type": "stream",
     "text": [
      "\n",
      "       ZZ\n",
      "o284 = --\n",
      "        2\n",
      "\n",
      "o284 : QuotientRing\n"
     ]
    }
   ],
   "source": [
    "ZZ/2"
   ]
  },
  {
   "cell_type": "code",
   "execution_count": null,
   "id": "d0305e5e",
   "metadata": {},
   "outputs": [],
   "source": []
  }
 ],
 "metadata": {
  "kernelspec": {
   "display_name": "M2",
   "language": "text/x-macaulay2",
   "name": "m2"
  },
  "language_info": {
   "codemirror_mode": "macaulay2",
   "file_extension": ".m2",
   "mimetype": "text/x-macaulay2",
   "name": "Macaulay2"
  }
 },
 "nbformat": 4,
 "nbformat_minor": 5
}
