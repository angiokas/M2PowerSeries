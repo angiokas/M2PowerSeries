{
 "cells": [
  {
   "cell_type": "code",
   "execution_count": 113,
   "id": "9e285a80",
   "metadata": {},
   "outputs": [
    {
     "name": "stdout",
     "output_type": "stream",
     "text": [
      "\n",
      "o113 = NewPowerSeries\n",
      "\n",
      "o113 : Package\n"
     ]
    }
   ],
   "source": [
    "loadPackage \"NewPowerSeries\""
   ]
  },
  {
   "cell_type": "code",
   "execution_count": 116,
   "id": "8cf2740d",
   "metadata": {},
   "outputs": [
    {
     "name": "stdout",
     "output_type": "stream",
     "text": [
      "\n",
      "o116 = LazySeries{...4...}\n",
      "\n",
      "o116 : LazySeries\n"
     ]
    }
   ],
   "source": [
    "R = ZZ[x]\n",
    "L = lazySeries(R, i-> i)\n",
    "M = lazySeries(R, i-> i+5)"
   ]
  },
  {
   "cell_type": "code",
   "execution_count": 117,
   "id": "dec860db",
   "metadata": {},
   "outputs": [
    {
     "name": "stdout",
     "output_type": "stream",
     "text": [
      "0\n",
      "0\n",
      "FINALRESULT: 0\n",
      "1\n",
      "1\n",
      "FINALRESULT: 5\n",
      "2\n",
      "2\n",
      "FINALRESULT: 16\n",
      "3\n",
      "3\n",
      "FINALRESULT: 34\n",
      "4\n",
      "4\n",
      "FINALRESULT: 60\n",
      "5\n",
      "5\n",
      "FINALRESULT: 95\n",
      "6\n",
      "6\n",
      "FINALRESULT: 140\n",
      "0\n",
      "0\n",
      "FINALRESULT: 0\n",
      "\n",
      "o117 = LazySeries{...4...}\n",
      "\n",
      "o117 : LazySeries\n"
     ]
    }
   ],
   "source": [
    "K = L* M"
   ]
  },
  {
   "cell_type": "code",
   "execution_count": 118,
   "id": "02db00f8",
   "metadata": {},
   "outputs": [
    {
     "name": "stdout",
     "output_type": "stream",
     "text": [
      "\n",
      "           6      5      4      3      2\n",
      "o118 = 140x  + 95x  + 60x  + 34x  + 16x  + 5x\n",
      "\n",
      "o118 : R\n"
     ]
    }
   ],
   "source": [
    "K.cache.displayedPolynomial"
   ]
  },
  {
   "cell_type": "code",
   "execution_count": 93,
   "id": "06f83cff",
   "metadata": {},
   "outputs": [
    {
     "name": "stdout",
     "output_type": "stream",
     "text": [
      "\n",
      "        3     2\n",
      "o93 = 3x  + 2x  + x\n",
      "\n",
      "o93 : R\n"
     ]
    }
   ],
   "source": [
    "a = L.cache.displayedPolynomial"
   ]
  },
  {
   "cell_type": "code",
   "execution_count": 96,
   "id": "57015f4d",
   "metadata": {},
   "outputs": [
    {
     "name": "stdout",
     "output_type": "stream",
     "text": [
      "\n",
      "        8     7     6     5     4     3     2\n",
      "o96 = 8x  + 7x  + 6x  + 5x  + 4x  + 3x  + 2x  + x\n",
      "\n",
      "o96 : R\n"
     ]
    }
   ],
   "source": [
    "(changeDegree(L, 8)).cache.displayedPolynomial"
   ]
  },
  {
   "cell_type": "code",
   "execution_count": null,
   "id": "f4ece7c4",
   "metadata": {},
   "outputs": [],
   "source": [
    "b = M.cache.displayedPolynomial\n"
   ]
  },
  {
   "cell_type": "code",
   "execution_count": null,
   "id": "598ab8d3",
   "metadata": {},
   "outputs": [],
   "source": [
    "a*b"
   ]
  },
  {
   "cell_type": "code",
   "execution_count": 81,
   "id": "dc2c29f2",
   "metadata": {},
   "outputs": [
    {
     "name": "stdout",
     "output_type": "stream",
     "text": [
      "\n",
      "o81 = LazySeries{...4...}\n",
      "\n",
      "o81 : LazySeries\n"
     ]
    }
   ],
   "source": [
    "changeDegree(K, 5)"
   ]
  },
  {
   "cell_type": "code",
   "execution_count": 82,
   "id": "8262c209",
   "metadata": {},
   "outputs": [
    {
     "name": "stdout",
     "output_type": "stream",
     "text": [
      "\n",
      "          6      5      4      3      2\n",
      "o82 = 140x  + 95x  + 60x  + 34x  + 16x  + 5x\n",
      "\n",
      "o82 : R\n"
     ]
    }
   ],
   "source": [
    "K.cache.displayedPolynomial"
   ]
  },
  {
   "cell_type": "code",
   "execution_count": null,
   "id": "64a4dd8a",
   "metadata": {},
   "outputs": [],
   "source": []
  }
 ],
 "metadata": {
  "kernelspec": {
   "display_name": "M2",
   "language": "text/x-macaulay2",
   "name": "m2"
  },
  "language_info": {
   "codemirror_mode": "macaulay2",
   "file_extension": ".m2",
   "mimetype": "text/x-macaulay2",
   "name": "Macaulay2"
  }
 },
 "nbformat": 4,
 "nbformat_minor": 5
}
