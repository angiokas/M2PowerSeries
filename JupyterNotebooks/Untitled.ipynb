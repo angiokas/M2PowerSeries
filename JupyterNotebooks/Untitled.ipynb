{
 "cells": [
  {
   "cell_type": "code",
   "execution_count": 1,
   "id": "66346dff",
   "metadata": {},
   "outputs": [
    {
     "name": "stdout",
     "output_type": "stream",
     "text": [
      "\n",
      "o1 = LazyPowerSeries\n",
      "\n",
      "o1 : Package\n"
     ]
    }
   ],
   "source": [
    "loadPackage \"LazyPowerSeries\""
   ]
  },
  {
   "cell_type": "code",
   "execution_count": 2,
   "id": "c672badc",
   "metadata": {},
   "outputs": [
    {
     "name": "stdout",
     "output_type": "stream",
     "text": [
      "\n",
      "o2 = R\n",
      "\n",
      "o2 : PolynomialRing\n"
     ]
    }
   ],
   "source": [
    "R = ZZ[x]"
   ]
  },
  {
   "cell_type": "code",
   "execution_count": null,
   "id": "19d77e22",
   "metadata": {},
   "outputs": [],
   "source": [
    "function :="
   ]
  },
  {
   "cell_type": "code",
   "execution_count": null,
   "id": "605b142f",
   "metadata": {},
   "outputs": [],
   "source": [
    "function := (p, polynomial, R) -> (\n",
    "    \n",
    "    workingf = polynomial;\n",
    "    coefficientslist = {};\n",
    "    displayedDegree = 5;\n",
    "    m = ideal gens R;\n",
    "\n",
    "    for i from 0 to displayedDegree do(\n",
    "        workingideal = m^(i+1);\n",
    "        workinglist = first entries gens (m^i);\n",
    "        print workinglist;\n",
    "        n = #workinglist;\n",
    "\n",
    "        for j from 0 to n do(\n",
    "            currentmonomial = workinglist#0;\n",
    "            print currentmonomial;\n",
    "            workinglist = drop(workinglist,{0,0});\n",
    "            print workinglist;\n",
    "            workingideal2 = ideal(workinglist) + workingideal;\n",
    "            print workingideal2;\n",
    "            workingf2 = workingf % workingideal2;\n",
    "            print workingf2;\n",
    "            c = coefficient();\n",
    "\n",
    "            workingf = workingf - workingf2;\n",
    "            );\n",
    "        );\n",
    "        \n",
    ")"
   ]
  },
  {
   "cell_type": "code",
   "execution_count": 3,
   "id": "1bef2f48",
   "metadata": {},
   "outputs": [
    {
     "name": "stdout",
     "output_type": "stream",
     "text": [
      "\n",
      "o3 = 22x + 105\n",
      "\n",
      "o3 : R\n"
     ]
    }
   ],
   "source": [
    "f = 7+x+2*7^2 + 3*7*x"
   ]
  },
  {
   "cell_type": "code",
   "execution_count": 4,
   "id": "da245485",
   "metadata": {},
   "outputs": [
    {
     "name": "stdout",
     "output_type": "stream",
     "text": [
      "\n",
      "o4 = ideal (x, 7)\n",
      "\n",
      "o4 : Ideal of R\n"
     ]
    }
   ],
   "source": [
    "m = ideal(x,7)"
   ]
  },
  {
   "cell_type": "code",
   "execution_count": 5,
   "id": "1ac59cb6",
   "metadata": {},
   "outputs": [
    {
     "name": "stdout",
     "output_type": "stream",
     "text": [
      "\n",
      "o5 = 0\n",
      "\n",
      "o5 : R\n"
     ]
    }
   ],
   "source": [
    "f %m "
   ]
  },
  {
   "cell_type": "code",
   "execution_count": 6,
   "id": "a43fe040",
   "metadata": {},
   "outputs": [
    {
     "name": "stdout",
     "output_type": "stream",
     "text": [
      "\n",
      "o6 = 22x + 105\n",
      "\n",
      "o6 : R\n"
     ]
    }
   ],
   "source": [
    "working_f = f - (f%m)"
   ]
  },
  {
   "cell_type": "code",
   "execution_count": 7,
   "id": "ab6ef4f0",
   "metadata": {},
   "outputs": [
    {
     "name": "stdout",
     "output_type": "stream",
     "text": [
      "\n",
      "o7 = 7\n",
      "\n",
      "o7 : R\n"
     ]
    }
   ],
   "source": [
    "working_remainder = working_f % ideal(7^2,x)"
   ]
  },
  {
   "cell_type": "code",
   "execution_count": 8,
   "id": "b1a88dfc",
   "metadata": {},
   "outputs": [
    {
     "name": "stdout",
     "output_type": "stream",
     "text": [
      "\n",
      "o8 = 1\n"
     ]
    }
   ],
   "source": [
    "r= floor(sub(working_f % ideal(7^2,x),ZZ) / 7)"
   ]
  },
  {
   "cell_type": "code",
   "execution_count": 9,
   "id": "eab4fbf4",
   "metadata": {},
   "outputs": [
    {
     "name": "stdout",
     "output_type": "stream",
     "text": [
      "\n",
      "o9 = 22x + 98\n",
      "\n",
      "o9 : R\n"
     ]
    }
   ],
   "source": [
    "working_f = working_f - working_remainder"
   ]
  },
  {
   "cell_type": "code",
   "execution_count": 10,
   "id": "af0be1c4",
   "metadata": {},
   "outputs": [
    {
     "name": "stdout",
     "output_type": "stream",
     "text": [
      "\n",
      "o10 = x\n",
      "\n",
      "o10 : R\n"
     ]
    }
   ],
   "source": [
    "working_f % ideal(7^2, 7*x, x^2)"
   ]
  },
  {
   "cell_type": "code",
   "execution_count": 11,
   "id": "dc2d6641",
   "metadata": {},
   "outputs": [
    {
     "name": "stdout",
     "output_type": "stream",
     "text": [
      "\n",
      "o11 = 1\n"
     ]
    }
   ],
   "source": [
    "coefficient(x,working_f % ideal(7^2, 7*x, x^2))"
   ]
  },
  {
   "cell_type": "code",
   "execution_count": 12,
   "id": "732b67ff",
   "metadata": {},
   "outputs": [
    {
     "name": "stdout",
     "output_type": "stream",
     "text": [
      "\n",
      "o12 = 21x + 98\n",
      "\n",
      "o12 : R\n"
     ]
    }
   ],
   "source": [
    "working_f = working_f - working_f % ideal(7^2, 7*x, x^2)"
   ]
  },
  {
   "cell_type": "code",
   "execution_count": 13,
   "id": "6c426134",
   "metadata": {},
   "outputs": [
    {
     "name": "stdout",
     "output_type": "stream",
     "text": [
      "\n",
      "o13 = 98\n",
      "\n",
      "o13 : R\n"
     ]
    }
   ],
   "source": [
    "working_f % ideal(7^3,7*x,x^2)"
   ]
  },
  {
   "cell_type": "code",
   "execution_count": 14,
   "id": "e60b9907",
   "metadata": {},
   "outputs": [
    {
     "name": "stdout",
     "output_type": "stream",
     "text": [
      "\n",
      "o14 = 2\n"
     ]
    }
   ],
   "source": [
    "r= floor(sub(working_f % ideal(7^3,7*x,x^2),ZZ) / 7^2)"
   ]
  },
  {
   "cell_type": "code",
   "execution_count": null,
   "id": "599c57a4",
   "metadata": {},
   "outputs": [],
   "source": [
    "L = {1,2,3,4,4}"
   ]
  },
  {
   "cell_type": "code",
   "execution_count": null,
   "id": "9420d6a5",
   "metadata": {},
   "outputs": [],
   "source": [
    "drop(L,{0,5})"
   ]
  },
  {
   "cell_type": "code",
   "execution_count": null,
   "id": "2cf1eff6",
   "metadata": {},
   "outputs": [],
   "source": [
    "listForm(7*x^5+x)\n"
   ]
  },
  {
   "cell_type": "code",
   "execution_count": null,
   "id": "7cca0eba",
   "metadata": {},
   "outputs": [],
   "source": []
  }
 ],
 "metadata": {
  "kernelspec": {
   "display_name": "M2",
   "language": "text/x-macaulay2",
   "name": "m2"
  },
  "language_info": {
   "codemirror_mode": "macaulay2",
   "file_extension": ".m2",
   "mimetype": "text/x-macaulay2",
   "name": "Macaulay2"
  }
 },
 "nbformat": 4,
 "nbformat_minor": 5
}
