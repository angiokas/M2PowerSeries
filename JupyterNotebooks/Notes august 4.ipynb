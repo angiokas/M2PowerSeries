{
 "cells": [
  {
   "cell_type": "code",
   "execution_count": 3,
   "id": "8877e06e",
   "metadata": {},
   "outputs": [
    {
     "name": "stdout",
     "output_type": "stream",
     "text": [
      "\n",
      "o3 = LazySeries{cache => CacheTable{}                                                                                            }\n",
      "                coefficientFunction => -*Function[/home/annie/M2PowerSeries/NewPowerSeries/PowerSeriesFunctions.m2:38:12-38:31]*-\n",
      "                computedDegree => 2\n",
      "                constantTerm => -1\n",
      "                displayedDegree => 2\n",
      "                                        2          2\n",
      "                displayedPolynomial => x  + x*y + z  + z - 1\n",
      "                maxDegree => infinity\n",
      "                seriesRing => R\n",
      "                termVariables => {x, y, z}\n",
      "\n",
      "o3 : LazySeries\n"
     ]
    }
   ],
   "source": [
    "loadPackage \"NewPowerSeries\"\n",
    "R = ZZ/5[x,y,z]\n",
    "S = lazySeries(x^2+x*y+z^2+ 54+z)"
   ]
  },
  {
   "cell_type": "code",
   "execution_count": 33,
   "id": "0fe106b0",
   "metadata": {},
   "outputs": [
    {
     "name": "stdout",
     "output_type": "stream",
     "text": [
      "\n",
      "o33 = LazySeries{cache => CacheTable{}                                                                                            }\n",
      "                 coefficientFunction => -*Function[/home/annie/M2PowerSeries/NewPowerSeries/PowerSeriesFunctions.m2:38:12-38:31]*-\n",
      "                 computedDegree => 10\n",
      "                 constantTerm => -1\n",
      "                 displayedDegree => 3\n",
      "                                         2          2\n",
      "                 displayedPolynomial => x  + x*y + z  - 1\n",
      "                 maxDegree => infinity\n",
      "                 seriesRing => R\n",
      "                 termVariables => {x, y, z}\n",
      "\n",
      "o33 : LazySeries\n"
     ]
    }
   ],
   "source": [
    "changeDegree(S,3)"
   ]
  },
  {
   "cell_type": "code",
   "execution_count": 34,
   "id": "b5b768ad",
   "metadata": {},
   "outputs": [
    {
     "name": "stdout",
     "output_type": "stream",
     "text": [
      "stdio:73:1:(3): error: no method for binary operator == applied to objects:\n",
      "--            {2, 0, 0} (of class List)\n",
      "--     ==     0 (of class ZZ)\n"
     ]
    }
   ],
   "source": [
    "getCoefficient(S,({2,0,0},{1,1,0},{1,0,0}))"
   ]
  },
  {
   "cell_type": "code",
   "execution_count": 35,
   "id": "faf6a9f7",
   "metadata": {},
   "outputs": [
    {
     "name": "stdout",
     "output_type": "stream",
     "text": [
      "\n",
      "o35 = Sequence\n",
      "\n",
      "o35 : Type\n"
     ]
    }
   ],
   "source": [
    "class ({2,0,0},{1,1,0},{1,0,0})"
   ]
  },
  {
   "cell_type": "code",
   "execution_count": 4,
   "id": "4836b84a",
   "metadata": {},
   "outputs": [
    {
     "name": "stdout",
     "output_type": "stream",
     "text": [
      "\r\n",
      "o4 = [KERNEL ENFORCED TIMEOUT]"
     ]
    }
   ],
   "source": [
    "time S*S*S*S"
   ]
  },
  {
   "cell_type": "code",
   "execution_count": 54,
   "id": "d3ff9039",
   "metadata": {},
   "outputs": [
    {
     "name": "stdout",
     "output_type": "stream",
     "text": [
      "\r\n",
      "o54 = [KERNEL ENFORCED TIMEOUT]"
     ]
    }
   ],
   "source": [
    "time S^4"
   ]
  },
  {
   "cell_type": "code",
   "execution_count": null,
   "id": "a595c123",
   "metadata": {},
   "outputs": [],
   "source": []
  }
 ],
 "metadata": {
  "kernelspec": {
   "display_name": "M2",
   "language": "text/x-macaulay2",
   "name": "m2"
  },
  "language_info": {
   "codemirror_mode": "macaulay2",
   "file_extension": ".m2",
   "mimetype": "text/x-macaulay2",
   "name": "Macaulay2"
  }
 },
 "nbformat": 4,
 "nbformat_minor": 5
}
