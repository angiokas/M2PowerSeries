{
 "cells": [
  {
   "cell_type": "code",
   "execution_count": 43,
   "id": "b2a78468",
   "metadata": {},
   "outputs": [
    {
     "name": "stdout",
     "output_type": "stream",
     "text": [
      "\n",
      "o43 = LazyPowerSeries\n",
      "\n",
      "o43 : Package\n"
     ]
    }
   ],
   "source": [
    "loadPackage \"LazyPowerSeries\""
   ]
  },
  {
   "cell_type": "code",
   "execution_count": 44,
   "id": "7bf4dfcf",
   "metadata": {},
   "outputs": [
    {
     "name": "stdout",
     "output_type": "stream",
     "text": [
      "\n",
      "o44 = R\n",
      "\n",
      "o44 : PolynomialRing\n"
     ]
    }
   ],
   "source": [
    "R = ZZ[x]"
   ]
  },
  {
   "cell_type": "code",
   "execution_count": 45,
   "id": "d6f7e3bd",
   "metadata": {},
   "outputs": [
    {
     "name": "stdout",
     "output_type": "stream",
     "text": [
      "\n",
      "            2     3     4     5\n",
      "o45 = x + 2x  + 3x  + 4x  + 5x  + ... \n",
      "\n",
      "o45 : LazySeries\n"
     ]
    }
   ],
   "source": [
    "lazySeries(R, i->i)"
   ]
  },
  {
   "cell_type": "code",
   "execution_count": 46,
   "id": "aefdbe33",
   "metadata": {},
   "outputs": [
    {
     "name": "stdout",
     "output_type": "stream",
     "text": [
      "\n",
      "        5     4     3     2\n",
      "o46 = 5x  + 5x  + 5x  + 5x  + 5x + 5\n",
      "\n",
      "o46 : R\n"
     ]
    }
   ],
   "source": [
    "P = calculatePolynomial(5,R,i->5)"
   ]
  },
  {
   "cell_type": "code",
   "execution_count": 47,
   "id": "faa99f06",
   "metadata": {},
   "outputs": [
    {
     "name": "stdout",
     "output_type": "stream",
     "text": [
      "\n",
      "        5     4     3     2\n",
      "o47 = 5x  + 5x  + 5x  + 5x  + 5x + 5\n",
      "\n",
      "o47 : R\n"
     ]
    }
   ],
   "source": [
    "truncate(5,P)"
   ]
  },
  {
   "cell_type": "code",
   "execution_count": 48,
   "id": "7a92876b",
   "metadata": {},
   "outputs": [
    {
     "name": "stdout",
     "output_type": "stream",
     "text": [
      "\n",
      "o48 = ZZ\n",
      "\n",
      "o48 : Ring\n"
     ]
    }
   ],
   "source": [
    "R = ZZ"
   ]
  },
  {
   "cell_type": "code",
   "execution_count": 49,
   "id": "6e69e95c",
   "metadata": {},
   "outputs": [
    {
     "name": "stdout",
     "output_type": "stream",
     "text": [
      "\n",
      "o49 = 0\n"
     ]
    }
   ],
   "source": [
    "L = calculatePolynomial(5, R, i-> 2)"
   ]
  },
  {
   "cell_type": "code",
   "execution_count": 53,
   "id": "2d24b61e",
   "metadata": {},
   "outputs": [
    {
     "name": "stdout",
     "output_type": "stream",
     "text": [
      "\n",
      "o53 = 2 + 2*5 + 2*5^2 + 2*5^3 + 2*5^4 + 2*5^5 + ... \n",
      "\n",
      "o53 : PadicSeries\n"
     ]
    }
   ],
   "source": [
    "B = padics(5,R, i-> 2)"
   ]
  },
  {
   "cell_type": "code",
   "execution_count": 57,
   "id": "705bed3c",
   "metadata": {},
   "outputs": [
    {
     "name": "stdout",
     "output_type": "stream",
     "text": [
      "\n",
      "o57 = 7810\n"
     ]
    }
   ],
   "source": [
    "B.cache.displayedPolynomial"
   ]
  },
  {
   "cell_type": "code",
   "execution_count": 58,
   "id": "cc93c486",
   "metadata": {},
   "outputs": [
    {
     "name": "stdout",
     "output_type": "stream",
     "text": [
      "\n",
      "o58 = 7810\n"
     ]
    }
   ],
   "source": [
    "L = 7810"
   ]
  },
  {
   "cell_type": "code",
   "execution_count": 63,
   "id": "43035670",
   "metadata": {},
   "outputs": [
    {
     "name": "stdout",
     "output_type": "stream",
     "text": [
      "\n",
      "o63 = 1560\n"
     ]
    }
   ],
   "source": [
    "truncate(4, L, Prime => 5)"
   ]
  },
  {
   "cell_type": "raw",
   "id": "8c82cc38",
   "metadata": {},
   "source": []
  }
 ],
 "metadata": {
  "kernelspec": {
   "display_name": "M2",
   "language": "text/x-macaulay2",
   "name": "m2"
  },
  "language_info": {
   "codemirror_mode": "macaulay2",
   "file_extension": ".m2",
   "mimetype": "text/x-macaulay2",
   "name": "Macaulay2"
  }
 },
 "nbformat": 4,
 "nbformat_minor": 5
}
