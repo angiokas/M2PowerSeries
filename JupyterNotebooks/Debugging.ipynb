{
 "cells": [
  {
   "cell_type": "code",
   "execution_count": 12,
   "id": "07c808a1",
   "metadata": {},
   "outputs": [
    {
     "name": "stdout",
     "output_type": "stream",
     "text": [
      "\n",
      "o13 = ./\n",
      "      /home/annie/.Macaulay2/code/\n",
      "      /home/annie/.Macaulay2/local/share/Macaulay2/\n",
      "      /usr/share/Macaulay2/\n",
      "      ../\n",
      "      ~/git/M2PowerSeries/\n",
      "\u001b[?2004h"
     ]
    }
   ],
   "source": [
    "path = append(path, \"~/git/M2PowerSeries/\"); stack path"
   ]
  },
  {
   "cell_type": "code",
   "execution_count": 14,
   "id": "b2a78468",
   "metadata": {},
   "outputs": [
    {
     "name": "stdout",
     "output_type": "stream",
     "text": [
      "\u001b[?2004l\r",
      "-- storing configuration for package FourTiTwo in /home/annie/.Macaulay2/init-FourTiTwo.m2\n",
      "\n",
      "o14 = LazyPowerSeries\n",
      "\n",
      "o14 : Package\n",
      "\u001b[?2004h"
     ]
    }
   ],
   "source": [
    "loadPackage \"LazyPowerSeries\""
   ]
  },
  {
   "cell_type": "code",
   "execution_count": 15,
   "id": "7bf4dfcf",
   "metadata": {},
   "outputs": [
    {
     "name": "stdout",
     "output_type": "stream",
     "text": [
      "\n",
      "o15 = R\n",
      "\n",
      "o15 : PolynomialRing\n",
      "\u001b[?2004h"
     ]
    }
   ],
   "source": [
    "R = ZZ[x]"
   ]
  },
  {
   "cell_type": "code",
   "execution_count": 16,
   "id": "d6f7e3bd",
   "metadata": {},
   "outputs": [
    {
     "name": "stdout",
     "output_type": "stream",
     "text": [
      "\u001b[?2004l\r",
      "  5     4     3     2\n",
      "5x  + 4x  + 3x  + 2x  + x\n",
      "\n",
      "            2     3     4     5\n",
      "o16 = x + 2x  + 3x  + 4x  + 5x  + ... \n",
      "\n",
      "o16 : LazySeries\n",
      "\u001b[?2004h"
     ]
    }
   ],
   "source": [
    "lazySeries(R, i->i)"
   ]
  },
  {
   "cell_type": "code",
   "execution_count": 17,
   "id": "aefdbe33",
   "metadata": {},
   "outputs": [
    {
     "name": "stdout",
     "output_type": "stream",
     "text": [
      "\n",
      "        5     4     3     2\n",
      "o17 = 5x  + 5x  + 5x  + 5x  + 5x + 5\n",
      "\n",
      "o17 : R\n",
      "\u001b[?2004h"
     ]
    }
   ],
   "source": [
    "P = calculatePolynomial(5,R,i->5)"
   ]
  },
  {
   "cell_type": "code",
   "execution_count": 18,
   "id": "faa99f06",
   "metadata": {},
   "outputs": [
    {
     "name": "stdout",
     "output_type": "stream",
     "text": [
      "\n",
      "        5     4     3     2\n",
      "o18 = 5x  + 5x  + 5x  + 5x  + 5x + 5\n",
      "\n",
      "o18 : R\n",
      "\u001b[?2004h"
     ]
    }
   ],
   "source": [
    "truncate(5,P)"
   ]
  },
  {
   "cell_type": "code",
   "execution_count": 19,
   "id": "7a92876b",
   "metadata": {},
   "outputs": [
    {
     "name": "stdout",
     "output_type": "stream",
     "text": [
      "\n",
      "o19 = ZZ\n",
      "\n",
      "o19 : Ring\n",
      "\u001b[?2004h"
     ]
    }
   ],
   "source": [
    "R = ZZ"
   ]
  },
  {
   "cell_type": "code",
   "execution_count": 20,
   "id": "6e69e95c",
   "metadata": {},
   "outputs": [
    {
     "name": "stdout",
     "output_type": "stream",
     "text": [
      "\n",
      "o20 = 0\n",
      "\u001b[?2004h"
     ]
    }
   ],
   "source": [
    "L = calculatePolynomial(5, R, i-> 2)"
   ]
  },
  {
   "cell_type": "code",
   "execution_count": 21,
   "id": "2d24b61e",
   "metadata": {},
   "outputs": [
    {
     "name": "stdout",
     "output_type": "stream",
     "text": [
      "\n",
      "o21 = 2 + 2*5 + 2*5^2 + 2*5^3 + 2*5^4 + 2*5^5 + ... \n",
      "\n",
      "o21 : PadicSeries\n",
      "\u001b[?2004h"
     ]
    }
   ],
   "source": [
    "B = padics(5,R, i-> 2)"
   ]
  },
  {
   "cell_type": "code",
   "execution_count": 22,
   "id": "705bed3c",
   "metadata": {},
   "outputs": [
    {
     "name": "stdout",
     "output_type": "stream",
     "text": [
      "\n",
      "o22 = 7810\n",
      "\u001b[?2004h"
     ]
    }
   ],
   "source": [
    "B.cache.displayedPolynomial"
   ]
  },
  {
   "cell_type": "code",
   "execution_count": 23,
   "id": "cc93c486",
   "metadata": {},
   "outputs": [
    {
     "name": "stdout",
     "output_type": "stream",
     "text": [
      "\n",
      "o23 = 7810\n",
      "\u001b[?2004h"
     ]
    }
   ],
   "source": [
    "L = 7810"
   ]
  },
  {
   "cell_type": "code",
   "execution_count": 24,
   "id": "43035670",
   "metadata": {},
   "outputs": [
    {
     "name": "stdout",
     "output_type": "stream",
     "text": [
      "\n",
      "o24 = 1560\n",
      "\u001b[?2004h"
     ]
    }
   ],
   "source": [
    "truncate(4, L, Prime => 5)"
   ]
  },
  {
   "cell_type": "markdown",
   "id": "31f2bd06",
   "metadata": {},
   "source": [
    "# `changeDegree` Testing\n"
   ]
  },
  {
   "cell_type": "code",
   "execution_count": 25,
   "id": "9c9ce0f2",
   "metadata": {},
   "outputs": [
    {
     "name": "stdout",
     "output_type": "stream",
     "text": [
      "\n",
      "o25 = R\n",
      "\n",
      "o25 : PolynomialRing\n",
      "\u001b[?2004h"
     ]
    }
   ],
   "source": [
    "R = ZZ[x]"
   ]
  },
  {
   "cell_type": "code",
   "execution_count": 26,
   "id": "6c443242",
   "metadata": {},
   "outputs": [
    {
     "name": "stdout",
     "output_type": "stream",
     "text": [
      "\u001b[?2004l\r",
      "  5     4     3     2\n",
      "2x  + 2x  + 2x  + 2x  + 2x + 2\n",
      "\n",
      "                 2     3     4     5\n",
      "o26 = 2 + 2x + 2x  + 2x  + 2x  + 2x  + ... \n",
      "\n",
      "o26 : LazySeries\n",
      "\u001b[?2004h"
     ]
    }
   ],
   "source": [
    "L = lazySeries(R, i-> 2)"
   ]
  },
  {
   "cell_type": "code",
   "execution_count": 27,
   "id": "9ccf10dd",
   "metadata": {},
   "outputs": [
    {
     "name": "stdout",
     "output_type": "stream",
     "text": [
      "\n",
      "o27 = CacheTable{ComputedDegree => 5                                  }\n",
      "                 DisplayedDegree => 5\n",
      "                                          5     4     3     2\n",
      "                 displayedPolynomial => 2x  + 2x  + 2x  + 2x  + 2x + 2\n",
      "                                         5     4     3     2\n",
      "                 computedPolynomial => 2x  + 2x  + 2x  + 2x  + 2x + 2\n",
      "\u001b[?2004h"
     ]
    }
   ],
   "source": [
    "peek L.cache"
   ]
  },
  {
   "cell_type": "code",
   "execution_count": 28,
   "id": "c6916bb3",
   "metadata": {},
   "outputs": [
    {
     "name": "stdout",
     "output_type": "stream",
     "text": [
      "\n",
      "                 2     3     4     5     6     7     8     9     10\n",
      "o28 = 2 + 2x + 2x  + 2x  + 2x  + 2x  + 2x  + 2x  + 2x  + 2x  + 2x   + ... \n",
      "\n",
      "o28 : LazySeries\n",
      "\u001b[?2004h"
     ]
    }
   ],
   "source": [
    "changeDegree(L, 10)"
   ]
  },
  {
   "cell_type": "code",
   "execution_count": 29,
   "id": "91da503c",
   "metadata": {},
   "outputs": [
    {
     "name": "stdout",
     "output_type": "stream",
     "text": [
      "\n",
      "o29 = CacheTable{ComputedDegree => 10                                                                }\n",
      "                 DisplayedDegree => 10\n",
      "                                          10     9     8     7     6     5     4     3     2\n",
      "                 displayedPolynomial => 2x   + 2x  + 2x  + 2x  + 2x  + 2x  + 2x  + 2x  + 2x  + 2x + 2\n",
      "                                         10     9     8     7     6     5     4     3     2\n",
      "                 computedPolynomial => 2x   + 2x  + 2x  + 2x  + 2x  + 2x  + 2x  + 2x  + 2x  + 2x + 2\n",
      "\u001b[?2004h"
     ]
    }
   ],
   "source": [
    "peek L.cache"
   ]
  },
  {
   "cell_type": "code",
   "execution_count": 30,
   "id": "e7c4dd9e",
   "metadata": {},
   "outputs": [
    {
     "name": "stdout",
     "output_type": "stream",
     "text": [
      "\n",
      "                 2     3     4     5     6\n",
      "o30 = 2 + 2x + 2x  + 2x  + 2x  + 2x  + 2x  + ... \n",
      "\n",
      "o30 : LazySeries\n",
      "\u001b[?2004h"
     ]
    }
   ],
   "source": [
    "changeDegree(L, 6)"
   ]
  },
  {
   "cell_type": "code",
   "execution_count": 31,
   "id": "4f51fe1c",
   "metadata": {},
   "outputs": [
    {
     "name": "stdout",
     "output_type": "stream",
     "text": [
      "\n",
      "o31 = CacheTable{ComputedDegree => 10                                                               }\n",
      "                 DisplayedDegree => 6\n",
      "                                          6     5     4     3     2\n",
      "                 displayedPolynomial => 2x  + 2x  + 2x  + 2x  + 2x  + 2x + 2\n",
      "                                         10     9     8     7     6     5     4     3     2\n",
      "                 computedPolynomial => 2x   + 2x  + 2x  + 2x  + 2x  + 2x  + 2x  + 2x  + 2x  + 2x + 2\n",
      "\u001b[?2004h"
     ]
    }
   ],
   "source": [
    "peek L.cache"
   ]
  },
  {
   "cell_type": "code",
   "execution_count": null,
   "id": "efd5cb35",
   "metadata": {},
   "outputs": [],
   "source": []
  },
  {
   "cell_type": "code",
   "execution_count": null,
   "id": "4c4c1df3",
   "metadata": {},
   "outputs": [],
   "source": []
  },
  {
   "cell_type": "code",
   "execution_count": null,
   "id": "5314511d",
   "metadata": {},
   "outputs": [],
   "source": []
  }
 ],
 "metadata": {
  "kernelspec": {
   "display_name": "M2",
   "language": "text/x-macaulay2",
   "name": "m2"
  },
  "language_info": {
   "codemirror_mode": "macaulay2",
   "file_extension": ".m2",
   "mimetype": "text/x-macaulay2",
   "name": "Macaulay2"
  }
 },
 "nbformat": 4,
 "nbformat_minor": 5
}
