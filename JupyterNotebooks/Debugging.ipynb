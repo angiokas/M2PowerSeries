{
 "cells": [
  {
   "cell_type": "code",
   "execution_count": 1,
   "id": "b2a78468",
   "metadata": {},
   "outputs": [
    {
     "name": "stdout",
     "output_type": "stream",
     "text": [
      "\n",
      "o1 = LazyPowerSeries\n",
      "\n",
      "o1 : Package\n"
     ]
    }
   ],
   "source": [
    "loadPackage \"LazyPowerSeries\""
   ]
  },
  {
   "cell_type": "code",
   "execution_count": 2,
   "id": "7bf4dfcf",
   "metadata": {},
   "outputs": [
    {
     "name": "stdout",
     "output_type": "stream",
     "text": [
      "\n",
      "o2 = R\n",
      "\n",
      "o2 : PolynomialRing\n"
     ]
    }
   ],
   "source": [
    "R = ZZ[x]"
   ]
  },
  {
   "cell_type": "code",
   "execution_count": 3,
   "id": "d6f7e3bd",
   "metadata": {},
   "outputs": [
    {
     "name": "stdout",
     "output_type": "stream",
     "text": [
      "OptionTable{}\n",
      "      5     4     3     2\n",
      "(5, 5x  + 4x  + 3x  + 2x  + x)\n",
      "stdio:8:1:(3): error: no method found for applying part to:\n",
      "     argument 1 :  0 (of class ZZ)\n",
      "     argument 2 :  OptionTable{} (of class OptionTable)\n",
      "                         5     4     3     2\n",
      "     argument 3 :  (5, 5x  + 4x  + 3x  + 2x  + x) (of class Sequence)\n"
     ]
    }
   ],
   "source": [
    "lazySeries(R, i->i)"
   ]
  },
  {
   "cell_type": "code",
   "execution_count": 6,
   "id": "aefdbe33",
   "metadata": {},
   "outputs": [
    {
     "name": "stdout",
     "output_type": "stream",
     "text": [
      "\n",
      "       5     4     3     2\n",
      "o6 = 5x  + 5x  + 5x  + 5x  + 5x + 5\n",
      "\n",
      "o6 : R\n"
     ]
    }
   ],
   "source": [
    "P = calculatePolynomial(5,R,i->5)"
   ]
  },
  {
   "cell_type": "code",
   "execution_count": 7,
   "id": "faa99f06",
   "metadata": {},
   "outputs": [
    {
     "name": "stdout",
     "output_type": "stream",
     "text": [
      "OptionTable{}\n",
      "      5     4     3     2\n",
      "(5, 5x  + 5x  + 5x  + 5x  + 5x + 5)\n",
      "stdio:20:1:(3): error: no method found for applying part to:\n",
      "     argument 1 :  0 (of class ZZ)\n",
      "     argument 2 :  OptionTable{} (of class OptionTable)\n",
      "                         5     4     3     2\n",
      "     argument 3 :  (5, 5x  + 5x  + 5x  + 5x  + 5x + 5) (of class Sequence)\n"
     ]
    }
   ],
   "source": [
    "truncate(5,P)"
   ]
  },
  {
   "cell_type": "code",
   "execution_count": null,
   "id": "11299b4e",
   "metadata": {},
   "outputs": [],
   "source": []
  }
 ],
 "metadata": {
  "kernelspec": {
   "display_name": "M2",
   "language": "text/x-macaulay2",
   "name": "m2"
  },
  "language_info": {
   "codemirror_mode": "macaulay2",
   "file_extension": ".m2",
   "mimetype": "text/x-macaulay2",
   "name": "Macaulay2"
  }
 },
 "nbformat": 4,
 "nbformat_minor": 5
}
