{
 "cells": [
  {
   "cell_type": "code",
   "execution_count": 29,
   "id": "b2a78468",
   "metadata": {},
   "outputs": [
    {
     "name": "stdout",
     "output_type": "stream",
     "text": [
      "\n",
      "o29 = LazyPowerSeries\n",
      "\n",
      "o29 : Package\n"
     ]
    }
   ],
   "source": [
    "loadPackage \"LazyPowerSeries\""
   ]
  },
  {
   "cell_type": "code",
   "execution_count": 30,
   "id": "7bf4dfcf",
   "metadata": {},
   "outputs": [
    {
     "name": "stdout",
     "output_type": "stream",
     "text": [
      "\n",
      "o30 = R\n",
      "\n",
      "o30 : PolynomialRing\n"
     ]
    }
   ],
   "source": [
    "R = ZZ[x]"
   ]
  },
  {
   "cell_type": "code",
   "execution_count": 31,
   "id": "d6f7e3bd",
   "metadata": {},
   "outputs": [
    {
     "name": "stdout",
     "output_type": "stream",
     "text": [
      "  5     4     3     2\n",
      "5x  + 4x  + 3x  + 2x  + x\n",
      "\n",
      "            2     3     4     5\n",
      "o31 = x + 2x  + 3x  + 4x  + 5x  + ... \n",
      "\n",
      "o31 : LazySeries\n"
     ]
    }
   ],
   "source": [
    "lazySeries(R, i->i)"
   ]
  },
  {
   "cell_type": "code",
   "execution_count": 32,
   "id": "aefdbe33",
   "metadata": {},
   "outputs": [
    {
     "name": "stdout",
     "output_type": "stream",
     "text": [
      "\n",
      "        5     4     3     2\n",
      "o32 = 5x  + 5x  + 5x  + 5x  + 5x + 5\n",
      "\n",
      "o32 : R\n"
     ]
    }
   ],
   "source": [
    "P = calculatePolynomial(5,R,i->5)"
   ]
  },
  {
   "cell_type": "code",
   "execution_count": 33,
   "id": "faa99f06",
   "metadata": {},
   "outputs": [
    {
     "name": "stdout",
     "output_type": "stream",
     "text": [
      "\n",
      "        5     4     3     2\n",
      "o33 = 5x  + 5x  + 5x  + 5x  + 5x + 5\n",
      "\n",
      "o33 : R\n"
     ]
    }
   ],
   "source": [
    "truncate(5,P)"
   ]
  },
  {
   "cell_type": "code",
   "execution_count": 34,
   "id": "7a92876b",
   "metadata": {},
   "outputs": [
    {
     "name": "stdout",
     "output_type": "stream",
     "text": [
      "\n",
      "o34 = ZZ\n",
      "\n",
      "o34 : Ring\n"
     ]
    }
   ],
   "source": [
    "R = ZZ"
   ]
  },
  {
   "cell_type": "code",
   "execution_count": 35,
   "id": "6e69e95c",
   "metadata": {},
   "outputs": [
    {
     "name": "stdout",
     "output_type": "stream",
     "text": [
      "\n",
      "o35 = 0\n"
     ]
    }
   ],
   "source": [
    "L = calculatePolynomial(5, R, i-> 2)"
   ]
  },
  {
   "cell_type": "code",
   "execution_count": 36,
   "id": "2d24b61e",
   "metadata": {},
   "outputs": [
    {
     "name": "stdout",
     "output_type": "stream",
     "text": [
      "\n",
      "o36 = 2 + 2*5 + 2*5^2 + 2*5^3 + 2*5^4 + 2*5^5 + ... \n",
      "\n",
      "o36 : PadicSeries\n"
     ]
    }
   ],
   "source": [
    "B = padics(5,R, i-> 2)"
   ]
  },
  {
   "cell_type": "code",
   "execution_count": 37,
   "id": "705bed3c",
   "metadata": {},
   "outputs": [
    {
     "name": "stdout",
     "output_type": "stream",
     "text": [
      "\n",
      "o37 = 7810\n"
     ]
    }
   ],
   "source": [
    "B.cache.displayedPolynomial"
   ]
  },
  {
   "cell_type": "code",
   "execution_count": 38,
   "id": "cc93c486",
   "metadata": {},
   "outputs": [
    {
     "name": "stdout",
     "output_type": "stream",
     "text": [
      "\n",
      "o38 = 7810\n"
     ]
    }
   ],
   "source": [
    "L = 7810"
   ]
  },
  {
   "cell_type": "code",
   "execution_count": 39,
   "id": "43035670",
   "metadata": {},
   "outputs": [
    {
     "name": "stdout",
     "output_type": "stream",
     "text": [
      "\n",
      "o39 = 1560\n"
     ]
    }
   ],
   "source": [
    "truncate(4, L, Prime => 5)"
   ]
  },
  {
   "cell_type": "markdown",
   "id": "31f2bd06",
   "metadata": {},
   "source": [
    "# `changeDegree` Testing\n"
   ]
  },
  {
   "cell_type": "code",
   "execution_count": 40,
   "id": "9c9ce0f2",
   "metadata": {},
   "outputs": [
    {
     "name": "stdout",
     "output_type": "stream",
     "text": [
      "\n",
      "o40 = R\n",
      "\n",
      "o40 : PolynomialRing\n"
     ]
    }
   ],
   "source": [
    "R = ZZ[x]"
   ]
  },
  {
   "cell_type": "code",
   "execution_count": 43,
   "id": "6c443242",
   "metadata": {},
   "outputs": [
    {
     "name": "stdout",
     "output_type": "stream",
     "text": [
      "  5     4     3     2\n",
      "2x  + 2x  + 2x  + 2x  + 2x + 2\n",
      "\n",
      "                 2     3     4     5\n",
      "o43 = 2 + 2x + 2x  + 2x  + 2x  + 2x  + ... \n",
      "\n",
      "o43 : LazySeries\n"
     ]
    }
   ],
   "source": [
    "L = lazySeries(R, i-> 2)"
   ]
  },
  {
   "cell_type": "code",
   "execution_count": 44,
   "id": "9ccf10dd",
   "metadata": {},
   "outputs": [
    {
     "name": "stdout",
     "output_type": "stream",
     "text": [
      "\n",
      "o44 = CacheTable{ComputedDegree => 5                                  }\n",
      "                 DisplayedDegree => 5\n",
      "                                          5     4     3     2\n",
      "                 displayedPolynomial => 2x  + 2x  + 2x  + 2x  + 2x + 2\n",
      "                                         5     4     3     2\n",
      "                 computedPolynomial => 2x  + 2x  + 2x  + 2x  + 2x + 2\n"
     ]
    }
   ],
   "source": [
    "peek L.cache"
   ]
  },
  {
   "cell_type": "code",
   "execution_count": 45,
   "id": "c6916bb3",
   "metadata": {},
   "outputs": [
    {
     "name": "stdout",
     "output_type": "stream",
     "text": [
      "\n",
      "                 2     3     4     5     6     7     8     9     10\n",
      "o45 = 2 + 2x + 2x  + 2x  + 2x  + 2x  + 2x  + 2x  + 2x  + 2x  + 2x   + ... \n",
      "\n",
      "o45 : LazySeries\n"
     ]
    }
   ],
   "source": [
    "changeDegree(L, 10)"
   ]
  },
  {
   "cell_type": "code",
   "execution_count": 46,
   "id": "91da503c",
   "metadata": {},
   "outputs": [
    {
     "name": "stdout",
     "output_type": "stream",
     "text": [
      "\n",
      "o46 = CacheTable{ComputedDegree => 10                                                                }\n",
      "                 DisplayedDegree => 10\n",
      "                                          10     9     8     7     6     5     4     3     2\n",
      "                 displayedPolynomial => 2x   + 2x  + 2x  + 2x  + 2x  + 2x  + 2x  + 2x  + 2x  + 2x + 2\n",
      "                                         10     9     8     7     6     5     4     3     2\n",
      "                 computedPolynomial => 2x   + 2x  + 2x  + 2x  + 2x  + 2x  + 2x  + 2x  + 2x  + 2x + 2\n"
     ]
    }
   ],
   "source": [
    "peek L.cache"
   ]
  },
  {
   "cell_type": "code",
   "execution_count": 47,
   "id": "e7c4dd9e",
   "metadata": {},
   "outputs": [
    {
     "name": "stdout",
     "output_type": "stream",
     "text": [
      "\n",
      "                 2     3     4     5     6\n",
      "o47 = 2 + 2x + 2x  + 2x  + 2x  + 2x  + 2x  + ... \n",
      "\n",
      "o47 : LazySeries\n"
     ]
    }
   ],
   "source": [
    "changeDegree(L, 6)"
   ]
  },
  {
   "cell_type": "code",
   "execution_count": 48,
   "id": "4f51fe1c",
   "metadata": {},
   "outputs": [
    {
     "name": "stdout",
     "output_type": "stream",
     "text": [
      "\n",
      "o48 = CacheTable{ComputedDegree => 10                                                               }\n",
      "                 DisplayedDegree => 6\n",
      "                                          6     5     4     3     2\n",
      "                 displayedPolynomial => 2x  + 2x  + 2x  + 2x  + 2x  + 2x + 2\n",
      "                                         10     9     8     7     6     5     4     3     2\n",
      "                 computedPolynomial => 2x   + 2x  + 2x  + 2x  + 2x  + 2x  + 2x  + 2x  + 2x  + 2x + 2\n"
     ]
    }
   ],
   "source": [
    "peek L.cache"
   ]
  },
  {
   "cell_type": "code",
   "execution_count": null,
   "id": "efd5cb35",
   "metadata": {},
   "outputs": [],
   "source": []
  }
 ],
 "metadata": {
  "kernelspec": {
   "display_name": "M2",
   "language": "text/x-macaulay2",
   "name": "m2"
  },
  "language_info": {
   "codemirror_mode": "macaulay2",
   "file_extension": ".m2",
   "mimetype": "text/x-macaulay2",
   "name": "Macaulay2"
  }
 },
 "nbformat": 4,
 "nbformat_minor": 5
}
