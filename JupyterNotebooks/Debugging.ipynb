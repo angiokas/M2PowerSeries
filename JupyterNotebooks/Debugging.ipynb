{
 "cells": [
  {
   "cell_type": "code",
   "execution_count": 201,
   "id": "0b7d3913",
   "metadata": {
    "vscode": {
     "languageId": "macaulay2"
    }
   },
   "outputs": [
    {
     "name": "stdout",
     "output_type": "stream",
     "text": [
      "\n",
      "o202 = ./\n",
      "       /home/annie/.Macaulay2/code/\n",
      "       /home/annie/.Macaulay2/local/share/Macaulay2/\n",
      "       /usr/share/Macaulay2/\n",
      "       ~/Git_Projects/M2PowerSeries/\n",
      "       ~/Git_Projects/M2PowerSeries/\n",
      "       ~/Git_Projects/M2PowerSeries/\n",
      "\u001b[?2004h"
     ]
    }
   ],
   "source": [
    "path = append(path, \"~/Git_Projects/M2PowerSeries/\"); stack path"
   ]
  },
  {
   "cell_type": "code",
   "execution_count": 205,
   "id": "11e17cc0",
   "metadata": {
    "vscode": {
     "languageId": "macaulay2"
    }
   },
   "outputs": [
    {
     "name": "stdout",
     "output_type": "stream",
     "text": [
      "/home/annie/Git_Projects/M2PowerSeries/LazyPowerSeries/Tests/LazySeries/SeriesFunctionTests.m2\n",
      "/home/annie/Git_Projects/M2PowerSeries/LazyPowerSeries/Tests/LazySeries/Operations.m2\n",
      "/home/annie/Git_Projects/M2PowerSeries/LazyPowerSeries/Tests/LazySeries/Construction.m2\n",
      "Test Case 0, R=ZZ[x], i -> 5\n",
      "All checks passed.\n",
      "\n",
      "Test Case 1, R=ZZ[x], i -> 3*i\n",
      "All checks passed.\n",
      "\n",
      "Test Case 2, R=ZZ[x], i -> i^2\n",
      "All checks passed.\n",
      "\n",
      "Test Case 3, R=ZZ[x], i -> 2^i\n",
      "All checks passed.\n",
      "\n",
      "/home/annie/Git_Projects/M2PowerSeries/LazyPowerSeries/Tests/LazySeries/HelperFunctionTests.m2\n",
      "\n",
      "o205 = LazyPowerSeries\n",
      "\n",
      "o205 : Package\n",
      "\u001b[?2004h"
     ]
    }
   ],
   "source": [
    "loadPackage \"LazyPowerSeries\""
   ]
  },
  {
   "cell_type": "code",
   "execution_count": 186,
   "id": "6c6946c1",
   "metadata": {
    "vscode": {
     "languageId": "macaulay2"
    }
   },
   "outputs": [
    {
     "name": "stdout",
     "output_type": "stream",
     "text": [
      "\u001b[?2004h"
     ]
    }
   ],
   "source": [
    "assert(true)"
   ]
  },
  {
   "cell_type": "code",
   "execution_count": 100,
   "id": "f39831dd",
   "metadata": {
    "vscode": {
     "languageId": "macaulay2"
    }
   },
   "outputs": [
    {
     "name": "stdout",
     "output_type": "stream",
     "text": [
      "\n",
      "o100 = 2\n",
      "\u001b[?2004h"
     ]
    }
   ],
   "source": []
  },
  {
   "cell_type": "code",
   "execution_count": null,
   "id": "55679f5e",
   "metadata": {
    "vscode": {
     "languageId": "macaulay2"
    }
   },
   "outputs": [],
   "source": []
  },
  {
   "cell_type": "code",
   "execution_count": 97,
   "id": "1c300559",
   "metadata": {
    "vscode": {
     "languageId": "macaulay2"
    }
   },
   "outputs": [
    {
     "name": "stdout",
     "output_type": "stream",
     "text": [
      "i-> 024l\n",
      "  7     6     5     4     3     2\n",
      "5x  + 5x  + 5x  + 5x  + 5x  + 5x  + 5x + 5\n",
      "5\n",
      "6\n",
      "\u001b[?2004h"
     ]
    }
   ],
   "source": [
    "R = ZZ[x]\n",
    "ZZTests(\"i-> 02\",5 + 5*x + 5*x^2 + 5*x^3 + 5*x^4 + 5*x^5 + 5*x^6 + 5*x^7 ,5,6)"
   ]
  },
  {
   "cell_type": "code",
   "execution_count": 53,
   "id": "e2eede5d",
   "metadata": {
    "vscode": {
     "languageId": "macaulay2"
    }
   },
   "outputs": [
    {
     "name": "stdout",
     "output_type": "stream",
     "text": [
      "\n",
      "o53 = 5\n",
      "\u001b[?2004h"
     ]
    }
   ],
   "source": []
  },
  {
   "cell_type": "code",
   "execution_count": 21,
   "id": "40c34e2e",
   "metadata": {
    "vscode": {
     "languageId": "macaulay2"
    }
   },
   "outputs": [
    {
     "name": "stdout",
     "output_type": "stream",
     "text": [
      "stdio:29:3:(3):[1]: error: assertion failed\n",
      "\u001b[?2004h"
     ]
    }
   ],
   "source": [
    "R = ZZ[x]\n",
    "f = i -> 3*i\n",
    "P = 0 + 3*x + 3*x^2 + 3*x^3 + 3*x^4 + 3*x^5 + 3*x^6 + 3*x^7 + 3*x^8 + 3*x^9 + 3*x^10\n",
    "DispDeg = 7\n",
    "CompDeg = 10\n",
    "L = lazySeries(R, f, DisplayedDegree => DispDeg, ComputedDegree => CompDeg)\n",
    "checkLazySeriesCache(L, P, DispDeg, CompDeg)"
   ]
  },
  {
   "cell_type": "code",
   "execution_count": 51,
   "id": "9f24096b",
   "metadata": {
    "vscode": {
     "languageId": "macaulay2"
    }
   },
   "outputs": [
    {
     "name": "stdout",
     "output_type": "stream",
     "text": [
      "\n",
      "         7      6      5      4     3     2\n",
      "o51 = 21x  + 18x  + 15x  + 12x  + 9x  + 6x  + 3x\n",
      "\n",
      "o51 : R\n",
      "\u001b[?2004h"
     ]
    }
   ],
   "source": [
    "R = ZZ[x]\n",
    "f = i -> 3*i\n",
    "P = 0 + 3*x + 3*x^2 + 3*x^3 + 3*x^4 + 3*x^5 + 3*x^6 + 3*x^7 + 3*x^8 + 3*x^9 + 3*x^10\n",
    "DispDeg = 7\n",
    "CompDeg = 10\n",
    "\n",
    "L = lazySeries(R, f, DisplayedDegree => DispDeg, ComputedDegree => CompDeg)\n",
    "L.cache.displayedPolynomial"
   ]
  },
  {
   "cell_type": "code",
   "execution_count": 52,
   "id": "ecc85460",
   "metadata": {
    "vscode": {
     "languageId": "macaulay2"
    }
   },
   "outputs": [
    {
     "name": "stdout",
     "output_type": "stream",
     "text": [
      "\n",
      "        7     6     5     4     3     2\n",
      "o52 = 3x  + 3x  + 3x  + 3x  + 3x  + 3x  + 3x\n",
      "\n",
      "o52 : R\n",
      "\u001b[?2004h"
     ]
    }
   ],
   "source": [
    "part(0, DispDeg,P)"
   ]
  },
  {
   "cell_type": "code",
   "execution_count": 45,
   "id": "7efe6629",
   "metadata": {
    "vscode": {
     "languageId": "macaulay2"
    }
   },
   "outputs": [
    {
     "name": "stdout",
     "output_type": "stream",
     "text": [
      "stdio:101:1:(3): error: no method found for applying check to:\n",
      "     argument   :  LazyPowerSeries (of class Symbol)\n",
      "\u001b[?2004h"
     ]
    }
   ],
   "source": [
    "check LazyPowerSeries"
   ]
  },
  {
   "cell_type": "code",
   "execution_count": 49,
   "id": "7214d86c",
   "metadata": {
    "vscode": {
     "languageId": "macaulay2"
    }
   },
   "outputs": [
    {
     "name": "stdout",
     "output_type": "stream",
     "text": [
      "stdio:106:5:(3): error: no method for adjacent objects:\n",
      "--            lazySeries (of class Symbol)\n",
      "--    SPACE   (R, f) (of class Sequence)\n",
      "\u001b[?2004h\n",
      "stdio:107:15:(3): error: key not found in hash table\n",
      "\u001b[?2004h"
     ]
    }
   ],
   "source": [
    "R = ZZ[x]\n",
    "f = i -> 5\n",
    "L = lazySeries(R, f)\n",
    "\n",
    "assert(L.cache.displayedPolynomial == 5 + 5*x + 5*x^2 + 5*x^3 + 5*x^4)"
   ]
  },
  {
   "cell_type": "code",
   "execution_count": 51,
   "id": "2a2c841b",
   "metadata": {
    "vscode": {
     "languageId": "macaulay2"
    }
   },
   "outputs": [
    {
     "name": "stdout",
     "output_type": "stream",
     "text": [
      "stdio:111:1:(3): error: no method for adjacent objects:\n",
      "--            {a, b, c} (of class List)\n",
      "--    SPACE   [-1] (of class Array)\n",
      "\u001b[?2004h"
     ]
    }
   ],
   "source": [
    "l ={a,b,c}\n",
    "l[-1]"
   ]
  },
  {
   "cell_type": "code",
   "execution_count": 53,
   "id": "e4498d34",
   "metadata": {
    "vscode": {
     "languageId": "macaulay2"
    }
   },
   "outputs": [
    {
     "name": "stdout",
     "output_type": "stream",
     "text": [
      "stdio:115:6:(3): error: no method for adjacent objects:\n",
      "--            zeroSeries (of class Symbol)\n",
      "--    SPACE   R (of class PolynomialRing)\n",
      "\u001b[?2004h"
     ]
    }
   ],
   "source": [
    "R= ZZ[x]\n",
    "s0 = zeroSeries(R);"
   ]
  },
  {
   "cell_type": "code",
   "execution_count": 54,
   "id": "5031b492",
   "metadata": {
    "vscode": {
     "languageId": "macaulay2"
    }
   },
   "outputs": [
    {
     "name": "stdout",
     "output_type": "stream",
     "text": [
      "stdio:118:1:(3): error: no method found for applying check to:\n",
      "     argument   :  LazyPowerSeries (of class Symbol)\n",
      "\u001b[?2004h"
     ]
    }
   ],
   "source": [
    "check LazyPowerSeries"
   ]
  },
  {
   "cell_type": "code",
   "execution_count": 55,
   "id": "3190505b",
   "metadata": {
    "vscode": {
     "languageId": "macaulay2"
    }
   },
   "outputs": [
    {
     "name": "stdout",
     "output_type": "stream",
     "text": [
      "stdio:121:65:(3): error: expected left hand parameter to be a function, type, or a hash table\n",
      "\u001b[?2004h"
     ]
    }
   ],
   "source": [
    "checkLazySeriesCache(LazySeries, RingElement, RingElement,ZZ,ZZ):=\n",
    "(L, expectedDisplayedPoly, expectedComputedPoly, expectedDisplayedDegree, expectedComputedDegree)->(\n",
    "    assert(L.cache.displayedPolynomial == expectedDisplayedPoly);\n",
    "    assert(L.cache.computedPolynomial == expectedComputedPoly);\n",
    "    assert(L.cache.DisplayedDegree == expectedDisplayedDegree);\n",
    "    assert(L.cache.ComputedDegree == expectedComputedDegree);\n",
    "  );\n",
    "\n",
    "\n"
   ]
  },
  {
   "cell_type": "code",
   "execution_count": 62,
   "id": "b2a78468",
   "metadata": {
    "vscode": {
     "languageId": "macaulay2"
    }
   },
   "outputs": [
    {
     "name": "stdout",
     "output_type": "stream",
     "text": [
      "stdio:131:6:(3): error: no method for adjacent objects:\n",
      "--            zeroSeries (of class Symbol)\n",
      "--    SPACE   R (of class PolynomialRing)\n",
      "\u001b[?2004h\n",
      "stdio:132:6:(3): error: no method for adjacent objects:\n",
      "--            oneSeries (of class Symbol)\n",
      "--    SPACE   R (of class PolynomialRing)\n",
      "\u001b[?2004h\n",
      "stdio:133:10:(3): error: expected argument 1 to be a hash table\n",
      "\u001b[?2004h\n",
      "stdio:134:10:(3): error: expected argument 1 to be a hash table\n",
      "\u001b[?2004h\n",
      "stdio:136:1:(3): error: no method for adjacent objects:\n",
      "--            lazySeries (of class Symbol)\n",
      "--    SPACE   (R, h, ComputedDegree => 2, DisplayedDegree =. (of class Sequence)\n",
      "\u001b[?2004h"
     ]
    }
   ],
   "source": [
    "R = ZZ/5[a,b,c,d,e,f,g,h,i,j,k,l,m,n,o,p]\n",
    "\n",
    "s0 = zeroSeries(R);\n",
    "s1 = oneSeries(R);\n",
    "\n",
    "assert(s0.cache.displayedPolynomial == sub(0, R))\n",
    "assert(s1.cache.displayedPolynomial == sub(1, R))\n",
    "\n",
    "h = (a,b,c,d,e,f,g,h,i,j,k,l,m,n,o,p)-> sum {a,b,c,d,e,f,g,h,i,j,k,l,m,n,o,p}\n",
    "lazySeries(R,h, ComputedDegree => 2, DisplayedDegree => 2)\n"
   ]
  },
  {
   "cell_type": "code",
   "execution_count": null,
   "id": "98a0ae3b",
   "metadata": {
    "vscode": {
     "languageId": "macaulay2"
    }
   },
   "outputs": [],
   "source": []
  },
  {
   "cell_type": "code",
   "execution_count": null,
   "id": "5bb5df8f",
   "metadata": {
    "vscode": {
     "languageId": "macaulay2"
    }
   },
   "outputs": [],
   "source": []
  },
  {
   "cell_type": "code",
   "execution_count": 63,
   "id": "613d3c08",
   "metadata": {
    "vscode": {
     "languageId": "macaulay2"
    }
   },
   "outputs": [
    {
     "name": "stdout",
     "output_type": "stream",
     "text": [
      "\n",
      "o63 = \\^\\(\\?!\\.\\*\\.m2\\$\\)\\.\\*\n",
      "\u001b[?2004h"
     ]
    }
   ],
   "source": [
    "regexQuote \"^(?!.*.m2$).*\""
   ]
  },
  {
   "cell_type": "code",
   "execution_count": 64,
   "id": "21831ced",
   "metadata": {
    "vscode": {
     "languageId": "macaulay2"
    }
   },
   "outputs": [
    {
     "name": "stdout",
     "output_type": "stream",
     "text": [
      "stdio:142:25:(3): error: no method for binary operator + applied to objects:\n",
      "--            a (of class IndexedVariableTable)\n",
      "--      +     b (of class IndexedVariableTable)\n",
      "\u001b[?2004h"
     ]
    }
   ],
   "source": [
    "assert(truncate(1,L)== a+b+c)"
   ]
  },
  {
   "cell_type": "code",
   "execution_count": 65,
   "id": "caed291b",
   "metadata": {
    "vscode": {
     "languageId": "macaulay2"
    }
   },
   "outputs": [
    {
     "name": "stdout",
     "output_type": "stream",
     "text": [
      "\n",
      "o65 = 0\n",
      "\n",
      "o65 : R\n",
      "\u001b[?2004h"
     ]
    }
   ],
   "source": [
    "sub(0, R)\n"
   ]
  },
  {
   "cell_type": "code",
   "execution_count": 67,
   "id": "7bf4dfcf",
   "metadata": {
    "vscode": {
     "languageId": "macaulay2"
    }
   },
   "outputs": [
    {
     "name": "stdout",
     "output_type": "stream",
     "text": [
      "stdio:149:1:(3): error: no method for adjacent objects:\n",
      "--            lazySeries (of class Symbol)\n",
      "--    SPACE   (R, -*Function[stdio:149:15-149:17]*-) (of class Sequence)\n",
      "\u001b[?2004h"
     ]
    }
   ],
   "source": [
    "R = ZZ[x]\n",
    "lazySeries(R, i->i)"
   ]
  },
  {
   "cell_type": "code",
   "execution_count": 68,
   "id": "aefdbe33",
   "metadata": {
    "vscode": {
     "languageId": "macaulay2"
    }
   },
   "outputs": [
    {
     "name": "stdout",
     "output_type": "stream",
     "text": [
      "stdio:152:5:(3): error: no method for adjacent objects:\n",
      "--            calculatePolynomial (of class Symbol)\n",
      "--    SPACE   (5, R, -*Function[stdio:152:29-152:31]*-) (of class Sequence)\n",
      "\u001b[?2004h"
     ]
    }
   ],
   "source": [
    "P = calculatePolynomial(5,R,i->5)"
   ]
  },
  {
   "cell_type": "code",
   "execution_count": 69,
   "id": "faa99f06",
   "metadata": {
    "vscode": {
     "languageId": "macaulay2"
    }
   },
   "outputs": [
    {
     "name": "stdout",
     "output_type": "stream",
     "text": [
      "stdio:155:1:(3): error: no method found for applying truncate to:\n",
      "     argument 1 :  5 (of class ZZ)\n",
      "     argument 2 :  P (of class Symbol)\n",
      "\u001b[?2004h"
     ]
    }
   ],
   "source": [
    "truncate(5,P)"
   ]
  },
  {
   "cell_type": "code",
   "execution_count": 70,
   "id": "7a92876b",
   "metadata": {
    "vscode": {
     "languageId": "macaulay2"
    }
   },
   "outputs": [
    {
     "name": "stdout",
     "output_type": "stream",
     "text": [
      "\n",
      "o70 = ZZ\n",
      "\n",
      "o70 : Ring\n",
      "\u001b[?2004h"
     ]
    }
   ],
   "source": [
    "R = ZZ"
   ]
  },
  {
   "cell_type": "code",
   "execution_count": 71,
   "id": "6e69e95c",
   "metadata": {
    "vscode": {
     "languageId": "macaulay2"
    }
   },
   "outputs": [
    {
     "name": "stdout",
     "output_type": "stream",
     "text": [
      "stdio:161:5:(3): error: no method for adjacent objects:\n",
      "--            calculatePolynomial (of class Symbol)\n",
      "--    SPACE   (5, ZZ, -*Function[stdio:161:31-161:34]*-) (of class Sequence)\n",
      "\u001b[?2004h"
     ]
    }
   ],
   "source": [
    "L = calculatePolynomial(5, R, i-> 2)"
   ]
  },
  {
   "cell_type": "code",
   "execution_count": 72,
   "id": "2d24b61e",
   "metadata": {
    "vscode": {
     "languageId": "macaulay2"
    }
   },
   "outputs": [
    {
     "name": "stdout",
     "output_type": "stream",
     "text": [
      "stdio:164:5:(3): error: no method for adjacent objects:\n",
      "--            padics (of class Symbol)\n",
      "--    SPACE   (5, ZZ, -*Function[stdio:164:17-164:20]*-) (of class Sequence)\n",
      "\u001b[?2004h"
     ]
    }
   ],
   "source": [
    "B = padics(5,R, i-> 2)"
   ]
  },
  {
   "cell_type": "code",
   "execution_count": 73,
   "id": "705bed3c",
   "metadata": {
    "vscode": {
     "languageId": "macaulay2"
    }
   },
   "outputs": [
    {
     "name": "stdout",
     "output_type": "stream",
     "text": [
      "stdio:167:2:(3): error: expected argument 1 to be a hash table\n",
      "\u001b[?2004h"
     ]
    }
   ],
   "source": [
    "B.cache.displayedPolynomial"
   ]
  },
  {
   "cell_type": "code",
   "execution_count": 74,
   "id": "cc93c486",
   "metadata": {
    "vscode": {
     "languageId": "macaulay2"
    }
   },
   "outputs": [
    {
     "name": "stdout",
     "output_type": "stream",
     "text": [
      "\n",
      "o74 = 7810\n",
      "\u001b[?2004h"
     ]
    }
   ],
   "source": [
    "L = 7810"
   ]
  },
  {
   "cell_type": "code",
   "execution_count": 75,
   "id": "43035670",
   "metadata": {
    "vscode": {
     "languageId": "macaulay2"
    }
   },
   "outputs": [
    {
     "name": "stdout",
     "output_type": "stream",
     "text": [
      "stdio:173:1:(3): error: encountered an unknown key or option: Prime\n",
      "\u001b[?2004h"
     ]
    }
   ],
   "source": [
    "truncate(4, L, Prime => 5)"
   ]
  },
  {
   "cell_type": "markdown",
   "id": "31f2bd06",
   "metadata": {},
   "source": [
    "# `changeDegree` Testing\n"
   ]
  },
  {
   "cell_type": "code",
   "execution_count": 76,
   "id": "9c9ce0f2",
   "metadata": {
    "vscode": {
     "languageId": "macaulay2"
    }
   },
   "outputs": [
    {
     "name": "stdout",
     "output_type": "stream",
     "text": [
      "\n",
      "o76 = R\n",
      "\n",
      "o76 : PolynomialRing\n",
      "\u001b[?2004h"
     ]
    }
   ],
   "source": [
    "R = ZZ[x]"
   ]
  },
  {
   "cell_type": "code",
   "execution_count": 77,
   "id": "6c443242",
   "metadata": {
    "vscode": {
     "languageId": "macaulay2"
    }
   },
   "outputs": [
    {
     "name": "stdout",
     "output_type": "stream",
     "text": [
      "stdio:179:5:(3): error: no method for adjacent objects:\n",
      "--            lazySeries (of class Symbol)\n",
      "--    SPACE   (R, -*Function[stdio:179:19-179:24]*-) (of class Sequence)\n",
      "\u001b[?2004h"
     ]
    }
   ],
   "source": [
    "L = lazySeries(R, i-> i+2)"
   ]
  },
  {
   "cell_type": "code",
   "execution_count": 78,
   "id": "9ccf10dd",
   "metadata": {
    "vscode": {
     "languageId": "macaulay2"
    }
   },
   "outputs": [
    {
     "name": "stdout",
     "output_type": "stream",
     "text": [
      "stdio:182:7:(3):[1]: error: expected argument 1 to be a hash table\n",
      "\u001b[?2004h"
     ]
    }
   ],
   "source": [
    "peek L.cache"
   ]
  },
  {
   "cell_type": "code",
   "execution_count": 79,
   "id": "c6916bb3",
   "metadata": {
    "vscode": {
     "languageId": "macaulay2"
    }
   },
   "outputs": [
    {
     "name": "stdout",
     "output_type": "stream",
     "text": [
      "stdio:185:1:(3): error: no method for adjacent objects:\n",
      "--            changeDegree (of class Symbol)\n",
      "--    SPACE   (7810, 10) (of class Sequence)\n",
      "\u001b[?2004h"
     ]
    }
   ],
   "source": [
    "changeDegree(L, 10)"
   ]
  },
  {
   "cell_type": "code",
   "execution_count": 80,
   "id": "91da503c",
   "metadata": {
    "vscode": {
     "languageId": "macaulay2"
    }
   },
   "outputs": [
    {
     "name": "stdout",
     "output_type": "stream",
     "text": [
      "stdio:188:7:(3):[1]: error: expected argument 1 to be a hash table\n",
      "\u001b[?2004h"
     ]
    }
   ],
   "source": [
    "peek L.cache"
   ]
  },
  {
   "cell_type": "code",
   "execution_count": 81,
   "id": "e7c4dd9e",
   "metadata": {
    "scrolled": true,
    "vscode": {
     "languageId": "macaulay2"
    }
   },
   "outputs": [
    {
     "name": "stdout",
     "output_type": "stream",
     "text": [
      "stdio:191:1:(3): error: no method for adjacent objects:\n",
      "--            changeDegree (of class Symbol)\n",
      "--    SPACE   (7810, 100) (of class Sequence)\n",
      "\u001b[?2004h"
     ]
    }
   ],
   "source": [
    "changeDegree(L, 100)"
   ]
  },
  {
   "cell_type": "code",
   "execution_count": 82,
   "id": "4f51fe1c",
   "metadata": {
    "vscode": {
     "languageId": "macaulay2"
    }
   },
   "outputs": [
    {
     "name": "stdout",
     "output_type": "stream",
     "text": [
      "stdio:194:7:(3):[1]: error: expected argument 1 to be a hash table\n",
      "\u001b[?2004h"
     ]
    }
   ],
   "source": [
    "peek L.cache"
   ]
  },
  {
   "cell_type": "code",
   "execution_count": 85,
   "id": "efd5cb35",
   "metadata": {
    "vscode": {
     "languageId": "macaulay2"
    }
   },
   "outputs": [
    {
     "name": "stdout",
     "output_type": "stream",
     "text": [
      "stdio:199:5:(3): error: no method for adjacent objects:\n",
      "--            padics (of class Symbol)\n",
      "--                   4      3     2\n",
      "--    SPACE   (7, 45x  + 23x  + 4x  + 3x + 8) (of class Sequence)\n",
      "\u001b[?2004h"
     ]
    }
   ],
   "source": [
    "R = ZZ[x]\n",
    "g = 45*x^4+23*x^3+4*x^2+3*x+8\n",
    "s = padics(7, g)"
   ]
  },
  {
   "cell_type": "code",
   "execution_count": 87,
   "id": "de8982fd",
   "metadata": {
    "vscode": {
     "languageId": "macaulay2"
    }
   },
   "outputs": [
    {
     "name": "stdout",
     "output_type": "stream",
     "text": [
      "stdio:202:5:(3): error: no method for adjacent objects:\n",
      "--            lazySeries (of class Symbol)\n",
      "--             2\n",
      "--    SPACE   x  + 5x (of class R)\n",
      "\u001b[?2004h\n",
      "stdio:203:7:(3): error: no method found for applying coefficient to:\n",
      "     argument 1 :  {1} (of class List)\n",
      "     argument 2 :  7810 (of class ZZ)\n",
      "\u001b[?2004h"
     ]
    }
   ],
   "source": [
    "L = lazySeries(x^2+ 5*x)\n",
    "class coefficient({1},L)"
   ]
  },
  {
   "cell_type": "markdown",
   "id": "bc55eab8",
   "metadata": {},
   "source": [
    "# Coefficient Testing\n"
   ]
  },
  {
   "cell_type": "code",
   "execution_count": 88,
   "id": "b59c9843",
   "metadata": {
    "vscode": {
     "languageId": "macaulay2"
    }
   },
   "outputs": [
    {
     "name": "stdout",
     "output_type": "stream",
     "text": [
      "../../../../../../../LazyPowerSeries/Tests/TestHelperFunctions.m2:13:40:(2):[18]: error: expected left hand parameter to be a function, type, or a hash table\n",
      "\u001b[?2004h"
     ]
    }
   ],
   "source": [
    "loadPackage \"LazyPowerSeries\""
   ]
  },
  {
   "cell_type": "code",
   "execution_count": 90,
   "id": "28ba2b37",
   "metadata": {
    "vscode": {
     "languageId": "macaulay2"
    }
   },
   "outputs": [
    {
     "name": "stdout",
     "output_type": "stream",
     "text": [
      "stdio:210:5:(3): error: no method for adjacent objects:\n",
      "--            lazySeries (of class Symbol)\n",
      "--    SPACE   (R, -*Function[stdio:210:22-210:26]*-) (of class Sequence)\n",
      "\u001b[?2004h"
     ]
    }
   ],
   "source": [
    "R = ZZ[x,y]\n",
    "L = lazySeries(R,(i,j)->i+j)"
   ]
  },
  {
   "cell_type": "code",
   "execution_count": 91,
   "id": "600b1fa2",
   "metadata": {
    "vscode": {
     "languageId": "macaulay2"
    }
   },
   "outputs": [
    {
     "name": "stdout",
     "output_type": "stream",
     "text": [
      "stdio:213:1:(3): error: no method found for applying coefficient to:\n",
      "     argument 1 :  1 (of class ZZ)\n",
      "     argument 2 :  7810 (of class ZZ)\n",
      "\u001b[?2004h"
     ]
    }
   ],
   "source": [
    "coefficient(1,L)"
   ]
  }
 ],
 "metadata": {
  "kernelspec": {
   "display_name": "M2",
   "language": "text/x-macaulay2",
   "name": "m2"
  },
  "language_info": {
   "codemirror_mode": "macaulay2",
   "file_extension": ".m2",
   "mimetype": "text/x-macaulay2",
   "name": "Macaulay2"
  }
 },
 "nbformat": 4,
 "nbformat_minor": 5
}
