{
 "cells": [
  {
   "cell_type": "code",
   "execution_count": 4,
   "id": "b2a78468",
   "metadata": {},
   "outputs": [
    {
     "name": "stdout",
     "output_type": "stream",
     "text": [
      "\n",
      "o4 = LazyPowerSeries\n",
      "\n",
      "o4 : Package\n",
      "\u001b[?2004h"
     ]
    }
   ],
   "source": [
    "loadPackage \"LazyPowerSeries\""
   ]
  },
  {
   "cell_type": "code",
   "execution_count": 5,
   "id": "7bf4dfcf",
   "metadata": {},
   "outputs": [
    {
     "name": "stdout",
     "output_type": "stream",
     "text": [
      "\n",
      "o5 = R\n",
      "\n",
      "o5 : PolynomialRing\n",
      "\u001b[?2004h"
     ]
    }
   ],
   "source": [
    "R = ZZ[x]"
   ]
  },
  {
   "cell_type": "code",
   "execution_count": 6,
   "id": "d6f7e3bd",
   "metadata": {},
   "outputs": [
    {
     "name": "stdout",
     "output_type": "stream",
     "text": [
      "\u001b[?2004l\r",
      "  5     4     3     2\n",
      "5x  + 4x  + 3x  + 2x  + x\n",
      "\n",
      "           2     3     4     5\n",
      "o6 = x + 2x  + 3x  + 4x  + 5x  + ... \n",
      "\n",
      "o6 : LazySeries\n",
      "\u001b[?2004h"
     ]
    }
   ],
   "source": [
    "lazySeries(R, i->i)"
   ]
  },
  {
   "cell_type": "code",
   "execution_count": 7,
   "id": "aefdbe33",
   "metadata": {},
   "outputs": [
    {
     "name": "stdout",
     "output_type": "stream",
     "text": [
      "\n",
      "       5     4     3     2\n",
      "o7 = 5x  + 5x  + 5x  + 5x  + 5x + 5\n",
      "\n",
      "o7 : R\n",
      "\u001b[?2004h"
     ]
    }
   ],
   "source": [
    "P = calculatePolynomial(5,R,i->5)"
   ]
  },
  {
   "cell_type": "code",
   "execution_count": 8,
   "id": "faa99f06",
   "metadata": {},
   "outputs": [
    {
     "name": "stdout",
     "output_type": "stream",
     "text": [
      "\n",
      "       5     4     3     2\n",
      "o8 = 5x  + 5x  + 5x  + 5x  + 5x + 5\n",
      "\n",
      "o8 : R\n",
      "\u001b[?2004h"
     ]
    }
   ],
   "source": [
    "truncate(5,P)"
   ]
  },
  {
   "cell_type": "code",
   "execution_count": 9,
   "id": "7a92876b",
   "metadata": {},
   "outputs": [
    {
     "name": "stdout",
     "output_type": "stream",
     "text": [
      "\n",
      "o9 = ZZ\n",
      "\n",
      "o9 : Ring\n",
      "\u001b[?2004h"
     ]
    }
   ],
   "source": [
    "R = ZZ"
   ]
  },
  {
   "cell_type": "code",
   "execution_count": 10,
   "id": "6e69e95c",
   "metadata": {},
   "outputs": [
    {
     "name": "stdout",
     "output_type": "stream",
     "text": [
      "\n",
      "o10 = 0\n",
      "\u001b[?2004h"
     ]
    }
   ],
   "source": [
    "L = calculatePolynomial(5, R, i-> 2)"
   ]
  },
  {
   "cell_type": "code",
   "execution_count": 11,
   "id": "2d24b61e",
   "metadata": {},
   "outputs": [
    {
     "name": "stdout",
     "output_type": "stream",
     "text": [
      "\n",
      "o11 = 2 + 2*5 + 2*5^2 + 2*5^3 + 2*5^4 + 2*5^5 + ... \n",
      "\n",
      "o11 : PadicSeries\n",
      "\u001b[?2004h"
     ]
    }
   ],
   "source": [
    "B = padics(5,R, i-> 2)"
   ]
  },
  {
   "cell_type": "code",
   "execution_count": 12,
   "id": "705bed3c",
   "metadata": {},
   "outputs": [
    {
     "name": "stdout",
     "output_type": "stream",
     "text": [
      "\n",
      "o12 = 7810\n",
      "\u001b[?2004h"
     ]
    }
   ],
   "source": [
    "B.cache.displayedPolynomial"
   ]
  },
  {
   "cell_type": "code",
   "execution_count": 13,
   "id": "cc93c486",
   "metadata": {},
   "outputs": [
    {
     "name": "stdout",
     "output_type": "stream",
     "text": [
      "\n",
      "o13 = 7810\n",
      "\u001b[?2004h"
     ]
    }
   ],
   "source": [
    "L = 7810"
   ]
  },
  {
   "cell_type": "code",
   "execution_count": 14,
   "id": "43035670",
   "metadata": {},
   "outputs": [
    {
     "name": "stdout",
     "output_type": "stream",
     "text": [
      "\n",
      "o14 = 1560\n",
      "\u001b[?2004h"
     ]
    }
   ],
   "source": [
    "truncate(4, L, Prime => 5)"
   ]
  },
  {
   "cell_type": "markdown",
   "id": "31f2bd06",
   "metadata": {},
   "source": [
    "# `changeDegree` Testing\n"
   ]
  },
  {
   "cell_type": "code",
   "execution_count": 23,
   "id": "9c9ce0f2",
   "metadata": {},
   "outputs": [
    {
     "name": "stdout",
     "output_type": "stream",
     "text": [
      "\n",
      "o23 = R\n",
      "\n",
      "o23 : PolynomialRing\n",
      "\u001b[?2004h"
     ]
    }
   ],
   "source": [
    "R = ZZ[x]"
   ]
  },
  {
   "cell_type": "code",
   "execution_count": 32,
   "id": "6c443242",
   "metadata": {},
   "outputs": [
    {
     "name": "stdout",
     "output_type": "stream",
     "text": [
      "\u001b[?2004l\r",
      "  5     4     3     2\n",
      "7x  + 6x  + 5x  + 4x  + 3x + 2\n",
      "\n",
      "                 2     3     4     5\n",
      "o32 = 2 + 3x + 4x  + 5x  + 6x  + 7x  + ... \n",
      "\n",
      "o32 : LazySeries\n",
      "\u001b[?2004h"
     ]
    }
   ],
   "source": [
    "L = lazySeries(R, i-> i+2)"
   ]
  },
  {
   "cell_type": "code",
   "execution_count": 25,
   "id": "9ccf10dd",
   "metadata": {},
   "outputs": [
    {
     "name": "stdout",
     "output_type": "stream",
     "text": [
      "\n",
      "o25 = CacheTable{ComputedDegree => 5                                  }\n",
      "                 DisplayedDegree => 5\n",
      "                                          5     4     3     2\n",
      "                 displayedPolynomial => 2x  + 2x  + 2x  + 2x  + 2x + 2\n",
      "                                         5     4     3     2\n",
      "                 computedPolynomial => 2x  + 2x  + 2x  + 2x  + 2x + 2\n",
      "\u001b[?2004h"
     ]
    }
   ],
   "source": [
    "peek L.cache"
   ]
  },
  {
   "cell_type": "code",
   "execution_count": 33,
   "id": "c6916bb3",
   "metadata": {},
   "outputs": [
    {
     "name": "stdout",
     "output_type": "stream",
     "text": [
      "\n",
      "                 2     3     4     5     6     7      8      9      10\n",
      "o33 = 2 + 3x + 4x  + 5x  + 6x  + 7x  + 8x  + 9x  + 10x  + 11x  + 12x   + ... \n",
      "\n",
      "o33 : LazySeries\n",
      "\u001b[?2004h"
     ]
    }
   ],
   "source": [
    "changeDegree(L, 10)"
   ]
  },
  {
   "cell_type": "code",
   "execution_count": 34,
   "id": "91da503c",
   "metadata": {},
   "outputs": [
    {
     "name": "stdout",
     "output_type": "stream",
     "text": [
      "\n",
      "o34 = CacheTable{ComputedDegree => 10                                                                   }\n",
      "                 DisplayedDegree => 10\n",
      "                                           10      9      8     7     6     5     4     3     2\n",
      "                 displayedPolynomial => 12x   + 11x  + 10x  + 9x  + 8x  + 7x  + 6x  + 5x  + 4x  + 3x + 2\n",
      "                                          10      9      8     7     6     5     4     3     2\n",
      "                 computedPolynomial => 12x   + 11x  + 10x  + 9x  + 8x  + 7x  + 6x  + 5x  + 4x  + 3x + 2\n",
      "\u001b[?2004h"
     ]
    }
   ],
   "source": [
    "peek L.cache"
   ]
  },
  {
   "cell_type": "code",
   "execution_count": 37,
   "id": "e7c4dd9e",
   "metadata": {
    "scrolled": true
   },
   "outputs": [
    {
     "name": "stdout",
     "output_type": "stream",
     "text": [
      "\n",
      "                 2     3     4     5     6     7      8      9      10      11      12      13      14      15      16      17      18      19      20      21      22      23      24      25      26      27      28      29      30      31      32      33      34      35      36      37      38      39      40      41      42      43      44      45      46      47      48      49      50      51      52      53      54      55      56      57      58      59      60      61      62      63      64      65      66      67      68      69      70      71      72      73      74      75      76      77      78      79      80      81      82      83      84      85      86      87      88      89      90      91      92      93      94      95      96      97       98       99       100\n",
      "o37 = 2 + 3x + 4x  + 5x  + 6x  + 7x  + 8x  + 9x  + 10x  + 11x  + 12x   + 13x   + 14x   + 15x   + 16x   + 17x   + 18x   + 19x   + 20x   + 21x   + 22x   + 23x   + 24x   + 25x   + 26x   + 27x   + 28x   + 29x   + 30x   + 31x   + 32x   + 33x   + 34x   + 35x   + 36x   + 37x   + 38x   + 39x   + 40x   + 41x   + 42x   + 43x   + 44x   + 45x   + 46x   + 47x   + 48x   + 49x   + 50x   + 51x   + 52x   + 53x   + 54x   + 55x   + 56x   + 57x   + 58x   + 59x   + 60x   + 61x   + 62x   + 63x   + 64x   + 65x   + 66x   + 67x   + 68x   + 69x   + 70x   + 71x   + 72x   + 73x   + 74x   + 75x   + 76x   + 77x   + 78x   + 79x   + 80x   + 81x   + 82x   + 83x   + 84x   + 85x   + 86x   + 87x   + 88x   + 89x   + 90x   + 91x   + 92x   + 93x   + 94x   + 95x   + 96x   + 97x   + 98x   + 99x   + 100x   + 101x   + 102x    + ... \n",
      "\n",
      "o37 : LazySeries\n",
      "\u001b[?2004h"
     ]
    }
   ],
   "source": [
    "changeDegree(L, 100)"
   ]
  },
  {
   "cell_type": "code",
   "execution_count": 36,
   "id": "4f51fe1c",
   "metadata": {},
   "outputs": [
    {
     "name": "stdout",
     "output_type": "stream",
     "text": [
      "\n",
      "o36 = CacheTable{ComputedDegree => 15                                                                                                           }\n",
      "                 DisplayedDegree => 15\n",
      "                                           15      14      13      12      11      10      9      8     7     6     5     4     3     2\n",
      "                 displayedPolynomial => 17x   + 16x   + 15x   + 14x   + 13x   + 12x   + 11x  + 10x  + 9x  + 8x  + 7x  + 6x  + 5x  + 4x  + 3x + 2\n",
      "                                          15      14      13      12      11      10      9      8     7     6     5     4     3     2\n",
      "                 computedPolynomial => 17x   + 16x   + 15x   + 14x   + 13x   + 12x   + 11x  + 10x  + 9x  + 8x  + 7x  + 6x  + 5x  + 4x  + 3x + 2\n",
      "\u001b[?2004h"
     ]
    }
   ],
   "source": [
    "peek L.cache"
   ]
  },
  {
   "cell_type": "code",
   "execution_count": null,
   "id": "efd5cb35",
   "metadata": {},
   "outputs": [],
   "source": []
  },
  {
   "cell_type": "code",
   "execution_count": null,
   "id": "de8982fd",
   "metadata": {},
   "outputs": [],
   "source": []
  }
 ],
 "metadata": {
  "kernelspec": {
   "display_name": "M2",
   "language": "text/x-macaulay2",
   "name": "m2"
  },
  "language_info": {
   "codemirror_mode": "macaulay2",
   "file_extension": ".m2",
   "mimetype": "text/x-macaulay2",
   "name": "Macaulay2"
  }
 },
 "nbformat": 4,
 "nbformat_minor": 5
}
