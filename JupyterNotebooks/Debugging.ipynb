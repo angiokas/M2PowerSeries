{
 "cells": [
  {
   "cell_type": "code",
   "execution_count": 5,
   "id": "b2a78468",
   "metadata": {},
   "outputs": [
    {
     "name": "stdout",
     "output_type": "stream",
     "text": [
      "\n",
      "o5 = LazyPowerSeries\n",
      "\n",
      "o5 : Package\n"
     ]
    }
   ],
   "source": [
    "loadPackage \"LazyPowerSeries\""
   ]
  },
  {
   "cell_type": "code",
   "execution_count": 6,
   "id": "7bf4dfcf",
   "metadata": {},
   "outputs": [
    {
     "name": "stdout",
     "output_type": "stream",
     "text": [
      "\n",
      "o6 = R\n",
      "\n",
      "o6 : PolynomialRing\n"
     ]
    }
   ],
   "source": [
    "R = ZZ[x]"
   ]
  },
  {
   "cell_type": "code",
   "execution_count": 14,
   "id": "d6f7e3bd",
   "metadata": {},
   "outputs": [
    {
     "name": "stdout",
     "output_type": "stream",
     "text": [
      "\n",
      "--error or time limit reached in conversion of output to net: type 'debugError()' to run it again; will try conversion to string\n",
      "\n",
      "--error in conversion of output to string\n",
      "init.m2:6:46:(3):[1]: error: no method found for applying terms to:\n",
      "     argument   :  null (of class Nothing)\n",
      "stdio:41:1:(3): error: at print: --backtrace update-- \n",
      "\n",
      "o14 : LazySeries\n",
      "\n",
      "i15 : noop(end)--CMD--EOB"
     ]
    }
   ],
   "source": [
    "lazySeries(R, i->i)"
   ]
  },
  {
   "cell_type": "code",
   "execution_count": 9,
   "id": "aefdbe33",
   "metadata": {},
   "outputs": [
    {
     "name": "stdout",
     "output_type": "stream",
     "text": [
      "\n",
      "       5     4     3     2\n",
      "o9 = 5x  + 5x  + 5x  + 5x  + 5x + 5\n",
      "\n",
      "o9 : R\n"
     ]
    }
   ],
   "source": [
    "P = calculatePolynomial(5,R,i->5)"
   ]
  },
  {
   "cell_type": "code",
   "execution_count": 11,
   "id": "faa99f06",
   "metadata": {},
   "outputs": [],
   "source": [
    "truncate(5,P)"
   ]
  },
  {
   "cell_type": "code",
   "execution_count": 48,
   "id": "7a92876b",
   "metadata": {},
   "outputs": [
    {
     "name": "stdout",
     "output_type": "stream",
     "text": [
      "\n",
      "o48 = ZZ\n",
      "\n",
      "o48 : Ring\n"
     ]
    }
   ],
   "source": [
    "R = ZZ"
   ]
  },
  {
   "cell_type": "code",
   "execution_count": 12,
   "id": "6e69e95c",
   "metadata": {},
   "outputs": [
    {
     "name": "stdout",
     "output_type": "stream",
     "text": [
      "\n",
      "        5     4     3     2\n",
      "o12 = 2x  + 2x  + 2x  + 2x  + 2x + 2\n",
      "\n",
      "o12 : R\n"
     ]
    }
   ],
   "source": [
    "L = calculatePolynomial(5, R, i-> 2)"
   ]
  },
  {
   "cell_type": "code",
   "execution_count": 13,
   "id": "2d24b61e",
   "metadata": {},
   "outputs": [
    {
     "name": "stdout",
     "output_type": "stream",
     "text": [
      "\n",
      "o13 = 2 + 2*5 + 2*x + 2*5^2 + 2*5x + 2*x^2 + 2*5^3 + 2*5^2x + 2*5x^2 + 2*x^3 + 2*5^4 + 2*5^3x + 2*5^2x^2 + 2*5x^3 + 2*x^4 + 2*5^5 + 2*5^4x + 2*5^3x^2 + 2*5^2x^3 + 2*5x^4 + 2*x^5 + ... \n",
      "\n",
      "o13 : PadicSeries\n"
     ]
    }
   ],
   "source": [
    "B = padics(5,R, i-> 2)"
   ]
  },
  {
   "cell_type": "code",
   "execution_count": 57,
   "id": "705bed3c",
   "metadata": {},
   "outputs": [
    {
     "name": "stdout",
     "output_type": "stream",
     "text": [
      "\n",
      "o57 = 7810\n"
     ]
    }
   ],
   "source": [
    "B.cache.displayedPolynomial"
   ]
  },
  {
   "cell_type": "code",
   "execution_count": 58,
   "id": "cc93c486",
   "metadata": {},
   "outputs": [
    {
     "name": "stdout",
     "output_type": "stream",
     "text": [
      "\n",
      "o58 = 7810\n"
     ]
    }
   ],
   "source": [
    "L = 7810"
   ]
  },
  {
   "cell_type": "code",
   "execution_count": 63,
   "id": "43035670",
   "metadata": {},
   "outputs": [
    {
     "name": "stdout",
     "output_type": "stream",
     "text": [
      "\n",
      "o63 = 1560\n"
     ]
    }
   ],
   "source": [
    "truncate(4, L, Prime => 5)"
   ]
  },
  {
   "cell_type": "raw",
   "id": "8c82cc38",
   "metadata": {},
   "source": []
  }
 ],
 "metadata": {
  "kernelspec": {
   "display_name": "M2",
   "language": "text/x-macaulay2",
   "name": "m2"
  },
  "language_info": {
   "codemirror_mode": "macaulay2",
   "file_extension": ".m2",
   "mimetype": "text/x-macaulay2",
   "name": "Macaulay2"
  }
 },
 "nbformat": 4,
 "nbformat_minor": 5
}
